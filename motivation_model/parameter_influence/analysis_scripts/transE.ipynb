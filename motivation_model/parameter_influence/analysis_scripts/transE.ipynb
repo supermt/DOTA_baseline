{
 "metadata": {
  "language_info": {
   "codemirror_mode": {
    "name": "ipython",
    "version": 3
   },
   "file_extension": ".py",
   "mimetype": "text/x-python",
   "name": "python",
   "nbconvert_exporter": "python",
   "pygments_lexer": "ipython3",
   "version": "3.8.2-final"
  },
  "orig_nbformat": 2,
  "kernelspec": {
   "name": "python3",
   "display_name": "Python 3"
  }
 },
 "nbformat": 4,
 "nbformat_minor": 2,
 "cells": [
  {
   "cell_type": "markdown",
   "metadata": {},
   "source": [
    "# Load data in all existing LOG directorys"
   ]
  },
  {
   "cell_type": "code",
   "execution_count": 24,
   "metadata": {
    "tags": []
   },
   "outputs": [
    {
     "output_type": "stream",
     "name": "stdout",
     "text": "loaded file ../io_option_advance/optimize_filters_for_hits/True/StorageMaterial.NVMeSSD/12CPU/64MB/LOG_110.gz\nloaded file ../io_option_advance/optimize_filters_for_hits/False/StorageMaterial.NVMeSSD/12CPU/64MB/LOG_110.gz\nloaded file ../io_option_advance/hash_bucket_count/104857/StorageMaterial.NVMeSSD/12CPU/64MB/LOG_110.gz\nloaded file ../io_option_advance/hash_bucket_count/1048576/StorageMaterial.NVMeSSD/12CPU/64MB/LOG_110.gz\nloaded file ../io_option_advance/hash_bucket_count/10485760/StorageMaterial.NVMeSSD/12CPU/64MB/LOG_110.gz\nloaded file ../io_option_advance/min_write_buffer_number_to_merge/1/StorageMaterial.NVMeSSD/12CPU/64MB/LOG_110.gz\nloaded file ../io_option_advance/min_write_buffer_number_to_merge/4/StorageMaterial.NVMeSSD/12CPU/64MB/LOG_110.gz\nloaded file ../io_option_advance/min_write_buffer_number_to_merge/2/StorageMaterial.NVMeSSD/12CPU/64MB/LOG_110.gz\nloaded file ../io_option_advance/delayed_write_rate/83886080/StorageMaterial.NVMeSSD/12CPU/64MB/LOG_110.gz\nloaded file ../io_option_advance/delayed_write_rate/8388608/StorageMaterial.NVMeSSD/12CPU/64MB/LOG_110.gz\nloaded file ../io_option_advance/expand_range_tombstones/True/StorageMaterial.NVMeSSD/12CPU/64MB/LOG_110.gz\nloaded file ../io_option_advance/expand_range_tombstones/False/StorageMaterial.NVMeSSD/12CPU/64MB/LOG_110.gz\nloaded file ../io_option_advance/memtablerep/skip_list/StorageMaterial.NVMeSSD/12CPU/64MB/LOG_110.gz\nloaded file ../io_option_advance/read_cache_path/home/jinghuan/rocksdb_ssd/StorageMaterial.NVMeSSD/12CPU/64MB/LOG_130.gz\nloaded file ../io_option_advance/read_cache_path/home/jinghuan/rocksdb_hdd/StorageMaterial.NVMeSSD/12CPU/64MB/LOG_120.gz\nloaded file ../io_option_advance/read_cache_path/home/jinghuan/rocksdb_nvme/StorageMaterial.NVMeSSD/12CPU/64MB/LOG_110.gz\nloaded file ../io_option_advance/min_level_to_compress/1/StorageMaterial.NVMeSSD/12CPU/64MB/LOG_110.gz\nloaded file ../io_option_advance/min_level_to_compress/3/StorageMaterial.NVMeSSD/12CPU/64MB/LOG_110.gz\nloaded file ../io_option_advance/min_level_to_compress/-1/StorageMaterial.NVMeSSD/12CPU/64MB/LOG_110.gz\nloaded file ../io_option_advance/pin_l0_filter_and_index_blocks_in_cache/True/StorageMaterial.NVMeSSD/12CPU/64MB/LOG_110.gz\nloaded file ../io_option_advance/pin_l0_filter_and_index_blocks_in_cache/False/StorageMaterial.NVMeSSD/12CPU/64MB/LOG_110.gz\nloaded file ../io_option_advance/compaction_readahead_size/0/StorageMaterial.NVMeSSD/12CPU/64MB/LOG_110.gz\nloaded file ../io_option_advance/disable_wal/True/StorageMaterial.NVMeSSD/12CPU/64MB/LOG_50.gz\nloaded file ../io_option_advance/disable_wal/False/StorageMaterial.NVMeSSD/12CPU/64MB/LOG_110.gz\nloaded file ../io_option_advance/show_table_properties/True/StorageMaterial.NVMeSSD/12CPU/64MB/LOG_110.gz\nloaded file ../io_option_advance/show_table_properties/False/StorageMaterial.NVMeSSD/12CPU/64MB/LOG_110.gz\nloaded file ../io_option_advance/bytes_per_sync/1048576/StorageMaterial.NVMeSSD/12CPU/64MB/LOG_120.gz\nloaded file ../io_option_advance/bytes_per_sync/1048576/StorageMaterial.NVMeSSD/4CPU/64MB/LOG_110.gz\nloaded file ../io_option_advance/bytes_per_sync/1048576/StorageMaterial.NVMeSSD/8CPU/64MB/LOG_110.gz\nloaded file ../io_option_advance/bytes_per_sync/1048576/StorageMaterial.NVMeSSD/2CPU/64MB/LOG_110.gz\nloaded file ../io_option_advance/bytes_per_sync/1024/StorageMaterial.NVMeSSD/12CPU/64MB/LOG_110.gz\nloaded file ../io_option_advance/bytes_per_sync/1024/StorageMaterial.NVMeSSD/4CPU/64MB/LOG_110.gz\nloaded file ../io_option_advance/bytes_per_sync/1024/StorageMaterial.NVMeSSD/8CPU/64MB/LOG_110.gz\nloaded file ../io_option_advance/bytes_per_sync/1024/StorageMaterial.NVMeSSD/2CPU/64MB/LOG_110.gz\nloaded file ../io_option_advance/bytes_per_sync/0/StorageMaterial.NVMeSSD/12CPU/64MB/LOG_110.gz\nloaded file ../io_option_advance/bytes_per_sync/0/StorageMaterial.NVMeSSD/4CPU/64MB/LOG_110.gz\nloaded file ../io_option_advance/bytes_per_sync/0/StorageMaterial.NVMeSSD/8CPU/64MB/LOG_120.gz\nloaded file ../io_option_advance/bytes_per_sync/0/StorageMaterial.NVMeSSD/2CPU/64MB/LOG_190.gz\nloaded file ../io_option_advance/bytes_per_sync/67108864/StorageMaterial.NVMeSSD/12CPU/64MB/LOG_110.gz\nloaded file ../io_option_advance/bytes_per_sync/67108864/StorageMaterial.NVMeSSD/4CPU/64MB/LOG_110.gz\nloaded file ../io_option_advance/bytes_per_sync/67108864/StorageMaterial.NVMeSSD/8CPU/64MB/LOG_110.gz\nloaded file ../io_option_advance/bytes_per_sync/67108864/StorageMaterial.NVMeSSD/2CPU/64MB/LOG_120.gz\nloaded file ../io_option_advance/use_adaptive_mutex/True/StorageMaterial.NVMeSSD/12CPU/64MB/LOG_110.gz\nloaded file ../io_option_advance/use_adaptive_mutex/False/StorageMaterial.NVMeSSD/12CPU/64MB/LOG_110.gz\nloaded file ../io_option_advance/level_compaction_dynamic_level_bytes/True/StorageMaterial.NVMeSSD/12CPU/64MB/LOG_110.gz\nloaded file ../io_option_advance/level_compaction_dynamic_level_bytes/False/StorageMaterial.NVMeSSD/12CPU/64MB/LOG_110.gz\nloaded file ../io_option_advance/io_option_difference/use_plain_table/True/StorageMaterial.NVMeSSD/12CPU/64MB/LOG_120\nloaded file ../io_option_advance/io_option_difference/use_plain_table/False/StorageMaterial.NVMeSSD/12CPU/64MB/LOG_110\nloaded file ../io_option_advance/use_block_based_filter/True/StorageMaterial.NVMeSSD/12CPU/64MB/LOG_110.gz\nloaded file ../io_option_advance/use_block_based_filter/False/StorageMaterial.NVMeSSD/12CPU/64MB/LOG_110.gz\nloaded file ../io_option_advance/level0_slowdown_writes_trigger/8/StorageMaterial.NVMeSSD/12CPU/64MB/LOG_110.gz\nloaded file ../io_option_advance/level0_slowdown_writes_trigger/4/StorageMaterial.NVMeSSD/12CPU/64MB/LOG_140.gz\nloaded file ../io_option_advance/level0_slowdown_writes_trigger/32/StorageMaterial.NVMeSSD/12CPU/64MB/LOG_110.gz\nloaded file ../io_option_advance/level0_slowdown_writes_trigger/20/StorageMaterial.NVMeSSD/12CPU/64MB/LOG_110.gz\nloaded file ../io_option_advance/level0_slowdown_writes_trigger/16/StorageMaterial.NVMeSSD/12CPU/64MB/LOG_110.gz\nloaded file ../io_option_advance/max_num_range_tombstones/100/StorageMaterial.NVMeSSD/12CPU/64MB/LOG_110.gz\nloaded file ../io_option_advance/max_num_range_tombstones/10/StorageMaterial.NVMeSSD/12CPU/64MB/LOG_110.gz\nloaded file ../io_option_advance/max_num_range_tombstones/0/StorageMaterial.NVMeSSD/12CPU/64MB/LOG_110.gz\nloaded file ../io_option_advance/max_num_range_tombstones/50/StorageMaterial.NVMeSSD/12CPU/64MB/LOG_110.gz\nloaded file ../io_option_advance/compaction_pri/1/StorageMaterial.NVMeSSD/12CPU/64MB/LOG_110.gz\nloaded file ../io_option_advance/compaction_pri/3/StorageMaterial.NVMeSSD/12CPU/64MB/LOG_110.gz\nloaded file ../io_option_advance/compaction_pri/0/StorageMaterial.NVMeSSD/12CPU/64MB/LOG_110.gz\nloaded file ../io_option_advance/compaction_pri/2/StorageMaterial.NVMeSSD/12CPU/64MB/LOG_110.gz\nloaded file ../io_option_advance/read_cache_size/42949672960/StorageMaterial.NVMeSSD/12CPU/64MB/LOG_110.gz\nloaded file ../io_option_advance/read_cache_size/429496729/StorageMaterial.NVMeSSD/12CPU/64MB/LOG_110.gz\nloaded file ../io_option_advance/read_cache_size/4294967296/StorageMaterial.NVMeSSD/12CPU/64MB/LOG_120.gz\nloaded file ../io_option_advance/enable_pipelined_write/True/StorageMaterial.NVMeSSD/12CPU/64MB/LOG_110.gz\nloaded file ../io_option_advance/enable_pipelined_write/False/StorageMaterial.NVMeSSD/12CPU/64MB/LOG_110.gz\nloaded file ../io_option_advance/soft_pending_compaction_bytes_limit/6871947673/StorageMaterial.NVMeSSD/12CPU/64MB/LOG_110.gz\nloaded file ../io_option_advance/soft_pending_compaction_bytes_limit/68719476736/StorageMaterial.NVMeSSD/12CPU/64MB/LOG_110.gz\nloaded file ../io_option_advance/soft_pending_compaction_bytes_limit/687194767360/StorageMaterial.NVMeSSD/12CPU/64MB/LOG_110.gz\nloaded file ../io_option_advance/read_cache_direct_read/True/StorageMaterial.NVMeSSD/12CPU/64MB/LOG_110.gz\nloaded file ../io_option_advance/read_cache_direct_read/False/StorageMaterial.NVMeSSD/12CPU/64MB/LOG_120.gz\nloaded file ../io_option_advance/index_block_restart_interval/1/StorageMaterial.NVMeSSD/12CPU/64MB/LOG_120.gz\nloaded file ../io_option_advance/index_block_restart_interval/4/StorageMaterial.NVMeSSD/12CPU/64MB/LOG_110.gz\nloaded file ../io_option_advance/index_block_restart_interval/16/StorageMaterial.NVMeSSD/12CPU/64MB/LOG_110.gz\nloaded file ../io_option_advance/use_uint64_comparator/True/StorageMaterial.NVMeSSD/12CPU/64MB/LOG_110.gz\nloaded file ../io_option_advance/use_uint64_comparator/False/StorageMaterial.NVMeSSD/12CPU/64MB/LOG_110.gz\nloaded file ../io_option_advance/cache_size/83886080/StorageMaterial.NVMeSSD/12CPU/64MB/LOG_110.gz\nloaded file ../io_option_advance/cache_size/8388608/StorageMaterial.NVMeSSD/12CPU/64MB/LOG_110.gz\nloaded file ../io_option_advance/universal_allow_trivial_move/True/StorageMaterial.NVMeSSD/12CPU/64MB/LOG_110.gz\nloaded file ../io_option_advance/universal_allow_trivial_move/False/StorageMaterial.NVMeSSD/12CPU/64MB/LOG_110.gz\nloaded file ../io_option_advance/compression_level/8/StorageMaterial.NVMeSSD/12CPU/64MB/LOG_110.gz\nloaded file ../io_option_advance/compression_level/4/StorageMaterial.NVMeSSD/12CPU/64MB/LOG_110.gz\nloaded file ../io_option_advance/compression_level/-1/StorageMaterial.NVMeSSD/12CPU/64MB/LOG_110.gz\nloaded file ../io_option_advance/compression_level/0/StorageMaterial.NVMeSSD/12CPU/64MB/LOG_110.gz\nloaded file ../io_option_advance/table_cache_numshardbits/4/StorageMaterial.NVMeSSD/12CPU/64MB/LOG_110.gz\nloaded file ../io_option_advance/table_cache_numshardbits/16/StorageMaterial.NVMeSSD/12CPU/64MB/LOG_110.gz\nloaded file ../io_option_advance/use_direct_reads/True/StorageMaterial.NVMeSSD/12CPU/64MB/LOG_120.gz\nloaded file ../io_option_advance/use_direct_reads/False/StorageMaterial.NVMeSSD/12CPU/64MB/LOG_110.gz\nloaded file ../io_option_advance/enable_write_thread_adaptive_yield/True/StorageMaterial.NVMeSSD/12CPU/64MB/LOG_110.gz\nloaded file ../io_option_advance/enable_write_thread_adaptive_yield/False/StorageMaterial.NVMeSSD/12CPU/64MB/LOG_110.gz\nloaded file ../io_option_advance/use_blob_db/True/StorageMaterial.NVMeSSD/12CPU/64MB/LOG_210.gz\nloaded file ../io_option_advance/use_blob_db/False/StorageMaterial.NVMeSSD/12CPU/64MB/LOG_110.gz\nloaded file ../io_option_advance/identity_as_first_hash/True/StorageMaterial.NVMeSSD/12CPU/64MB/LOG_120.gz\nloaded file ../io_option_advance/identity_as_first_hash/False/StorageMaterial.NVMeSSD/12CPU/64MB/LOG_110.gz\nloaded file ../io_option_advance/use_tailing_iterator/True/StorageMaterial.NVMeSSD/12CPU/64MB/LOG_110.gz\nloaded file ../io_option_advance/use_tailing_iterator/False/StorageMaterial.NVMeSSD/12CPU/64MB/LOG_110.gz\nloaded file ../io_option_advance/mmap_read/True/StorageMaterial.NVMeSSD/12CPU/64MB/LOG_110.gz\nloaded file ../io_option_advance/mmap_read/False/StorageMaterial.NVMeSSD/12CPU/64MB/LOG_110.gz\nloaded file ../io_option_advance/new_table_reader_for_compaction_inputs/1/StorageMaterial.NVMeSSD/12CPU/64MB/LOG_110.gz\nloaded file ../io_option_advance/new_table_reader_for_compaction_inputs/0/StorageMaterial.NVMeSSD/12CPU/64MB/LOG_110.gz\nloaded file ../io_option_advance/use_cuckoo_table/True/StorageMaterial.NVMeSSD/12CPU/64MB/LOG_120.gz\nloaded file ../io_option_advance/use_cuckoo_table/False/StorageMaterial.NVMeSSD/12CPU/64MB/LOG_110.gz\nloaded file ../io_option_advance/cache_high_pri_pool_ratio/0.5/StorageMaterial.NVMeSSD/12CPU/64MB/LOG_110.gz\nloaded file ../io_option_advance/cache_high_pri_pool_ratio/0.75/StorageMaterial.NVMeSSD/12CPU/64MB/LOG_110.gz\nloaded file ../io_option_advance/cache_high_pri_pool_ratio/0.25/StorageMaterial.NVMeSSD/12CPU/64MB/LOG_120.gz\nloaded file ../io_option_advance/cache_high_pri_pool_ratio/0.95/StorageMaterial.NVMeSSD/12CPU/64MB/LOG_110.gz\nloaded file ../io_option_advance/cache_high_pri_pool_ratio/0/StorageMaterial.NVMeSSD/12CPU/64MB/LOG_110.gz\nloaded file ../io_option_advance/max_total_wal_size/0/StorageMaterial.NVMeSSD/12CPU/64MB/LOG_110.gz\nloaded file ../io_option_advance/max_total_wal_size/67108864/StorageMaterial.NVMeSSD/12CPU/64MB/LOG_110.gz\nloaded file ../io_option_advance/range_tombstone_width/100/StorageMaterial.NVMeSSD/12CPU/64MB/LOG_110.gz\nloaded file ../io_option_advance/range_tombstone_width/10/StorageMaterial.NVMeSSD/12CPU/64MB/LOG_110.gz\nloaded file ../io_option_advance/range_tombstone_width/1000/StorageMaterial.NVMeSSD/12CPU/64MB/LOG_110.gz\nloaded file ../io_option_advance/max_successive_merges/671088/StorageMaterial.NVMeSSD/12CPU/64MB/LOG_110.gz\nloaded file ../io_option_advance/max_successive_merges/100/StorageMaterial.NVMeSSD/12CPU/64MB/LOG_110.gz\nloaded file ../io_option_advance/max_successive_merges/6710/StorageMaterial.NVMeSSD/12CPU/64MB/LOG_110.gz\nloaded file ../io_option_advance/max_successive_merges/67108/StorageMaterial.NVMeSSD/12CPU/64MB/LOG_110.gz\nloaded file ../io_option_advance/max_successive_merges/0/StorageMaterial.NVMeSSD/12CPU/64MB/LOG_110.gz\nloaded file ../io_option_advance/max_successive_merges/671/StorageMaterial.NVMeSSD/12CPU/64MB/LOG_110.gz\nloaded file ../io_option_advance/writable_file_max_buffer_size/104857/StorageMaterial.NVMeSSD/12CPU/64MB/LOG_110.gz\nloaded file ../io_option_advance/writable_file_max_buffer_size/1048576/StorageMaterial.NVMeSSD/12CPU/64MB/LOG_110.gz\nloaded file ../io_option_advance/writable_file_max_buffer_size/10485760/StorageMaterial.NVMeSSD/12CPU/64MB/LOG_110.gz\nloaded file ../io_option_advance/wal_dir/home/jinghuan/NVMeSSD/StorageMaterial.SATASSD/12CPU/64MB/LOG_300.gz\nloaded file ../io_option_advance/wal_dir/home/jinghuan/NVMeSSD/StorageMaterial.SATASSD/4CPU/64MB/LOG_240.gz\nloaded file ../io_option_advance/wal_dir/home/jinghuan/NVMeSSD/StorageMaterial.SATASSD/8CPU/64MB/LOG_290.gz\nloaded file ../io_option_advance/wal_dir/home/jinghuan/NVMeSSD/StorageMaterial.SATASSD/2CPU/64MB/LOG_230.gz\nloaded file ../io_option_advance/wal_dir/home/jinghuan/NVMeSSD/StorageMaterial.NVMeSSD/12CPU/64MB/LOG_110.gz\nloaded file ../io_option_advance/wal_dir/home/jinghuan/NVMeSSD/StorageMaterial.NVMeSSD/4CPU/64MB/LOG_110.gz\nloaded file ../io_option_advance/wal_dir/home/jinghuan/NVMeSSD/StorageMaterial.NVMeSSD/8CPU/64MB/LOG_110.gz\nloaded file ../io_option_advance/wal_dir/home/jinghuan/NVMeSSD/StorageMaterial.NVMeSSD/2CPU/64MB/LOG_110.gz\nloaded file ../io_option_advance/wal_dir/home/jinghuan/NVMeSSD/StorageMaterial.SATAHDD/12CPU/64MB/LOG_160.gz\n"
    }
   ],
   "source": [
    "from log_class import log_recorder\n",
    "import traveler as tv\n",
    "import numpy as np\n",
    "import pandas as pd\n",
    "\n",
    "import matplotlib as mpl\n",
    "import matplotlib.pyplot as plt\n",
    "\n",
    "\n",
    "Base_dir = \"../io_option_advance\"\n",
    "log_file_container = tv.traveler_class(Base_dir)\n",
    "\n",
    "total_file_count = len(log_file_container.LOG_dirs)\n",
    "log_vector_container = []\n",
    "\n",
    "limit = 130\n",
    "i = 0\n",
    "\n",
    "for log_file in log_file_container.file_dict:\n",
    "\n",
    "    filename = log_file_container.file_dict[log_file][\"LOG\"]\n",
    "    if \"NVMeSSD\" in filename:\n",
    "        print(\"loaded file %s\" % filename)\n",
    "        log_vector_container.append(log_recorder(filename).to_vector())\n",
    "\n",
    "        if i > limit:\n",
    "            break\n",
    "        i += 1\n",
    "\n",
    "import torch\n"
   ]
  },
  {
   "cell_type": "code",
   "execution_count": 28,
   "metadata": {
    "tags": []
   },
   "outputs": [
    {
     "output_type": "execute_result",
     "data": {
      "text/plain": "tensor([0.9683, 0.7964, 0.8644, 0.9324, 0.9658])"
     },
     "metadata": {},
     "execution_count": 28
    }
   ],
   "source": [
    "log_vector_container[1]\n",
    "\n",
    "tensor1 = torch.from_numpy(log_vector_container[0].values.T).float() \n",
    "tensor2 = torch.from_numpy(log_vector_container[2].values.T).float() \n",
    "cos_difference = torch.cosine_similarity(tensor1,tensor2)\n",
    "\n",
    "cos_difference"
   ]
  }
 ]
}
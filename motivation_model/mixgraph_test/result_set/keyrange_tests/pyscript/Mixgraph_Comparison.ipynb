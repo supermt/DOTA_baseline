{
 "cells": [
  {
   "cell_type": "code",
   "execution_count": 1,
   "metadata": {},
   "outputs": [
    {
     "name": "stdout",
     "output_type": "stream",
     "text": [
      "table created\n",
      "DB Loaded\n"
     ]
    }
   ],
   "source": [
    "from traversal import *\n",
    "\n",
    "import traversal as tv\n",
    "import string_utils\n",
    "import plotly.express as px\n",
    "from log_file_handler import get_data_list, open_file\n",
    "\n",
    "COLUMN_NUM = 4\n",
    "\n",
    "TABLE_NAME_COMPACTION_ANALYSIS = \"compaction_analysis\"\n",
    "\n",
    "def pk_list_to_columns(primary_key_list):\n",
    "    data_row = \"\"\n",
    "    \n",
    "    data_row += '%s,' % primary_key_list[-4].split(\"_\")[1]\n",
    "#     print(primary_key_list[-4].split(\"_\")[1])\n",
    "    data_row += '\"%s\",' % primary_key_list[-3].replace(\"StorageMaterial.\",\"\")\n",
    "    data_row += '\"%s\",' % primary_key_list[-2]\n",
    "    data_row += '\"%s\",' % primary_key_list[-1]\n",
    "    return data_row\n",
    "\n",
    "def create_data_table(conn):\n",
    "    c = conn.cursor()\n",
    "\n",
    "    c.execute(\"Drop Table if exists \"+TABLE_NAME_COMPACTION_ANALYSIS)\n",
    "    c.execute(\"CREATE TABLE \"+TABLE_NAME_COMPACTION_ANALYSIS+\" (keyrange_count INT,media text, cpu text, batch_size text\" +\n",
    "              #   \",IOPS INT, average_latency_ms REAL\" +\n",
    "              \",compaction_frequency INT, overall_compaction_latency INT\" +\n",
    "              \",overall_compaction_cpu_latency INT\" +\n",
    "              \",overall_input_record INT\" +\n",
    "              \",overall_output_record INT\" +\n",
    "              \",overall_redundant_record INT\" +\n",
    "              \")\")\n",
    "    conn.commit()\n",
    "\n",
    "    print(\"table created\")\n",
    "    \n",
    "def get_row(dir_path):\n",
    "    stdfile, logfile = tv.get_log_and_std_files(dir_path)\n",
    "    primary_key_list = dir_path.split(os.sep)[-COLUMN_NUM:]\n",
    "    data_row = pk_list_to_columns(primary_key_list)\n",
    "    value_list = get_data_list(open_file(logfile))\n",
    "    compaction_frequency = len(value_list[0])\n",
    "\n",
    "    data_row += str(compaction_frequency)+\",\"\n",
    "    \n",
    "    for value in value_list:\n",
    "        data_row += str(sum(value))+\",\"\n",
    "    return data_row[0:-1]\n",
    "\n",
    "\n",
    "dirs = get_log_dirs(\"../\")\n",
    "\n",
    "\n",
    "db_conn = sqlite3.connect('speed_info.db')\n",
    "\n",
    "create_data_table(db_conn)\n",
    "\n",
    "insert_sql_head = \"INSERT INTO \"+TABLE_NAME_COMPACTION_ANALYSIS+\" VALUES\"\n",
    "\n",
    "for dir in dirs:\n",
    "    sql_data_row = get_row(dir)\n",
    "    sql_sentence = insert_sql_head + \"(\" + sql_data_row + \")\"\n",
    "#     print(sql_sentence)\n",
    "    db_conn.execute(sql_sentence)\n",
    "\n",
    "print(\"DB Loaded\")\n",
    "# df = pd.read_sql_query(\n",
    "#     \"SELECT * FROM \"+TABLE_NAME_COMPACTION_ANALYSIS, db_conn)\n",
    "\n",
    "# column_list = list(df.columns.values)[-6:]"
   ]
  },
  {
   "cell_type": "code",
   "execution_count": 3,
   "metadata": {},
   "outputs": [],
   "source": [
    "import pandas as pd\n",
    "df = pd.read_sql_query(\n",
    "    \"SELECT * FROM \"+TABLE_NAME_COMPACTION_ANALYSIS, db_conn)"
   ]
  },
  {
   "cell_type": "code",
   "execution_count": 4,
   "metadata": {},
   "outputs": [],
   "source": [
    "keyranges=[15,30,60,90]\n",
    "paint_dfs = []\n",
    "for keyrange in keyranges:\n",
    "#     print(\"SELECT * FROM \"+TABLE_NAME_COMPACTION_ANALYSIS +\" WHERE keyrange_count = '%d'\"%keyrange)\n",
    "    paint_df = pd.read_sql_query(\"SELECT * FROM \"+TABLE_NAME_COMPACTION_ANALYSIS +\" WHERE keyrange_count = '%d'\"%keyrange, db_conn)\n",
    "    paint_dfs.append(paint_df)"
   ]
  },
  {
   "cell_type": "code",
   "execution_count": 5,
   "metadata": {},
   "outputs": [],
   "source": [
    "# print(paint_dfs[0])\n",
    "paint_df = pd.read_sql_query(\n",
    "    \"SELECT * FROM \"+TABLE_NAME_COMPACTION_ANALYSIS, db_conn)\n"
   ]
  },
  {
   "cell_type": "code",
   "execution_count": 6,
   "metadata": {},
   "outputs": [],
   "source": [
    "df = pd.read_sql_query(\n",
    "    \"SELECT * FROM \"+TABLE_NAME_COMPACTION_ANALYSIS, db_conn)\n",
    "\n",
    "column_list = list(df.columns.values)[-6:]\n"
   ]
  },
  {
   "cell_type": "code",
   "execution_count": 16,
   "metadata": {},
   "outputs": [
    {
     "data": {
      "application/vnd.plotly.v1+json": {
       "config": {
        "plotlyServerURL": "https://plot.ly"
       },
       "data": [
        {
         "alignmentgroup": "True",
         "hovertemplate": "Storage Media=SATASSD<br>Operation Batch Size=64MB<br>CPU count=8CPU<br>keyrange_count=%{x}<br>compaction_frequency=%{y}<extra></extra>",
         "legendgroup": "SATASSD",
         "marker": {
          "color": "#636efa"
         },
         "name": "SATASSD",
         "offsetgroup": "SATASSD",
         "orientation": "v",
         "showlegend": true,
         "textposition": "auto",
         "type": "bar",
         "x": [
          60,
          90,
          15,
          30
         ],
         "xaxis": "x4",
         "y": [
          745,
          745,
          752,
          1303
         ],
         "yaxis": "y4"
        },
        {
         "alignmentgroup": "True",
         "hovertemplate": "Storage Media=SATASSD<br>Operation Batch Size=64MB<br>CPU count=16CPU<br>keyrange_count=%{x}<br>compaction_frequency=%{y}<extra></extra>",
         "legendgroup": "SATASSD",
         "marker": {
          "color": "#636efa"
         },
         "name": "SATASSD",
         "offsetgroup": "SATASSD",
         "orientation": "v",
         "showlegend": false,
         "textposition": "auto",
         "type": "bar",
         "x": [
          60,
          90,
          15,
          30
         ],
         "xaxis": "x5",
         "y": [
          746,
          754,
          753,
          1338
         ],
         "yaxis": "y5"
        },
        {
         "alignmentgroup": "True",
         "hovertemplate": "Storage Media=SATASSD<br>Operation Batch Size=64MB<br>CPU count=32CPU<br>keyrange_count=%{x}<br>compaction_frequency=%{y}<extra></extra>",
         "legendgroup": "SATASSD",
         "marker": {
          "color": "#636efa"
         },
         "name": "SATASSD",
         "offsetgroup": "SATASSD",
         "orientation": "v",
         "showlegend": false,
         "textposition": "auto",
         "type": "bar",
         "x": [
          60,
          90,
          15,
          30
         ],
         "xaxis": "x6",
         "y": [
          755,
          740,
          745,
          1330
         ],
         "yaxis": "y6"
        },
        {
         "alignmentgroup": "True",
         "hovertemplate": "Storage Media=SATASSD<br>Operation Batch Size=128MB<br>CPU count=8CPU<br>keyrange_count=%{x}<br>compaction_frequency=%{y}<extra></extra>",
         "legendgroup": "SATASSD",
         "marker": {
          "color": "#636efa"
         },
         "name": "SATASSD",
         "offsetgroup": "SATASSD",
         "orientation": "v",
         "showlegend": false,
         "textposition": "auto",
         "type": "bar",
         "x": [
          60,
          90,
          15,
          30
         ],
         "xaxis": "x",
         "y": [
          356,
          349,
          362,
          628
         ],
         "yaxis": "y"
        },
        {
         "alignmentgroup": "True",
         "hovertemplate": "Storage Media=SATASSD<br>Operation Batch Size=128MB<br>CPU count=16CPU<br>keyrange_count=%{x}<br>compaction_frequency=%{y}<extra></extra>",
         "legendgroup": "SATASSD",
         "marker": {
          "color": "#636efa"
         },
         "name": "SATASSD",
         "offsetgroup": "SATASSD",
         "orientation": "v",
         "showlegend": false,
         "textposition": "auto",
         "type": "bar",
         "x": [
          60,
          90,
          15,
          30
         ],
         "xaxis": "x2",
         "y": [
          364,
          358,
          343,
          643
         ],
         "yaxis": "y2"
        },
        {
         "alignmentgroup": "True",
         "hovertemplate": "Storage Media=SATASSD<br>Operation Batch Size=128MB<br>CPU count=32CPU<br>keyrange_count=%{x}<br>compaction_frequency=%{y}<extra></extra>",
         "legendgroup": "SATASSD",
         "marker": {
          "color": "#636efa"
         },
         "name": "SATASSD",
         "offsetgroup": "SATASSD",
         "orientation": "v",
         "showlegend": false,
         "textposition": "auto",
         "type": "bar",
         "x": [
          60,
          90,
          15,
          30
         ],
         "xaxis": "x3",
         "y": [
          359,
          352,
          368,
          649
         ],
         "yaxis": "y3"
        },
        {
         "alignmentgroup": "True",
         "hovertemplate": "Storage Media=SATAHDD<br>Operation Batch Size=64MB<br>CPU count=8CPU<br>keyrange_count=%{x}<br>compaction_frequency=%{y}<extra></extra>",
         "legendgroup": "SATAHDD",
         "marker": {
          "color": "#EF553B"
         },
         "name": "SATAHDD",
         "offsetgroup": "SATAHDD",
         "orientation": "v",
         "showlegend": true,
         "textposition": "auto",
         "type": "bar",
         "x": [
          60,
          90,
          15,
          30
         ],
         "xaxis": "x4",
         "y": [
          731,
          750,
          741,
          1268
         ],
         "yaxis": "y4"
        },
        {
         "alignmentgroup": "True",
         "hovertemplate": "Storage Media=SATAHDD<br>Operation Batch Size=64MB<br>CPU count=16CPU<br>keyrange_count=%{x}<br>compaction_frequency=%{y}<extra></extra>",
         "legendgroup": "SATAHDD",
         "marker": {
          "color": "#EF553B"
         },
         "name": "SATAHDD",
         "offsetgroup": "SATAHDD",
         "orientation": "v",
         "showlegend": false,
         "textposition": "auto",
         "type": "bar",
         "x": [
          60,
          90,
          15,
          30
         ],
         "xaxis": "x5",
         "y": [
          721,
          734,
          749,
          1309
         ],
         "yaxis": "y5"
        },
        {
         "alignmentgroup": "True",
         "hovertemplate": "Storage Media=SATAHDD<br>Operation Batch Size=64MB<br>CPU count=32CPU<br>keyrange_count=%{x}<br>compaction_frequency=%{y}<extra></extra>",
         "legendgroup": "SATAHDD",
         "marker": {
          "color": "#EF553B"
         },
         "name": "SATAHDD",
         "offsetgroup": "SATAHDD",
         "orientation": "v",
         "showlegend": false,
         "textposition": "auto",
         "type": "bar",
         "x": [
          60,
          90,
          15,
          30
         ],
         "xaxis": "x6",
         "y": [
          743,
          743,
          745,
          1308
         ],
         "yaxis": "y6"
        },
        {
         "alignmentgroup": "True",
         "hovertemplate": "Storage Media=SATAHDD<br>Operation Batch Size=128MB<br>CPU count=8CPU<br>keyrange_count=%{x}<br>compaction_frequency=%{y}<extra></extra>",
         "legendgroup": "SATAHDD",
         "marker": {
          "color": "#EF553B"
         },
         "name": "SATAHDD",
         "offsetgroup": "SATAHDD",
         "orientation": "v",
         "showlegend": false,
         "textposition": "auto",
         "type": "bar",
         "x": [
          60,
          90,
          15,
          30
         ],
         "xaxis": "x",
         "y": [
          341,
          356,
          357,
          507
         ],
         "yaxis": "y"
        },
        {
         "alignmentgroup": "True",
         "hovertemplate": "Storage Media=SATAHDD<br>Operation Batch Size=128MB<br>CPU count=16CPU<br>keyrange_count=%{x}<br>compaction_frequency=%{y}<extra></extra>",
         "legendgroup": "SATAHDD",
         "marker": {
          "color": "#EF553B"
         },
         "name": "SATAHDD",
         "offsetgroup": "SATAHDD",
         "orientation": "v",
         "showlegend": false,
         "textposition": "auto",
         "type": "bar",
         "x": [
          60,
          90,
          15,
          30
         ],
         "xaxis": "x2",
         "y": [
          349,
          346,
          363,
          596
         ],
         "yaxis": "y2"
        },
        {
         "alignmentgroup": "True",
         "hovertemplate": "Storage Media=SATAHDD<br>Operation Batch Size=128MB<br>CPU count=32CPU<br>keyrange_count=%{x}<br>compaction_frequency=%{y}<extra></extra>",
         "legendgroup": "SATAHDD",
         "marker": {
          "color": "#EF553B"
         },
         "name": "SATAHDD",
         "offsetgroup": "SATAHDD",
         "orientation": "v",
         "showlegend": false,
         "textposition": "auto",
         "type": "bar",
         "x": [
          60,
          90,
          15,
          30
         ],
         "xaxis": "x3",
         "y": [
          349,
          356,
          357,
          630
         ],
         "yaxis": "y3"
        },
        {
         "alignmentgroup": "True",
         "hovertemplate": "Storage Media=NVMeSSD<br>Operation Batch Size=64MB<br>CPU count=8CPU<br>keyrange_count=%{x}<br>compaction_frequency=%{y}<extra></extra>",
         "legendgroup": "NVMeSSD",
         "marker": {
          "color": "#00cc96"
         },
         "name": "NVMeSSD",
         "offsetgroup": "NVMeSSD",
         "orientation": "v",
         "showlegend": true,
         "textposition": "auto",
         "type": "bar",
         "x": [
          60,
          90,
          15,
          30
         ],
         "xaxis": "x4",
         "y": [
          762,
          776,
          748,
          1318
         ],
         "yaxis": "y4"
        },
        {
         "alignmentgroup": "True",
         "hovertemplate": "Storage Media=NVMeSSD<br>Operation Batch Size=64MB<br>CPU count=16CPU<br>keyrange_count=%{x}<br>compaction_frequency=%{y}<extra></extra>",
         "legendgroup": "NVMeSSD",
         "marker": {
          "color": "#00cc96"
         },
         "name": "NVMeSSD",
         "offsetgroup": "NVMeSSD",
         "orientation": "v",
         "showlegend": false,
         "textposition": "auto",
         "type": "bar",
         "x": [
          60,
          90,
          15,
          30
         ],
         "xaxis": "x5",
         "y": [
          762,
          768,
          765,
          1309
         ],
         "yaxis": "y5"
        },
        {
         "alignmentgroup": "True",
         "hovertemplate": "Storage Media=NVMeSSD<br>Operation Batch Size=64MB<br>CPU count=32CPU<br>keyrange_count=%{x}<br>compaction_frequency=%{y}<extra></extra>",
         "legendgroup": "NVMeSSD",
         "marker": {
          "color": "#00cc96"
         },
         "name": "NVMeSSD",
         "offsetgroup": "NVMeSSD",
         "orientation": "v",
         "showlegend": false,
         "textposition": "auto",
         "type": "bar",
         "x": [
          60,
          90,
          15,
          30
         ],
         "xaxis": "x6",
         "y": [
          769,
          764,
          746,
          1324
         ],
         "yaxis": "y6"
        },
        {
         "alignmentgroup": "True",
         "hovertemplate": "Storage Media=NVMeSSD<br>Operation Batch Size=128MB<br>CPU count=8CPU<br>keyrange_count=%{x}<br>compaction_frequency=%{y}<extra></extra>",
         "legendgroup": "NVMeSSD",
         "marker": {
          "color": "#00cc96"
         },
         "name": "NVMeSSD",
         "offsetgroup": "NVMeSSD",
         "orientation": "v",
         "showlegend": false,
         "textposition": "auto",
         "type": "bar",
         "x": [
          60,
          90,
          15,
          30
         ],
         "xaxis": "x",
         "y": [
          396,
          386,
          387,
          687
         ],
         "yaxis": "y"
        },
        {
         "alignmentgroup": "True",
         "hovertemplate": "Storage Media=NVMeSSD<br>Operation Batch Size=128MB<br>CPU count=16CPU<br>keyrange_count=%{x}<br>compaction_frequency=%{y}<extra></extra>",
         "legendgroup": "NVMeSSD",
         "marker": {
          "color": "#00cc96"
         },
         "name": "NVMeSSD",
         "offsetgroup": "NVMeSSD",
         "orientation": "v",
         "showlegend": false,
         "textposition": "auto",
         "type": "bar",
         "x": [
          60,
          90,
          15,
          30
         ],
         "xaxis": "x2",
         "y": [
          395,
          387,
          383,
          692
         ],
         "yaxis": "y2"
        },
        {
         "alignmentgroup": "True",
         "hovertemplate": "Storage Media=NVMeSSD<br>Operation Batch Size=128MB<br>CPU count=32CPU<br>keyrange_count=%{x}<br>compaction_frequency=%{y}<extra></extra>",
         "legendgroup": "NVMeSSD",
         "marker": {
          "color": "#00cc96"
         },
         "name": "NVMeSSD",
         "offsetgroup": "NVMeSSD",
         "orientation": "v",
         "showlegend": false,
         "textposition": "auto",
         "type": "bar",
         "x": [
          60,
          90,
          15,
          30
         ],
         "xaxis": "x3",
         "y": [
          395,
          389,
          386,
          685
         ],
         "yaxis": "y3"
        },
        {
         "alignmentgroup": "True",
         "hovertemplate": "Storage Media=PM<br>Operation Batch Size=64MB<br>CPU count=8CPU<br>keyrange_count=%{x}<br>compaction_frequency=%{y}<extra></extra>",
         "legendgroup": "PM",
         "marker": {
          "color": "#ab63fa"
         },
         "name": "PM",
         "offsetgroup": "PM",
         "orientation": "v",
         "showlegend": true,
         "textposition": "auto",
         "type": "bar",
         "x": [
          60,
          90,
          15,
          30
         ],
         "xaxis": "x4",
         "y": [
          741,
          747,
          743,
          1298
         ],
         "yaxis": "y4"
        },
        {
         "alignmentgroup": "True",
         "hovertemplate": "Storage Media=PM<br>Operation Batch Size=64MB<br>CPU count=16CPU<br>keyrange_count=%{x}<br>compaction_frequency=%{y}<extra></extra>",
         "legendgroup": "PM",
         "marker": {
          "color": "#ab63fa"
         },
         "name": "PM",
         "offsetgroup": "PM",
         "orientation": "v",
         "showlegend": false,
         "textposition": "auto",
         "type": "bar",
         "x": [
          60,
          90,
          15,
          30
         ],
         "xaxis": "x5",
         "y": [
          737,
          742,
          751,
          1335
         ],
         "yaxis": "y5"
        },
        {
         "alignmentgroup": "True",
         "hovertemplate": "Storage Media=PM<br>Operation Batch Size=64MB<br>CPU count=32CPU<br>keyrange_count=%{x}<br>compaction_frequency=%{y}<extra></extra>",
         "legendgroup": "PM",
         "marker": {
          "color": "#ab63fa"
         },
         "name": "PM",
         "offsetgroup": "PM",
         "orientation": "v",
         "showlegend": false,
         "textposition": "auto",
         "type": "bar",
         "x": [
          60,
          90,
          15,
          30
         ],
         "xaxis": "x6",
         "y": [
          730,
          759,
          748,
          1333
         ],
         "yaxis": "y6"
        },
        {
         "alignmentgroup": "True",
         "hovertemplate": "Storage Media=PM<br>Operation Batch Size=128MB<br>CPU count=8CPU<br>keyrange_count=%{x}<br>compaction_frequency=%{y}<extra></extra>",
         "legendgroup": "PM",
         "marker": {
          "color": "#ab63fa"
         },
         "name": "PM",
         "offsetgroup": "PM",
         "orientation": "v",
         "showlegend": false,
         "textposition": "auto",
         "type": "bar",
         "x": [
          60,
          90,
          15,
          30
         ],
         "xaxis": "x",
         "y": [
          361,
          363,
          347,
          652
         ],
         "yaxis": "y"
        },
        {
         "alignmentgroup": "True",
         "hovertemplate": "Storage Media=PM<br>Operation Batch Size=128MB<br>CPU count=16CPU<br>keyrange_count=%{x}<br>compaction_frequency=%{y}<extra></extra>",
         "legendgroup": "PM",
         "marker": {
          "color": "#ab63fa"
         },
         "name": "PM",
         "offsetgroup": "PM",
         "orientation": "v",
         "showlegend": false,
         "textposition": "auto",
         "type": "bar",
         "x": [
          60,
          90,
          15,
          30
         ],
         "xaxis": "x2",
         "y": [
          363,
          368,
          345,
          652
         ],
         "yaxis": "y2"
        },
        {
         "alignmentgroup": "True",
         "hovertemplate": "Storage Media=PM<br>Operation Batch Size=128MB<br>CPU count=32CPU<br>keyrange_count=%{x}<br>compaction_frequency=%{y}<extra></extra>",
         "legendgroup": "PM",
         "marker": {
          "color": "#ab63fa"
         },
         "name": "PM",
         "offsetgroup": "PM",
         "orientation": "v",
         "showlegend": false,
         "textposition": "auto",
         "type": "bar",
         "x": [
          60,
          90,
          15,
          30
         ],
         "xaxis": "x3",
         "y": [
          372,
          373,
          357,
          656
         ],
         "yaxis": "y3"
        }
       ],
       "layout": {
        "annotations": [
         {
          "font": {},
          "showarrow": false,
          "text": "CPU count=8CPU",
          "x": 0.15666666666666665,
          "xanchor": "center",
          "xref": "paper",
          "y": 1,
          "yanchor": "bottom",
          "yref": "paper"
         },
         {
          "font": {},
          "showarrow": false,
          "text": "CPU count=16CPU",
          "x": 0.49,
          "xanchor": "center",
          "xref": "paper",
          "y": 1,
          "yanchor": "bottom",
          "yref": "paper"
         },
         {
          "font": {},
          "showarrow": false,
          "text": "CPU count=32CPU",
          "x": 0.8233333333333333,
          "xanchor": "center",
          "xref": "paper",
          "y": 1,
          "yanchor": "bottom",
          "yref": "paper"
         },
         {
          "font": {},
          "showarrow": false,
          "text": "Operation Batch Size=128MB",
          "textangle": 90,
          "x": 0.98,
          "xanchor": "left",
          "xref": "paper",
          "y": 0.2425,
          "yanchor": "middle",
          "yref": "paper"
         },
         {
          "font": {},
          "showarrow": false,
          "text": "Operation Batch Size=64MB",
          "textangle": 90,
          "x": 0.98,
          "xanchor": "left",
          "xref": "paper",
          "y": 0.7575000000000001,
          "yanchor": "middle",
          "yref": "paper"
         }
        ],
        "autosize": false,
        "barmode": "group",
        "font": {
         "size": 20
        },
        "height": 900,
        "legend": {
         "title": {
          "text": "Storage Media"
         },
         "tracegroupgap": 0
        },
        "margin": {
         "t": 60
        },
        "template": {
         "data": {
          "bar": [
           {
            "error_x": {
             "color": "#2a3f5f"
            },
            "error_y": {
             "color": "#2a3f5f"
            },
            "marker": {
             "line": {
              "color": "#E5ECF6",
              "width": 0.5
             }
            },
            "type": "bar"
           }
          ],
          "barpolar": [
           {
            "marker": {
             "line": {
              "color": "#E5ECF6",
              "width": 0.5
             }
            },
            "type": "barpolar"
           }
          ],
          "carpet": [
           {
            "aaxis": {
             "endlinecolor": "#2a3f5f",
             "gridcolor": "white",
             "linecolor": "white",
             "minorgridcolor": "white",
             "startlinecolor": "#2a3f5f"
            },
            "baxis": {
             "endlinecolor": "#2a3f5f",
             "gridcolor": "white",
             "linecolor": "white",
             "minorgridcolor": "white",
             "startlinecolor": "#2a3f5f"
            },
            "type": "carpet"
           }
          ],
          "choropleth": [
           {
            "colorbar": {
             "outlinewidth": 0,
             "ticks": ""
            },
            "type": "choropleth"
           }
          ],
          "contour": [
           {
            "colorbar": {
             "outlinewidth": 0,
             "ticks": ""
            },
            "colorscale": [
             [
              0,
              "#0d0887"
             ],
             [
              0.1111111111111111,
              "#46039f"
             ],
             [
              0.2222222222222222,
              "#7201a8"
             ],
             [
              0.3333333333333333,
              "#9c179e"
             ],
             [
              0.4444444444444444,
              "#bd3786"
             ],
             [
              0.5555555555555556,
              "#d8576b"
             ],
             [
              0.6666666666666666,
              "#ed7953"
             ],
             [
              0.7777777777777778,
              "#fb9f3a"
             ],
             [
              0.8888888888888888,
              "#fdca26"
             ],
             [
              1,
              "#f0f921"
             ]
            ],
            "type": "contour"
           }
          ],
          "contourcarpet": [
           {
            "colorbar": {
             "outlinewidth": 0,
             "ticks": ""
            },
            "type": "contourcarpet"
           }
          ],
          "heatmap": [
           {
            "colorbar": {
             "outlinewidth": 0,
             "ticks": ""
            },
            "colorscale": [
             [
              0,
              "#0d0887"
             ],
             [
              0.1111111111111111,
              "#46039f"
             ],
             [
              0.2222222222222222,
              "#7201a8"
             ],
             [
              0.3333333333333333,
              "#9c179e"
             ],
             [
              0.4444444444444444,
              "#bd3786"
             ],
             [
              0.5555555555555556,
              "#d8576b"
             ],
             [
              0.6666666666666666,
              "#ed7953"
             ],
             [
              0.7777777777777778,
              "#fb9f3a"
             ],
             [
              0.8888888888888888,
              "#fdca26"
             ],
             [
              1,
              "#f0f921"
             ]
            ],
            "type": "heatmap"
           }
          ],
          "heatmapgl": [
           {
            "colorbar": {
             "outlinewidth": 0,
             "ticks": ""
            },
            "colorscale": [
             [
              0,
              "#0d0887"
             ],
             [
              0.1111111111111111,
              "#46039f"
             ],
             [
              0.2222222222222222,
              "#7201a8"
             ],
             [
              0.3333333333333333,
              "#9c179e"
             ],
             [
              0.4444444444444444,
              "#bd3786"
             ],
             [
              0.5555555555555556,
              "#d8576b"
             ],
             [
              0.6666666666666666,
              "#ed7953"
             ],
             [
              0.7777777777777778,
              "#fb9f3a"
             ],
             [
              0.8888888888888888,
              "#fdca26"
             ],
             [
              1,
              "#f0f921"
             ]
            ],
            "type": "heatmapgl"
           }
          ],
          "histogram": [
           {
            "marker": {
             "colorbar": {
              "outlinewidth": 0,
              "ticks": ""
             }
            },
            "type": "histogram"
           }
          ],
          "histogram2d": [
           {
            "colorbar": {
             "outlinewidth": 0,
             "ticks": ""
            },
            "colorscale": [
             [
              0,
              "#0d0887"
             ],
             [
              0.1111111111111111,
              "#46039f"
             ],
             [
              0.2222222222222222,
              "#7201a8"
             ],
             [
              0.3333333333333333,
              "#9c179e"
             ],
             [
              0.4444444444444444,
              "#bd3786"
             ],
             [
              0.5555555555555556,
              "#d8576b"
             ],
             [
              0.6666666666666666,
              "#ed7953"
             ],
             [
              0.7777777777777778,
              "#fb9f3a"
             ],
             [
              0.8888888888888888,
              "#fdca26"
             ],
             [
              1,
              "#f0f921"
             ]
            ],
            "type": "histogram2d"
           }
          ],
          "histogram2dcontour": [
           {
            "colorbar": {
             "outlinewidth": 0,
             "ticks": ""
            },
            "colorscale": [
             [
              0,
              "#0d0887"
             ],
             [
              0.1111111111111111,
              "#46039f"
             ],
             [
              0.2222222222222222,
              "#7201a8"
             ],
             [
              0.3333333333333333,
              "#9c179e"
             ],
             [
              0.4444444444444444,
              "#bd3786"
             ],
             [
              0.5555555555555556,
              "#d8576b"
             ],
             [
              0.6666666666666666,
              "#ed7953"
             ],
             [
              0.7777777777777778,
              "#fb9f3a"
             ],
             [
              0.8888888888888888,
              "#fdca26"
             ],
             [
              1,
              "#f0f921"
             ]
            ],
            "type": "histogram2dcontour"
           }
          ],
          "mesh3d": [
           {
            "colorbar": {
             "outlinewidth": 0,
             "ticks": ""
            },
            "type": "mesh3d"
           }
          ],
          "parcoords": [
           {
            "line": {
             "colorbar": {
              "outlinewidth": 0,
              "ticks": ""
             }
            },
            "type": "parcoords"
           }
          ],
          "pie": [
           {
            "automargin": true,
            "type": "pie"
           }
          ],
          "scatter": [
           {
            "marker": {
             "colorbar": {
              "outlinewidth": 0,
              "ticks": ""
             }
            },
            "type": "scatter"
           }
          ],
          "scatter3d": [
           {
            "line": {
             "colorbar": {
              "outlinewidth": 0,
              "ticks": ""
             }
            },
            "marker": {
             "colorbar": {
              "outlinewidth": 0,
              "ticks": ""
             }
            },
            "type": "scatter3d"
           }
          ],
          "scattercarpet": [
           {
            "marker": {
             "colorbar": {
              "outlinewidth": 0,
              "ticks": ""
             }
            },
            "type": "scattercarpet"
           }
          ],
          "scattergeo": [
           {
            "marker": {
             "colorbar": {
              "outlinewidth": 0,
              "ticks": ""
             }
            },
            "type": "scattergeo"
           }
          ],
          "scattergl": [
           {
            "marker": {
             "colorbar": {
              "outlinewidth": 0,
              "ticks": ""
             }
            },
            "type": "scattergl"
           }
          ],
          "scattermapbox": [
           {
            "marker": {
             "colorbar": {
              "outlinewidth": 0,
              "ticks": ""
             }
            },
            "type": "scattermapbox"
           }
          ],
          "scatterpolar": [
           {
            "marker": {
             "colorbar": {
              "outlinewidth": 0,
              "ticks": ""
             }
            },
            "type": "scatterpolar"
           }
          ],
          "scatterpolargl": [
           {
            "marker": {
             "colorbar": {
              "outlinewidth": 0,
              "ticks": ""
             }
            },
            "type": "scatterpolargl"
           }
          ],
          "scatterternary": [
           {
            "marker": {
             "colorbar": {
              "outlinewidth": 0,
              "ticks": ""
             }
            },
            "type": "scatterternary"
           }
          ],
          "surface": [
           {
            "colorbar": {
             "outlinewidth": 0,
             "ticks": ""
            },
            "colorscale": [
             [
              0,
              "#0d0887"
             ],
             [
              0.1111111111111111,
              "#46039f"
             ],
             [
              0.2222222222222222,
              "#7201a8"
             ],
             [
              0.3333333333333333,
              "#9c179e"
             ],
             [
              0.4444444444444444,
              "#bd3786"
             ],
             [
              0.5555555555555556,
              "#d8576b"
             ],
             [
              0.6666666666666666,
              "#ed7953"
             ],
             [
              0.7777777777777778,
              "#fb9f3a"
             ],
             [
              0.8888888888888888,
              "#fdca26"
             ],
             [
              1,
              "#f0f921"
             ]
            ],
            "type": "surface"
           }
          ],
          "table": [
           {
            "cells": {
             "fill": {
              "color": "#EBF0F8"
             },
             "line": {
              "color": "white"
             }
            },
            "header": {
             "fill": {
              "color": "#C8D4E3"
             },
             "line": {
              "color": "white"
             }
            },
            "type": "table"
           }
          ]
         },
         "layout": {
          "annotationdefaults": {
           "arrowcolor": "#2a3f5f",
           "arrowhead": 0,
           "arrowwidth": 1
          },
          "coloraxis": {
           "colorbar": {
            "outlinewidth": 0,
            "ticks": ""
           }
          },
          "colorscale": {
           "diverging": [
            [
             0,
             "#8e0152"
            ],
            [
             0.1,
             "#c51b7d"
            ],
            [
             0.2,
             "#de77ae"
            ],
            [
             0.3,
             "#f1b6da"
            ],
            [
             0.4,
             "#fde0ef"
            ],
            [
             0.5,
             "#f7f7f7"
            ],
            [
             0.6,
             "#e6f5d0"
            ],
            [
             0.7,
             "#b8e186"
            ],
            [
             0.8,
             "#7fbc41"
            ],
            [
             0.9,
             "#4d9221"
            ],
            [
             1,
             "#276419"
            ]
           ],
           "sequential": [
            [
             0,
             "#0d0887"
            ],
            [
             0.1111111111111111,
             "#46039f"
            ],
            [
             0.2222222222222222,
             "#7201a8"
            ],
            [
             0.3333333333333333,
             "#9c179e"
            ],
            [
             0.4444444444444444,
             "#bd3786"
            ],
            [
             0.5555555555555556,
             "#d8576b"
            ],
            [
             0.6666666666666666,
             "#ed7953"
            ],
            [
             0.7777777777777778,
             "#fb9f3a"
            ],
            [
             0.8888888888888888,
             "#fdca26"
            ],
            [
             1,
             "#f0f921"
            ]
           ],
           "sequentialminus": [
            [
             0,
             "#0d0887"
            ],
            [
             0.1111111111111111,
             "#46039f"
            ],
            [
             0.2222222222222222,
             "#7201a8"
            ],
            [
             0.3333333333333333,
             "#9c179e"
            ],
            [
             0.4444444444444444,
             "#bd3786"
            ],
            [
             0.5555555555555556,
             "#d8576b"
            ],
            [
             0.6666666666666666,
             "#ed7953"
            ],
            [
             0.7777777777777778,
             "#fb9f3a"
            ],
            [
             0.8888888888888888,
             "#fdca26"
            ],
            [
             1,
             "#f0f921"
            ]
           ]
          },
          "colorway": [
           "#636efa",
           "#EF553B",
           "#00cc96",
           "#ab63fa",
           "#FFA15A",
           "#19d3f3",
           "#FF6692",
           "#B6E880",
           "#FF97FF",
           "#FECB52"
          ],
          "font": {
           "color": "#2a3f5f"
          },
          "geo": {
           "bgcolor": "white",
           "lakecolor": "white",
           "landcolor": "#E5ECF6",
           "showlakes": true,
           "showland": true,
           "subunitcolor": "white"
          },
          "hoverlabel": {
           "align": "left"
          },
          "hovermode": "closest",
          "mapbox": {
           "style": "light"
          },
          "paper_bgcolor": "white",
          "plot_bgcolor": "#E5ECF6",
          "polar": {
           "angularaxis": {
            "gridcolor": "white",
            "linecolor": "white",
            "ticks": ""
           },
           "bgcolor": "#E5ECF6",
           "radialaxis": {
            "gridcolor": "white",
            "linecolor": "white",
            "ticks": ""
           }
          },
          "scene": {
           "xaxis": {
            "backgroundcolor": "#E5ECF6",
            "gridcolor": "white",
            "gridwidth": 2,
            "linecolor": "white",
            "showbackground": true,
            "ticks": "",
            "zerolinecolor": "white"
           },
           "yaxis": {
            "backgroundcolor": "#E5ECF6",
            "gridcolor": "white",
            "gridwidth": 2,
            "linecolor": "white",
            "showbackground": true,
            "ticks": "",
            "zerolinecolor": "white"
           },
           "zaxis": {
            "backgroundcolor": "#E5ECF6",
            "gridcolor": "white",
            "gridwidth": 2,
            "linecolor": "white",
            "showbackground": true,
            "ticks": "",
            "zerolinecolor": "white"
           }
          },
          "shapedefaults": {
           "line": {
            "color": "#2a3f5f"
           }
          },
          "ternary": {
           "aaxis": {
            "gridcolor": "white",
            "linecolor": "white",
            "ticks": ""
           },
           "baxis": {
            "gridcolor": "white",
            "linecolor": "white",
            "ticks": ""
           },
           "bgcolor": "#E5ECF6",
           "caxis": {
            "gridcolor": "white",
            "linecolor": "white",
            "ticks": ""
           }
          },
          "title": {
           "x": 0.05
          },
          "xaxis": {
           "automargin": true,
           "gridcolor": "white",
           "linecolor": "white",
           "ticks": "",
           "title": {
            "standoff": 15
           },
           "zerolinecolor": "white",
           "zerolinewidth": 2
          },
          "yaxis": {
           "automargin": true,
           "gridcolor": "white",
           "linecolor": "white",
           "ticks": "",
           "title": {
            "standoff": 15
           },
           "zerolinecolor": "white",
           "zerolinewidth": 2
          }
         }
        },
        "width": 1600,
        "xaxis": {
         "anchor": "y",
         "domain": [
          0,
          0.3133333333333333
         ],
         "showgrid": false,
         "title": {
          "text": "keyrange_count"
         }
        },
        "xaxis2": {
         "anchor": "y2",
         "domain": [
          0.3333333333333333,
          0.6466666666666666
         ],
         "matches": "x",
         "showgrid": false,
         "title": {
          "text": "keyrange_count"
         }
        },
        "xaxis3": {
         "anchor": "y3",
         "domain": [
          0.6666666666666666,
          0.98
         ],
         "matches": "x",
         "showgrid": false,
         "title": {
          "text": "keyrange_count"
         }
        },
        "xaxis4": {
         "anchor": "y4",
         "domain": [
          0,
          0.3133333333333333
         ],
         "matches": "x",
         "showgrid": false,
         "showticklabels": false
        },
        "xaxis5": {
         "anchor": "y5",
         "domain": [
          0.3333333333333333,
          0.6466666666666666
         ],
         "matches": "x",
         "showgrid": false,
         "showticklabels": false
        },
        "xaxis6": {
         "anchor": "y6",
         "domain": [
          0.6666666666666666,
          0.98
         ],
         "matches": "x",
         "showgrid": false,
         "showticklabels": false
        },
        "yaxis": {
         "anchor": "x",
         "automargin": true,
         "domain": [
          0,
          0.485
         ],
         "title": {
          "text": "compaction_frequency"
         }
        },
        "yaxis2": {
         "anchor": "x2",
         "automargin": true,
         "domain": [
          0,
          0.485
         ],
         "matches": "y",
         "showticklabels": false
        },
        "yaxis3": {
         "anchor": "x3",
         "automargin": true,
         "domain": [
          0,
          0.485
         ],
         "matches": "y",
         "showticklabels": false
        },
        "yaxis4": {
         "anchor": "x4",
         "automargin": true,
         "domain": [
          0.515,
          1
         ],
         "matches": "y",
         "title": {
          "text": "compaction_frequency"
         }
        },
        "yaxis5": {
         "anchor": "x5",
         "automargin": true,
         "domain": [
          0.515,
          1
         ],
         "matches": "y",
         "showticklabels": false
        },
        "yaxis6": {
         "anchor": "x6",
         "automargin": true,
         "domain": [
          0.515,
          1
         ],
         "matches": "y",
         "showticklabels": false
        }
       }
      },
      "text/html": [
       "<div>\n",
       "        \n",
       "        \n",
       "            <div id=\"178a3985-63c0-4a62-8b2f-ac1862619104\" class=\"plotly-graph-div\" style=\"height:900px; width:1600px;\"></div>\n",
       "            <script type=\"text/javascript\">\n",
       "                require([\"plotly\"], function(Plotly) {\n",
       "                    window.PLOTLYENV=window.PLOTLYENV || {};\n",
       "                    \n",
       "                if (document.getElementById(\"178a3985-63c0-4a62-8b2f-ac1862619104\")) {\n",
       "                    Plotly.newPlot(\n",
       "                        '178a3985-63c0-4a62-8b2f-ac1862619104',\n",
       "                        [{\"alignmentgroup\": \"True\", \"hovertemplate\": \"Storage Media=SATASSD<br>Operation Batch Size=64MB<br>CPU count=8CPU<br>keyrange_count=%{x}<br>compaction_frequency=%{y}<extra></extra>\", \"legendgroup\": \"SATASSD\", \"marker\": {\"color\": \"#636efa\"}, \"name\": \"SATASSD\", \"offsetgroup\": \"SATASSD\", \"orientation\": \"v\", \"showlegend\": true, \"textposition\": \"auto\", \"type\": \"bar\", \"x\": [60, 90, 15, 30], \"xaxis\": \"x4\", \"y\": [745, 745, 752, 1303], \"yaxis\": \"y4\"}, {\"alignmentgroup\": \"True\", \"hovertemplate\": \"Storage Media=SATASSD<br>Operation Batch Size=64MB<br>CPU count=16CPU<br>keyrange_count=%{x}<br>compaction_frequency=%{y}<extra></extra>\", \"legendgroup\": \"SATASSD\", \"marker\": {\"color\": \"#636efa\"}, \"name\": \"SATASSD\", \"offsetgroup\": \"SATASSD\", \"orientation\": \"v\", \"showlegend\": false, \"textposition\": \"auto\", \"type\": \"bar\", \"x\": [60, 90, 15, 30], \"xaxis\": \"x5\", \"y\": [746, 754, 753, 1338], \"yaxis\": \"y5\"}, {\"alignmentgroup\": \"True\", \"hovertemplate\": \"Storage Media=SATASSD<br>Operation Batch Size=64MB<br>CPU count=32CPU<br>keyrange_count=%{x}<br>compaction_frequency=%{y}<extra></extra>\", \"legendgroup\": \"SATASSD\", \"marker\": {\"color\": \"#636efa\"}, \"name\": \"SATASSD\", \"offsetgroup\": \"SATASSD\", \"orientation\": \"v\", \"showlegend\": false, \"textposition\": \"auto\", \"type\": \"bar\", \"x\": [60, 90, 15, 30], \"xaxis\": \"x6\", \"y\": [755, 740, 745, 1330], \"yaxis\": \"y6\"}, {\"alignmentgroup\": \"True\", \"hovertemplate\": \"Storage Media=SATASSD<br>Operation Batch Size=128MB<br>CPU count=8CPU<br>keyrange_count=%{x}<br>compaction_frequency=%{y}<extra></extra>\", \"legendgroup\": \"SATASSD\", \"marker\": {\"color\": \"#636efa\"}, \"name\": \"SATASSD\", \"offsetgroup\": \"SATASSD\", \"orientation\": \"v\", \"showlegend\": false, \"textposition\": \"auto\", \"type\": \"bar\", \"x\": [60, 90, 15, 30], \"xaxis\": \"x\", \"y\": [356, 349, 362, 628], \"yaxis\": \"y\"}, {\"alignmentgroup\": \"True\", \"hovertemplate\": \"Storage Media=SATASSD<br>Operation Batch Size=128MB<br>CPU count=16CPU<br>keyrange_count=%{x}<br>compaction_frequency=%{y}<extra></extra>\", \"legendgroup\": \"SATASSD\", \"marker\": {\"color\": \"#636efa\"}, \"name\": \"SATASSD\", \"offsetgroup\": \"SATASSD\", \"orientation\": \"v\", \"showlegend\": false, \"textposition\": \"auto\", \"type\": \"bar\", \"x\": [60, 90, 15, 30], \"xaxis\": \"x2\", \"y\": [364, 358, 343, 643], \"yaxis\": \"y2\"}, {\"alignmentgroup\": \"True\", \"hovertemplate\": \"Storage Media=SATASSD<br>Operation Batch Size=128MB<br>CPU count=32CPU<br>keyrange_count=%{x}<br>compaction_frequency=%{y}<extra></extra>\", \"legendgroup\": \"SATASSD\", \"marker\": {\"color\": \"#636efa\"}, \"name\": \"SATASSD\", \"offsetgroup\": \"SATASSD\", \"orientation\": \"v\", \"showlegend\": false, \"textposition\": \"auto\", \"type\": \"bar\", \"x\": [60, 90, 15, 30], \"xaxis\": \"x3\", \"y\": [359, 352, 368, 649], \"yaxis\": \"y3\"}, {\"alignmentgroup\": \"True\", \"hovertemplate\": \"Storage Media=SATAHDD<br>Operation Batch Size=64MB<br>CPU count=8CPU<br>keyrange_count=%{x}<br>compaction_frequency=%{y}<extra></extra>\", \"legendgroup\": \"SATAHDD\", \"marker\": {\"color\": \"#EF553B\"}, \"name\": \"SATAHDD\", \"offsetgroup\": \"SATAHDD\", \"orientation\": \"v\", \"showlegend\": true, \"textposition\": \"auto\", \"type\": \"bar\", \"x\": [60, 90, 15, 30], \"xaxis\": \"x4\", \"y\": [731, 750, 741, 1268], \"yaxis\": \"y4\"}, {\"alignmentgroup\": \"True\", \"hovertemplate\": \"Storage Media=SATAHDD<br>Operation Batch Size=64MB<br>CPU count=16CPU<br>keyrange_count=%{x}<br>compaction_frequency=%{y}<extra></extra>\", \"legendgroup\": \"SATAHDD\", \"marker\": {\"color\": \"#EF553B\"}, \"name\": \"SATAHDD\", \"offsetgroup\": \"SATAHDD\", \"orientation\": \"v\", \"showlegend\": false, \"textposition\": \"auto\", \"type\": \"bar\", \"x\": [60, 90, 15, 30], \"xaxis\": \"x5\", \"y\": [721, 734, 749, 1309], \"yaxis\": \"y5\"}, {\"alignmentgroup\": \"True\", \"hovertemplate\": \"Storage Media=SATAHDD<br>Operation Batch Size=64MB<br>CPU count=32CPU<br>keyrange_count=%{x}<br>compaction_frequency=%{y}<extra></extra>\", \"legendgroup\": \"SATAHDD\", \"marker\": {\"color\": \"#EF553B\"}, \"name\": \"SATAHDD\", \"offsetgroup\": \"SATAHDD\", \"orientation\": \"v\", \"showlegend\": false, \"textposition\": \"auto\", \"type\": \"bar\", \"x\": [60, 90, 15, 30], \"xaxis\": \"x6\", \"y\": [743, 743, 745, 1308], \"yaxis\": \"y6\"}, {\"alignmentgroup\": \"True\", \"hovertemplate\": \"Storage Media=SATAHDD<br>Operation Batch Size=128MB<br>CPU count=8CPU<br>keyrange_count=%{x}<br>compaction_frequency=%{y}<extra></extra>\", \"legendgroup\": \"SATAHDD\", \"marker\": {\"color\": \"#EF553B\"}, \"name\": \"SATAHDD\", \"offsetgroup\": \"SATAHDD\", \"orientation\": \"v\", \"showlegend\": false, \"textposition\": \"auto\", \"type\": \"bar\", \"x\": [60, 90, 15, 30], \"xaxis\": \"x\", \"y\": [341, 356, 357, 507], \"yaxis\": \"y\"}, {\"alignmentgroup\": \"True\", \"hovertemplate\": \"Storage Media=SATAHDD<br>Operation Batch Size=128MB<br>CPU count=16CPU<br>keyrange_count=%{x}<br>compaction_frequency=%{y}<extra></extra>\", \"legendgroup\": \"SATAHDD\", \"marker\": {\"color\": \"#EF553B\"}, \"name\": \"SATAHDD\", \"offsetgroup\": \"SATAHDD\", \"orientation\": \"v\", \"showlegend\": false, \"textposition\": \"auto\", \"type\": \"bar\", \"x\": [60, 90, 15, 30], \"xaxis\": \"x2\", \"y\": [349, 346, 363, 596], \"yaxis\": \"y2\"}, {\"alignmentgroup\": \"True\", \"hovertemplate\": \"Storage Media=SATAHDD<br>Operation Batch Size=128MB<br>CPU count=32CPU<br>keyrange_count=%{x}<br>compaction_frequency=%{y}<extra></extra>\", \"legendgroup\": \"SATAHDD\", \"marker\": {\"color\": \"#EF553B\"}, \"name\": \"SATAHDD\", \"offsetgroup\": \"SATAHDD\", \"orientation\": \"v\", \"showlegend\": false, \"textposition\": \"auto\", \"type\": \"bar\", \"x\": [60, 90, 15, 30], \"xaxis\": \"x3\", \"y\": [349, 356, 357, 630], \"yaxis\": \"y3\"}, {\"alignmentgroup\": \"True\", \"hovertemplate\": \"Storage Media=NVMeSSD<br>Operation Batch Size=64MB<br>CPU count=8CPU<br>keyrange_count=%{x}<br>compaction_frequency=%{y}<extra></extra>\", \"legendgroup\": \"NVMeSSD\", \"marker\": {\"color\": \"#00cc96\"}, \"name\": \"NVMeSSD\", \"offsetgroup\": \"NVMeSSD\", \"orientation\": \"v\", \"showlegend\": true, \"textposition\": \"auto\", \"type\": \"bar\", \"x\": [60, 90, 15, 30], \"xaxis\": \"x4\", \"y\": [762, 776, 748, 1318], \"yaxis\": \"y4\"}, {\"alignmentgroup\": \"True\", \"hovertemplate\": \"Storage Media=NVMeSSD<br>Operation Batch Size=64MB<br>CPU count=16CPU<br>keyrange_count=%{x}<br>compaction_frequency=%{y}<extra></extra>\", \"legendgroup\": \"NVMeSSD\", \"marker\": {\"color\": \"#00cc96\"}, \"name\": \"NVMeSSD\", \"offsetgroup\": \"NVMeSSD\", \"orientation\": \"v\", \"showlegend\": false, \"textposition\": \"auto\", \"type\": \"bar\", \"x\": [60, 90, 15, 30], \"xaxis\": \"x5\", \"y\": [762, 768, 765, 1309], \"yaxis\": \"y5\"}, {\"alignmentgroup\": \"True\", \"hovertemplate\": \"Storage Media=NVMeSSD<br>Operation Batch Size=64MB<br>CPU count=32CPU<br>keyrange_count=%{x}<br>compaction_frequency=%{y}<extra></extra>\", \"legendgroup\": \"NVMeSSD\", \"marker\": {\"color\": \"#00cc96\"}, \"name\": \"NVMeSSD\", \"offsetgroup\": \"NVMeSSD\", \"orientation\": \"v\", \"showlegend\": false, \"textposition\": \"auto\", \"type\": \"bar\", \"x\": [60, 90, 15, 30], \"xaxis\": \"x6\", \"y\": [769, 764, 746, 1324], \"yaxis\": \"y6\"}, {\"alignmentgroup\": \"True\", \"hovertemplate\": \"Storage Media=NVMeSSD<br>Operation Batch Size=128MB<br>CPU count=8CPU<br>keyrange_count=%{x}<br>compaction_frequency=%{y}<extra></extra>\", \"legendgroup\": \"NVMeSSD\", \"marker\": {\"color\": \"#00cc96\"}, \"name\": \"NVMeSSD\", \"offsetgroup\": \"NVMeSSD\", \"orientation\": \"v\", \"showlegend\": false, \"textposition\": \"auto\", \"type\": \"bar\", \"x\": [60, 90, 15, 30], \"xaxis\": \"x\", \"y\": [396, 386, 387, 687], \"yaxis\": \"y\"}, {\"alignmentgroup\": \"True\", \"hovertemplate\": \"Storage Media=NVMeSSD<br>Operation Batch Size=128MB<br>CPU count=16CPU<br>keyrange_count=%{x}<br>compaction_frequency=%{y}<extra></extra>\", \"legendgroup\": \"NVMeSSD\", \"marker\": {\"color\": \"#00cc96\"}, \"name\": \"NVMeSSD\", \"offsetgroup\": \"NVMeSSD\", \"orientation\": \"v\", \"showlegend\": false, \"textposition\": \"auto\", \"type\": \"bar\", \"x\": [60, 90, 15, 30], \"xaxis\": \"x2\", \"y\": [395, 387, 383, 692], \"yaxis\": \"y2\"}, {\"alignmentgroup\": \"True\", \"hovertemplate\": \"Storage Media=NVMeSSD<br>Operation Batch Size=128MB<br>CPU count=32CPU<br>keyrange_count=%{x}<br>compaction_frequency=%{y}<extra></extra>\", \"legendgroup\": \"NVMeSSD\", \"marker\": {\"color\": \"#00cc96\"}, \"name\": \"NVMeSSD\", \"offsetgroup\": \"NVMeSSD\", \"orientation\": \"v\", \"showlegend\": false, \"textposition\": \"auto\", \"type\": \"bar\", \"x\": [60, 90, 15, 30], \"xaxis\": \"x3\", \"y\": [395, 389, 386, 685], \"yaxis\": \"y3\"}, {\"alignmentgroup\": \"True\", \"hovertemplate\": \"Storage Media=PM<br>Operation Batch Size=64MB<br>CPU count=8CPU<br>keyrange_count=%{x}<br>compaction_frequency=%{y}<extra></extra>\", \"legendgroup\": \"PM\", \"marker\": {\"color\": \"#ab63fa\"}, \"name\": \"PM\", \"offsetgroup\": \"PM\", \"orientation\": \"v\", \"showlegend\": true, \"textposition\": \"auto\", \"type\": \"bar\", \"x\": [60, 90, 15, 30], \"xaxis\": \"x4\", \"y\": [741, 747, 743, 1298], \"yaxis\": \"y4\"}, {\"alignmentgroup\": \"True\", \"hovertemplate\": \"Storage Media=PM<br>Operation Batch Size=64MB<br>CPU count=16CPU<br>keyrange_count=%{x}<br>compaction_frequency=%{y}<extra></extra>\", \"legendgroup\": \"PM\", \"marker\": {\"color\": \"#ab63fa\"}, \"name\": \"PM\", \"offsetgroup\": \"PM\", \"orientation\": \"v\", \"showlegend\": false, \"textposition\": \"auto\", \"type\": \"bar\", \"x\": [60, 90, 15, 30], \"xaxis\": \"x5\", \"y\": [737, 742, 751, 1335], \"yaxis\": \"y5\"}, {\"alignmentgroup\": \"True\", \"hovertemplate\": \"Storage Media=PM<br>Operation Batch Size=64MB<br>CPU count=32CPU<br>keyrange_count=%{x}<br>compaction_frequency=%{y}<extra></extra>\", \"legendgroup\": \"PM\", \"marker\": {\"color\": \"#ab63fa\"}, \"name\": \"PM\", \"offsetgroup\": \"PM\", \"orientation\": \"v\", \"showlegend\": false, \"textposition\": \"auto\", \"type\": \"bar\", \"x\": [60, 90, 15, 30], \"xaxis\": \"x6\", \"y\": [730, 759, 748, 1333], \"yaxis\": \"y6\"}, {\"alignmentgroup\": \"True\", \"hovertemplate\": \"Storage Media=PM<br>Operation Batch Size=128MB<br>CPU count=8CPU<br>keyrange_count=%{x}<br>compaction_frequency=%{y}<extra></extra>\", \"legendgroup\": \"PM\", \"marker\": {\"color\": \"#ab63fa\"}, \"name\": \"PM\", \"offsetgroup\": \"PM\", \"orientation\": \"v\", \"showlegend\": false, \"textposition\": \"auto\", \"type\": \"bar\", \"x\": [60, 90, 15, 30], \"xaxis\": \"x\", \"y\": [361, 363, 347, 652], \"yaxis\": \"y\"}, {\"alignmentgroup\": \"True\", \"hovertemplate\": \"Storage Media=PM<br>Operation Batch Size=128MB<br>CPU count=16CPU<br>keyrange_count=%{x}<br>compaction_frequency=%{y}<extra></extra>\", \"legendgroup\": \"PM\", \"marker\": {\"color\": \"#ab63fa\"}, \"name\": \"PM\", \"offsetgroup\": \"PM\", \"orientation\": \"v\", \"showlegend\": false, \"textposition\": \"auto\", \"type\": \"bar\", \"x\": [60, 90, 15, 30], \"xaxis\": \"x2\", \"y\": [363, 368, 345, 652], \"yaxis\": \"y2\"}, {\"alignmentgroup\": \"True\", \"hovertemplate\": \"Storage Media=PM<br>Operation Batch Size=128MB<br>CPU count=32CPU<br>keyrange_count=%{x}<br>compaction_frequency=%{y}<extra></extra>\", \"legendgroup\": \"PM\", \"marker\": {\"color\": \"#ab63fa\"}, \"name\": \"PM\", \"offsetgroup\": \"PM\", \"orientation\": \"v\", \"showlegend\": false, \"textposition\": \"auto\", \"type\": \"bar\", \"x\": [60, 90, 15, 30], \"xaxis\": \"x3\", \"y\": [372, 373, 357, 656], \"yaxis\": \"y3\"}],\n",
       "                        {\"annotations\": [{\"font\": {}, \"showarrow\": false, \"text\": \"CPU count=8CPU\", \"x\": 0.15666666666666665, \"xanchor\": \"center\", \"xref\": \"paper\", \"y\": 1.0, \"yanchor\": \"bottom\", \"yref\": \"paper\"}, {\"font\": {}, \"showarrow\": false, \"text\": \"CPU count=16CPU\", \"x\": 0.49, \"xanchor\": \"center\", \"xref\": \"paper\", \"y\": 1.0, \"yanchor\": \"bottom\", \"yref\": \"paper\"}, {\"font\": {}, \"showarrow\": false, \"text\": \"CPU count=32CPU\", \"x\": 0.8233333333333333, \"xanchor\": \"center\", \"xref\": \"paper\", \"y\": 1.0, \"yanchor\": \"bottom\", \"yref\": \"paper\"}, {\"font\": {}, \"showarrow\": false, \"text\": \"Operation Batch Size=128MB\", \"textangle\": 90, \"x\": 0.98, \"xanchor\": \"left\", \"xref\": \"paper\", \"y\": 0.2425, \"yanchor\": \"middle\", \"yref\": \"paper\"}, {\"font\": {}, \"showarrow\": false, \"text\": \"Operation Batch Size=64MB\", \"textangle\": 90, \"x\": 0.98, \"xanchor\": \"left\", \"xref\": \"paper\", \"y\": 0.7575000000000001, \"yanchor\": \"middle\", \"yref\": \"paper\"}], \"autosize\": false, \"barmode\": \"group\", \"font\": {\"size\": 20}, \"height\": 900, \"legend\": {\"title\": {\"text\": \"Storage Media\"}, \"tracegroupgap\": 0}, \"margin\": {\"t\": 60}, \"template\": {\"data\": {\"bar\": [{\"error_x\": {\"color\": \"#2a3f5f\"}, \"error_y\": {\"color\": \"#2a3f5f\"}, \"marker\": {\"line\": {\"color\": \"#E5ECF6\", \"width\": 0.5}}, \"type\": \"bar\"}], \"barpolar\": [{\"marker\": {\"line\": {\"color\": \"#E5ECF6\", \"width\": 0.5}}, \"type\": \"barpolar\"}], \"carpet\": [{\"aaxis\": {\"endlinecolor\": \"#2a3f5f\", \"gridcolor\": \"white\", \"linecolor\": \"white\", \"minorgridcolor\": \"white\", \"startlinecolor\": \"#2a3f5f\"}, \"baxis\": {\"endlinecolor\": \"#2a3f5f\", \"gridcolor\": \"white\", \"linecolor\": \"white\", \"minorgridcolor\": \"white\", \"startlinecolor\": \"#2a3f5f\"}, \"type\": \"carpet\"}], \"choropleth\": [{\"colorbar\": {\"outlinewidth\": 0, \"ticks\": \"\"}, \"type\": \"choropleth\"}], \"contour\": [{\"colorbar\": {\"outlinewidth\": 0, \"ticks\": \"\"}, \"colorscale\": [[0.0, \"#0d0887\"], [0.1111111111111111, \"#46039f\"], [0.2222222222222222, \"#7201a8\"], [0.3333333333333333, \"#9c179e\"], [0.4444444444444444, \"#bd3786\"], [0.5555555555555556, \"#d8576b\"], [0.6666666666666666, \"#ed7953\"], [0.7777777777777778, \"#fb9f3a\"], [0.8888888888888888, \"#fdca26\"], [1.0, \"#f0f921\"]], \"type\": \"contour\"}], \"contourcarpet\": [{\"colorbar\": {\"outlinewidth\": 0, \"ticks\": \"\"}, \"type\": \"contourcarpet\"}], \"heatmap\": [{\"colorbar\": {\"outlinewidth\": 0, \"ticks\": \"\"}, \"colorscale\": [[0.0, \"#0d0887\"], [0.1111111111111111, \"#46039f\"], [0.2222222222222222, \"#7201a8\"], [0.3333333333333333, \"#9c179e\"], [0.4444444444444444, \"#bd3786\"], [0.5555555555555556, \"#d8576b\"], [0.6666666666666666, \"#ed7953\"], [0.7777777777777778, \"#fb9f3a\"], [0.8888888888888888, \"#fdca26\"], [1.0, \"#f0f921\"]], \"type\": \"heatmap\"}], \"heatmapgl\": [{\"colorbar\": {\"outlinewidth\": 0, \"ticks\": \"\"}, \"colorscale\": [[0.0, \"#0d0887\"], [0.1111111111111111, \"#46039f\"], [0.2222222222222222, \"#7201a8\"], [0.3333333333333333, \"#9c179e\"], [0.4444444444444444, \"#bd3786\"], [0.5555555555555556, \"#d8576b\"], [0.6666666666666666, \"#ed7953\"], [0.7777777777777778, \"#fb9f3a\"], [0.8888888888888888, \"#fdca26\"], [1.0, \"#f0f921\"]], \"type\": \"heatmapgl\"}], \"histogram\": [{\"marker\": {\"colorbar\": {\"outlinewidth\": 0, \"ticks\": \"\"}}, \"type\": \"histogram\"}], \"histogram2d\": [{\"colorbar\": {\"outlinewidth\": 0, \"ticks\": \"\"}, \"colorscale\": [[0.0, \"#0d0887\"], [0.1111111111111111, \"#46039f\"], [0.2222222222222222, \"#7201a8\"], [0.3333333333333333, \"#9c179e\"], [0.4444444444444444, \"#bd3786\"], [0.5555555555555556, \"#d8576b\"], [0.6666666666666666, \"#ed7953\"], [0.7777777777777778, \"#fb9f3a\"], [0.8888888888888888, \"#fdca26\"], [1.0, \"#f0f921\"]], \"type\": \"histogram2d\"}], \"histogram2dcontour\": [{\"colorbar\": {\"outlinewidth\": 0, \"ticks\": \"\"}, \"colorscale\": [[0.0, \"#0d0887\"], [0.1111111111111111, \"#46039f\"], [0.2222222222222222, \"#7201a8\"], [0.3333333333333333, \"#9c179e\"], [0.4444444444444444, \"#bd3786\"], [0.5555555555555556, \"#d8576b\"], [0.6666666666666666, \"#ed7953\"], [0.7777777777777778, \"#fb9f3a\"], [0.8888888888888888, \"#fdca26\"], [1.0, \"#f0f921\"]], \"type\": \"histogram2dcontour\"}], \"mesh3d\": [{\"colorbar\": {\"outlinewidth\": 0, \"ticks\": \"\"}, \"type\": \"mesh3d\"}], \"parcoords\": [{\"line\": {\"colorbar\": {\"outlinewidth\": 0, \"ticks\": \"\"}}, \"type\": \"parcoords\"}], \"pie\": [{\"automargin\": true, \"type\": \"pie\"}], \"scatter\": [{\"marker\": {\"colorbar\": {\"outlinewidth\": 0, \"ticks\": \"\"}}, \"type\": \"scatter\"}], \"scatter3d\": [{\"line\": {\"colorbar\": {\"outlinewidth\": 0, \"ticks\": \"\"}}, \"marker\": {\"colorbar\": {\"outlinewidth\": 0, \"ticks\": \"\"}}, \"type\": \"scatter3d\"}], \"scattercarpet\": [{\"marker\": {\"colorbar\": {\"outlinewidth\": 0, \"ticks\": \"\"}}, \"type\": \"scattercarpet\"}], \"scattergeo\": [{\"marker\": {\"colorbar\": {\"outlinewidth\": 0, \"ticks\": \"\"}}, \"type\": \"scattergeo\"}], \"scattergl\": [{\"marker\": {\"colorbar\": {\"outlinewidth\": 0, \"ticks\": \"\"}}, \"type\": \"scattergl\"}], \"scattermapbox\": [{\"marker\": {\"colorbar\": {\"outlinewidth\": 0, \"ticks\": \"\"}}, \"type\": \"scattermapbox\"}], \"scatterpolar\": [{\"marker\": {\"colorbar\": {\"outlinewidth\": 0, \"ticks\": \"\"}}, \"type\": \"scatterpolar\"}], \"scatterpolargl\": [{\"marker\": {\"colorbar\": {\"outlinewidth\": 0, \"ticks\": \"\"}}, \"type\": \"scatterpolargl\"}], \"scatterternary\": [{\"marker\": {\"colorbar\": {\"outlinewidth\": 0, \"ticks\": \"\"}}, \"type\": \"scatterternary\"}], \"surface\": [{\"colorbar\": {\"outlinewidth\": 0, \"ticks\": \"\"}, \"colorscale\": [[0.0, \"#0d0887\"], [0.1111111111111111, \"#46039f\"], [0.2222222222222222, \"#7201a8\"], [0.3333333333333333, \"#9c179e\"], [0.4444444444444444, \"#bd3786\"], [0.5555555555555556, \"#d8576b\"], [0.6666666666666666, \"#ed7953\"], [0.7777777777777778, \"#fb9f3a\"], [0.8888888888888888, \"#fdca26\"], [1.0, \"#f0f921\"]], \"type\": \"surface\"}], \"table\": [{\"cells\": {\"fill\": {\"color\": \"#EBF0F8\"}, \"line\": {\"color\": \"white\"}}, \"header\": {\"fill\": {\"color\": \"#C8D4E3\"}, \"line\": {\"color\": \"white\"}}, \"type\": \"table\"}]}, \"layout\": {\"annotationdefaults\": {\"arrowcolor\": \"#2a3f5f\", \"arrowhead\": 0, \"arrowwidth\": 1}, \"coloraxis\": {\"colorbar\": {\"outlinewidth\": 0, \"ticks\": \"\"}}, \"colorscale\": {\"diverging\": [[0, \"#8e0152\"], [0.1, \"#c51b7d\"], [0.2, \"#de77ae\"], [0.3, \"#f1b6da\"], [0.4, \"#fde0ef\"], [0.5, \"#f7f7f7\"], [0.6, \"#e6f5d0\"], [0.7, \"#b8e186\"], [0.8, \"#7fbc41\"], [0.9, \"#4d9221\"], [1, \"#276419\"]], \"sequential\": [[0.0, \"#0d0887\"], [0.1111111111111111, \"#46039f\"], [0.2222222222222222, \"#7201a8\"], [0.3333333333333333, \"#9c179e\"], [0.4444444444444444, \"#bd3786\"], [0.5555555555555556, \"#d8576b\"], [0.6666666666666666, \"#ed7953\"], [0.7777777777777778, \"#fb9f3a\"], [0.8888888888888888, \"#fdca26\"], [1.0, \"#f0f921\"]], \"sequentialminus\": [[0.0, \"#0d0887\"], [0.1111111111111111, \"#46039f\"], [0.2222222222222222, \"#7201a8\"], [0.3333333333333333, \"#9c179e\"], [0.4444444444444444, \"#bd3786\"], [0.5555555555555556, \"#d8576b\"], [0.6666666666666666, \"#ed7953\"], [0.7777777777777778, \"#fb9f3a\"], [0.8888888888888888, \"#fdca26\"], [1.0, \"#f0f921\"]]}, \"colorway\": [\"#636efa\", \"#EF553B\", \"#00cc96\", \"#ab63fa\", \"#FFA15A\", \"#19d3f3\", \"#FF6692\", \"#B6E880\", \"#FF97FF\", \"#FECB52\"], \"font\": {\"color\": \"#2a3f5f\"}, \"geo\": {\"bgcolor\": \"white\", \"lakecolor\": \"white\", \"landcolor\": \"#E5ECF6\", \"showlakes\": true, \"showland\": true, \"subunitcolor\": \"white\"}, \"hoverlabel\": {\"align\": \"left\"}, \"hovermode\": \"closest\", \"mapbox\": {\"style\": \"light\"}, \"paper_bgcolor\": \"white\", \"plot_bgcolor\": \"#E5ECF6\", \"polar\": {\"angularaxis\": {\"gridcolor\": \"white\", \"linecolor\": \"white\", \"ticks\": \"\"}, \"bgcolor\": \"#E5ECF6\", \"radialaxis\": {\"gridcolor\": \"white\", \"linecolor\": \"white\", \"ticks\": \"\"}}, \"scene\": {\"xaxis\": {\"backgroundcolor\": \"#E5ECF6\", \"gridcolor\": \"white\", \"gridwidth\": 2, \"linecolor\": \"white\", \"showbackground\": true, \"ticks\": \"\", \"zerolinecolor\": \"white\"}, \"yaxis\": {\"backgroundcolor\": \"#E5ECF6\", \"gridcolor\": \"white\", \"gridwidth\": 2, \"linecolor\": \"white\", \"showbackground\": true, \"ticks\": \"\", \"zerolinecolor\": \"white\"}, \"zaxis\": {\"backgroundcolor\": \"#E5ECF6\", \"gridcolor\": \"white\", \"gridwidth\": 2, \"linecolor\": \"white\", \"showbackground\": true, \"ticks\": \"\", \"zerolinecolor\": \"white\"}}, \"shapedefaults\": {\"line\": {\"color\": \"#2a3f5f\"}}, \"ternary\": {\"aaxis\": {\"gridcolor\": \"white\", \"linecolor\": \"white\", \"ticks\": \"\"}, \"baxis\": {\"gridcolor\": \"white\", \"linecolor\": \"white\", \"ticks\": \"\"}, \"bgcolor\": \"#E5ECF6\", \"caxis\": {\"gridcolor\": \"white\", \"linecolor\": \"white\", \"ticks\": \"\"}}, \"title\": {\"x\": 0.05}, \"xaxis\": {\"automargin\": true, \"gridcolor\": \"white\", \"linecolor\": \"white\", \"ticks\": \"\", \"title\": {\"standoff\": 15}, \"zerolinecolor\": \"white\", \"zerolinewidth\": 2}, \"yaxis\": {\"automargin\": true, \"gridcolor\": \"white\", \"linecolor\": \"white\", \"ticks\": \"\", \"title\": {\"standoff\": 15}, \"zerolinecolor\": \"white\", \"zerolinewidth\": 2}}}, \"width\": 1600, \"xaxis\": {\"anchor\": \"y\", \"domain\": [0.0, 0.3133333333333333], \"showgrid\": false, \"title\": {\"text\": \"keyrange_count\"}}, \"xaxis2\": {\"anchor\": \"y2\", \"domain\": [0.3333333333333333, 0.6466666666666666], \"matches\": \"x\", \"showgrid\": false, \"title\": {\"text\": \"keyrange_count\"}}, \"xaxis3\": {\"anchor\": \"y3\", \"domain\": [0.6666666666666666, 0.98], \"matches\": \"x\", \"showgrid\": false, \"title\": {\"text\": \"keyrange_count\"}}, \"xaxis4\": {\"anchor\": \"y4\", \"domain\": [0.0, 0.3133333333333333], \"matches\": \"x\", \"showgrid\": false, \"showticklabels\": false}, \"xaxis5\": {\"anchor\": \"y5\", \"domain\": [0.3333333333333333, 0.6466666666666666], \"matches\": \"x\", \"showgrid\": false, \"showticklabels\": false}, \"xaxis6\": {\"anchor\": \"y6\", \"domain\": [0.6666666666666666, 0.98], \"matches\": \"x\", \"showgrid\": false, \"showticklabels\": false}, \"yaxis\": {\"anchor\": \"x\", \"automargin\": true, \"domain\": [0.0, 0.485], \"title\": {\"text\": \"compaction_frequency\"}}, \"yaxis2\": {\"anchor\": \"x2\", \"automargin\": true, \"domain\": [0.0, 0.485], \"matches\": \"y\", \"showticklabels\": false}, \"yaxis3\": {\"anchor\": \"x3\", \"automargin\": true, \"domain\": [0.0, 0.485], \"matches\": \"y\", \"showticklabels\": false}, \"yaxis4\": {\"anchor\": \"x4\", \"automargin\": true, \"domain\": [0.515, 1.0], \"matches\": \"y\", \"title\": {\"text\": \"compaction_frequency\"}}, \"yaxis5\": {\"anchor\": \"x5\", \"automargin\": true, \"domain\": [0.515, 1.0], \"matches\": \"y\", \"showticklabels\": false}, \"yaxis6\": {\"anchor\": \"x6\", \"automargin\": true, \"domain\": [0.515, 1.0], \"matches\": \"y\", \"showticklabels\": false}},\n",
       "                        {\"responsive\": true}\n",
       "                    ).then(function(){\n",
       "                            \n",
       "var gd = document.getElementById('178a3985-63c0-4a62-8b2f-ac1862619104');\n",
       "var x = new MutationObserver(function (mutations, observer) {{\n",
       "        var display = window.getComputedStyle(gd).display;\n",
       "        if (!display || display === 'none') {{\n",
       "            console.log([gd, 'removed!']);\n",
       "            Plotly.purge(gd);\n",
       "            observer.disconnect();\n",
       "        }}\n",
       "}});\n",
       "\n",
       "// Listen for the removal of the full notebook cells\n",
       "var notebookContainer = gd.closest('#notebook-container');\n",
       "if (notebookContainer) {{\n",
       "    x.observe(notebookContainer, {childList: true});\n",
       "}}\n",
       "\n",
       "// Listen for the clearing of the current output cell\n",
       "var outputEl = gd.closest('.output');\n",
       "if (outputEl) {{\n",
       "    x.observe(outputEl, {childList: true});\n",
       "}}\n",
       "\n",
       "                        })\n",
       "                };\n",
       "                });\n",
       "            </script>\n",
       "        </div>"
      ]
     },
     "metadata": {},
     "output_type": "display_data"
    },
    {
     "name": "stdout",
     "output_type": "stream",
     "text": [
      "plotting fig ./image/compaction_frequency.pdf finished\n"
     ]
    },
    {
     "data": {
      "application/vnd.plotly.v1+json": {
       "config": {
        "plotlyServerURL": "https://plot.ly"
       },
       "data": [
        {
         "alignmentgroup": "True",
         "hovertemplate": "Storage Media=SATASSD<br>Operation Batch Size=64MB<br>CPU count=8CPU<br>keyrange_count=%{x}<br>overall_compaction_latency=%{y}<extra></extra>",
         "legendgroup": "SATASSD",
         "marker": {
          "color": "#636efa"
         },
         "name": "SATASSD",
         "offsetgroup": "SATASSD",
         "orientation": "v",
         "showlegend": true,
         "textposition": "auto",
         "type": "bar",
         "x": [
          60,
          90,
          15,
          30
         ],
         "xaxis": "x4",
         "y": [
          2800919532,
          4763721548,
          5721609964,
          5875778322
         ],
         "yaxis": "y4"
        },
        {
         "alignmentgroup": "True",
         "hovertemplate": "Storage Media=SATASSD<br>Operation Batch Size=64MB<br>CPU count=16CPU<br>keyrange_count=%{x}<br>overall_compaction_latency=%{y}<extra></extra>",
         "legendgroup": "SATASSD",
         "marker": {
          "color": "#636efa"
         },
         "name": "SATASSD",
         "offsetgroup": "SATASSD",
         "orientation": "v",
         "showlegend": false,
         "textposition": "auto",
         "type": "bar",
         "x": [
          60,
          90,
          15,
          30
         ],
         "xaxis": "x5",
         "y": [
          3517132558,
          5771158964,
          5812055507,
          9980319494
         ],
         "yaxis": "y5"
        },
        {
         "alignmentgroup": "True",
         "hovertemplate": "Storage Media=SATASSD<br>Operation Batch Size=64MB<br>CPU count=32CPU<br>keyrange_count=%{x}<br>overall_compaction_latency=%{y}<extra></extra>",
         "legendgroup": "SATASSD",
         "marker": {
          "color": "#636efa"
         },
         "name": "SATASSD",
         "offsetgroup": "SATASSD",
         "orientation": "v",
         "showlegend": false,
         "textposition": "auto",
         "type": "bar",
         "x": [
          60,
          90,
          15,
          30
         ],
         "xaxis": "x6",
         "y": [
          4321200687,
          5375486983,
          5520312194,
          13464671362
         ],
         "yaxis": "y6"
        },
        {
         "alignmentgroup": "True",
         "hovertemplate": "Storage Media=SATASSD<br>Operation Batch Size=128MB<br>CPU count=8CPU<br>keyrange_count=%{x}<br>overall_compaction_latency=%{y}<extra></extra>",
         "legendgroup": "SATASSD",
         "marker": {
          "color": "#636efa"
         },
         "name": "SATASSD",
         "offsetgroup": "SATASSD",
         "orientation": "v",
         "showlegend": false,
         "textposition": "auto",
         "type": "bar",
         "x": [
          60,
          90,
          15,
          30
         ],
         "xaxis": "x",
         "y": [
          1958294602,
          3157668237,
          3240652656,
          5180661302
         ],
         "yaxis": "y"
        },
        {
         "alignmentgroup": "True",
         "hovertemplate": "Storage Media=SATASSD<br>Operation Batch Size=128MB<br>CPU count=16CPU<br>keyrange_count=%{x}<br>overall_compaction_latency=%{y}<extra></extra>",
         "legendgroup": "SATASSD",
         "marker": {
          "color": "#636efa"
         },
         "name": "SATASSD",
         "offsetgroup": "SATASSD",
         "orientation": "v",
         "showlegend": false,
         "textposition": "auto",
         "type": "bar",
         "x": [
          60,
          90,
          15,
          30
         ],
         "xaxis": "x2",
         "y": [
          2145680253,
          3305379269,
          2367676268,
          5079722310
         ],
         "yaxis": "y2"
        },
        {
         "alignmentgroup": "True",
         "hovertemplate": "Storage Media=SATASSD<br>Operation Batch Size=128MB<br>CPU count=32CPU<br>keyrange_count=%{x}<br>overall_compaction_latency=%{y}<extra></extra>",
         "legendgroup": "SATASSD",
         "marker": {
          "color": "#636efa"
         },
         "name": "SATASSD",
         "offsetgroup": "SATASSD",
         "orientation": "v",
         "showlegend": false,
         "textposition": "auto",
         "type": "bar",
         "x": [
          60,
          90,
          15,
          30
         ],
         "xaxis": "x3",
         "y": [
          2717561387,
          3186551084,
          3085906679,
          6330339340
         ],
         "yaxis": "y3"
        },
        {
         "alignmentgroup": "True",
         "hovertemplate": "Storage Media=SATAHDD<br>Operation Batch Size=64MB<br>CPU count=8CPU<br>keyrange_count=%{x}<br>overall_compaction_latency=%{y}<extra></extra>",
         "legendgroup": "SATAHDD",
         "marker": {
          "color": "#EF553B"
         },
         "name": "SATAHDD",
         "offsetgroup": "SATAHDD",
         "orientation": "v",
         "showlegend": true,
         "textposition": "auto",
         "type": "bar",
         "x": [
          60,
          90,
          15,
          30
         ],
         "xaxis": "x4",
         "y": [
          5819931593,
          7599584575,
          9842129391,
          14116079461
         ],
         "yaxis": "y4"
        },
        {
         "alignmentgroup": "True",
         "hovertemplate": "Storage Media=SATAHDD<br>Operation Batch Size=64MB<br>CPU count=16CPU<br>keyrange_count=%{x}<br>overall_compaction_latency=%{y}<extra></extra>",
         "legendgroup": "SATAHDD",
         "marker": {
          "color": "#EF553B"
         },
         "name": "SATAHDD",
         "offsetgroup": "SATAHDD",
         "orientation": "v",
         "showlegend": false,
         "textposition": "auto",
         "type": "bar",
         "x": [
          60,
          90,
          15,
          30
         ],
         "xaxis": "x5",
         "y": [
          6225241324,
          9176179799,
          7874567101,
          22873028438
         ],
         "yaxis": "y5"
        },
        {
         "alignmentgroup": "True",
         "hovertemplate": "Storage Media=SATAHDD<br>Operation Batch Size=64MB<br>CPU count=32CPU<br>keyrange_count=%{x}<br>overall_compaction_latency=%{y}<extra></extra>",
         "legendgroup": "SATAHDD",
         "marker": {
          "color": "#EF553B"
         },
         "name": "SATAHDD",
         "offsetgroup": "SATAHDD",
         "orientation": "v",
         "showlegend": false,
         "textposition": "auto",
         "type": "bar",
         "x": [
          60,
          90,
          15,
          30
         ],
         "xaxis": "x6",
         "y": [
          9532678554,
          11794435933,
          8159332234,
          27315052051
         ],
         "yaxis": "y6"
        },
        {
         "alignmentgroup": "True",
         "hovertemplate": "Storage Media=SATAHDD<br>Operation Batch Size=128MB<br>CPU count=8CPU<br>keyrange_count=%{x}<br>overall_compaction_latency=%{y}<extra></extra>",
         "legendgroup": "SATAHDD",
         "marker": {
          "color": "#EF553B"
         },
         "name": "SATAHDD",
         "offsetgroup": "SATAHDD",
         "orientation": "v",
         "showlegend": false,
         "textposition": "auto",
         "type": "bar",
         "x": [
          60,
          90,
          15,
          30
         ],
         "xaxis": "x",
         "y": [
          4267006826,
          4753234174,
          4856484587,
          11971837063
         ],
         "yaxis": "y"
        },
        {
         "alignmentgroup": "True",
         "hovertemplate": "Storage Media=SATAHDD<br>Operation Batch Size=128MB<br>CPU count=16CPU<br>keyrange_count=%{x}<br>overall_compaction_latency=%{y}<extra></extra>",
         "legendgroup": "SATAHDD",
         "marker": {
          "color": "#EF553B"
         },
         "name": "SATAHDD",
         "offsetgroup": "SATAHDD",
         "orientation": "v",
         "showlegend": false,
         "textposition": "auto",
         "type": "bar",
         "x": [
          60,
          90,
          15,
          30
         ],
         "xaxis": "x2",
         "y": [
          5295522615,
          6941689518,
          5144934411,
          15750909678
         ],
         "yaxis": "y2"
        },
        {
         "alignmentgroup": "True",
         "hovertemplate": "Storage Media=SATAHDD<br>Operation Batch Size=128MB<br>CPU count=32CPU<br>keyrange_count=%{x}<br>overall_compaction_latency=%{y}<extra></extra>",
         "legendgroup": "SATAHDD",
         "marker": {
          "color": "#EF553B"
         },
         "name": "SATAHDD",
         "offsetgroup": "SATAHDD",
         "orientation": "v",
         "showlegend": false,
         "textposition": "auto",
         "type": "bar",
         "x": [
          60,
          90,
          15,
          30
         ],
         "xaxis": "x3",
         "y": [
          5971250211,
          7869451777,
          5725482848,
          14376963198
         ],
         "yaxis": "y3"
        },
        {
         "alignmentgroup": "True",
         "hovertemplate": "Storage Media=NVMeSSD<br>Operation Batch Size=64MB<br>CPU count=8CPU<br>keyrange_count=%{x}<br>overall_compaction_latency=%{y}<extra></extra>",
         "legendgroup": "NVMeSSD",
         "marker": {
          "color": "#00cc96"
         },
         "name": "NVMeSSD",
         "offsetgroup": "NVMeSSD",
         "orientation": "v",
         "showlegend": true,
         "textposition": "auto",
         "type": "bar",
         "x": [
          60,
          90,
          15,
          30
         ],
         "xaxis": "x4",
         "y": [
          1305105489,
          1662599833,
          1854774651,
          2329940015
         ],
         "yaxis": "y4"
        },
        {
         "alignmentgroup": "True",
         "hovertemplate": "Storage Media=NVMeSSD<br>Operation Batch Size=64MB<br>CPU count=16CPU<br>keyrange_count=%{x}<br>overall_compaction_latency=%{y}<extra></extra>",
         "legendgroup": "NVMeSSD",
         "marker": {
          "color": "#00cc96"
         },
         "name": "NVMeSSD",
         "offsetgroup": "NVMeSSD",
         "orientation": "v",
         "showlegend": false,
         "textposition": "auto",
         "type": "bar",
         "x": [
          60,
          90,
          15,
          30
         ],
         "xaxis": "x5",
         "y": [
          1314820299,
          1778602755,
          1944917843,
          2503597547
         ],
         "yaxis": "y5"
        },
        {
         "alignmentgroup": "True",
         "hovertemplate": "Storage Media=NVMeSSD<br>Operation Batch Size=64MB<br>CPU count=32CPU<br>keyrange_count=%{x}<br>overall_compaction_latency=%{y}<extra></extra>",
         "legendgroup": "NVMeSSD",
         "marker": {
          "color": "#00cc96"
         },
         "name": "NVMeSSD",
         "offsetgroup": "NVMeSSD",
         "orientation": "v",
         "showlegend": false,
         "textposition": "auto",
         "type": "bar",
         "x": [
          60,
          90,
          15,
          30
         ],
         "xaxis": "x6",
         "y": [
          1439695721,
          1844533525,
          1930263638,
          3020082820
         ],
         "yaxis": "y6"
        },
        {
         "alignmentgroup": "True",
         "hovertemplate": "Storage Media=NVMeSSD<br>Operation Batch Size=128MB<br>CPU count=8CPU<br>keyrange_count=%{x}<br>overall_compaction_latency=%{y}<extra></extra>",
         "legendgroup": "NVMeSSD",
         "marker": {
          "color": "#00cc96"
         },
         "name": "NVMeSSD",
         "offsetgroup": "NVMeSSD",
         "orientation": "v",
         "showlegend": false,
         "textposition": "auto",
         "type": "bar",
         "x": [
          60,
          90,
          15,
          30
         ],
         "xaxis": "x",
         "y": [
          1160379238,
          1248834852,
          1268634578,
          1827168332
         ],
         "yaxis": "y"
        },
        {
         "alignmentgroup": "True",
         "hovertemplate": "Storage Media=NVMeSSD<br>Operation Batch Size=128MB<br>CPU count=16CPU<br>keyrange_count=%{x}<br>overall_compaction_latency=%{y}<extra></extra>",
         "legendgroup": "NVMeSSD",
         "marker": {
          "color": "#00cc96"
         },
         "name": "NVMeSSD",
         "offsetgroup": "NVMeSSD",
         "orientation": "v",
         "showlegend": false,
         "textposition": "auto",
         "type": "bar",
         "x": [
          60,
          90,
          15,
          30
         ],
         "xaxis": "x2",
         "y": [
          1168296823,
          1264830610,
          1276747930,
          2273342584
         ],
         "yaxis": "y2"
        },
        {
         "alignmentgroup": "True",
         "hovertemplate": "Storage Media=NVMeSSD<br>Operation Batch Size=128MB<br>CPU count=32CPU<br>keyrange_count=%{x}<br>overall_compaction_latency=%{y}<extra></extra>",
         "legendgroup": "NVMeSSD",
         "marker": {
          "color": "#00cc96"
         },
         "name": "NVMeSSD",
         "offsetgroup": "NVMeSSD",
         "orientation": "v",
         "showlegend": false,
         "textposition": "auto",
         "type": "bar",
         "x": [
          60,
          90,
          15,
          30
         ],
         "xaxis": "x3",
         "y": [
          1220030956,
          1294475642,
          1282695914,
          2520477609
         ],
         "yaxis": "y3"
        },
        {
         "alignmentgroup": "True",
         "hovertemplate": "Storage Media=PM<br>Operation Batch Size=64MB<br>CPU count=8CPU<br>keyrange_count=%{x}<br>overall_compaction_latency=%{y}<extra></extra>",
         "legendgroup": "PM",
         "marker": {
          "color": "#ab63fa"
         },
         "name": "PM",
         "offsetgroup": "PM",
         "orientation": "v",
         "showlegend": true,
         "textposition": "auto",
         "type": "bar",
         "x": [
          60,
          90,
          15,
          30
         ],
         "xaxis": "x4",
         "y": [
          1955222025,
          4858091400,
          5450846700,
          6841468041
         ],
         "yaxis": "y4"
        },
        {
         "alignmentgroup": "True",
         "hovertemplate": "Storage Media=PM<br>Operation Batch Size=64MB<br>CPU count=16CPU<br>keyrange_count=%{x}<br>overall_compaction_latency=%{y}<extra></extra>",
         "legendgroup": "PM",
         "marker": {
          "color": "#ab63fa"
         },
         "name": "PM",
         "offsetgroup": "PM",
         "orientation": "v",
         "showlegend": false,
         "textposition": "auto",
         "type": "bar",
         "x": [
          60,
          90,
          15,
          30
         ],
         "xaxis": "x5",
         "y": [
          1970969784,
          4745520546,
          5294863974,
          12516316242
         ],
         "yaxis": "y5"
        },
        {
         "alignmentgroup": "True",
         "hovertemplate": "Storage Media=PM<br>Operation Batch Size=64MB<br>CPU count=32CPU<br>keyrange_count=%{x}<br>overall_compaction_latency=%{y}<extra></extra>",
         "legendgroup": "PM",
         "marker": {
          "color": "#ab63fa"
         },
         "name": "PM",
         "offsetgroup": "PM",
         "orientation": "v",
         "showlegend": false,
         "textposition": "auto",
         "type": "bar",
         "x": [
          60,
          90,
          15,
          30
         ],
         "xaxis": "x6",
         "y": [
          2109833310,
          4576042690,
          6080572858,
          14510002957
         ],
         "yaxis": "y6"
        },
        {
         "alignmentgroup": "True",
         "hovertemplate": "Storage Media=PM<br>Operation Batch Size=128MB<br>CPU count=8CPU<br>keyrange_count=%{x}<br>overall_compaction_latency=%{y}<extra></extra>",
         "legendgroup": "PM",
         "marker": {
          "color": "#ab63fa"
         },
         "name": "PM",
         "offsetgroup": "PM",
         "orientation": "v",
         "showlegend": false,
         "textposition": "auto",
         "type": "bar",
         "x": [
          60,
          90,
          15,
          30
         ],
         "xaxis": "x",
         "y": [
          1553053392,
          2491840963,
          2926947750,
          5615222149
         ],
         "yaxis": "y"
        },
        {
         "alignmentgroup": "True",
         "hovertemplate": "Storage Media=PM<br>Operation Batch Size=128MB<br>CPU count=16CPU<br>keyrange_count=%{x}<br>overall_compaction_latency=%{y}<extra></extra>",
         "legendgroup": "PM",
         "marker": {
          "color": "#ab63fa"
         },
         "name": "PM",
         "offsetgroup": "PM",
         "orientation": "v",
         "showlegend": false,
         "textposition": "auto",
         "type": "bar",
         "x": [
          60,
          90,
          15,
          30
         ],
         "xaxis": "x2",
         "y": [
          1536194384,
          2570636478,
          2756334042,
          6604022660
         ],
         "yaxis": "y2"
        },
        {
         "alignmentgroup": "True",
         "hovertemplate": "Storage Media=PM<br>Operation Batch Size=128MB<br>CPU count=32CPU<br>keyrange_count=%{x}<br>overall_compaction_latency=%{y}<extra></extra>",
         "legendgroup": "PM",
         "marker": {
          "color": "#ab63fa"
         },
         "name": "PM",
         "offsetgroup": "PM",
         "orientation": "v",
         "showlegend": false,
         "textposition": "auto",
         "type": "bar",
         "x": [
          60,
          90,
          15,
          30
         ],
         "xaxis": "x3",
         "y": [
          2339756746,
          2856336185,
          3016796384,
          6626825316
         ],
         "yaxis": "y3"
        }
       ],
       "layout": {
        "annotations": [
         {
          "font": {},
          "showarrow": false,
          "text": "CPU count=8CPU",
          "x": 0.15666666666666665,
          "xanchor": "center",
          "xref": "paper",
          "y": 1,
          "yanchor": "bottom",
          "yref": "paper"
         },
         {
          "font": {},
          "showarrow": false,
          "text": "CPU count=16CPU",
          "x": 0.49,
          "xanchor": "center",
          "xref": "paper",
          "y": 1,
          "yanchor": "bottom",
          "yref": "paper"
         },
         {
          "font": {},
          "showarrow": false,
          "text": "CPU count=32CPU",
          "x": 0.8233333333333333,
          "xanchor": "center",
          "xref": "paper",
          "y": 1,
          "yanchor": "bottom",
          "yref": "paper"
         },
         {
          "font": {},
          "showarrow": false,
          "text": "Operation Batch Size=128MB",
          "textangle": 90,
          "x": 0.98,
          "xanchor": "left",
          "xref": "paper",
          "y": 0.2425,
          "yanchor": "middle",
          "yref": "paper"
         },
         {
          "font": {},
          "showarrow": false,
          "text": "Operation Batch Size=64MB",
          "textangle": 90,
          "x": 0.98,
          "xanchor": "left",
          "xref": "paper",
          "y": 0.7575000000000001,
          "yanchor": "middle",
          "yref": "paper"
         }
        ],
        "autosize": false,
        "barmode": "group",
        "font": {
         "size": 20
        },
        "height": 900,
        "legend": {
         "title": {
          "text": "Storage Media"
         },
         "tracegroupgap": 0
        },
        "margin": {
         "t": 60
        },
        "template": {
         "data": {
          "bar": [
           {
            "error_x": {
             "color": "#2a3f5f"
            },
            "error_y": {
             "color": "#2a3f5f"
            },
            "marker": {
             "line": {
              "color": "#E5ECF6",
              "width": 0.5
             }
            },
            "type": "bar"
           }
          ],
          "barpolar": [
           {
            "marker": {
             "line": {
              "color": "#E5ECF6",
              "width": 0.5
             }
            },
            "type": "barpolar"
           }
          ],
          "carpet": [
           {
            "aaxis": {
             "endlinecolor": "#2a3f5f",
             "gridcolor": "white",
             "linecolor": "white",
             "minorgridcolor": "white",
             "startlinecolor": "#2a3f5f"
            },
            "baxis": {
             "endlinecolor": "#2a3f5f",
             "gridcolor": "white",
             "linecolor": "white",
             "minorgridcolor": "white",
             "startlinecolor": "#2a3f5f"
            },
            "type": "carpet"
           }
          ],
          "choropleth": [
           {
            "colorbar": {
             "outlinewidth": 0,
             "ticks": ""
            },
            "type": "choropleth"
           }
          ],
          "contour": [
           {
            "colorbar": {
             "outlinewidth": 0,
             "ticks": ""
            },
            "colorscale": [
             [
              0,
              "#0d0887"
             ],
             [
              0.1111111111111111,
              "#46039f"
             ],
             [
              0.2222222222222222,
              "#7201a8"
             ],
             [
              0.3333333333333333,
              "#9c179e"
             ],
             [
              0.4444444444444444,
              "#bd3786"
             ],
             [
              0.5555555555555556,
              "#d8576b"
             ],
             [
              0.6666666666666666,
              "#ed7953"
             ],
             [
              0.7777777777777778,
              "#fb9f3a"
             ],
             [
              0.8888888888888888,
              "#fdca26"
             ],
             [
              1,
              "#f0f921"
             ]
            ],
            "type": "contour"
           }
          ],
          "contourcarpet": [
           {
            "colorbar": {
             "outlinewidth": 0,
             "ticks": ""
            },
            "type": "contourcarpet"
           }
          ],
          "heatmap": [
           {
            "colorbar": {
             "outlinewidth": 0,
             "ticks": ""
            },
            "colorscale": [
             [
              0,
              "#0d0887"
             ],
             [
              0.1111111111111111,
              "#46039f"
             ],
             [
              0.2222222222222222,
              "#7201a8"
             ],
             [
              0.3333333333333333,
              "#9c179e"
             ],
             [
              0.4444444444444444,
              "#bd3786"
             ],
             [
              0.5555555555555556,
              "#d8576b"
             ],
             [
              0.6666666666666666,
              "#ed7953"
             ],
             [
              0.7777777777777778,
              "#fb9f3a"
             ],
             [
              0.8888888888888888,
              "#fdca26"
             ],
             [
              1,
              "#f0f921"
             ]
            ],
            "type": "heatmap"
           }
          ],
          "heatmapgl": [
           {
            "colorbar": {
             "outlinewidth": 0,
             "ticks": ""
            },
            "colorscale": [
             [
              0,
              "#0d0887"
             ],
             [
              0.1111111111111111,
              "#46039f"
             ],
             [
              0.2222222222222222,
              "#7201a8"
             ],
             [
              0.3333333333333333,
              "#9c179e"
             ],
             [
              0.4444444444444444,
              "#bd3786"
             ],
             [
              0.5555555555555556,
              "#d8576b"
             ],
             [
              0.6666666666666666,
              "#ed7953"
             ],
             [
              0.7777777777777778,
              "#fb9f3a"
             ],
             [
              0.8888888888888888,
              "#fdca26"
             ],
             [
              1,
              "#f0f921"
             ]
            ],
            "type": "heatmapgl"
           }
          ],
          "histogram": [
           {
            "marker": {
             "colorbar": {
              "outlinewidth": 0,
              "ticks": ""
             }
            },
            "type": "histogram"
           }
          ],
          "histogram2d": [
           {
            "colorbar": {
             "outlinewidth": 0,
             "ticks": ""
            },
            "colorscale": [
             [
              0,
              "#0d0887"
             ],
             [
              0.1111111111111111,
              "#46039f"
             ],
             [
              0.2222222222222222,
              "#7201a8"
             ],
             [
              0.3333333333333333,
              "#9c179e"
             ],
             [
              0.4444444444444444,
              "#bd3786"
             ],
             [
              0.5555555555555556,
              "#d8576b"
             ],
             [
              0.6666666666666666,
              "#ed7953"
             ],
             [
              0.7777777777777778,
              "#fb9f3a"
             ],
             [
              0.8888888888888888,
              "#fdca26"
             ],
             [
              1,
              "#f0f921"
             ]
            ],
            "type": "histogram2d"
           }
          ],
          "histogram2dcontour": [
           {
            "colorbar": {
             "outlinewidth": 0,
             "ticks": ""
            },
            "colorscale": [
             [
              0,
              "#0d0887"
             ],
             [
              0.1111111111111111,
              "#46039f"
             ],
             [
              0.2222222222222222,
              "#7201a8"
             ],
             [
              0.3333333333333333,
              "#9c179e"
             ],
             [
              0.4444444444444444,
              "#bd3786"
             ],
             [
              0.5555555555555556,
              "#d8576b"
             ],
             [
              0.6666666666666666,
              "#ed7953"
             ],
             [
              0.7777777777777778,
              "#fb9f3a"
             ],
             [
              0.8888888888888888,
              "#fdca26"
             ],
             [
              1,
              "#f0f921"
             ]
            ],
            "type": "histogram2dcontour"
           }
          ],
          "mesh3d": [
           {
            "colorbar": {
             "outlinewidth": 0,
             "ticks": ""
            },
            "type": "mesh3d"
           }
          ],
          "parcoords": [
           {
            "line": {
             "colorbar": {
              "outlinewidth": 0,
              "ticks": ""
             }
            },
            "type": "parcoords"
           }
          ],
          "pie": [
           {
            "automargin": true,
            "type": "pie"
           }
          ],
          "scatter": [
           {
            "marker": {
             "colorbar": {
              "outlinewidth": 0,
              "ticks": ""
             }
            },
            "type": "scatter"
           }
          ],
          "scatter3d": [
           {
            "line": {
             "colorbar": {
              "outlinewidth": 0,
              "ticks": ""
             }
            },
            "marker": {
             "colorbar": {
              "outlinewidth": 0,
              "ticks": ""
             }
            },
            "type": "scatter3d"
           }
          ],
          "scattercarpet": [
           {
            "marker": {
             "colorbar": {
              "outlinewidth": 0,
              "ticks": ""
             }
            },
            "type": "scattercarpet"
           }
          ],
          "scattergeo": [
           {
            "marker": {
             "colorbar": {
              "outlinewidth": 0,
              "ticks": ""
             }
            },
            "type": "scattergeo"
           }
          ],
          "scattergl": [
           {
            "marker": {
             "colorbar": {
              "outlinewidth": 0,
              "ticks": ""
             }
            },
            "type": "scattergl"
           }
          ],
          "scattermapbox": [
           {
            "marker": {
             "colorbar": {
              "outlinewidth": 0,
              "ticks": ""
             }
            },
            "type": "scattermapbox"
           }
          ],
          "scatterpolar": [
           {
            "marker": {
             "colorbar": {
              "outlinewidth": 0,
              "ticks": ""
             }
            },
            "type": "scatterpolar"
           }
          ],
          "scatterpolargl": [
           {
            "marker": {
             "colorbar": {
              "outlinewidth": 0,
              "ticks": ""
             }
            },
            "type": "scatterpolargl"
           }
          ],
          "scatterternary": [
           {
            "marker": {
             "colorbar": {
              "outlinewidth": 0,
              "ticks": ""
             }
            },
            "type": "scatterternary"
           }
          ],
          "surface": [
           {
            "colorbar": {
             "outlinewidth": 0,
             "ticks": ""
            },
            "colorscale": [
             [
              0,
              "#0d0887"
             ],
             [
              0.1111111111111111,
              "#46039f"
             ],
             [
              0.2222222222222222,
              "#7201a8"
             ],
             [
              0.3333333333333333,
              "#9c179e"
             ],
             [
              0.4444444444444444,
              "#bd3786"
             ],
             [
              0.5555555555555556,
              "#d8576b"
             ],
             [
              0.6666666666666666,
              "#ed7953"
             ],
             [
              0.7777777777777778,
              "#fb9f3a"
             ],
             [
              0.8888888888888888,
              "#fdca26"
             ],
             [
              1,
              "#f0f921"
             ]
            ],
            "type": "surface"
           }
          ],
          "table": [
           {
            "cells": {
             "fill": {
              "color": "#EBF0F8"
             },
             "line": {
              "color": "white"
             }
            },
            "header": {
             "fill": {
              "color": "#C8D4E3"
             },
             "line": {
              "color": "white"
             }
            },
            "type": "table"
           }
          ]
         },
         "layout": {
          "annotationdefaults": {
           "arrowcolor": "#2a3f5f",
           "arrowhead": 0,
           "arrowwidth": 1
          },
          "coloraxis": {
           "colorbar": {
            "outlinewidth": 0,
            "ticks": ""
           }
          },
          "colorscale": {
           "diverging": [
            [
             0,
             "#8e0152"
            ],
            [
             0.1,
             "#c51b7d"
            ],
            [
             0.2,
             "#de77ae"
            ],
            [
             0.3,
             "#f1b6da"
            ],
            [
             0.4,
             "#fde0ef"
            ],
            [
             0.5,
             "#f7f7f7"
            ],
            [
             0.6,
             "#e6f5d0"
            ],
            [
             0.7,
             "#b8e186"
            ],
            [
             0.8,
             "#7fbc41"
            ],
            [
             0.9,
             "#4d9221"
            ],
            [
             1,
             "#276419"
            ]
           ],
           "sequential": [
            [
             0,
             "#0d0887"
            ],
            [
             0.1111111111111111,
             "#46039f"
            ],
            [
             0.2222222222222222,
             "#7201a8"
            ],
            [
             0.3333333333333333,
             "#9c179e"
            ],
            [
             0.4444444444444444,
             "#bd3786"
            ],
            [
             0.5555555555555556,
             "#d8576b"
            ],
            [
             0.6666666666666666,
             "#ed7953"
            ],
            [
             0.7777777777777778,
             "#fb9f3a"
            ],
            [
             0.8888888888888888,
             "#fdca26"
            ],
            [
             1,
             "#f0f921"
            ]
           ],
           "sequentialminus": [
            [
             0,
             "#0d0887"
            ],
            [
             0.1111111111111111,
             "#46039f"
            ],
            [
             0.2222222222222222,
             "#7201a8"
            ],
            [
             0.3333333333333333,
             "#9c179e"
            ],
            [
             0.4444444444444444,
             "#bd3786"
            ],
            [
             0.5555555555555556,
             "#d8576b"
            ],
            [
             0.6666666666666666,
             "#ed7953"
            ],
            [
             0.7777777777777778,
             "#fb9f3a"
            ],
            [
             0.8888888888888888,
             "#fdca26"
            ],
            [
             1,
             "#f0f921"
            ]
           ]
          },
          "colorway": [
           "#636efa",
           "#EF553B",
           "#00cc96",
           "#ab63fa",
           "#FFA15A",
           "#19d3f3",
           "#FF6692",
           "#B6E880",
           "#FF97FF",
           "#FECB52"
          ],
          "font": {
           "color": "#2a3f5f"
          },
          "geo": {
           "bgcolor": "white",
           "lakecolor": "white",
           "landcolor": "#E5ECF6",
           "showlakes": true,
           "showland": true,
           "subunitcolor": "white"
          },
          "hoverlabel": {
           "align": "left"
          },
          "hovermode": "closest",
          "mapbox": {
           "style": "light"
          },
          "paper_bgcolor": "white",
          "plot_bgcolor": "#E5ECF6",
          "polar": {
           "angularaxis": {
            "gridcolor": "white",
            "linecolor": "white",
            "ticks": ""
           },
           "bgcolor": "#E5ECF6",
           "radialaxis": {
            "gridcolor": "white",
            "linecolor": "white",
            "ticks": ""
           }
          },
          "scene": {
           "xaxis": {
            "backgroundcolor": "#E5ECF6",
            "gridcolor": "white",
            "gridwidth": 2,
            "linecolor": "white",
            "showbackground": true,
            "ticks": "",
            "zerolinecolor": "white"
           },
           "yaxis": {
            "backgroundcolor": "#E5ECF6",
            "gridcolor": "white",
            "gridwidth": 2,
            "linecolor": "white",
            "showbackground": true,
            "ticks": "",
            "zerolinecolor": "white"
           },
           "zaxis": {
            "backgroundcolor": "#E5ECF6",
            "gridcolor": "white",
            "gridwidth": 2,
            "linecolor": "white",
            "showbackground": true,
            "ticks": "",
            "zerolinecolor": "white"
           }
          },
          "shapedefaults": {
           "line": {
            "color": "#2a3f5f"
           }
          },
          "ternary": {
           "aaxis": {
            "gridcolor": "white",
            "linecolor": "white",
            "ticks": ""
           },
           "baxis": {
            "gridcolor": "white",
            "linecolor": "white",
            "ticks": ""
           },
           "bgcolor": "#E5ECF6",
           "caxis": {
            "gridcolor": "white",
            "linecolor": "white",
            "ticks": ""
           }
          },
          "title": {
           "x": 0.05
          },
          "xaxis": {
           "automargin": true,
           "gridcolor": "white",
           "linecolor": "white",
           "ticks": "",
           "title": {
            "standoff": 15
           },
           "zerolinecolor": "white",
           "zerolinewidth": 2
          },
          "yaxis": {
           "automargin": true,
           "gridcolor": "white",
           "linecolor": "white",
           "ticks": "",
           "title": {
            "standoff": 15
           },
           "zerolinecolor": "white",
           "zerolinewidth": 2
          }
         }
        },
        "width": 1600,
        "xaxis": {
         "anchor": "y",
         "domain": [
          0,
          0.3133333333333333
         ],
         "showgrid": false,
         "title": {
          "text": "keyrange_count"
         }
        },
        "xaxis2": {
         "anchor": "y2",
         "domain": [
          0.3333333333333333,
          0.6466666666666666
         ],
         "matches": "x",
         "showgrid": false,
         "title": {
          "text": "keyrange_count"
         }
        },
        "xaxis3": {
         "anchor": "y3",
         "domain": [
          0.6666666666666666,
          0.98
         ],
         "matches": "x",
         "showgrid": false,
         "title": {
          "text": "keyrange_count"
         }
        },
        "xaxis4": {
         "anchor": "y4",
         "domain": [
          0,
          0.3133333333333333
         ],
         "matches": "x",
         "showgrid": false,
         "showticklabels": false
        },
        "xaxis5": {
         "anchor": "y5",
         "domain": [
          0.3333333333333333,
          0.6466666666666666
         ],
         "matches": "x",
         "showgrid": false,
         "showticklabels": false
        },
        "xaxis6": {
         "anchor": "y6",
         "domain": [
          0.6666666666666666,
          0.98
         ],
         "matches": "x",
         "showgrid": false,
         "showticklabels": false
        },
        "yaxis": {
         "anchor": "x",
         "automargin": true,
         "domain": [
          0,
          0.485
         ],
         "title": {
          "text": "overall_compaction_latency"
         }
        },
        "yaxis2": {
         "anchor": "x2",
         "automargin": true,
         "domain": [
          0,
          0.485
         ],
         "matches": "y",
         "showticklabels": false
        },
        "yaxis3": {
         "anchor": "x3",
         "automargin": true,
         "domain": [
          0,
          0.485
         ],
         "matches": "y",
         "showticklabels": false
        },
        "yaxis4": {
         "anchor": "x4",
         "automargin": true,
         "domain": [
          0.515,
          1
         ],
         "matches": "y",
         "title": {
          "text": "overall_compaction_latency"
         }
        },
        "yaxis5": {
         "anchor": "x5",
         "automargin": true,
         "domain": [
          0.515,
          1
         ],
         "matches": "y",
         "showticklabels": false
        },
        "yaxis6": {
         "anchor": "x6",
         "automargin": true,
         "domain": [
          0.515,
          1
         ],
         "matches": "y",
         "showticklabels": false
        }
       }
      },
      "text/html": [
       "<div>\n",
       "        \n",
       "        \n",
       "            <div id=\"274276c3-e70b-4db4-8ee2-a62c31738cd2\" class=\"plotly-graph-div\" style=\"height:900px; width:1600px;\"></div>\n",
       "            <script type=\"text/javascript\">\n",
       "                require([\"plotly\"], function(Plotly) {\n",
       "                    window.PLOTLYENV=window.PLOTLYENV || {};\n",
       "                    \n",
       "                if (document.getElementById(\"274276c3-e70b-4db4-8ee2-a62c31738cd2\")) {\n",
       "                    Plotly.newPlot(\n",
       "                        '274276c3-e70b-4db4-8ee2-a62c31738cd2',\n",
       "                        [{\"alignmentgroup\": \"True\", \"hovertemplate\": \"Storage Media=SATASSD<br>Operation Batch Size=64MB<br>CPU count=8CPU<br>keyrange_count=%{x}<br>overall_compaction_latency=%{y}<extra></extra>\", \"legendgroup\": \"SATASSD\", \"marker\": {\"color\": \"#636efa\"}, \"name\": \"SATASSD\", \"offsetgroup\": \"SATASSD\", \"orientation\": \"v\", \"showlegend\": true, \"textposition\": \"auto\", \"type\": \"bar\", \"x\": [60, 90, 15, 30], \"xaxis\": \"x4\", \"y\": [2800919532, 4763721548, 5721609964, 5875778322], \"yaxis\": \"y4\"}, {\"alignmentgroup\": \"True\", \"hovertemplate\": \"Storage Media=SATASSD<br>Operation Batch Size=64MB<br>CPU count=16CPU<br>keyrange_count=%{x}<br>overall_compaction_latency=%{y}<extra></extra>\", \"legendgroup\": \"SATASSD\", \"marker\": {\"color\": \"#636efa\"}, \"name\": \"SATASSD\", \"offsetgroup\": \"SATASSD\", \"orientation\": \"v\", \"showlegend\": false, \"textposition\": \"auto\", \"type\": \"bar\", \"x\": [60, 90, 15, 30], \"xaxis\": \"x5\", \"y\": [3517132558, 5771158964, 5812055507, 9980319494], \"yaxis\": \"y5\"}, {\"alignmentgroup\": \"True\", \"hovertemplate\": \"Storage Media=SATASSD<br>Operation Batch Size=64MB<br>CPU count=32CPU<br>keyrange_count=%{x}<br>overall_compaction_latency=%{y}<extra></extra>\", \"legendgroup\": \"SATASSD\", \"marker\": {\"color\": \"#636efa\"}, \"name\": \"SATASSD\", \"offsetgroup\": \"SATASSD\", \"orientation\": \"v\", \"showlegend\": false, \"textposition\": \"auto\", \"type\": \"bar\", \"x\": [60, 90, 15, 30], \"xaxis\": \"x6\", \"y\": [4321200687, 5375486983, 5520312194, 13464671362], \"yaxis\": \"y6\"}, {\"alignmentgroup\": \"True\", \"hovertemplate\": \"Storage Media=SATASSD<br>Operation Batch Size=128MB<br>CPU count=8CPU<br>keyrange_count=%{x}<br>overall_compaction_latency=%{y}<extra></extra>\", \"legendgroup\": \"SATASSD\", \"marker\": {\"color\": \"#636efa\"}, \"name\": \"SATASSD\", \"offsetgroup\": \"SATASSD\", \"orientation\": \"v\", \"showlegend\": false, \"textposition\": \"auto\", \"type\": \"bar\", \"x\": [60, 90, 15, 30], \"xaxis\": \"x\", \"y\": [1958294602, 3157668237, 3240652656, 5180661302], \"yaxis\": \"y\"}, {\"alignmentgroup\": \"True\", \"hovertemplate\": \"Storage Media=SATASSD<br>Operation Batch Size=128MB<br>CPU count=16CPU<br>keyrange_count=%{x}<br>overall_compaction_latency=%{y}<extra></extra>\", \"legendgroup\": \"SATASSD\", \"marker\": {\"color\": \"#636efa\"}, \"name\": \"SATASSD\", \"offsetgroup\": \"SATASSD\", \"orientation\": \"v\", \"showlegend\": false, \"textposition\": \"auto\", \"type\": \"bar\", \"x\": [60, 90, 15, 30], \"xaxis\": \"x2\", \"y\": [2145680253, 3305379269, 2367676268, 5079722310], \"yaxis\": \"y2\"}, {\"alignmentgroup\": \"True\", \"hovertemplate\": \"Storage Media=SATASSD<br>Operation Batch Size=128MB<br>CPU count=32CPU<br>keyrange_count=%{x}<br>overall_compaction_latency=%{y}<extra></extra>\", \"legendgroup\": \"SATASSD\", \"marker\": {\"color\": \"#636efa\"}, \"name\": \"SATASSD\", \"offsetgroup\": \"SATASSD\", \"orientation\": \"v\", \"showlegend\": false, \"textposition\": \"auto\", \"type\": \"bar\", \"x\": [60, 90, 15, 30], \"xaxis\": \"x3\", \"y\": [2717561387, 3186551084, 3085906679, 6330339340], \"yaxis\": \"y3\"}, {\"alignmentgroup\": \"True\", \"hovertemplate\": \"Storage Media=SATAHDD<br>Operation Batch Size=64MB<br>CPU count=8CPU<br>keyrange_count=%{x}<br>overall_compaction_latency=%{y}<extra></extra>\", \"legendgroup\": \"SATAHDD\", \"marker\": {\"color\": \"#EF553B\"}, \"name\": \"SATAHDD\", \"offsetgroup\": \"SATAHDD\", \"orientation\": \"v\", \"showlegend\": true, \"textposition\": \"auto\", \"type\": \"bar\", \"x\": [60, 90, 15, 30], \"xaxis\": \"x4\", \"y\": [5819931593, 7599584575, 9842129391, 14116079461], \"yaxis\": \"y4\"}, {\"alignmentgroup\": \"True\", \"hovertemplate\": \"Storage Media=SATAHDD<br>Operation Batch Size=64MB<br>CPU count=16CPU<br>keyrange_count=%{x}<br>overall_compaction_latency=%{y}<extra></extra>\", \"legendgroup\": \"SATAHDD\", \"marker\": {\"color\": \"#EF553B\"}, \"name\": \"SATAHDD\", \"offsetgroup\": \"SATAHDD\", \"orientation\": \"v\", \"showlegend\": false, \"textposition\": \"auto\", \"type\": \"bar\", \"x\": [60, 90, 15, 30], \"xaxis\": \"x5\", \"y\": [6225241324, 9176179799, 7874567101, 22873028438], \"yaxis\": \"y5\"}, {\"alignmentgroup\": \"True\", \"hovertemplate\": \"Storage Media=SATAHDD<br>Operation Batch Size=64MB<br>CPU count=32CPU<br>keyrange_count=%{x}<br>overall_compaction_latency=%{y}<extra></extra>\", \"legendgroup\": \"SATAHDD\", \"marker\": {\"color\": \"#EF553B\"}, \"name\": \"SATAHDD\", \"offsetgroup\": \"SATAHDD\", \"orientation\": \"v\", \"showlegend\": false, \"textposition\": \"auto\", \"type\": \"bar\", \"x\": [60, 90, 15, 30], \"xaxis\": \"x6\", \"y\": [9532678554, 11794435933, 8159332234, 27315052051], \"yaxis\": \"y6\"}, {\"alignmentgroup\": \"True\", \"hovertemplate\": \"Storage Media=SATAHDD<br>Operation Batch Size=128MB<br>CPU count=8CPU<br>keyrange_count=%{x}<br>overall_compaction_latency=%{y}<extra></extra>\", \"legendgroup\": \"SATAHDD\", \"marker\": {\"color\": \"#EF553B\"}, \"name\": \"SATAHDD\", \"offsetgroup\": \"SATAHDD\", \"orientation\": \"v\", \"showlegend\": false, \"textposition\": \"auto\", \"type\": \"bar\", \"x\": [60, 90, 15, 30], \"xaxis\": \"x\", \"y\": [4267006826, 4753234174, 4856484587, 11971837063], \"yaxis\": \"y\"}, {\"alignmentgroup\": \"True\", \"hovertemplate\": \"Storage Media=SATAHDD<br>Operation Batch Size=128MB<br>CPU count=16CPU<br>keyrange_count=%{x}<br>overall_compaction_latency=%{y}<extra></extra>\", \"legendgroup\": \"SATAHDD\", \"marker\": {\"color\": \"#EF553B\"}, \"name\": \"SATAHDD\", \"offsetgroup\": \"SATAHDD\", \"orientation\": \"v\", \"showlegend\": false, \"textposition\": \"auto\", \"type\": \"bar\", \"x\": [60, 90, 15, 30], \"xaxis\": \"x2\", \"y\": [5295522615, 6941689518, 5144934411, 15750909678], \"yaxis\": \"y2\"}, {\"alignmentgroup\": \"True\", \"hovertemplate\": \"Storage Media=SATAHDD<br>Operation Batch Size=128MB<br>CPU count=32CPU<br>keyrange_count=%{x}<br>overall_compaction_latency=%{y}<extra></extra>\", \"legendgroup\": \"SATAHDD\", \"marker\": {\"color\": \"#EF553B\"}, \"name\": \"SATAHDD\", \"offsetgroup\": \"SATAHDD\", \"orientation\": \"v\", \"showlegend\": false, \"textposition\": \"auto\", \"type\": \"bar\", \"x\": [60, 90, 15, 30], \"xaxis\": \"x3\", \"y\": [5971250211, 7869451777, 5725482848, 14376963198], \"yaxis\": \"y3\"}, {\"alignmentgroup\": \"True\", \"hovertemplate\": \"Storage Media=NVMeSSD<br>Operation Batch Size=64MB<br>CPU count=8CPU<br>keyrange_count=%{x}<br>overall_compaction_latency=%{y}<extra></extra>\", \"legendgroup\": \"NVMeSSD\", \"marker\": {\"color\": \"#00cc96\"}, \"name\": \"NVMeSSD\", \"offsetgroup\": \"NVMeSSD\", \"orientation\": \"v\", \"showlegend\": true, \"textposition\": \"auto\", \"type\": \"bar\", \"x\": [60, 90, 15, 30], \"xaxis\": \"x4\", \"y\": [1305105489, 1662599833, 1854774651, 2329940015], \"yaxis\": \"y4\"}, {\"alignmentgroup\": \"True\", \"hovertemplate\": \"Storage Media=NVMeSSD<br>Operation Batch Size=64MB<br>CPU count=16CPU<br>keyrange_count=%{x}<br>overall_compaction_latency=%{y}<extra></extra>\", \"legendgroup\": \"NVMeSSD\", \"marker\": {\"color\": \"#00cc96\"}, \"name\": \"NVMeSSD\", \"offsetgroup\": \"NVMeSSD\", \"orientation\": \"v\", \"showlegend\": false, \"textposition\": \"auto\", \"type\": \"bar\", \"x\": [60, 90, 15, 30], \"xaxis\": \"x5\", \"y\": [1314820299, 1778602755, 1944917843, 2503597547], \"yaxis\": \"y5\"}, {\"alignmentgroup\": \"True\", \"hovertemplate\": \"Storage Media=NVMeSSD<br>Operation Batch Size=64MB<br>CPU count=32CPU<br>keyrange_count=%{x}<br>overall_compaction_latency=%{y}<extra></extra>\", \"legendgroup\": \"NVMeSSD\", \"marker\": {\"color\": \"#00cc96\"}, \"name\": \"NVMeSSD\", \"offsetgroup\": \"NVMeSSD\", \"orientation\": \"v\", \"showlegend\": false, \"textposition\": \"auto\", \"type\": \"bar\", \"x\": [60, 90, 15, 30], \"xaxis\": \"x6\", \"y\": [1439695721, 1844533525, 1930263638, 3020082820], \"yaxis\": \"y6\"}, {\"alignmentgroup\": \"True\", \"hovertemplate\": \"Storage Media=NVMeSSD<br>Operation Batch Size=128MB<br>CPU count=8CPU<br>keyrange_count=%{x}<br>overall_compaction_latency=%{y}<extra></extra>\", \"legendgroup\": \"NVMeSSD\", \"marker\": {\"color\": \"#00cc96\"}, \"name\": \"NVMeSSD\", \"offsetgroup\": \"NVMeSSD\", \"orientation\": \"v\", \"showlegend\": false, \"textposition\": \"auto\", \"type\": \"bar\", \"x\": [60, 90, 15, 30], \"xaxis\": \"x\", \"y\": [1160379238, 1248834852, 1268634578, 1827168332], \"yaxis\": \"y\"}, {\"alignmentgroup\": \"True\", \"hovertemplate\": \"Storage Media=NVMeSSD<br>Operation Batch Size=128MB<br>CPU count=16CPU<br>keyrange_count=%{x}<br>overall_compaction_latency=%{y}<extra></extra>\", \"legendgroup\": \"NVMeSSD\", \"marker\": {\"color\": \"#00cc96\"}, \"name\": \"NVMeSSD\", \"offsetgroup\": \"NVMeSSD\", \"orientation\": \"v\", \"showlegend\": false, \"textposition\": \"auto\", \"type\": \"bar\", \"x\": [60, 90, 15, 30], \"xaxis\": \"x2\", \"y\": [1168296823, 1264830610, 1276747930, 2273342584], \"yaxis\": \"y2\"}, {\"alignmentgroup\": \"True\", \"hovertemplate\": \"Storage Media=NVMeSSD<br>Operation Batch Size=128MB<br>CPU count=32CPU<br>keyrange_count=%{x}<br>overall_compaction_latency=%{y}<extra></extra>\", \"legendgroup\": \"NVMeSSD\", \"marker\": {\"color\": \"#00cc96\"}, \"name\": \"NVMeSSD\", \"offsetgroup\": \"NVMeSSD\", \"orientation\": \"v\", \"showlegend\": false, \"textposition\": \"auto\", \"type\": \"bar\", \"x\": [60, 90, 15, 30], \"xaxis\": \"x3\", \"y\": [1220030956, 1294475642, 1282695914, 2520477609], \"yaxis\": \"y3\"}, {\"alignmentgroup\": \"True\", \"hovertemplate\": \"Storage Media=PM<br>Operation Batch Size=64MB<br>CPU count=8CPU<br>keyrange_count=%{x}<br>overall_compaction_latency=%{y}<extra></extra>\", \"legendgroup\": \"PM\", \"marker\": {\"color\": \"#ab63fa\"}, \"name\": \"PM\", \"offsetgroup\": \"PM\", \"orientation\": \"v\", \"showlegend\": true, \"textposition\": \"auto\", \"type\": \"bar\", \"x\": [60, 90, 15, 30], \"xaxis\": \"x4\", \"y\": [1955222025, 4858091400, 5450846700, 6841468041], \"yaxis\": \"y4\"}, {\"alignmentgroup\": \"True\", \"hovertemplate\": \"Storage Media=PM<br>Operation Batch Size=64MB<br>CPU count=16CPU<br>keyrange_count=%{x}<br>overall_compaction_latency=%{y}<extra></extra>\", \"legendgroup\": \"PM\", \"marker\": {\"color\": \"#ab63fa\"}, \"name\": \"PM\", \"offsetgroup\": \"PM\", \"orientation\": \"v\", \"showlegend\": false, \"textposition\": \"auto\", \"type\": \"bar\", \"x\": [60, 90, 15, 30], \"xaxis\": \"x5\", \"y\": [1970969784, 4745520546, 5294863974, 12516316242], \"yaxis\": \"y5\"}, {\"alignmentgroup\": \"True\", \"hovertemplate\": \"Storage Media=PM<br>Operation Batch Size=64MB<br>CPU count=32CPU<br>keyrange_count=%{x}<br>overall_compaction_latency=%{y}<extra></extra>\", \"legendgroup\": \"PM\", \"marker\": {\"color\": \"#ab63fa\"}, \"name\": \"PM\", \"offsetgroup\": \"PM\", \"orientation\": \"v\", \"showlegend\": false, \"textposition\": \"auto\", \"type\": \"bar\", \"x\": [60, 90, 15, 30], \"xaxis\": \"x6\", \"y\": [2109833310, 4576042690, 6080572858, 14510002957], \"yaxis\": \"y6\"}, {\"alignmentgroup\": \"True\", \"hovertemplate\": \"Storage Media=PM<br>Operation Batch Size=128MB<br>CPU count=8CPU<br>keyrange_count=%{x}<br>overall_compaction_latency=%{y}<extra></extra>\", \"legendgroup\": \"PM\", \"marker\": {\"color\": \"#ab63fa\"}, \"name\": \"PM\", \"offsetgroup\": \"PM\", \"orientation\": \"v\", \"showlegend\": false, \"textposition\": \"auto\", \"type\": \"bar\", \"x\": [60, 90, 15, 30], \"xaxis\": \"x\", \"y\": [1553053392, 2491840963, 2926947750, 5615222149], \"yaxis\": \"y\"}, {\"alignmentgroup\": \"True\", \"hovertemplate\": \"Storage Media=PM<br>Operation Batch Size=128MB<br>CPU count=16CPU<br>keyrange_count=%{x}<br>overall_compaction_latency=%{y}<extra></extra>\", \"legendgroup\": \"PM\", \"marker\": {\"color\": \"#ab63fa\"}, \"name\": \"PM\", \"offsetgroup\": \"PM\", \"orientation\": \"v\", \"showlegend\": false, \"textposition\": \"auto\", \"type\": \"bar\", \"x\": [60, 90, 15, 30], \"xaxis\": \"x2\", \"y\": [1536194384, 2570636478, 2756334042, 6604022660], \"yaxis\": \"y2\"}, {\"alignmentgroup\": \"True\", \"hovertemplate\": \"Storage Media=PM<br>Operation Batch Size=128MB<br>CPU count=32CPU<br>keyrange_count=%{x}<br>overall_compaction_latency=%{y}<extra></extra>\", \"legendgroup\": \"PM\", \"marker\": {\"color\": \"#ab63fa\"}, \"name\": \"PM\", \"offsetgroup\": \"PM\", \"orientation\": \"v\", \"showlegend\": false, \"textposition\": \"auto\", \"type\": \"bar\", \"x\": [60, 90, 15, 30], \"xaxis\": \"x3\", \"y\": [2339756746, 2856336185, 3016796384, 6626825316], \"yaxis\": \"y3\"}],\n",
       "                        {\"annotations\": [{\"font\": {}, \"showarrow\": false, \"text\": \"CPU count=8CPU\", \"x\": 0.15666666666666665, \"xanchor\": \"center\", \"xref\": \"paper\", \"y\": 1.0, \"yanchor\": \"bottom\", \"yref\": \"paper\"}, {\"font\": {}, \"showarrow\": false, \"text\": \"CPU count=16CPU\", \"x\": 0.49, \"xanchor\": \"center\", \"xref\": \"paper\", \"y\": 1.0, \"yanchor\": \"bottom\", \"yref\": \"paper\"}, {\"font\": {}, \"showarrow\": false, \"text\": \"CPU count=32CPU\", \"x\": 0.8233333333333333, \"xanchor\": \"center\", \"xref\": \"paper\", \"y\": 1.0, \"yanchor\": \"bottom\", \"yref\": \"paper\"}, {\"font\": {}, \"showarrow\": false, \"text\": \"Operation Batch Size=128MB\", \"textangle\": 90, \"x\": 0.98, \"xanchor\": \"left\", \"xref\": \"paper\", \"y\": 0.2425, \"yanchor\": \"middle\", \"yref\": \"paper\"}, {\"font\": {}, \"showarrow\": false, \"text\": \"Operation Batch Size=64MB\", \"textangle\": 90, \"x\": 0.98, \"xanchor\": \"left\", \"xref\": \"paper\", \"y\": 0.7575000000000001, \"yanchor\": \"middle\", \"yref\": \"paper\"}], \"autosize\": false, \"barmode\": \"group\", \"font\": {\"size\": 20}, \"height\": 900, \"legend\": {\"title\": {\"text\": \"Storage Media\"}, \"tracegroupgap\": 0}, \"margin\": {\"t\": 60}, \"template\": {\"data\": {\"bar\": [{\"error_x\": {\"color\": \"#2a3f5f\"}, \"error_y\": {\"color\": \"#2a3f5f\"}, \"marker\": {\"line\": {\"color\": \"#E5ECF6\", \"width\": 0.5}}, \"type\": \"bar\"}], \"barpolar\": [{\"marker\": {\"line\": {\"color\": \"#E5ECF6\", \"width\": 0.5}}, \"type\": \"barpolar\"}], \"carpet\": [{\"aaxis\": {\"endlinecolor\": \"#2a3f5f\", \"gridcolor\": \"white\", \"linecolor\": \"white\", \"minorgridcolor\": \"white\", \"startlinecolor\": \"#2a3f5f\"}, \"baxis\": {\"endlinecolor\": \"#2a3f5f\", \"gridcolor\": \"white\", \"linecolor\": \"white\", \"minorgridcolor\": \"white\", \"startlinecolor\": \"#2a3f5f\"}, \"type\": \"carpet\"}], \"choropleth\": [{\"colorbar\": {\"outlinewidth\": 0, \"ticks\": \"\"}, \"type\": \"choropleth\"}], \"contour\": [{\"colorbar\": {\"outlinewidth\": 0, \"ticks\": \"\"}, \"colorscale\": [[0.0, \"#0d0887\"], [0.1111111111111111, \"#46039f\"], [0.2222222222222222, \"#7201a8\"], [0.3333333333333333, \"#9c179e\"], [0.4444444444444444, \"#bd3786\"], [0.5555555555555556, \"#d8576b\"], [0.6666666666666666, \"#ed7953\"], [0.7777777777777778, \"#fb9f3a\"], [0.8888888888888888, \"#fdca26\"], [1.0, \"#f0f921\"]], \"type\": \"contour\"}], \"contourcarpet\": [{\"colorbar\": {\"outlinewidth\": 0, \"ticks\": \"\"}, \"type\": \"contourcarpet\"}], \"heatmap\": [{\"colorbar\": {\"outlinewidth\": 0, \"ticks\": \"\"}, \"colorscale\": [[0.0, \"#0d0887\"], [0.1111111111111111, \"#46039f\"], [0.2222222222222222, \"#7201a8\"], [0.3333333333333333, \"#9c179e\"], [0.4444444444444444, \"#bd3786\"], [0.5555555555555556, \"#d8576b\"], [0.6666666666666666, \"#ed7953\"], [0.7777777777777778, \"#fb9f3a\"], [0.8888888888888888, \"#fdca26\"], [1.0, \"#f0f921\"]], \"type\": \"heatmap\"}], \"heatmapgl\": [{\"colorbar\": {\"outlinewidth\": 0, \"ticks\": \"\"}, \"colorscale\": [[0.0, \"#0d0887\"], [0.1111111111111111, \"#46039f\"], [0.2222222222222222, \"#7201a8\"], [0.3333333333333333, \"#9c179e\"], [0.4444444444444444, \"#bd3786\"], [0.5555555555555556, \"#d8576b\"], [0.6666666666666666, \"#ed7953\"], [0.7777777777777778, \"#fb9f3a\"], [0.8888888888888888, \"#fdca26\"], [1.0, \"#f0f921\"]], \"type\": \"heatmapgl\"}], \"histogram\": [{\"marker\": {\"colorbar\": {\"outlinewidth\": 0, \"ticks\": \"\"}}, \"type\": \"histogram\"}], \"histogram2d\": [{\"colorbar\": {\"outlinewidth\": 0, \"ticks\": \"\"}, \"colorscale\": [[0.0, \"#0d0887\"], [0.1111111111111111, \"#46039f\"], [0.2222222222222222, \"#7201a8\"], [0.3333333333333333, \"#9c179e\"], [0.4444444444444444, \"#bd3786\"], [0.5555555555555556, \"#d8576b\"], [0.6666666666666666, \"#ed7953\"], [0.7777777777777778, \"#fb9f3a\"], [0.8888888888888888, \"#fdca26\"], [1.0, \"#f0f921\"]], \"type\": \"histogram2d\"}], \"histogram2dcontour\": [{\"colorbar\": {\"outlinewidth\": 0, \"ticks\": \"\"}, \"colorscale\": [[0.0, \"#0d0887\"], [0.1111111111111111, \"#46039f\"], [0.2222222222222222, \"#7201a8\"], [0.3333333333333333, \"#9c179e\"], [0.4444444444444444, \"#bd3786\"], [0.5555555555555556, \"#d8576b\"], [0.6666666666666666, \"#ed7953\"], [0.7777777777777778, \"#fb9f3a\"], [0.8888888888888888, \"#fdca26\"], [1.0, \"#f0f921\"]], \"type\": \"histogram2dcontour\"}], \"mesh3d\": [{\"colorbar\": {\"outlinewidth\": 0, \"ticks\": \"\"}, \"type\": \"mesh3d\"}], \"parcoords\": [{\"line\": {\"colorbar\": {\"outlinewidth\": 0, \"ticks\": \"\"}}, \"type\": \"parcoords\"}], \"pie\": [{\"automargin\": true, \"type\": \"pie\"}], \"scatter\": [{\"marker\": {\"colorbar\": {\"outlinewidth\": 0, \"ticks\": \"\"}}, \"type\": \"scatter\"}], \"scatter3d\": [{\"line\": {\"colorbar\": {\"outlinewidth\": 0, \"ticks\": \"\"}}, \"marker\": {\"colorbar\": {\"outlinewidth\": 0, \"ticks\": \"\"}}, \"type\": \"scatter3d\"}], \"scattercarpet\": [{\"marker\": {\"colorbar\": {\"outlinewidth\": 0, \"ticks\": \"\"}}, \"type\": \"scattercarpet\"}], \"scattergeo\": [{\"marker\": {\"colorbar\": {\"outlinewidth\": 0, \"ticks\": \"\"}}, \"type\": \"scattergeo\"}], \"scattergl\": [{\"marker\": {\"colorbar\": {\"outlinewidth\": 0, \"ticks\": \"\"}}, \"type\": \"scattergl\"}], \"scattermapbox\": [{\"marker\": {\"colorbar\": {\"outlinewidth\": 0, \"ticks\": \"\"}}, \"type\": \"scattermapbox\"}], \"scatterpolar\": [{\"marker\": {\"colorbar\": {\"outlinewidth\": 0, \"ticks\": \"\"}}, \"type\": \"scatterpolar\"}], \"scatterpolargl\": [{\"marker\": {\"colorbar\": {\"outlinewidth\": 0, \"ticks\": \"\"}}, \"type\": \"scatterpolargl\"}], \"scatterternary\": [{\"marker\": {\"colorbar\": {\"outlinewidth\": 0, \"ticks\": \"\"}}, \"type\": \"scatterternary\"}], \"surface\": [{\"colorbar\": {\"outlinewidth\": 0, \"ticks\": \"\"}, \"colorscale\": [[0.0, \"#0d0887\"], [0.1111111111111111, \"#46039f\"], [0.2222222222222222, \"#7201a8\"], [0.3333333333333333, \"#9c179e\"], [0.4444444444444444, \"#bd3786\"], [0.5555555555555556, \"#d8576b\"], [0.6666666666666666, \"#ed7953\"], [0.7777777777777778, \"#fb9f3a\"], [0.8888888888888888, \"#fdca26\"], [1.0, \"#f0f921\"]], \"type\": \"surface\"}], \"table\": [{\"cells\": {\"fill\": {\"color\": \"#EBF0F8\"}, \"line\": {\"color\": \"white\"}}, \"header\": {\"fill\": {\"color\": \"#C8D4E3\"}, \"line\": {\"color\": \"white\"}}, \"type\": \"table\"}]}, \"layout\": {\"annotationdefaults\": {\"arrowcolor\": \"#2a3f5f\", \"arrowhead\": 0, \"arrowwidth\": 1}, \"coloraxis\": {\"colorbar\": {\"outlinewidth\": 0, \"ticks\": \"\"}}, \"colorscale\": {\"diverging\": [[0, \"#8e0152\"], [0.1, \"#c51b7d\"], [0.2, \"#de77ae\"], [0.3, \"#f1b6da\"], [0.4, \"#fde0ef\"], [0.5, \"#f7f7f7\"], [0.6, \"#e6f5d0\"], [0.7, \"#b8e186\"], [0.8, \"#7fbc41\"], [0.9, \"#4d9221\"], [1, \"#276419\"]], \"sequential\": [[0.0, \"#0d0887\"], [0.1111111111111111, \"#46039f\"], [0.2222222222222222, \"#7201a8\"], [0.3333333333333333, \"#9c179e\"], [0.4444444444444444, \"#bd3786\"], [0.5555555555555556, \"#d8576b\"], [0.6666666666666666, \"#ed7953\"], [0.7777777777777778, \"#fb9f3a\"], [0.8888888888888888, \"#fdca26\"], [1.0, \"#f0f921\"]], \"sequentialminus\": [[0.0, \"#0d0887\"], [0.1111111111111111, \"#46039f\"], [0.2222222222222222, \"#7201a8\"], [0.3333333333333333, \"#9c179e\"], [0.4444444444444444, \"#bd3786\"], [0.5555555555555556, \"#d8576b\"], [0.6666666666666666, \"#ed7953\"], [0.7777777777777778, \"#fb9f3a\"], [0.8888888888888888, \"#fdca26\"], [1.0, \"#f0f921\"]]}, \"colorway\": [\"#636efa\", \"#EF553B\", \"#00cc96\", \"#ab63fa\", \"#FFA15A\", \"#19d3f3\", \"#FF6692\", \"#B6E880\", \"#FF97FF\", \"#FECB52\"], \"font\": {\"color\": \"#2a3f5f\"}, \"geo\": {\"bgcolor\": \"white\", \"lakecolor\": \"white\", \"landcolor\": \"#E5ECF6\", \"showlakes\": true, \"showland\": true, \"subunitcolor\": \"white\"}, \"hoverlabel\": {\"align\": \"left\"}, \"hovermode\": \"closest\", \"mapbox\": {\"style\": \"light\"}, \"paper_bgcolor\": \"white\", \"plot_bgcolor\": \"#E5ECF6\", \"polar\": {\"angularaxis\": {\"gridcolor\": \"white\", \"linecolor\": \"white\", \"ticks\": \"\"}, \"bgcolor\": \"#E5ECF6\", \"radialaxis\": {\"gridcolor\": \"white\", \"linecolor\": \"white\", \"ticks\": \"\"}}, \"scene\": {\"xaxis\": {\"backgroundcolor\": \"#E5ECF6\", \"gridcolor\": \"white\", \"gridwidth\": 2, \"linecolor\": \"white\", \"showbackground\": true, \"ticks\": \"\", \"zerolinecolor\": \"white\"}, \"yaxis\": {\"backgroundcolor\": \"#E5ECF6\", \"gridcolor\": \"white\", \"gridwidth\": 2, \"linecolor\": \"white\", \"showbackground\": true, \"ticks\": \"\", \"zerolinecolor\": \"white\"}, \"zaxis\": {\"backgroundcolor\": \"#E5ECF6\", \"gridcolor\": \"white\", \"gridwidth\": 2, \"linecolor\": \"white\", \"showbackground\": true, \"ticks\": \"\", \"zerolinecolor\": \"white\"}}, \"shapedefaults\": {\"line\": {\"color\": \"#2a3f5f\"}}, \"ternary\": {\"aaxis\": {\"gridcolor\": \"white\", \"linecolor\": \"white\", \"ticks\": \"\"}, \"baxis\": {\"gridcolor\": \"white\", \"linecolor\": \"white\", \"ticks\": \"\"}, \"bgcolor\": \"#E5ECF6\", \"caxis\": {\"gridcolor\": \"white\", \"linecolor\": \"white\", \"ticks\": \"\"}}, \"title\": {\"x\": 0.05}, \"xaxis\": {\"automargin\": true, \"gridcolor\": \"white\", \"linecolor\": \"white\", \"ticks\": \"\", \"title\": {\"standoff\": 15}, \"zerolinecolor\": \"white\", \"zerolinewidth\": 2}, \"yaxis\": {\"automargin\": true, \"gridcolor\": \"white\", \"linecolor\": \"white\", \"ticks\": \"\", \"title\": {\"standoff\": 15}, \"zerolinecolor\": \"white\", \"zerolinewidth\": 2}}}, \"width\": 1600, \"xaxis\": {\"anchor\": \"y\", \"domain\": [0.0, 0.3133333333333333], \"showgrid\": false, \"title\": {\"text\": \"keyrange_count\"}}, \"xaxis2\": {\"anchor\": \"y2\", \"domain\": [0.3333333333333333, 0.6466666666666666], \"matches\": \"x\", \"showgrid\": false, \"title\": {\"text\": \"keyrange_count\"}}, \"xaxis3\": {\"anchor\": \"y3\", \"domain\": [0.6666666666666666, 0.98], \"matches\": \"x\", \"showgrid\": false, \"title\": {\"text\": \"keyrange_count\"}}, \"xaxis4\": {\"anchor\": \"y4\", \"domain\": [0.0, 0.3133333333333333], \"matches\": \"x\", \"showgrid\": false, \"showticklabels\": false}, \"xaxis5\": {\"anchor\": \"y5\", \"domain\": [0.3333333333333333, 0.6466666666666666], \"matches\": \"x\", \"showgrid\": false, \"showticklabels\": false}, \"xaxis6\": {\"anchor\": \"y6\", \"domain\": [0.6666666666666666, 0.98], \"matches\": \"x\", \"showgrid\": false, \"showticklabels\": false}, \"yaxis\": {\"anchor\": \"x\", \"automargin\": true, \"domain\": [0.0, 0.485], \"title\": {\"text\": \"overall_compaction_latency\"}}, \"yaxis2\": {\"anchor\": \"x2\", \"automargin\": true, \"domain\": [0.0, 0.485], \"matches\": \"y\", \"showticklabels\": false}, \"yaxis3\": {\"anchor\": \"x3\", \"automargin\": true, \"domain\": [0.0, 0.485], \"matches\": \"y\", \"showticklabels\": false}, \"yaxis4\": {\"anchor\": \"x4\", \"automargin\": true, \"domain\": [0.515, 1.0], \"matches\": \"y\", \"title\": {\"text\": \"overall_compaction_latency\"}}, \"yaxis5\": {\"anchor\": \"x5\", \"automargin\": true, \"domain\": [0.515, 1.0], \"matches\": \"y\", \"showticklabels\": false}, \"yaxis6\": {\"anchor\": \"x6\", \"automargin\": true, \"domain\": [0.515, 1.0], \"matches\": \"y\", \"showticklabels\": false}},\n",
       "                        {\"responsive\": true}\n",
       "                    ).then(function(){\n",
       "                            \n",
       "var gd = document.getElementById('274276c3-e70b-4db4-8ee2-a62c31738cd2');\n",
       "var x = new MutationObserver(function (mutations, observer) {{\n",
       "        var display = window.getComputedStyle(gd).display;\n",
       "        if (!display || display === 'none') {{\n",
       "            console.log([gd, 'removed!']);\n",
       "            Plotly.purge(gd);\n",
       "            observer.disconnect();\n",
       "        }}\n",
       "}});\n",
       "\n",
       "// Listen for the removal of the full notebook cells\n",
       "var notebookContainer = gd.closest('#notebook-container');\n",
       "if (notebookContainer) {{\n",
       "    x.observe(notebookContainer, {childList: true});\n",
       "}}\n",
       "\n",
       "// Listen for the clearing of the current output cell\n",
       "var outputEl = gd.closest('.output');\n",
       "if (outputEl) {{\n",
       "    x.observe(outputEl, {childList: true});\n",
       "}}\n",
       "\n",
       "                        })\n",
       "                };\n",
       "                });\n",
       "            </script>\n",
       "        </div>"
      ]
     },
     "metadata": {},
     "output_type": "display_data"
    },
    {
     "name": "stdout",
     "output_type": "stream",
     "text": [
      "plotting fig ./image/overall_compaction_latency.pdf finished\n"
     ]
    },
    {
     "data": {
      "application/vnd.plotly.v1+json": {
       "config": {
        "plotlyServerURL": "https://plot.ly"
       },
       "data": [
        {
         "alignmentgroup": "True",
         "hovertemplate": "Storage Media=SATASSD<br>Operation Batch Size=64MB<br>CPU count=8CPU<br>keyrange_count=%{x}<br>overall_compaction_cpu_latency=%{y}<extra></extra>",
         "legendgroup": "SATASSD",
         "marker": {
          "color": "#636efa"
         },
         "name": "SATASSD",
         "offsetgroup": "SATASSD",
         "orientation": "v",
         "showlegend": true,
         "textposition": "auto",
         "type": "bar",
         "x": [
          60,
          90,
          15,
          30
         ],
         "xaxis": "x4",
         "y": [
          1108592236,
          1090078085,
          1054992259,
          1401239923
         ],
         "yaxis": "y4"
        },
        {
         "alignmentgroup": "True",
         "hovertemplate": "Storage Media=SATASSD<br>Operation Batch Size=64MB<br>CPU count=16CPU<br>keyrange_count=%{x}<br>overall_compaction_cpu_latency=%{y}<extra></extra>",
         "legendgroup": "SATASSD",
         "marker": {
          "color": "#636efa"
         },
         "name": "SATASSD",
         "offsetgroup": "SATASSD",
         "orientation": "v",
         "showlegend": false,
         "textposition": "auto",
         "type": "bar",
         "x": [
          60,
          90,
          15,
          30
         ],
         "xaxis": "x5",
         "y": [
          1130506482,
          1088587752,
          1077151520,
          1400183159
         ],
         "yaxis": "y5"
        },
        {
         "alignmentgroup": "True",
         "hovertemplate": "Storage Media=SATASSD<br>Operation Batch Size=64MB<br>CPU count=32CPU<br>keyrange_count=%{x}<br>overall_compaction_cpu_latency=%{y}<extra></extra>",
         "legendgroup": "SATASSD",
         "marker": {
          "color": "#636efa"
         },
         "name": "SATASSD",
         "offsetgroup": "SATASSD",
         "orientation": "v",
         "showlegend": false,
         "textposition": "auto",
         "type": "bar",
         "x": [
          60,
          90,
          15,
          30
         ],
         "xaxis": "x6",
         "y": [
          1147922088,
          1134373061,
          1098530308,
          1410060002
         ],
         "yaxis": "y6"
        },
        {
         "alignmentgroup": "True",
         "hovertemplate": "Storage Media=SATASSD<br>Operation Batch Size=128MB<br>CPU count=8CPU<br>keyrange_count=%{x}<br>overall_compaction_cpu_latency=%{y}<extra></extra>",
         "legendgroup": "SATASSD",
         "marker": {
          "color": "#636efa"
         },
         "name": "SATASSD",
         "offsetgroup": "SATASSD",
         "orientation": "v",
         "showlegend": false,
         "textposition": "auto",
         "type": "bar",
         "x": [
          60,
          90,
          15,
          30
         ],
         "xaxis": "x",
         "y": [
          964594473,
          913281659,
          942581258,
          1193728738
         ],
         "yaxis": "y"
        },
        {
         "alignmentgroup": "True",
         "hovertemplate": "Storage Media=SATASSD<br>Operation Batch Size=128MB<br>CPU count=16CPU<br>keyrange_count=%{x}<br>overall_compaction_cpu_latency=%{y}<extra></extra>",
         "legendgroup": "SATASSD",
         "marker": {
          "color": "#636efa"
         },
         "name": "SATASSD",
         "offsetgroup": "SATASSD",
         "orientation": "v",
         "showlegend": false,
         "textposition": "auto",
         "type": "bar",
         "x": [
          60,
          90,
          15,
          30
         ],
         "xaxis": "x2",
         "y": [
          977361063,
          969168698,
          915100404,
          1215725607
         ],
         "yaxis": "y2"
        },
        {
         "alignmentgroup": "True",
         "hovertemplate": "Storage Media=SATASSD<br>Operation Batch Size=128MB<br>CPU count=32CPU<br>keyrange_count=%{x}<br>overall_compaction_cpu_latency=%{y}<extra></extra>",
         "legendgroup": "SATASSD",
         "marker": {
          "color": "#636efa"
         },
         "name": "SATASSD",
         "offsetgroup": "SATASSD",
         "orientation": "v",
         "showlegend": false,
         "textposition": "auto",
         "type": "bar",
         "x": [
          60,
          90,
          15,
          30
         ],
         "xaxis": "x3",
         "y": [
          999339721,
          969089273,
          984470899,
          1233235807
         ],
         "yaxis": "y3"
        },
        {
         "alignmentgroup": "True",
         "hovertemplate": "Storage Media=SATAHDD<br>Operation Batch Size=64MB<br>CPU count=8CPU<br>keyrange_count=%{x}<br>overall_compaction_cpu_latency=%{y}<extra></extra>",
         "legendgroup": "SATAHDD",
         "marker": {
          "color": "#EF553B"
         },
         "name": "SATAHDD",
         "offsetgroup": "SATAHDD",
         "orientation": "v",
         "showlegend": true,
         "textposition": "auto",
         "type": "bar",
         "x": [
          60,
          90,
          15,
          30
         ],
         "xaxis": "x4",
         "y": [
          989142931,
          1025834220,
          1016828483,
          1252796484
         ],
         "yaxis": "y4"
        },
        {
         "alignmentgroup": "True",
         "hovertemplate": "Storage Media=SATAHDD<br>Operation Batch Size=64MB<br>CPU count=16CPU<br>keyrange_count=%{x}<br>overall_compaction_cpu_latency=%{y}<extra></extra>",
         "legendgroup": "SATAHDD",
         "marker": {
          "color": "#EF553B"
         },
         "name": "SATAHDD",
         "offsetgroup": "SATAHDD",
         "orientation": "v",
         "showlegend": false,
         "textposition": "auto",
         "type": "bar",
         "x": [
          60,
          90,
          15,
          30
         ],
         "xaxis": "x5",
         "y": [
          995684190,
          1036011758,
          1055480191,
          1400417154
         ],
         "yaxis": "y5"
        },
        {
         "alignmentgroup": "True",
         "hovertemplate": "Storage Media=SATAHDD<br>Operation Batch Size=64MB<br>CPU count=32CPU<br>keyrange_count=%{x}<br>overall_compaction_cpu_latency=%{y}<extra></extra>",
         "legendgroup": "SATAHDD",
         "marker": {
          "color": "#EF553B"
         },
         "name": "SATAHDD",
         "offsetgroup": "SATAHDD",
         "orientation": "v",
         "showlegend": false,
         "textposition": "auto",
         "type": "bar",
         "x": [
          60,
          90,
          15,
          30
         ],
         "xaxis": "x6",
         "y": [
          1026889250,
          1048007678,
          1056528210,
          1420775395
         ],
         "yaxis": "y6"
        },
        {
         "alignmentgroup": "True",
         "hovertemplate": "Storage Media=SATAHDD<br>Operation Batch Size=128MB<br>CPU count=8CPU<br>keyrange_count=%{x}<br>overall_compaction_cpu_latency=%{y}<extra></extra>",
         "legendgroup": "SATAHDD",
         "marker": {
          "color": "#EF553B"
         },
         "name": "SATAHDD",
         "offsetgroup": "SATAHDD",
         "orientation": "v",
         "showlegend": false,
         "textposition": "auto",
         "type": "bar",
         "x": [
          60,
          90,
          15,
          30
         ],
         "xaxis": "x",
         "y": [
          875780010,
          845263872,
          874500628,
          948214278
         ],
         "yaxis": "y"
        },
        {
         "alignmentgroup": "True",
         "hovertemplate": "Storage Media=SATAHDD<br>Operation Batch Size=128MB<br>CPU count=16CPU<br>keyrange_count=%{x}<br>overall_compaction_cpu_latency=%{y}<extra></extra>",
         "legendgroup": "SATAHDD",
         "marker": {
          "color": "#EF553B"
         },
         "name": "SATAHDD",
         "offsetgroup": "SATAHDD",
         "orientation": "v",
         "showlegend": false,
         "textposition": "auto",
         "type": "bar",
         "x": [
          60,
          90,
          15,
          30
         ],
         "xaxis": "x2",
         "y": [
          819600756,
          870009793,
          872184078,
          1106311545
         ],
         "yaxis": "y2"
        },
        {
         "alignmentgroup": "True",
         "hovertemplate": "Storage Media=SATAHDD<br>Operation Batch Size=128MB<br>CPU count=32CPU<br>keyrange_count=%{x}<br>overall_compaction_cpu_latency=%{y}<extra></extra>",
         "legendgroup": "SATAHDD",
         "marker": {
          "color": "#EF553B"
         },
         "name": "SATAHDD",
         "offsetgroup": "SATAHDD",
         "orientation": "v",
         "showlegend": false,
         "textposition": "auto",
         "type": "bar",
         "x": [
          60,
          90,
          15,
          30
         ],
         "xaxis": "x3",
         "y": [
          848760041,
          851480254,
          892112484,
          1126412539
         ],
         "yaxis": "y3"
        },
        {
         "alignmentgroup": "True",
         "hovertemplate": "Storage Media=NVMeSSD<br>Operation Batch Size=64MB<br>CPU count=8CPU<br>keyrange_count=%{x}<br>overall_compaction_cpu_latency=%{y}<extra></extra>",
         "legendgroup": "NVMeSSD",
         "marker": {
          "color": "#00cc96"
         },
         "name": "NVMeSSD",
         "offsetgroup": "NVMeSSD",
         "orientation": "v",
         "showlegend": true,
         "textposition": "auto",
         "type": "bar",
         "x": [
          60,
          90,
          15,
          30
         ],
         "xaxis": "x4",
         "y": [
          1187493930,
          1211485056,
          1182646451,
          1455051456
         ],
         "yaxis": "y4"
        },
        {
         "alignmentgroup": "True",
         "hovertemplate": "Storage Media=NVMeSSD<br>Operation Batch Size=64MB<br>CPU count=16CPU<br>keyrange_count=%{x}<br>overall_compaction_cpu_latency=%{y}<extra></extra>",
         "legendgroup": "NVMeSSD",
         "marker": {
          "color": "#00cc96"
         },
         "name": "NVMeSSD",
         "offsetgroup": "NVMeSSD",
         "orientation": "v",
         "showlegend": false,
         "textposition": "auto",
         "type": "bar",
         "x": [
          60,
          90,
          15,
          30
         ],
         "xaxis": "x5",
         "y": [
          1192364950,
          1198097208,
          1200971656,
          1441802716
         ],
         "yaxis": "y5"
        },
        {
         "alignmentgroup": "True",
         "hovertemplate": "Storage Media=NVMeSSD<br>Operation Batch Size=64MB<br>CPU count=32CPU<br>keyrange_count=%{x}<br>overall_compaction_cpu_latency=%{y}<extra></extra>",
         "legendgroup": "NVMeSSD",
         "marker": {
          "color": "#00cc96"
         },
         "name": "NVMeSSD",
         "offsetgroup": "NVMeSSD",
         "orientation": "v",
         "showlegend": false,
         "textposition": "auto",
         "type": "bar",
         "x": [
          60,
          90,
          15,
          30
         ],
         "xaxis": "x6",
         "y": [
          1234552160,
          1229313471,
          1190733352,
          1443168277
         ],
         "yaxis": "y6"
        },
        {
         "alignmentgroup": "True",
         "hovertemplate": "Storage Media=NVMeSSD<br>Operation Batch Size=128MB<br>CPU count=8CPU<br>keyrange_count=%{x}<br>overall_compaction_cpu_latency=%{y}<extra></extra>",
         "legendgroup": "NVMeSSD",
         "marker": {
          "color": "#00cc96"
         },
         "name": "NVMeSSD",
         "offsetgroup": "NVMeSSD",
         "orientation": "v",
         "showlegend": false,
         "textposition": "auto",
         "type": "bar",
         "x": [
          60,
          90,
          15,
          30
         ],
         "xaxis": "x",
         "y": [
          1069072862,
          1042568551,
          1028951164,
          1322515811
         ],
         "yaxis": "y"
        },
        {
         "alignmentgroup": "True",
         "hovertemplate": "Storage Media=NVMeSSD<br>Operation Batch Size=128MB<br>CPU count=16CPU<br>keyrange_count=%{x}<br>overall_compaction_cpu_latency=%{y}<extra></extra>",
         "legendgroup": "NVMeSSD",
         "marker": {
          "color": "#00cc96"
         },
         "name": "NVMeSSD",
         "offsetgroup": "NVMeSSD",
         "orientation": "v",
         "showlegend": false,
         "textposition": "auto",
         "type": "bar",
         "x": [
          60,
          90,
          15,
          30
         ],
         "xaxis": "x2",
         "y": [
          1069431284,
          1048770201,
          1031122344,
          1338248764
         ],
         "yaxis": "y2"
        },
        {
         "alignmentgroup": "True",
         "hovertemplate": "Storage Media=NVMeSSD<br>Operation Batch Size=128MB<br>CPU count=32CPU<br>keyrange_count=%{x}<br>overall_compaction_cpu_latency=%{y}<extra></extra>",
         "legendgroup": "NVMeSSD",
         "marker": {
          "color": "#00cc96"
         },
         "name": "NVMeSSD",
         "offsetgroup": "NVMeSSD",
         "orientation": "v",
         "showlegend": false,
         "textposition": "auto",
         "type": "bar",
         "x": [
          60,
          90,
          15,
          30
         ],
         "xaxis": "x3",
         "y": [
          1080598874,
          1053627356,
          1051980645,
          1423414759
         ],
         "yaxis": "y3"
        },
        {
         "alignmentgroup": "True",
         "hovertemplate": "Storage Media=PM<br>Operation Batch Size=64MB<br>CPU count=8CPU<br>keyrange_count=%{x}<br>overall_compaction_cpu_latency=%{y}<extra></extra>",
         "legendgroup": "PM",
         "marker": {
          "color": "#ab63fa"
         },
         "name": "PM",
         "offsetgroup": "PM",
         "orientation": "v",
         "showlegend": true,
         "textposition": "auto",
         "type": "bar",
         "x": [
          60,
          90,
          15,
          30
         ],
         "xaxis": "x4",
         "y": [
          1136662617,
          1125396397,
          1070168271,
          1372111783
         ],
         "yaxis": "y4"
        },
        {
         "alignmentgroup": "True",
         "hovertemplate": "Storage Media=PM<br>Operation Batch Size=64MB<br>CPU count=16CPU<br>keyrange_count=%{x}<br>overall_compaction_cpu_latency=%{y}<extra></extra>",
         "legendgroup": "PM",
         "marker": {
          "color": "#ab63fa"
         },
         "name": "PM",
         "offsetgroup": "PM",
         "orientation": "v",
         "showlegend": false,
         "textposition": "auto",
         "type": "bar",
         "x": [
          60,
          90,
          15,
          30
         ],
         "xaxis": "x5",
         "y": [
          1138746410,
          1113457746,
          1083120463,
          1368756225
         ],
         "yaxis": "y5"
        },
        {
         "alignmentgroup": "True",
         "hovertemplate": "Storage Media=PM<br>Operation Batch Size=64MB<br>CPU count=32CPU<br>keyrange_count=%{x}<br>overall_compaction_cpu_latency=%{y}<extra></extra>",
         "legendgroup": "PM",
         "marker": {
          "color": "#ab63fa"
         },
         "name": "PM",
         "offsetgroup": "PM",
         "orientation": "v",
         "showlegend": false,
         "textposition": "auto",
         "type": "bar",
         "x": [
          60,
          90,
          15,
          30
         ],
         "xaxis": "x6",
         "y": [
          1145905149,
          1095051075,
          1090006427,
          1409955036
         ],
         "yaxis": "y6"
        },
        {
         "alignmentgroup": "True",
         "hovertemplate": "Storage Media=PM<br>Operation Batch Size=128MB<br>CPU count=8CPU<br>keyrange_count=%{x}<br>overall_compaction_cpu_latency=%{y}<extra></extra>",
         "legendgroup": "PM",
         "marker": {
          "color": "#ab63fa"
         },
         "name": "PM",
         "offsetgroup": "PM",
         "orientation": "v",
         "showlegend": false,
         "textposition": "auto",
         "type": "bar",
         "x": [
          60,
          90,
          15,
          30
         ],
         "xaxis": "x",
         "y": [
          984076859,
          971925009,
          944993073,
          1189788935
         ],
         "yaxis": "y"
        },
        {
         "alignmentgroup": "True",
         "hovertemplate": "Storage Media=PM<br>Operation Batch Size=128MB<br>CPU count=16CPU<br>keyrange_count=%{x}<br>overall_compaction_cpu_latency=%{y}<extra></extra>",
         "legendgroup": "PM",
         "marker": {
          "color": "#ab63fa"
         },
         "name": "PM",
         "offsetgroup": "PM",
         "orientation": "v",
         "showlegend": false,
         "textposition": "auto",
         "type": "bar",
         "x": [
          60,
          90,
          15,
          30
         ],
         "xaxis": "x2",
         "y": [
          980573676,
          998588176,
          955604864,
          1192452086
         ],
         "yaxis": "y2"
        },
        {
         "alignmentgroup": "True",
         "hovertemplate": "Storage Media=PM<br>Operation Batch Size=128MB<br>CPU count=32CPU<br>keyrange_count=%{x}<br>overall_compaction_cpu_latency=%{y}<extra></extra>",
         "legendgroup": "PM",
         "marker": {
          "color": "#ab63fa"
         },
         "name": "PM",
         "offsetgroup": "PM",
         "orientation": "v",
         "showlegend": false,
         "textposition": "auto",
         "type": "bar",
         "x": [
          60,
          90,
          15,
          30
         ],
         "xaxis": "x3",
         "y": [
          1050458783,
          1034566274,
          1005085484,
          1205938673
         ],
         "yaxis": "y3"
        }
       ],
       "layout": {
        "annotations": [
         {
          "font": {},
          "showarrow": false,
          "text": "CPU count=8CPU",
          "x": 0.15666666666666665,
          "xanchor": "center",
          "xref": "paper",
          "y": 1,
          "yanchor": "bottom",
          "yref": "paper"
         },
         {
          "font": {},
          "showarrow": false,
          "text": "CPU count=16CPU",
          "x": 0.49,
          "xanchor": "center",
          "xref": "paper",
          "y": 1,
          "yanchor": "bottom",
          "yref": "paper"
         },
         {
          "font": {},
          "showarrow": false,
          "text": "CPU count=32CPU",
          "x": 0.8233333333333333,
          "xanchor": "center",
          "xref": "paper",
          "y": 1,
          "yanchor": "bottom",
          "yref": "paper"
         },
         {
          "font": {},
          "showarrow": false,
          "text": "Operation Batch Size=128MB",
          "textangle": 90,
          "x": 0.98,
          "xanchor": "left",
          "xref": "paper",
          "y": 0.2425,
          "yanchor": "middle",
          "yref": "paper"
         },
         {
          "font": {},
          "showarrow": false,
          "text": "Operation Batch Size=64MB",
          "textangle": 90,
          "x": 0.98,
          "xanchor": "left",
          "xref": "paper",
          "y": 0.7575000000000001,
          "yanchor": "middle",
          "yref": "paper"
         }
        ],
        "autosize": false,
        "barmode": "group",
        "font": {
         "size": 20
        },
        "height": 900,
        "legend": {
         "title": {
          "text": "Storage Media"
         },
         "tracegroupgap": 0
        },
        "margin": {
         "t": 60
        },
        "template": {
         "data": {
          "bar": [
           {
            "error_x": {
             "color": "#2a3f5f"
            },
            "error_y": {
             "color": "#2a3f5f"
            },
            "marker": {
             "line": {
              "color": "#E5ECF6",
              "width": 0.5
             }
            },
            "type": "bar"
           }
          ],
          "barpolar": [
           {
            "marker": {
             "line": {
              "color": "#E5ECF6",
              "width": 0.5
             }
            },
            "type": "barpolar"
           }
          ],
          "carpet": [
           {
            "aaxis": {
             "endlinecolor": "#2a3f5f",
             "gridcolor": "white",
             "linecolor": "white",
             "minorgridcolor": "white",
             "startlinecolor": "#2a3f5f"
            },
            "baxis": {
             "endlinecolor": "#2a3f5f",
             "gridcolor": "white",
             "linecolor": "white",
             "minorgridcolor": "white",
             "startlinecolor": "#2a3f5f"
            },
            "type": "carpet"
           }
          ],
          "choropleth": [
           {
            "colorbar": {
             "outlinewidth": 0,
             "ticks": ""
            },
            "type": "choropleth"
           }
          ],
          "contour": [
           {
            "colorbar": {
             "outlinewidth": 0,
             "ticks": ""
            },
            "colorscale": [
             [
              0,
              "#0d0887"
             ],
             [
              0.1111111111111111,
              "#46039f"
             ],
             [
              0.2222222222222222,
              "#7201a8"
             ],
             [
              0.3333333333333333,
              "#9c179e"
             ],
             [
              0.4444444444444444,
              "#bd3786"
             ],
             [
              0.5555555555555556,
              "#d8576b"
             ],
             [
              0.6666666666666666,
              "#ed7953"
             ],
             [
              0.7777777777777778,
              "#fb9f3a"
             ],
             [
              0.8888888888888888,
              "#fdca26"
             ],
             [
              1,
              "#f0f921"
             ]
            ],
            "type": "contour"
           }
          ],
          "contourcarpet": [
           {
            "colorbar": {
             "outlinewidth": 0,
             "ticks": ""
            },
            "type": "contourcarpet"
           }
          ],
          "heatmap": [
           {
            "colorbar": {
             "outlinewidth": 0,
             "ticks": ""
            },
            "colorscale": [
             [
              0,
              "#0d0887"
             ],
             [
              0.1111111111111111,
              "#46039f"
             ],
             [
              0.2222222222222222,
              "#7201a8"
             ],
             [
              0.3333333333333333,
              "#9c179e"
             ],
             [
              0.4444444444444444,
              "#bd3786"
             ],
             [
              0.5555555555555556,
              "#d8576b"
             ],
             [
              0.6666666666666666,
              "#ed7953"
             ],
             [
              0.7777777777777778,
              "#fb9f3a"
             ],
             [
              0.8888888888888888,
              "#fdca26"
             ],
             [
              1,
              "#f0f921"
             ]
            ],
            "type": "heatmap"
           }
          ],
          "heatmapgl": [
           {
            "colorbar": {
             "outlinewidth": 0,
             "ticks": ""
            },
            "colorscale": [
             [
              0,
              "#0d0887"
             ],
             [
              0.1111111111111111,
              "#46039f"
             ],
             [
              0.2222222222222222,
              "#7201a8"
             ],
             [
              0.3333333333333333,
              "#9c179e"
             ],
             [
              0.4444444444444444,
              "#bd3786"
             ],
             [
              0.5555555555555556,
              "#d8576b"
             ],
             [
              0.6666666666666666,
              "#ed7953"
             ],
             [
              0.7777777777777778,
              "#fb9f3a"
             ],
             [
              0.8888888888888888,
              "#fdca26"
             ],
             [
              1,
              "#f0f921"
             ]
            ],
            "type": "heatmapgl"
           }
          ],
          "histogram": [
           {
            "marker": {
             "colorbar": {
              "outlinewidth": 0,
              "ticks": ""
             }
            },
            "type": "histogram"
           }
          ],
          "histogram2d": [
           {
            "colorbar": {
             "outlinewidth": 0,
             "ticks": ""
            },
            "colorscale": [
             [
              0,
              "#0d0887"
             ],
             [
              0.1111111111111111,
              "#46039f"
             ],
             [
              0.2222222222222222,
              "#7201a8"
             ],
             [
              0.3333333333333333,
              "#9c179e"
             ],
             [
              0.4444444444444444,
              "#bd3786"
             ],
             [
              0.5555555555555556,
              "#d8576b"
             ],
             [
              0.6666666666666666,
              "#ed7953"
             ],
             [
              0.7777777777777778,
              "#fb9f3a"
             ],
             [
              0.8888888888888888,
              "#fdca26"
             ],
             [
              1,
              "#f0f921"
             ]
            ],
            "type": "histogram2d"
           }
          ],
          "histogram2dcontour": [
           {
            "colorbar": {
             "outlinewidth": 0,
             "ticks": ""
            },
            "colorscale": [
             [
              0,
              "#0d0887"
             ],
             [
              0.1111111111111111,
              "#46039f"
             ],
             [
              0.2222222222222222,
              "#7201a8"
             ],
             [
              0.3333333333333333,
              "#9c179e"
             ],
             [
              0.4444444444444444,
              "#bd3786"
             ],
             [
              0.5555555555555556,
              "#d8576b"
             ],
             [
              0.6666666666666666,
              "#ed7953"
             ],
             [
              0.7777777777777778,
              "#fb9f3a"
             ],
             [
              0.8888888888888888,
              "#fdca26"
             ],
             [
              1,
              "#f0f921"
             ]
            ],
            "type": "histogram2dcontour"
           }
          ],
          "mesh3d": [
           {
            "colorbar": {
             "outlinewidth": 0,
             "ticks": ""
            },
            "type": "mesh3d"
           }
          ],
          "parcoords": [
           {
            "line": {
             "colorbar": {
              "outlinewidth": 0,
              "ticks": ""
             }
            },
            "type": "parcoords"
           }
          ],
          "pie": [
           {
            "automargin": true,
            "type": "pie"
           }
          ],
          "scatter": [
           {
            "marker": {
             "colorbar": {
              "outlinewidth": 0,
              "ticks": ""
             }
            },
            "type": "scatter"
           }
          ],
          "scatter3d": [
           {
            "line": {
             "colorbar": {
              "outlinewidth": 0,
              "ticks": ""
             }
            },
            "marker": {
             "colorbar": {
              "outlinewidth": 0,
              "ticks": ""
             }
            },
            "type": "scatter3d"
           }
          ],
          "scattercarpet": [
           {
            "marker": {
             "colorbar": {
              "outlinewidth": 0,
              "ticks": ""
             }
            },
            "type": "scattercarpet"
           }
          ],
          "scattergeo": [
           {
            "marker": {
             "colorbar": {
              "outlinewidth": 0,
              "ticks": ""
             }
            },
            "type": "scattergeo"
           }
          ],
          "scattergl": [
           {
            "marker": {
             "colorbar": {
              "outlinewidth": 0,
              "ticks": ""
             }
            },
            "type": "scattergl"
           }
          ],
          "scattermapbox": [
           {
            "marker": {
             "colorbar": {
              "outlinewidth": 0,
              "ticks": ""
             }
            },
            "type": "scattermapbox"
           }
          ],
          "scatterpolar": [
           {
            "marker": {
             "colorbar": {
              "outlinewidth": 0,
              "ticks": ""
             }
            },
            "type": "scatterpolar"
           }
          ],
          "scatterpolargl": [
           {
            "marker": {
             "colorbar": {
              "outlinewidth": 0,
              "ticks": ""
             }
            },
            "type": "scatterpolargl"
           }
          ],
          "scatterternary": [
           {
            "marker": {
             "colorbar": {
              "outlinewidth": 0,
              "ticks": ""
             }
            },
            "type": "scatterternary"
           }
          ],
          "surface": [
           {
            "colorbar": {
             "outlinewidth": 0,
             "ticks": ""
            },
            "colorscale": [
             [
              0,
              "#0d0887"
             ],
             [
              0.1111111111111111,
              "#46039f"
             ],
             [
              0.2222222222222222,
              "#7201a8"
             ],
             [
              0.3333333333333333,
              "#9c179e"
             ],
             [
              0.4444444444444444,
              "#bd3786"
             ],
             [
              0.5555555555555556,
              "#d8576b"
             ],
             [
              0.6666666666666666,
              "#ed7953"
             ],
             [
              0.7777777777777778,
              "#fb9f3a"
             ],
             [
              0.8888888888888888,
              "#fdca26"
             ],
             [
              1,
              "#f0f921"
             ]
            ],
            "type": "surface"
           }
          ],
          "table": [
           {
            "cells": {
             "fill": {
              "color": "#EBF0F8"
             },
             "line": {
              "color": "white"
             }
            },
            "header": {
             "fill": {
              "color": "#C8D4E3"
             },
             "line": {
              "color": "white"
             }
            },
            "type": "table"
           }
          ]
         },
         "layout": {
          "annotationdefaults": {
           "arrowcolor": "#2a3f5f",
           "arrowhead": 0,
           "arrowwidth": 1
          },
          "coloraxis": {
           "colorbar": {
            "outlinewidth": 0,
            "ticks": ""
           }
          },
          "colorscale": {
           "diverging": [
            [
             0,
             "#8e0152"
            ],
            [
             0.1,
             "#c51b7d"
            ],
            [
             0.2,
             "#de77ae"
            ],
            [
             0.3,
             "#f1b6da"
            ],
            [
             0.4,
             "#fde0ef"
            ],
            [
             0.5,
             "#f7f7f7"
            ],
            [
             0.6,
             "#e6f5d0"
            ],
            [
             0.7,
             "#b8e186"
            ],
            [
             0.8,
             "#7fbc41"
            ],
            [
             0.9,
             "#4d9221"
            ],
            [
             1,
             "#276419"
            ]
           ],
           "sequential": [
            [
             0,
             "#0d0887"
            ],
            [
             0.1111111111111111,
             "#46039f"
            ],
            [
             0.2222222222222222,
             "#7201a8"
            ],
            [
             0.3333333333333333,
             "#9c179e"
            ],
            [
             0.4444444444444444,
             "#bd3786"
            ],
            [
             0.5555555555555556,
             "#d8576b"
            ],
            [
             0.6666666666666666,
             "#ed7953"
            ],
            [
             0.7777777777777778,
             "#fb9f3a"
            ],
            [
             0.8888888888888888,
             "#fdca26"
            ],
            [
             1,
             "#f0f921"
            ]
           ],
           "sequentialminus": [
            [
             0,
             "#0d0887"
            ],
            [
             0.1111111111111111,
             "#46039f"
            ],
            [
             0.2222222222222222,
             "#7201a8"
            ],
            [
             0.3333333333333333,
             "#9c179e"
            ],
            [
             0.4444444444444444,
             "#bd3786"
            ],
            [
             0.5555555555555556,
             "#d8576b"
            ],
            [
             0.6666666666666666,
             "#ed7953"
            ],
            [
             0.7777777777777778,
             "#fb9f3a"
            ],
            [
             0.8888888888888888,
             "#fdca26"
            ],
            [
             1,
             "#f0f921"
            ]
           ]
          },
          "colorway": [
           "#636efa",
           "#EF553B",
           "#00cc96",
           "#ab63fa",
           "#FFA15A",
           "#19d3f3",
           "#FF6692",
           "#B6E880",
           "#FF97FF",
           "#FECB52"
          ],
          "font": {
           "color": "#2a3f5f"
          },
          "geo": {
           "bgcolor": "white",
           "lakecolor": "white",
           "landcolor": "#E5ECF6",
           "showlakes": true,
           "showland": true,
           "subunitcolor": "white"
          },
          "hoverlabel": {
           "align": "left"
          },
          "hovermode": "closest",
          "mapbox": {
           "style": "light"
          },
          "paper_bgcolor": "white",
          "plot_bgcolor": "#E5ECF6",
          "polar": {
           "angularaxis": {
            "gridcolor": "white",
            "linecolor": "white",
            "ticks": ""
           },
           "bgcolor": "#E5ECF6",
           "radialaxis": {
            "gridcolor": "white",
            "linecolor": "white",
            "ticks": ""
           }
          },
          "scene": {
           "xaxis": {
            "backgroundcolor": "#E5ECF6",
            "gridcolor": "white",
            "gridwidth": 2,
            "linecolor": "white",
            "showbackground": true,
            "ticks": "",
            "zerolinecolor": "white"
           },
           "yaxis": {
            "backgroundcolor": "#E5ECF6",
            "gridcolor": "white",
            "gridwidth": 2,
            "linecolor": "white",
            "showbackground": true,
            "ticks": "",
            "zerolinecolor": "white"
           },
           "zaxis": {
            "backgroundcolor": "#E5ECF6",
            "gridcolor": "white",
            "gridwidth": 2,
            "linecolor": "white",
            "showbackground": true,
            "ticks": "",
            "zerolinecolor": "white"
           }
          },
          "shapedefaults": {
           "line": {
            "color": "#2a3f5f"
           }
          },
          "ternary": {
           "aaxis": {
            "gridcolor": "white",
            "linecolor": "white",
            "ticks": ""
           },
           "baxis": {
            "gridcolor": "white",
            "linecolor": "white",
            "ticks": ""
           },
           "bgcolor": "#E5ECF6",
           "caxis": {
            "gridcolor": "white",
            "linecolor": "white",
            "ticks": ""
           }
          },
          "title": {
           "x": 0.05
          },
          "xaxis": {
           "automargin": true,
           "gridcolor": "white",
           "linecolor": "white",
           "ticks": "",
           "title": {
            "standoff": 15
           },
           "zerolinecolor": "white",
           "zerolinewidth": 2
          },
          "yaxis": {
           "automargin": true,
           "gridcolor": "white",
           "linecolor": "white",
           "ticks": "",
           "title": {
            "standoff": 15
           },
           "zerolinecolor": "white",
           "zerolinewidth": 2
          }
         }
        },
        "width": 1600,
        "xaxis": {
         "anchor": "y",
         "domain": [
          0,
          0.3133333333333333
         ],
         "showgrid": false,
         "title": {
          "text": "keyrange_count"
         }
        },
        "xaxis2": {
         "anchor": "y2",
         "domain": [
          0.3333333333333333,
          0.6466666666666666
         ],
         "matches": "x",
         "showgrid": false,
         "title": {
          "text": "keyrange_count"
         }
        },
        "xaxis3": {
         "anchor": "y3",
         "domain": [
          0.6666666666666666,
          0.98
         ],
         "matches": "x",
         "showgrid": false,
         "title": {
          "text": "keyrange_count"
         }
        },
        "xaxis4": {
         "anchor": "y4",
         "domain": [
          0,
          0.3133333333333333
         ],
         "matches": "x",
         "showgrid": false,
         "showticklabels": false
        },
        "xaxis5": {
         "anchor": "y5",
         "domain": [
          0.3333333333333333,
          0.6466666666666666
         ],
         "matches": "x",
         "showgrid": false,
         "showticklabels": false
        },
        "xaxis6": {
         "anchor": "y6",
         "domain": [
          0.6666666666666666,
          0.98
         ],
         "matches": "x",
         "showgrid": false,
         "showticklabels": false
        },
        "yaxis": {
         "anchor": "x",
         "automargin": true,
         "domain": [
          0,
          0.485
         ],
         "title": {
          "text": "overall_compaction_cpu_latency"
         }
        },
        "yaxis2": {
         "anchor": "x2",
         "automargin": true,
         "domain": [
          0,
          0.485
         ],
         "matches": "y",
         "showticklabels": false
        },
        "yaxis3": {
         "anchor": "x3",
         "automargin": true,
         "domain": [
          0,
          0.485
         ],
         "matches": "y",
         "showticklabels": false
        },
        "yaxis4": {
         "anchor": "x4",
         "automargin": true,
         "domain": [
          0.515,
          1
         ],
         "matches": "y",
         "title": {
          "text": "overall_compaction_cpu_latency"
         }
        },
        "yaxis5": {
         "anchor": "x5",
         "automargin": true,
         "domain": [
          0.515,
          1
         ],
         "matches": "y",
         "showticklabels": false
        },
        "yaxis6": {
         "anchor": "x6",
         "automargin": true,
         "domain": [
          0.515,
          1
         ],
         "matches": "y",
         "showticklabels": false
        }
       }
      },
      "text/html": [
       "<div>\n",
       "        \n",
       "        \n",
       "            <div id=\"14288226-d897-4b8a-846a-902f4b628c19\" class=\"plotly-graph-div\" style=\"height:900px; width:1600px;\"></div>\n",
       "            <script type=\"text/javascript\">\n",
       "                require([\"plotly\"], function(Plotly) {\n",
       "                    window.PLOTLYENV=window.PLOTLYENV || {};\n",
       "                    \n",
       "                if (document.getElementById(\"14288226-d897-4b8a-846a-902f4b628c19\")) {\n",
       "                    Plotly.newPlot(\n",
       "                        '14288226-d897-4b8a-846a-902f4b628c19',\n",
       "                        [{\"alignmentgroup\": \"True\", \"hovertemplate\": \"Storage Media=SATASSD<br>Operation Batch Size=64MB<br>CPU count=8CPU<br>keyrange_count=%{x}<br>overall_compaction_cpu_latency=%{y}<extra></extra>\", \"legendgroup\": \"SATASSD\", \"marker\": {\"color\": \"#636efa\"}, \"name\": \"SATASSD\", \"offsetgroup\": \"SATASSD\", \"orientation\": \"v\", \"showlegend\": true, \"textposition\": \"auto\", \"type\": \"bar\", \"x\": [60, 90, 15, 30], \"xaxis\": \"x4\", \"y\": [1108592236, 1090078085, 1054992259, 1401239923], \"yaxis\": \"y4\"}, {\"alignmentgroup\": \"True\", \"hovertemplate\": \"Storage Media=SATASSD<br>Operation Batch Size=64MB<br>CPU count=16CPU<br>keyrange_count=%{x}<br>overall_compaction_cpu_latency=%{y}<extra></extra>\", \"legendgroup\": \"SATASSD\", \"marker\": {\"color\": \"#636efa\"}, \"name\": \"SATASSD\", \"offsetgroup\": \"SATASSD\", \"orientation\": \"v\", \"showlegend\": false, \"textposition\": \"auto\", \"type\": \"bar\", \"x\": [60, 90, 15, 30], \"xaxis\": \"x5\", \"y\": [1130506482, 1088587752, 1077151520, 1400183159], \"yaxis\": \"y5\"}, {\"alignmentgroup\": \"True\", \"hovertemplate\": \"Storage Media=SATASSD<br>Operation Batch Size=64MB<br>CPU count=32CPU<br>keyrange_count=%{x}<br>overall_compaction_cpu_latency=%{y}<extra></extra>\", \"legendgroup\": \"SATASSD\", \"marker\": {\"color\": \"#636efa\"}, \"name\": \"SATASSD\", \"offsetgroup\": \"SATASSD\", \"orientation\": \"v\", \"showlegend\": false, \"textposition\": \"auto\", \"type\": \"bar\", \"x\": [60, 90, 15, 30], \"xaxis\": \"x6\", \"y\": [1147922088, 1134373061, 1098530308, 1410060002], \"yaxis\": \"y6\"}, {\"alignmentgroup\": \"True\", \"hovertemplate\": \"Storage Media=SATASSD<br>Operation Batch Size=128MB<br>CPU count=8CPU<br>keyrange_count=%{x}<br>overall_compaction_cpu_latency=%{y}<extra></extra>\", \"legendgroup\": \"SATASSD\", \"marker\": {\"color\": \"#636efa\"}, \"name\": \"SATASSD\", \"offsetgroup\": \"SATASSD\", \"orientation\": \"v\", \"showlegend\": false, \"textposition\": \"auto\", \"type\": \"bar\", \"x\": [60, 90, 15, 30], \"xaxis\": \"x\", \"y\": [964594473, 913281659, 942581258, 1193728738], \"yaxis\": \"y\"}, {\"alignmentgroup\": \"True\", \"hovertemplate\": \"Storage Media=SATASSD<br>Operation Batch Size=128MB<br>CPU count=16CPU<br>keyrange_count=%{x}<br>overall_compaction_cpu_latency=%{y}<extra></extra>\", \"legendgroup\": \"SATASSD\", \"marker\": {\"color\": \"#636efa\"}, \"name\": \"SATASSD\", \"offsetgroup\": \"SATASSD\", \"orientation\": \"v\", \"showlegend\": false, \"textposition\": \"auto\", \"type\": \"bar\", \"x\": [60, 90, 15, 30], \"xaxis\": \"x2\", \"y\": [977361063, 969168698, 915100404, 1215725607], \"yaxis\": \"y2\"}, {\"alignmentgroup\": \"True\", \"hovertemplate\": \"Storage Media=SATASSD<br>Operation Batch Size=128MB<br>CPU count=32CPU<br>keyrange_count=%{x}<br>overall_compaction_cpu_latency=%{y}<extra></extra>\", \"legendgroup\": \"SATASSD\", \"marker\": {\"color\": \"#636efa\"}, \"name\": \"SATASSD\", \"offsetgroup\": \"SATASSD\", \"orientation\": \"v\", \"showlegend\": false, \"textposition\": \"auto\", \"type\": \"bar\", \"x\": [60, 90, 15, 30], \"xaxis\": \"x3\", \"y\": [999339721, 969089273, 984470899, 1233235807], \"yaxis\": \"y3\"}, {\"alignmentgroup\": \"True\", \"hovertemplate\": \"Storage Media=SATAHDD<br>Operation Batch Size=64MB<br>CPU count=8CPU<br>keyrange_count=%{x}<br>overall_compaction_cpu_latency=%{y}<extra></extra>\", \"legendgroup\": \"SATAHDD\", \"marker\": {\"color\": \"#EF553B\"}, \"name\": \"SATAHDD\", \"offsetgroup\": \"SATAHDD\", \"orientation\": \"v\", \"showlegend\": true, \"textposition\": \"auto\", \"type\": \"bar\", \"x\": [60, 90, 15, 30], \"xaxis\": \"x4\", \"y\": [989142931, 1025834220, 1016828483, 1252796484], \"yaxis\": \"y4\"}, {\"alignmentgroup\": \"True\", \"hovertemplate\": \"Storage Media=SATAHDD<br>Operation Batch Size=64MB<br>CPU count=16CPU<br>keyrange_count=%{x}<br>overall_compaction_cpu_latency=%{y}<extra></extra>\", \"legendgroup\": \"SATAHDD\", \"marker\": {\"color\": \"#EF553B\"}, \"name\": \"SATAHDD\", \"offsetgroup\": \"SATAHDD\", \"orientation\": \"v\", \"showlegend\": false, \"textposition\": \"auto\", \"type\": \"bar\", \"x\": [60, 90, 15, 30], \"xaxis\": \"x5\", \"y\": [995684190, 1036011758, 1055480191, 1400417154], \"yaxis\": \"y5\"}, {\"alignmentgroup\": \"True\", \"hovertemplate\": \"Storage Media=SATAHDD<br>Operation Batch Size=64MB<br>CPU count=32CPU<br>keyrange_count=%{x}<br>overall_compaction_cpu_latency=%{y}<extra></extra>\", \"legendgroup\": \"SATAHDD\", \"marker\": {\"color\": \"#EF553B\"}, \"name\": \"SATAHDD\", \"offsetgroup\": \"SATAHDD\", \"orientation\": \"v\", \"showlegend\": false, \"textposition\": \"auto\", \"type\": \"bar\", \"x\": [60, 90, 15, 30], \"xaxis\": \"x6\", \"y\": [1026889250, 1048007678, 1056528210, 1420775395], \"yaxis\": \"y6\"}, {\"alignmentgroup\": \"True\", \"hovertemplate\": \"Storage Media=SATAHDD<br>Operation Batch Size=128MB<br>CPU count=8CPU<br>keyrange_count=%{x}<br>overall_compaction_cpu_latency=%{y}<extra></extra>\", \"legendgroup\": \"SATAHDD\", \"marker\": {\"color\": \"#EF553B\"}, \"name\": \"SATAHDD\", \"offsetgroup\": \"SATAHDD\", \"orientation\": \"v\", \"showlegend\": false, \"textposition\": \"auto\", \"type\": \"bar\", \"x\": [60, 90, 15, 30], \"xaxis\": \"x\", \"y\": [875780010, 845263872, 874500628, 948214278], \"yaxis\": \"y\"}, {\"alignmentgroup\": \"True\", \"hovertemplate\": \"Storage Media=SATAHDD<br>Operation Batch Size=128MB<br>CPU count=16CPU<br>keyrange_count=%{x}<br>overall_compaction_cpu_latency=%{y}<extra></extra>\", \"legendgroup\": \"SATAHDD\", \"marker\": {\"color\": \"#EF553B\"}, \"name\": \"SATAHDD\", \"offsetgroup\": \"SATAHDD\", \"orientation\": \"v\", \"showlegend\": false, \"textposition\": \"auto\", \"type\": \"bar\", \"x\": [60, 90, 15, 30], \"xaxis\": \"x2\", \"y\": [819600756, 870009793, 872184078, 1106311545], \"yaxis\": \"y2\"}, {\"alignmentgroup\": \"True\", \"hovertemplate\": \"Storage Media=SATAHDD<br>Operation Batch Size=128MB<br>CPU count=32CPU<br>keyrange_count=%{x}<br>overall_compaction_cpu_latency=%{y}<extra></extra>\", \"legendgroup\": \"SATAHDD\", \"marker\": {\"color\": \"#EF553B\"}, \"name\": \"SATAHDD\", \"offsetgroup\": \"SATAHDD\", \"orientation\": \"v\", \"showlegend\": false, \"textposition\": \"auto\", \"type\": \"bar\", \"x\": [60, 90, 15, 30], \"xaxis\": \"x3\", \"y\": [848760041, 851480254, 892112484, 1126412539], \"yaxis\": \"y3\"}, {\"alignmentgroup\": \"True\", \"hovertemplate\": \"Storage Media=NVMeSSD<br>Operation Batch Size=64MB<br>CPU count=8CPU<br>keyrange_count=%{x}<br>overall_compaction_cpu_latency=%{y}<extra></extra>\", \"legendgroup\": \"NVMeSSD\", \"marker\": {\"color\": \"#00cc96\"}, \"name\": \"NVMeSSD\", \"offsetgroup\": \"NVMeSSD\", \"orientation\": \"v\", \"showlegend\": true, \"textposition\": \"auto\", \"type\": \"bar\", \"x\": [60, 90, 15, 30], \"xaxis\": \"x4\", \"y\": [1187493930, 1211485056, 1182646451, 1455051456], \"yaxis\": \"y4\"}, {\"alignmentgroup\": \"True\", \"hovertemplate\": \"Storage Media=NVMeSSD<br>Operation Batch Size=64MB<br>CPU count=16CPU<br>keyrange_count=%{x}<br>overall_compaction_cpu_latency=%{y}<extra></extra>\", \"legendgroup\": \"NVMeSSD\", \"marker\": {\"color\": \"#00cc96\"}, \"name\": \"NVMeSSD\", \"offsetgroup\": \"NVMeSSD\", \"orientation\": \"v\", \"showlegend\": false, \"textposition\": \"auto\", \"type\": \"bar\", \"x\": [60, 90, 15, 30], \"xaxis\": \"x5\", \"y\": [1192364950, 1198097208, 1200971656, 1441802716], \"yaxis\": \"y5\"}, {\"alignmentgroup\": \"True\", \"hovertemplate\": \"Storage Media=NVMeSSD<br>Operation Batch Size=64MB<br>CPU count=32CPU<br>keyrange_count=%{x}<br>overall_compaction_cpu_latency=%{y}<extra></extra>\", \"legendgroup\": \"NVMeSSD\", \"marker\": {\"color\": \"#00cc96\"}, \"name\": \"NVMeSSD\", \"offsetgroup\": \"NVMeSSD\", \"orientation\": \"v\", \"showlegend\": false, \"textposition\": \"auto\", \"type\": \"bar\", \"x\": [60, 90, 15, 30], \"xaxis\": \"x6\", \"y\": [1234552160, 1229313471, 1190733352, 1443168277], \"yaxis\": \"y6\"}, {\"alignmentgroup\": \"True\", \"hovertemplate\": \"Storage Media=NVMeSSD<br>Operation Batch Size=128MB<br>CPU count=8CPU<br>keyrange_count=%{x}<br>overall_compaction_cpu_latency=%{y}<extra></extra>\", \"legendgroup\": \"NVMeSSD\", \"marker\": {\"color\": \"#00cc96\"}, \"name\": \"NVMeSSD\", \"offsetgroup\": \"NVMeSSD\", \"orientation\": \"v\", \"showlegend\": false, \"textposition\": \"auto\", \"type\": \"bar\", \"x\": [60, 90, 15, 30], \"xaxis\": \"x\", \"y\": [1069072862, 1042568551, 1028951164, 1322515811], \"yaxis\": \"y\"}, {\"alignmentgroup\": \"True\", \"hovertemplate\": \"Storage Media=NVMeSSD<br>Operation Batch Size=128MB<br>CPU count=16CPU<br>keyrange_count=%{x}<br>overall_compaction_cpu_latency=%{y}<extra></extra>\", \"legendgroup\": \"NVMeSSD\", \"marker\": {\"color\": \"#00cc96\"}, \"name\": \"NVMeSSD\", \"offsetgroup\": \"NVMeSSD\", \"orientation\": \"v\", \"showlegend\": false, \"textposition\": \"auto\", \"type\": \"bar\", \"x\": [60, 90, 15, 30], \"xaxis\": \"x2\", \"y\": [1069431284, 1048770201, 1031122344, 1338248764], \"yaxis\": \"y2\"}, {\"alignmentgroup\": \"True\", \"hovertemplate\": \"Storage Media=NVMeSSD<br>Operation Batch Size=128MB<br>CPU count=32CPU<br>keyrange_count=%{x}<br>overall_compaction_cpu_latency=%{y}<extra></extra>\", \"legendgroup\": \"NVMeSSD\", \"marker\": {\"color\": \"#00cc96\"}, \"name\": \"NVMeSSD\", \"offsetgroup\": \"NVMeSSD\", \"orientation\": \"v\", \"showlegend\": false, \"textposition\": \"auto\", \"type\": \"bar\", \"x\": [60, 90, 15, 30], \"xaxis\": \"x3\", \"y\": [1080598874, 1053627356, 1051980645, 1423414759], \"yaxis\": \"y3\"}, {\"alignmentgroup\": \"True\", \"hovertemplate\": \"Storage Media=PM<br>Operation Batch Size=64MB<br>CPU count=8CPU<br>keyrange_count=%{x}<br>overall_compaction_cpu_latency=%{y}<extra></extra>\", \"legendgroup\": \"PM\", \"marker\": {\"color\": \"#ab63fa\"}, \"name\": \"PM\", \"offsetgroup\": \"PM\", \"orientation\": \"v\", \"showlegend\": true, \"textposition\": \"auto\", \"type\": \"bar\", \"x\": [60, 90, 15, 30], \"xaxis\": \"x4\", \"y\": [1136662617, 1125396397, 1070168271, 1372111783], \"yaxis\": \"y4\"}, {\"alignmentgroup\": \"True\", \"hovertemplate\": \"Storage Media=PM<br>Operation Batch Size=64MB<br>CPU count=16CPU<br>keyrange_count=%{x}<br>overall_compaction_cpu_latency=%{y}<extra></extra>\", \"legendgroup\": \"PM\", \"marker\": {\"color\": \"#ab63fa\"}, \"name\": \"PM\", \"offsetgroup\": \"PM\", \"orientation\": \"v\", \"showlegend\": false, \"textposition\": \"auto\", \"type\": \"bar\", \"x\": [60, 90, 15, 30], \"xaxis\": \"x5\", \"y\": [1138746410, 1113457746, 1083120463, 1368756225], \"yaxis\": \"y5\"}, {\"alignmentgroup\": \"True\", \"hovertemplate\": \"Storage Media=PM<br>Operation Batch Size=64MB<br>CPU count=32CPU<br>keyrange_count=%{x}<br>overall_compaction_cpu_latency=%{y}<extra></extra>\", \"legendgroup\": \"PM\", \"marker\": {\"color\": \"#ab63fa\"}, \"name\": \"PM\", \"offsetgroup\": \"PM\", \"orientation\": \"v\", \"showlegend\": false, \"textposition\": \"auto\", \"type\": \"bar\", \"x\": [60, 90, 15, 30], \"xaxis\": \"x6\", \"y\": [1145905149, 1095051075, 1090006427, 1409955036], \"yaxis\": \"y6\"}, {\"alignmentgroup\": \"True\", \"hovertemplate\": \"Storage Media=PM<br>Operation Batch Size=128MB<br>CPU count=8CPU<br>keyrange_count=%{x}<br>overall_compaction_cpu_latency=%{y}<extra></extra>\", \"legendgroup\": \"PM\", \"marker\": {\"color\": \"#ab63fa\"}, \"name\": \"PM\", \"offsetgroup\": \"PM\", \"orientation\": \"v\", \"showlegend\": false, \"textposition\": \"auto\", \"type\": \"bar\", \"x\": [60, 90, 15, 30], \"xaxis\": \"x\", \"y\": [984076859, 971925009, 944993073, 1189788935], \"yaxis\": \"y\"}, {\"alignmentgroup\": \"True\", \"hovertemplate\": \"Storage Media=PM<br>Operation Batch Size=128MB<br>CPU count=16CPU<br>keyrange_count=%{x}<br>overall_compaction_cpu_latency=%{y}<extra></extra>\", \"legendgroup\": \"PM\", \"marker\": {\"color\": \"#ab63fa\"}, \"name\": \"PM\", \"offsetgroup\": \"PM\", \"orientation\": \"v\", \"showlegend\": false, \"textposition\": \"auto\", \"type\": \"bar\", \"x\": [60, 90, 15, 30], \"xaxis\": \"x2\", \"y\": [980573676, 998588176, 955604864, 1192452086], \"yaxis\": \"y2\"}, {\"alignmentgroup\": \"True\", \"hovertemplate\": \"Storage Media=PM<br>Operation Batch Size=128MB<br>CPU count=32CPU<br>keyrange_count=%{x}<br>overall_compaction_cpu_latency=%{y}<extra></extra>\", \"legendgroup\": \"PM\", \"marker\": {\"color\": \"#ab63fa\"}, \"name\": \"PM\", \"offsetgroup\": \"PM\", \"orientation\": \"v\", \"showlegend\": false, \"textposition\": \"auto\", \"type\": \"bar\", \"x\": [60, 90, 15, 30], \"xaxis\": \"x3\", \"y\": [1050458783, 1034566274, 1005085484, 1205938673], \"yaxis\": \"y3\"}],\n",
       "                        {\"annotations\": [{\"font\": {}, \"showarrow\": false, \"text\": \"CPU count=8CPU\", \"x\": 0.15666666666666665, \"xanchor\": \"center\", \"xref\": \"paper\", \"y\": 1.0, \"yanchor\": \"bottom\", \"yref\": \"paper\"}, {\"font\": {}, \"showarrow\": false, \"text\": \"CPU count=16CPU\", \"x\": 0.49, \"xanchor\": \"center\", \"xref\": \"paper\", \"y\": 1.0, \"yanchor\": \"bottom\", \"yref\": \"paper\"}, {\"font\": {}, \"showarrow\": false, \"text\": \"CPU count=32CPU\", \"x\": 0.8233333333333333, \"xanchor\": \"center\", \"xref\": \"paper\", \"y\": 1.0, \"yanchor\": \"bottom\", \"yref\": \"paper\"}, {\"font\": {}, \"showarrow\": false, \"text\": \"Operation Batch Size=128MB\", \"textangle\": 90, \"x\": 0.98, \"xanchor\": \"left\", \"xref\": \"paper\", \"y\": 0.2425, \"yanchor\": \"middle\", \"yref\": \"paper\"}, {\"font\": {}, \"showarrow\": false, \"text\": \"Operation Batch Size=64MB\", \"textangle\": 90, \"x\": 0.98, \"xanchor\": \"left\", \"xref\": \"paper\", \"y\": 0.7575000000000001, \"yanchor\": \"middle\", \"yref\": \"paper\"}], \"autosize\": false, \"barmode\": \"group\", \"font\": {\"size\": 20}, \"height\": 900, \"legend\": {\"title\": {\"text\": \"Storage Media\"}, \"tracegroupgap\": 0}, \"margin\": {\"t\": 60}, \"template\": {\"data\": {\"bar\": [{\"error_x\": {\"color\": \"#2a3f5f\"}, \"error_y\": {\"color\": \"#2a3f5f\"}, \"marker\": {\"line\": {\"color\": \"#E5ECF6\", \"width\": 0.5}}, \"type\": \"bar\"}], \"barpolar\": [{\"marker\": {\"line\": {\"color\": \"#E5ECF6\", \"width\": 0.5}}, \"type\": \"barpolar\"}], \"carpet\": [{\"aaxis\": {\"endlinecolor\": \"#2a3f5f\", \"gridcolor\": \"white\", \"linecolor\": \"white\", \"minorgridcolor\": \"white\", \"startlinecolor\": \"#2a3f5f\"}, \"baxis\": {\"endlinecolor\": \"#2a3f5f\", \"gridcolor\": \"white\", \"linecolor\": \"white\", \"minorgridcolor\": \"white\", \"startlinecolor\": \"#2a3f5f\"}, \"type\": \"carpet\"}], \"choropleth\": [{\"colorbar\": {\"outlinewidth\": 0, \"ticks\": \"\"}, \"type\": \"choropleth\"}], \"contour\": [{\"colorbar\": {\"outlinewidth\": 0, \"ticks\": \"\"}, \"colorscale\": [[0.0, \"#0d0887\"], [0.1111111111111111, \"#46039f\"], [0.2222222222222222, \"#7201a8\"], [0.3333333333333333, \"#9c179e\"], [0.4444444444444444, \"#bd3786\"], [0.5555555555555556, \"#d8576b\"], [0.6666666666666666, \"#ed7953\"], [0.7777777777777778, \"#fb9f3a\"], [0.8888888888888888, \"#fdca26\"], [1.0, \"#f0f921\"]], \"type\": \"contour\"}], \"contourcarpet\": [{\"colorbar\": {\"outlinewidth\": 0, \"ticks\": \"\"}, \"type\": \"contourcarpet\"}], \"heatmap\": [{\"colorbar\": {\"outlinewidth\": 0, \"ticks\": \"\"}, \"colorscale\": [[0.0, \"#0d0887\"], [0.1111111111111111, \"#46039f\"], [0.2222222222222222, \"#7201a8\"], [0.3333333333333333, \"#9c179e\"], [0.4444444444444444, \"#bd3786\"], [0.5555555555555556, \"#d8576b\"], [0.6666666666666666, \"#ed7953\"], [0.7777777777777778, \"#fb9f3a\"], [0.8888888888888888, \"#fdca26\"], [1.0, \"#f0f921\"]], \"type\": \"heatmap\"}], \"heatmapgl\": [{\"colorbar\": {\"outlinewidth\": 0, \"ticks\": \"\"}, \"colorscale\": [[0.0, \"#0d0887\"], [0.1111111111111111, \"#46039f\"], [0.2222222222222222, \"#7201a8\"], [0.3333333333333333, \"#9c179e\"], [0.4444444444444444, \"#bd3786\"], [0.5555555555555556, \"#d8576b\"], [0.6666666666666666, \"#ed7953\"], [0.7777777777777778, \"#fb9f3a\"], [0.8888888888888888, \"#fdca26\"], [1.0, \"#f0f921\"]], \"type\": \"heatmapgl\"}], \"histogram\": [{\"marker\": {\"colorbar\": {\"outlinewidth\": 0, \"ticks\": \"\"}}, \"type\": \"histogram\"}], \"histogram2d\": [{\"colorbar\": {\"outlinewidth\": 0, \"ticks\": \"\"}, \"colorscale\": [[0.0, \"#0d0887\"], [0.1111111111111111, \"#46039f\"], [0.2222222222222222, \"#7201a8\"], [0.3333333333333333, \"#9c179e\"], [0.4444444444444444, \"#bd3786\"], [0.5555555555555556, \"#d8576b\"], [0.6666666666666666, \"#ed7953\"], [0.7777777777777778, \"#fb9f3a\"], [0.8888888888888888, \"#fdca26\"], [1.0, \"#f0f921\"]], \"type\": \"histogram2d\"}], \"histogram2dcontour\": [{\"colorbar\": {\"outlinewidth\": 0, \"ticks\": \"\"}, \"colorscale\": [[0.0, \"#0d0887\"], [0.1111111111111111, \"#46039f\"], [0.2222222222222222, \"#7201a8\"], [0.3333333333333333, \"#9c179e\"], [0.4444444444444444, \"#bd3786\"], [0.5555555555555556, \"#d8576b\"], [0.6666666666666666, \"#ed7953\"], [0.7777777777777778, \"#fb9f3a\"], [0.8888888888888888, \"#fdca26\"], [1.0, \"#f0f921\"]], \"type\": \"histogram2dcontour\"}], \"mesh3d\": [{\"colorbar\": {\"outlinewidth\": 0, \"ticks\": \"\"}, \"type\": \"mesh3d\"}], \"parcoords\": [{\"line\": {\"colorbar\": {\"outlinewidth\": 0, \"ticks\": \"\"}}, \"type\": \"parcoords\"}], \"pie\": [{\"automargin\": true, \"type\": \"pie\"}], \"scatter\": [{\"marker\": {\"colorbar\": {\"outlinewidth\": 0, \"ticks\": \"\"}}, \"type\": \"scatter\"}], \"scatter3d\": [{\"line\": {\"colorbar\": {\"outlinewidth\": 0, \"ticks\": \"\"}}, \"marker\": {\"colorbar\": {\"outlinewidth\": 0, \"ticks\": \"\"}}, \"type\": \"scatter3d\"}], \"scattercarpet\": [{\"marker\": {\"colorbar\": {\"outlinewidth\": 0, \"ticks\": \"\"}}, \"type\": \"scattercarpet\"}], \"scattergeo\": [{\"marker\": {\"colorbar\": {\"outlinewidth\": 0, \"ticks\": \"\"}}, \"type\": \"scattergeo\"}], \"scattergl\": [{\"marker\": {\"colorbar\": {\"outlinewidth\": 0, \"ticks\": \"\"}}, \"type\": \"scattergl\"}], \"scattermapbox\": [{\"marker\": {\"colorbar\": {\"outlinewidth\": 0, \"ticks\": \"\"}}, \"type\": \"scattermapbox\"}], \"scatterpolar\": [{\"marker\": {\"colorbar\": {\"outlinewidth\": 0, \"ticks\": \"\"}}, \"type\": \"scatterpolar\"}], \"scatterpolargl\": [{\"marker\": {\"colorbar\": {\"outlinewidth\": 0, \"ticks\": \"\"}}, \"type\": \"scatterpolargl\"}], \"scatterternary\": [{\"marker\": {\"colorbar\": {\"outlinewidth\": 0, \"ticks\": \"\"}}, \"type\": \"scatterternary\"}], \"surface\": [{\"colorbar\": {\"outlinewidth\": 0, \"ticks\": \"\"}, \"colorscale\": [[0.0, \"#0d0887\"], [0.1111111111111111, \"#46039f\"], [0.2222222222222222, \"#7201a8\"], [0.3333333333333333, \"#9c179e\"], [0.4444444444444444, \"#bd3786\"], [0.5555555555555556, \"#d8576b\"], [0.6666666666666666, \"#ed7953\"], [0.7777777777777778, \"#fb9f3a\"], [0.8888888888888888, \"#fdca26\"], [1.0, \"#f0f921\"]], \"type\": \"surface\"}], \"table\": [{\"cells\": {\"fill\": {\"color\": \"#EBF0F8\"}, \"line\": {\"color\": \"white\"}}, \"header\": {\"fill\": {\"color\": \"#C8D4E3\"}, \"line\": {\"color\": \"white\"}}, \"type\": \"table\"}]}, \"layout\": {\"annotationdefaults\": {\"arrowcolor\": \"#2a3f5f\", \"arrowhead\": 0, \"arrowwidth\": 1}, \"coloraxis\": {\"colorbar\": {\"outlinewidth\": 0, \"ticks\": \"\"}}, \"colorscale\": {\"diverging\": [[0, \"#8e0152\"], [0.1, \"#c51b7d\"], [0.2, \"#de77ae\"], [0.3, \"#f1b6da\"], [0.4, \"#fde0ef\"], [0.5, \"#f7f7f7\"], [0.6, \"#e6f5d0\"], [0.7, \"#b8e186\"], [0.8, \"#7fbc41\"], [0.9, \"#4d9221\"], [1, \"#276419\"]], \"sequential\": [[0.0, \"#0d0887\"], [0.1111111111111111, \"#46039f\"], [0.2222222222222222, \"#7201a8\"], [0.3333333333333333, \"#9c179e\"], [0.4444444444444444, \"#bd3786\"], [0.5555555555555556, \"#d8576b\"], [0.6666666666666666, \"#ed7953\"], [0.7777777777777778, \"#fb9f3a\"], [0.8888888888888888, \"#fdca26\"], [1.0, \"#f0f921\"]], \"sequentialminus\": [[0.0, \"#0d0887\"], [0.1111111111111111, \"#46039f\"], [0.2222222222222222, \"#7201a8\"], [0.3333333333333333, \"#9c179e\"], [0.4444444444444444, \"#bd3786\"], [0.5555555555555556, \"#d8576b\"], [0.6666666666666666, \"#ed7953\"], [0.7777777777777778, \"#fb9f3a\"], [0.8888888888888888, \"#fdca26\"], [1.0, \"#f0f921\"]]}, \"colorway\": [\"#636efa\", \"#EF553B\", \"#00cc96\", \"#ab63fa\", \"#FFA15A\", \"#19d3f3\", \"#FF6692\", \"#B6E880\", \"#FF97FF\", \"#FECB52\"], \"font\": {\"color\": \"#2a3f5f\"}, \"geo\": {\"bgcolor\": \"white\", \"lakecolor\": \"white\", \"landcolor\": \"#E5ECF6\", \"showlakes\": true, \"showland\": true, \"subunitcolor\": \"white\"}, \"hoverlabel\": {\"align\": \"left\"}, \"hovermode\": \"closest\", \"mapbox\": {\"style\": \"light\"}, \"paper_bgcolor\": \"white\", \"plot_bgcolor\": \"#E5ECF6\", \"polar\": {\"angularaxis\": {\"gridcolor\": \"white\", \"linecolor\": \"white\", \"ticks\": \"\"}, \"bgcolor\": \"#E5ECF6\", \"radialaxis\": {\"gridcolor\": \"white\", \"linecolor\": \"white\", \"ticks\": \"\"}}, \"scene\": {\"xaxis\": {\"backgroundcolor\": \"#E5ECF6\", \"gridcolor\": \"white\", \"gridwidth\": 2, \"linecolor\": \"white\", \"showbackground\": true, \"ticks\": \"\", \"zerolinecolor\": \"white\"}, \"yaxis\": {\"backgroundcolor\": \"#E5ECF6\", \"gridcolor\": \"white\", \"gridwidth\": 2, \"linecolor\": \"white\", \"showbackground\": true, \"ticks\": \"\", \"zerolinecolor\": \"white\"}, \"zaxis\": {\"backgroundcolor\": \"#E5ECF6\", \"gridcolor\": \"white\", \"gridwidth\": 2, \"linecolor\": \"white\", \"showbackground\": true, \"ticks\": \"\", \"zerolinecolor\": \"white\"}}, \"shapedefaults\": {\"line\": {\"color\": \"#2a3f5f\"}}, \"ternary\": {\"aaxis\": {\"gridcolor\": \"white\", \"linecolor\": \"white\", \"ticks\": \"\"}, \"baxis\": {\"gridcolor\": \"white\", \"linecolor\": \"white\", \"ticks\": \"\"}, \"bgcolor\": \"#E5ECF6\", \"caxis\": {\"gridcolor\": \"white\", \"linecolor\": \"white\", \"ticks\": \"\"}}, \"title\": {\"x\": 0.05}, \"xaxis\": {\"automargin\": true, \"gridcolor\": \"white\", \"linecolor\": \"white\", \"ticks\": \"\", \"title\": {\"standoff\": 15}, \"zerolinecolor\": \"white\", \"zerolinewidth\": 2}, \"yaxis\": {\"automargin\": true, \"gridcolor\": \"white\", \"linecolor\": \"white\", \"ticks\": \"\", \"title\": {\"standoff\": 15}, \"zerolinecolor\": \"white\", \"zerolinewidth\": 2}}}, \"width\": 1600, \"xaxis\": {\"anchor\": \"y\", \"domain\": [0.0, 0.3133333333333333], \"showgrid\": false, \"title\": {\"text\": \"keyrange_count\"}}, \"xaxis2\": {\"anchor\": \"y2\", \"domain\": [0.3333333333333333, 0.6466666666666666], \"matches\": \"x\", \"showgrid\": false, \"title\": {\"text\": \"keyrange_count\"}}, \"xaxis3\": {\"anchor\": \"y3\", \"domain\": [0.6666666666666666, 0.98], \"matches\": \"x\", \"showgrid\": false, \"title\": {\"text\": \"keyrange_count\"}}, \"xaxis4\": {\"anchor\": \"y4\", \"domain\": [0.0, 0.3133333333333333], \"matches\": \"x\", \"showgrid\": false, \"showticklabels\": false}, \"xaxis5\": {\"anchor\": \"y5\", \"domain\": [0.3333333333333333, 0.6466666666666666], \"matches\": \"x\", \"showgrid\": false, \"showticklabels\": false}, \"xaxis6\": {\"anchor\": \"y6\", \"domain\": [0.6666666666666666, 0.98], \"matches\": \"x\", \"showgrid\": false, \"showticklabels\": false}, \"yaxis\": {\"anchor\": \"x\", \"automargin\": true, \"domain\": [0.0, 0.485], \"title\": {\"text\": \"overall_compaction_cpu_latency\"}}, \"yaxis2\": {\"anchor\": \"x2\", \"automargin\": true, \"domain\": [0.0, 0.485], \"matches\": \"y\", \"showticklabels\": false}, \"yaxis3\": {\"anchor\": \"x3\", \"automargin\": true, \"domain\": [0.0, 0.485], \"matches\": \"y\", \"showticklabels\": false}, \"yaxis4\": {\"anchor\": \"x4\", \"automargin\": true, \"domain\": [0.515, 1.0], \"matches\": \"y\", \"title\": {\"text\": \"overall_compaction_cpu_latency\"}}, \"yaxis5\": {\"anchor\": \"x5\", \"automargin\": true, \"domain\": [0.515, 1.0], \"matches\": \"y\", \"showticklabels\": false}, \"yaxis6\": {\"anchor\": \"x6\", \"automargin\": true, \"domain\": [0.515, 1.0], \"matches\": \"y\", \"showticklabels\": false}},\n",
       "                        {\"responsive\": true}\n",
       "                    ).then(function(){\n",
       "                            \n",
       "var gd = document.getElementById('14288226-d897-4b8a-846a-902f4b628c19');\n",
       "var x = new MutationObserver(function (mutations, observer) {{\n",
       "        var display = window.getComputedStyle(gd).display;\n",
       "        if (!display || display === 'none') {{\n",
       "            console.log([gd, 'removed!']);\n",
       "            Plotly.purge(gd);\n",
       "            observer.disconnect();\n",
       "        }}\n",
       "}});\n",
       "\n",
       "// Listen for the removal of the full notebook cells\n",
       "var notebookContainer = gd.closest('#notebook-container');\n",
       "if (notebookContainer) {{\n",
       "    x.observe(notebookContainer, {childList: true});\n",
       "}}\n",
       "\n",
       "// Listen for the clearing of the current output cell\n",
       "var outputEl = gd.closest('.output');\n",
       "if (outputEl) {{\n",
       "    x.observe(outputEl, {childList: true});\n",
       "}}\n",
       "\n",
       "                        })\n",
       "                };\n",
       "                });\n",
       "            </script>\n",
       "        </div>"
      ]
     },
     "metadata": {},
     "output_type": "display_data"
    },
    {
     "name": "stdout",
     "output_type": "stream",
     "text": [
      "plotting fig ./image/overall_compaction_cpu_latency.pdf finished\n"
     ]
    },
    {
     "data": {
      "application/vnd.plotly.v1+json": {
       "config": {
        "plotlyServerURL": "https://plot.ly"
       },
       "data": [
        {
         "alignmentgroup": "True",
         "hovertemplate": "Storage Media=SATASSD<br>Operation Batch Size=64MB<br>CPU count=8CPU<br>keyrange_count=%{x}<br>overall_input_record=%{y}<extra></extra>",
         "legendgroup": "SATASSD",
         "marker": {
          "color": "#636efa"
         },
         "name": "SATASSD",
         "offsetgroup": "SATASSD",
         "orientation": "v",
         "showlegend": true,
         "textposition": "auto",
         "type": "bar",
         "x": [
          60,
          90,
          15,
          30
         ],
         "xaxis": "x4",
         "y": [
          4278548387,
          4115629623,
          3951429578,
          4656350949
         ],
         "yaxis": "y4"
        },
        {
         "alignmentgroup": "True",
         "hovertemplate": "Storage Media=SATASSD<br>Operation Batch Size=64MB<br>CPU count=16CPU<br>keyrange_count=%{x}<br>overall_input_record=%{y}<extra></extra>",
         "legendgroup": "SATASSD",
         "marker": {
          "color": "#636efa"
         },
         "name": "SATASSD",
         "offsetgroup": "SATASSD",
         "orientation": "v",
         "showlegend": false,
         "textposition": "auto",
         "type": "bar",
         "x": [
          60,
          90,
          15,
          30
         ],
         "xaxis": "x5",
         "y": [
          4286524108,
          4049224701,
          3993293230,
          4494356091
         ],
         "yaxis": "y5"
        },
        {
         "alignmentgroup": "True",
         "hovertemplate": "Storage Media=SATASSD<br>Operation Batch Size=64MB<br>CPU count=32CPU<br>keyrange_count=%{x}<br>overall_input_record=%{y}<extra></extra>",
         "legendgroup": "SATASSD",
         "marker": {
          "color": "#636efa"
         },
         "name": "SATASSD",
         "offsetgroup": "SATASSD",
         "orientation": "v",
         "showlegend": false,
         "textposition": "auto",
         "type": "bar",
         "x": [
          60,
          90,
          15,
          30
         ],
         "xaxis": "x6",
         "y": [
          4219908604,
          4094462780,
          4016044256,
          4426794294
         ],
         "yaxis": "y6"
        },
        {
         "alignmentgroup": "True",
         "hovertemplate": "Storage Media=SATASSD<br>Operation Batch Size=128MB<br>CPU count=8CPU<br>keyrange_count=%{x}<br>overall_input_record=%{y}<extra></extra>",
         "legendgroup": "SATASSD",
         "marker": {
          "color": "#636efa"
         },
         "name": "SATASSD",
         "offsetgroup": "SATASSD",
         "orientation": "v",
         "showlegend": false,
         "textposition": "auto",
         "type": "bar",
         "x": [
          60,
          90,
          15,
          30
         ],
         "xaxis": "x",
         "y": [
          3846255353,
          3582579898,
          3680158220,
          4141586928
         ],
         "yaxis": "y"
        },
        {
         "alignmentgroup": "True",
         "hovertemplate": "Storage Media=SATASSD<br>Operation Batch Size=128MB<br>CPU count=16CPU<br>keyrange_count=%{x}<br>overall_input_record=%{y}<extra></extra>",
         "legendgroup": "SATASSD",
         "marker": {
          "color": "#636efa"
         },
         "name": "SATASSD",
         "offsetgroup": "SATASSD",
         "orientation": "v",
         "showlegend": false,
         "textposition": "auto",
         "type": "bar",
         "x": [
          60,
          90,
          15,
          30
         ],
         "xaxis": "x2",
         "y": [
          3889002659,
          3768875746,
          3583269844,
          4163959274
         ],
         "yaxis": "y2"
        },
        {
         "alignmentgroup": "True",
         "hovertemplate": "Storage Media=SATASSD<br>Operation Batch Size=128MB<br>CPU count=32CPU<br>keyrange_count=%{x}<br>overall_input_record=%{y}<extra></extra>",
         "legendgroup": "SATASSD",
         "marker": {
          "color": "#636efa"
         },
         "name": "SATASSD",
         "offsetgroup": "SATASSD",
         "orientation": "v",
         "showlegend": false,
         "textposition": "auto",
         "type": "bar",
         "x": [
          60,
          90,
          15,
          30
         ],
         "xaxis": "x3",
         "y": [
          3803093672,
          3698295800,
          3773243570,
          4151750327
         ],
         "yaxis": "y3"
        },
        {
         "alignmentgroup": "True",
         "hovertemplate": "Storage Media=SATAHDD<br>Operation Batch Size=64MB<br>CPU count=8CPU<br>keyrange_count=%{x}<br>overall_input_record=%{y}<extra></extra>",
         "legendgroup": "SATAHDD",
         "marker": {
          "color": "#EF553B"
         },
         "name": "SATAHDD",
         "offsetgroup": "SATAHDD",
         "orientation": "v",
         "showlegend": true,
         "textposition": "auto",
         "type": "bar",
         "x": [
          60,
          90,
          15,
          30
         ],
         "xaxis": "x4",
         "y": [
          3671169737,
          3855321504,
          3730647574,
          4028785572
         ],
         "yaxis": "y4"
        },
        {
         "alignmentgroup": "True",
         "hovertemplate": "Storage Media=SATAHDD<br>Operation Batch Size=64MB<br>CPU count=16CPU<br>keyrange_count=%{x}<br>overall_input_record=%{y}<extra></extra>",
         "legendgroup": "SATAHDD",
         "marker": {
          "color": "#EF553B"
         },
         "name": "SATAHDD",
         "offsetgroup": "SATAHDD",
         "orientation": "v",
         "showlegend": false,
         "textposition": "auto",
         "type": "bar",
         "x": [
          60,
          90,
          15,
          30
         ],
         "xaxis": "x5",
         "y": [
          3641588824,
          3742427546,
          3845619134,
          4363841183
         ],
         "yaxis": "y5"
        },
        {
         "alignmentgroup": "True",
         "hovertemplate": "Storage Media=SATAHDD<br>Operation Batch Size=64MB<br>CPU count=32CPU<br>keyrange_count=%{x}<br>overall_input_record=%{y}<extra></extra>",
         "legendgroup": "SATAHDD",
         "marker": {
          "color": "#EF553B"
         },
         "name": "SATAHDD",
         "offsetgroup": "SATAHDD",
         "orientation": "v",
         "showlegend": false,
         "textposition": "auto",
         "type": "bar",
         "x": [
          60,
          90,
          15,
          30
         ],
         "xaxis": "x6",
         "y": [
          3709158257,
          3694775954,
          3828989065,
          4286033641
         ],
         "yaxis": "y6"
        },
        {
         "alignmentgroup": "True",
         "hovertemplate": "Storage Media=SATAHDD<br>Operation Batch Size=128MB<br>CPU count=8CPU<br>keyrange_count=%{x}<br>overall_input_record=%{y}<extra></extra>",
         "legendgroup": "SATAHDD",
         "marker": {
          "color": "#EF553B"
         },
         "name": "SATAHDD",
         "offsetgroup": "SATAHDD",
         "orientation": "v",
         "showlegend": false,
         "textposition": "auto",
         "type": "bar",
         "x": [
          60,
          90,
          15,
          30
         ],
         "xaxis": "x",
         "y": [
          3389553578,
          3291874739,
          3411054819,
          3213548169
         ],
         "yaxis": "y"
        },
        {
         "alignmentgroup": "True",
         "hovertemplate": "Storage Media=SATAHDD<br>Operation Batch Size=128MB<br>CPU count=16CPU<br>keyrange_count=%{x}<br>overall_input_record=%{y}<extra></extra>",
         "legendgroup": "SATAHDD",
         "marker": {
          "color": "#EF553B"
         },
         "name": "SATAHDD",
         "offsetgroup": "SATAHDD",
         "orientation": "v",
         "showlegend": false,
         "textposition": "auto",
         "type": "bar",
         "x": [
          60,
          90,
          15,
          30
         ],
         "xaxis": "x2",
         "y": [
          3177056961,
          3312147735,
          3386418331,
          3689608804
         ],
         "yaxis": "y2"
        },
        {
         "alignmentgroup": "True",
         "hovertemplate": "Storage Media=SATAHDD<br>Operation Batch Size=128MB<br>CPU count=32CPU<br>keyrange_count=%{x}<br>overall_input_record=%{y}<extra></extra>",
         "legendgroup": "SATAHDD",
         "marker": {
          "color": "#EF553B"
         },
         "name": "SATAHDD",
         "offsetgroup": "SATAHDD",
         "orientation": "v",
         "showlegend": false,
         "textposition": "auto",
         "type": "bar",
         "x": [
          60,
          90,
          15,
          30
         ],
         "xaxis": "x3",
         "y": [
          3225932412,
          3188025304,
          3323222670,
          3745934940
         ],
         "yaxis": "y3"
        },
        {
         "alignmentgroup": "True",
         "hovertemplate": "Storage Media=NVMeSSD<br>Operation Batch Size=64MB<br>CPU count=8CPU<br>keyrange_count=%{x}<br>overall_input_record=%{y}<extra></extra>",
         "legendgroup": "NVMeSSD",
         "marker": {
          "color": "#00cc96"
         },
         "name": "NVMeSSD",
         "offsetgroup": "NVMeSSD",
         "orientation": "v",
         "showlegend": true,
         "textposition": "auto",
         "type": "bar",
         "x": [
          60,
          90,
          15,
          30
         ],
         "xaxis": "x4",
         "y": [
          4760390359,
          4819105234,
          4699329594,
          5056446822
         ],
         "yaxis": "y4"
        },
        {
         "alignmentgroup": "True",
         "hovertemplate": "Storage Media=NVMeSSD<br>Operation Batch Size=64MB<br>CPU count=16CPU<br>keyrange_count=%{x}<br>overall_input_record=%{y}<extra></extra>",
         "legendgroup": "NVMeSSD",
         "marker": {
          "color": "#00cc96"
         },
         "name": "NVMeSSD",
         "offsetgroup": "NVMeSSD",
         "orientation": "v",
         "showlegend": false,
         "textposition": "auto",
         "type": "bar",
         "x": [
          60,
          90,
          15,
          30
         ],
         "xaxis": "x5",
         "y": [
          4760764073,
          4718193080,
          4749947506,
          4991294495
         ],
         "yaxis": "y5"
        },
        {
         "alignmentgroup": "True",
         "hovertemplate": "Storage Media=NVMeSSD<br>Operation Batch Size=64MB<br>CPU count=32CPU<br>keyrange_count=%{x}<br>overall_input_record=%{y}<extra></extra>",
         "legendgroup": "NVMeSSD",
         "marker": {
          "color": "#00cc96"
         },
         "name": "NVMeSSD",
         "offsetgroup": "NVMeSSD",
         "orientation": "v",
         "showlegend": false,
         "textposition": "auto",
         "type": "bar",
         "x": [
          60,
          90,
          15,
          30
         ],
         "xaxis": "x6",
         "y": [
          4797117849,
          4694192748,
          4645822739,
          4926817283
         ],
         "yaxis": "y6"
        },
        {
         "alignmentgroup": "True",
         "hovertemplate": "Storage Media=NVMeSSD<br>Operation Batch Size=128MB<br>CPU count=8CPU<br>keyrange_count=%{x}<br>overall_input_record=%{y}<extra></extra>",
         "legendgroup": "NVMeSSD",
         "marker": {
          "color": "#00cc96"
         },
         "name": "NVMeSSD",
         "offsetgroup": "NVMeSSD",
         "orientation": "v",
         "showlegend": false,
         "textposition": "auto",
         "type": "bar",
         "x": [
          60,
          90,
          15,
          30
         ],
         "xaxis": "x",
         "y": [
          4358177810,
          4246765505,
          4198602044,
          4749250662
         ],
         "yaxis": "y"
        },
        {
         "alignmentgroup": "True",
         "hovertemplate": "Storage Media=NVMeSSD<br>Operation Batch Size=128MB<br>CPU count=16CPU<br>keyrange_count=%{x}<br>overall_input_record=%{y}<extra></extra>",
         "legendgroup": "NVMeSSD",
         "marker": {
          "color": "#00cc96"
         },
         "name": "NVMeSSD",
         "offsetgroup": "NVMeSSD",
         "orientation": "v",
         "showlegend": false,
         "textposition": "auto",
         "type": "bar",
         "x": [
          60,
          90,
          15,
          30
         ],
         "xaxis": "x2",
         "y": [
          4357463091,
          4282796699,
          4180195613,
          4779926594
         ],
         "yaxis": "y2"
        },
        {
         "alignmentgroup": "True",
         "hovertemplate": "Storage Media=NVMeSSD<br>Operation Batch Size=128MB<br>CPU count=32CPU<br>keyrange_count=%{x}<br>overall_input_record=%{y}<extra></extra>",
         "legendgroup": "NVMeSSD",
         "marker": {
          "color": "#00cc96"
         },
         "name": "NVMeSSD",
         "offsetgroup": "NVMeSSD",
         "orientation": "v",
         "showlegend": false,
         "textposition": "auto",
         "type": "bar",
         "x": [
          60,
          90,
          15,
          30
         ],
         "xaxis": "x3",
         "y": [
          4349376130,
          4269093490,
          4216862353,
          4812398379
         ],
         "yaxis": "y3"
        },
        {
         "alignmentgroup": "True",
         "hovertemplate": "Storage Media=PM<br>Operation Batch Size=64MB<br>CPU count=8CPU<br>keyrange_count=%{x}<br>overall_input_record=%{y}<extra></extra>",
         "legendgroup": "PM",
         "marker": {
          "color": "#ab63fa"
         },
         "name": "PM",
         "offsetgroup": "PM",
         "orientation": "v",
         "showlegend": true,
         "textposition": "auto",
         "type": "bar",
         "x": [
          60,
          90,
          15,
          30
         ],
         "xaxis": "x4",
         "y": [
          4419592896,
          4294513609,
          4012764718,
          4508840487
         ],
         "yaxis": "y4"
        },
        {
         "alignmentgroup": "True",
         "hovertemplate": "Storage Media=PM<br>Operation Batch Size=64MB<br>CPU count=16CPU<br>keyrange_count=%{x}<br>overall_input_record=%{y}<extra></extra>",
         "legendgroup": "PM",
         "marker": {
          "color": "#ab63fa"
         },
         "name": "PM",
         "offsetgroup": "PM",
         "orientation": "v",
         "showlegend": false,
         "textposition": "auto",
         "type": "bar",
         "x": [
          60,
          90,
          15,
          30
         ],
         "xaxis": "x5",
         "y": [
          4428729219,
          4198537244,
          4058008166,
          4419023965
         ],
         "yaxis": "y5"
        },
        {
         "alignmentgroup": "True",
         "hovertemplate": "Storage Media=PM<br>Operation Batch Size=64MB<br>CPU count=32CPU<br>keyrange_count=%{x}<br>overall_input_record=%{y}<extra></extra>",
         "legendgroup": "PM",
         "marker": {
          "color": "#ab63fa"
         },
         "name": "PM",
         "offsetgroup": "PM",
         "orientation": "v",
         "showlegend": false,
         "textposition": "auto",
         "type": "bar",
         "x": [
          60,
          90,
          15,
          30
         ],
         "xaxis": "x6",
         "y": [
          4415229045,
          4105942053,
          3951907656,
          4358447127
         ],
         "yaxis": "y6"
        },
        {
         "alignmentgroup": "True",
         "hovertemplate": "Storage Media=PM<br>Operation Batch Size=128MB<br>CPU count=8CPU<br>keyrange_count=%{x}<br>overall_input_record=%{y}<extra></extra>",
         "legendgroup": "PM",
         "marker": {
          "color": "#ab63fa"
         },
         "name": "PM",
         "offsetgroup": "PM",
         "orientation": "v",
         "showlegend": false,
         "textposition": "auto",
         "type": "bar",
         "x": [
          60,
          90,
          15,
          30
         ],
         "xaxis": "x",
         "y": [
          3941916877,
          3889732265,
          3752280735,
          4091631419
         ],
         "yaxis": "y"
        },
        {
         "alignmentgroup": "True",
         "hovertemplate": "Storage Media=PM<br>Operation Batch Size=128MB<br>CPU count=16CPU<br>keyrange_count=%{x}<br>overall_input_record=%{y}<extra></extra>",
         "legendgroup": "PM",
         "marker": {
          "color": "#ab63fa"
         },
         "name": "PM",
         "offsetgroup": "PM",
         "orientation": "v",
         "showlegend": false,
         "textposition": "auto",
         "type": "bar",
         "x": [
          60,
          90,
          15,
          30
         ],
         "xaxis": "x2",
         "y": [
          3934558382,
          3926979855,
          3741933546,
          4064898437
         ],
         "yaxis": "y2"
        },
        {
         "alignmentgroup": "True",
         "hovertemplate": "Storage Media=PM<br>Operation Batch Size=128MB<br>CPU count=32CPU<br>keyrange_count=%{x}<br>overall_input_record=%{y}<extra></extra>",
         "legendgroup": "PM",
         "marker": {
          "color": "#ab63fa"
         },
         "name": "PM",
         "offsetgroup": "PM",
         "orientation": "v",
         "showlegend": false,
         "textposition": "auto",
         "type": "bar",
         "x": [
          60,
          90,
          15,
          30
         ],
         "xaxis": "x3",
         "y": [
          4027825932,
          3951708297,
          3843344826,
          4044372781
         ],
         "yaxis": "y3"
        }
       ],
       "layout": {
        "annotations": [
         {
          "font": {},
          "showarrow": false,
          "text": "CPU count=8CPU",
          "x": 0.15666666666666665,
          "xanchor": "center",
          "xref": "paper",
          "y": 1,
          "yanchor": "bottom",
          "yref": "paper"
         },
         {
          "font": {},
          "showarrow": false,
          "text": "CPU count=16CPU",
          "x": 0.49,
          "xanchor": "center",
          "xref": "paper",
          "y": 1,
          "yanchor": "bottom",
          "yref": "paper"
         },
         {
          "font": {},
          "showarrow": false,
          "text": "CPU count=32CPU",
          "x": 0.8233333333333333,
          "xanchor": "center",
          "xref": "paper",
          "y": 1,
          "yanchor": "bottom",
          "yref": "paper"
         },
         {
          "font": {},
          "showarrow": false,
          "text": "Operation Batch Size=128MB",
          "textangle": 90,
          "x": 0.98,
          "xanchor": "left",
          "xref": "paper",
          "y": 0.2425,
          "yanchor": "middle",
          "yref": "paper"
         },
         {
          "font": {},
          "showarrow": false,
          "text": "Operation Batch Size=64MB",
          "textangle": 90,
          "x": 0.98,
          "xanchor": "left",
          "xref": "paper",
          "y": 0.7575000000000001,
          "yanchor": "middle",
          "yref": "paper"
         }
        ],
        "autosize": false,
        "barmode": "group",
        "font": {
         "size": 20
        },
        "height": 900,
        "legend": {
         "title": {
          "text": "Storage Media"
         },
         "tracegroupgap": 0
        },
        "margin": {
         "t": 60
        },
        "template": {
         "data": {
          "bar": [
           {
            "error_x": {
             "color": "#2a3f5f"
            },
            "error_y": {
             "color": "#2a3f5f"
            },
            "marker": {
             "line": {
              "color": "#E5ECF6",
              "width": 0.5
             }
            },
            "type": "bar"
           }
          ],
          "barpolar": [
           {
            "marker": {
             "line": {
              "color": "#E5ECF6",
              "width": 0.5
             }
            },
            "type": "barpolar"
           }
          ],
          "carpet": [
           {
            "aaxis": {
             "endlinecolor": "#2a3f5f",
             "gridcolor": "white",
             "linecolor": "white",
             "minorgridcolor": "white",
             "startlinecolor": "#2a3f5f"
            },
            "baxis": {
             "endlinecolor": "#2a3f5f",
             "gridcolor": "white",
             "linecolor": "white",
             "minorgridcolor": "white",
             "startlinecolor": "#2a3f5f"
            },
            "type": "carpet"
           }
          ],
          "choropleth": [
           {
            "colorbar": {
             "outlinewidth": 0,
             "ticks": ""
            },
            "type": "choropleth"
           }
          ],
          "contour": [
           {
            "colorbar": {
             "outlinewidth": 0,
             "ticks": ""
            },
            "colorscale": [
             [
              0,
              "#0d0887"
             ],
             [
              0.1111111111111111,
              "#46039f"
             ],
             [
              0.2222222222222222,
              "#7201a8"
             ],
             [
              0.3333333333333333,
              "#9c179e"
             ],
             [
              0.4444444444444444,
              "#bd3786"
             ],
             [
              0.5555555555555556,
              "#d8576b"
             ],
             [
              0.6666666666666666,
              "#ed7953"
             ],
             [
              0.7777777777777778,
              "#fb9f3a"
             ],
             [
              0.8888888888888888,
              "#fdca26"
             ],
             [
              1,
              "#f0f921"
             ]
            ],
            "type": "contour"
           }
          ],
          "contourcarpet": [
           {
            "colorbar": {
             "outlinewidth": 0,
             "ticks": ""
            },
            "type": "contourcarpet"
           }
          ],
          "heatmap": [
           {
            "colorbar": {
             "outlinewidth": 0,
             "ticks": ""
            },
            "colorscale": [
             [
              0,
              "#0d0887"
             ],
             [
              0.1111111111111111,
              "#46039f"
             ],
             [
              0.2222222222222222,
              "#7201a8"
             ],
             [
              0.3333333333333333,
              "#9c179e"
             ],
             [
              0.4444444444444444,
              "#bd3786"
             ],
             [
              0.5555555555555556,
              "#d8576b"
             ],
             [
              0.6666666666666666,
              "#ed7953"
             ],
             [
              0.7777777777777778,
              "#fb9f3a"
             ],
             [
              0.8888888888888888,
              "#fdca26"
             ],
             [
              1,
              "#f0f921"
             ]
            ],
            "type": "heatmap"
           }
          ],
          "heatmapgl": [
           {
            "colorbar": {
             "outlinewidth": 0,
             "ticks": ""
            },
            "colorscale": [
             [
              0,
              "#0d0887"
             ],
             [
              0.1111111111111111,
              "#46039f"
             ],
             [
              0.2222222222222222,
              "#7201a8"
             ],
             [
              0.3333333333333333,
              "#9c179e"
             ],
             [
              0.4444444444444444,
              "#bd3786"
             ],
             [
              0.5555555555555556,
              "#d8576b"
             ],
             [
              0.6666666666666666,
              "#ed7953"
             ],
             [
              0.7777777777777778,
              "#fb9f3a"
             ],
             [
              0.8888888888888888,
              "#fdca26"
             ],
             [
              1,
              "#f0f921"
             ]
            ],
            "type": "heatmapgl"
           }
          ],
          "histogram": [
           {
            "marker": {
             "colorbar": {
              "outlinewidth": 0,
              "ticks": ""
             }
            },
            "type": "histogram"
           }
          ],
          "histogram2d": [
           {
            "colorbar": {
             "outlinewidth": 0,
             "ticks": ""
            },
            "colorscale": [
             [
              0,
              "#0d0887"
             ],
             [
              0.1111111111111111,
              "#46039f"
             ],
             [
              0.2222222222222222,
              "#7201a8"
             ],
             [
              0.3333333333333333,
              "#9c179e"
             ],
             [
              0.4444444444444444,
              "#bd3786"
             ],
             [
              0.5555555555555556,
              "#d8576b"
             ],
             [
              0.6666666666666666,
              "#ed7953"
             ],
             [
              0.7777777777777778,
              "#fb9f3a"
             ],
             [
              0.8888888888888888,
              "#fdca26"
             ],
             [
              1,
              "#f0f921"
             ]
            ],
            "type": "histogram2d"
           }
          ],
          "histogram2dcontour": [
           {
            "colorbar": {
             "outlinewidth": 0,
             "ticks": ""
            },
            "colorscale": [
             [
              0,
              "#0d0887"
             ],
             [
              0.1111111111111111,
              "#46039f"
             ],
             [
              0.2222222222222222,
              "#7201a8"
             ],
             [
              0.3333333333333333,
              "#9c179e"
             ],
             [
              0.4444444444444444,
              "#bd3786"
             ],
             [
              0.5555555555555556,
              "#d8576b"
             ],
             [
              0.6666666666666666,
              "#ed7953"
             ],
             [
              0.7777777777777778,
              "#fb9f3a"
             ],
             [
              0.8888888888888888,
              "#fdca26"
             ],
             [
              1,
              "#f0f921"
             ]
            ],
            "type": "histogram2dcontour"
           }
          ],
          "mesh3d": [
           {
            "colorbar": {
             "outlinewidth": 0,
             "ticks": ""
            },
            "type": "mesh3d"
           }
          ],
          "parcoords": [
           {
            "line": {
             "colorbar": {
              "outlinewidth": 0,
              "ticks": ""
             }
            },
            "type": "parcoords"
           }
          ],
          "pie": [
           {
            "automargin": true,
            "type": "pie"
           }
          ],
          "scatter": [
           {
            "marker": {
             "colorbar": {
              "outlinewidth": 0,
              "ticks": ""
             }
            },
            "type": "scatter"
           }
          ],
          "scatter3d": [
           {
            "line": {
             "colorbar": {
              "outlinewidth": 0,
              "ticks": ""
             }
            },
            "marker": {
             "colorbar": {
              "outlinewidth": 0,
              "ticks": ""
             }
            },
            "type": "scatter3d"
           }
          ],
          "scattercarpet": [
           {
            "marker": {
             "colorbar": {
              "outlinewidth": 0,
              "ticks": ""
             }
            },
            "type": "scattercarpet"
           }
          ],
          "scattergeo": [
           {
            "marker": {
             "colorbar": {
              "outlinewidth": 0,
              "ticks": ""
             }
            },
            "type": "scattergeo"
           }
          ],
          "scattergl": [
           {
            "marker": {
             "colorbar": {
              "outlinewidth": 0,
              "ticks": ""
             }
            },
            "type": "scattergl"
           }
          ],
          "scattermapbox": [
           {
            "marker": {
             "colorbar": {
              "outlinewidth": 0,
              "ticks": ""
             }
            },
            "type": "scattermapbox"
           }
          ],
          "scatterpolar": [
           {
            "marker": {
             "colorbar": {
              "outlinewidth": 0,
              "ticks": ""
             }
            },
            "type": "scatterpolar"
           }
          ],
          "scatterpolargl": [
           {
            "marker": {
             "colorbar": {
              "outlinewidth": 0,
              "ticks": ""
             }
            },
            "type": "scatterpolargl"
           }
          ],
          "scatterternary": [
           {
            "marker": {
             "colorbar": {
              "outlinewidth": 0,
              "ticks": ""
             }
            },
            "type": "scatterternary"
           }
          ],
          "surface": [
           {
            "colorbar": {
             "outlinewidth": 0,
             "ticks": ""
            },
            "colorscale": [
             [
              0,
              "#0d0887"
             ],
             [
              0.1111111111111111,
              "#46039f"
             ],
             [
              0.2222222222222222,
              "#7201a8"
             ],
             [
              0.3333333333333333,
              "#9c179e"
             ],
             [
              0.4444444444444444,
              "#bd3786"
             ],
             [
              0.5555555555555556,
              "#d8576b"
             ],
             [
              0.6666666666666666,
              "#ed7953"
             ],
             [
              0.7777777777777778,
              "#fb9f3a"
             ],
             [
              0.8888888888888888,
              "#fdca26"
             ],
             [
              1,
              "#f0f921"
             ]
            ],
            "type": "surface"
           }
          ],
          "table": [
           {
            "cells": {
             "fill": {
              "color": "#EBF0F8"
             },
             "line": {
              "color": "white"
             }
            },
            "header": {
             "fill": {
              "color": "#C8D4E3"
             },
             "line": {
              "color": "white"
             }
            },
            "type": "table"
           }
          ]
         },
         "layout": {
          "annotationdefaults": {
           "arrowcolor": "#2a3f5f",
           "arrowhead": 0,
           "arrowwidth": 1
          },
          "coloraxis": {
           "colorbar": {
            "outlinewidth": 0,
            "ticks": ""
           }
          },
          "colorscale": {
           "diverging": [
            [
             0,
             "#8e0152"
            ],
            [
             0.1,
             "#c51b7d"
            ],
            [
             0.2,
             "#de77ae"
            ],
            [
             0.3,
             "#f1b6da"
            ],
            [
             0.4,
             "#fde0ef"
            ],
            [
             0.5,
             "#f7f7f7"
            ],
            [
             0.6,
             "#e6f5d0"
            ],
            [
             0.7,
             "#b8e186"
            ],
            [
             0.8,
             "#7fbc41"
            ],
            [
             0.9,
             "#4d9221"
            ],
            [
             1,
             "#276419"
            ]
           ],
           "sequential": [
            [
             0,
             "#0d0887"
            ],
            [
             0.1111111111111111,
             "#46039f"
            ],
            [
             0.2222222222222222,
             "#7201a8"
            ],
            [
             0.3333333333333333,
             "#9c179e"
            ],
            [
             0.4444444444444444,
             "#bd3786"
            ],
            [
             0.5555555555555556,
             "#d8576b"
            ],
            [
             0.6666666666666666,
             "#ed7953"
            ],
            [
             0.7777777777777778,
             "#fb9f3a"
            ],
            [
             0.8888888888888888,
             "#fdca26"
            ],
            [
             1,
             "#f0f921"
            ]
           ],
           "sequentialminus": [
            [
             0,
             "#0d0887"
            ],
            [
             0.1111111111111111,
             "#46039f"
            ],
            [
             0.2222222222222222,
             "#7201a8"
            ],
            [
             0.3333333333333333,
             "#9c179e"
            ],
            [
             0.4444444444444444,
             "#bd3786"
            ],
            [
             0.5555555555555556,
             "#d8576b"
            ],
            [
             0.6666666666666666,
             "#ed7953"
            ],
            [
             0.7777777777777778,
             "#fb9f3a"
            ],
            [
             0.8888888888888888,
             "#fdca26"
            ],
            [
             1,
             "#f0f921"
            ]
           ]
          },
          "colorway": [
           "#636efa",
           "#EF553B",
           "#00cc96",
           "#ab63fa",
           "#FFA15A",
           "#19d3f3",
           "#FF6692",
           "#B6E880",
           "#FF97FF",
           "#FECB52"
          ],
          "font": {
           "color": "#2a3f5f"
          },
          "geo": {
           "bgcolor": "white",
           "lakecolor": "white",
           "landcolor": "#E5ECF6",
           "showlakes": true,
           "showland": true,
           "subunitcolor": "white"
          },
          "hoverlabel": {
           "align": "left"
          },
          "hovermode": "closest",
          "mapbox": {
           "style": "light"
          },
          "paper_bgcolor": "white",
          "plot_bgcolor": "#E5ECF6",
          "polar": {
           "angularaxis": {
            "gridcolor": "white",
            "linecolor": "white",
            "ticks": ""
           },
           "bgcolor": "#E5ECF6",
           "radialaxis": {
            "gridcolor": "white",
            "linecolor": "white",
            "ticks": ""
           }
          },
          "scene": {
           "xaxis": {
            "backgroundcolor": "#E5ECF6",
            "gridcolor": "white",
            "gridwidth": 2,
            "linecolor": "white",
            "showbackground": true,
            "ticks": "",
            "zerolinecolor": "white"
           },
           "yaxis": {
            "backgroundcolor": "#E5ECF6",
            "gridcolor": "white",
            "gridwidth": 2,
            "linecolor": "white",
            "showbackground": true,
            "ticks": "",
            "zerolinecolor": "white"
           },
           "zaxis": {
            "backgroundcolor": "#E5ECF6",
            "gridcolor": "white",
            "gridwidth": 2,
            "linecolor": "white",
            "showbackground": true,
            "ticks": "",
            "zerolinecolor": "white"
           }
          },
          "shapedefaults": {
           "line": {
            "color": "#2a3f5f"
           }
          },
          "ternary": {
           "aaxis": {
            "gridcolor": "white",
            "linecolor": "white",
            "ticks": ""
           },
           "baxis": {
            "gridcolor": "white",
            "linecolor": "white",
            "ticks": ""
           },
           "bgcolor": "#E5ECF6",
           "caxis": {
            "gridcolor": "white",
            "linecolor": "white",
            "ticks": ""
           }
          },
          "title": {
           "x": 0.05
          },
          "xaxis": {
           "automargin": true,
           "gridcolor": "white",
           "linecolor": "white",
           "ticks": "",
           "title": {
            "standoff": 15
           },
           "zerolinecolor": "white",
           "zerolinewidth": 2
          },
          "yaxis": {
           "automargin": true,
           "gridcolor": "white",
           "linecolor": "white",
           "ticks": "",
           "title": {
            "standoff": 15
           },
           "zerolinecolor": "white",
           "zerolinewidth": 2
          }
         }
        },
        "width": 1600,
        "xaxis": {
         "anchor": "y",
         "domain": [
          0,
          0.3133333333333333
         ],
         "showgrid": false,
         "title": {
          "text": "keyrange_count"
         }
        },
        "xaxis2": {
         "anchor": "y2",
         "domain": [
          0.3333333333333333,
          0.6466666666666666
         ],
         "matches": "x",
         "showgrid": false,
         "title": {
          "text": "keyrange_count"
         }
        },
        "xaxis3": {
         "anchor": "y3",
         "domain": [
          0.6666666666666666,
          0.98
         ],
         "matches": "x",
         "showgrid": false,
         "title": {
          "text": "keyrange_count"
         }
        },
        "xaxis4": {
         "anchor": "y4",
         "domain": [
          0,
          0.3133333333333333
         ],
         "matches": "x",
         "showgrid": false,
         "showticklabels": false
        },
        "xaxis5": {
         "anchor": "y5",
         "domain": [
          0.3333333333333333,
          0.6466666666666666
         ],
         "matches": "x",
         "showgrid": false,
         "showticklabels": false
        },
        "xaxis6": {
         "anchor": "y6",
         "domain": [
          0.6666666666666666,
          0.98
         ],
         "matches": "x",
         "showgrid": false,
         "showticklabels": false
        },
        "yaxis": {
         "anchor": "x",
         "automargin": true,
         "domain": [
          0,
          0.485
         ],
         "title": {
          "text": "overall_input_record"
         }
        },
        "yaxis2": {
         "anchor": "x2",
         "automargin": true,
         "domain": [
          0,
          0.485
         ],
         "matches": "y",
         "showticklabels": false
        },
        "yaxis3": {
         "anchor": "x3",
         "automargin": true,
         "domain": [
          0,
          0.485
         ],
         "matches": "y",
         "showticklabels": false
        },
        "yaxis4": {
         "anchor": "x4",
         "automargin": true,
         "domain": [
          0.515,
          1
         ],
         "matches": "y",
         "title": {
          "text": "overall_input_record"
         }
        },
        "yaxis5": {
         "anchor": "x5",
         "automargin": true,
         "domain": [
          0.515,
          1
         ],
         "matches": "y",
         "showticklabels": false
        },
        "yaxis6": {
         "anchor": "x6",
         "automargin": true,
         "domain": [
          0.515,
          1
         ],
         "matches": "y",
         "showticklabels": false
        }
       }
      },
      "text/html": [
       "<div>\n",
       "        \n",
       "        \n",
       "            <div id=\"2562a953-3599-49b0-9242-81a38ca010b4\" class=\"plotly-graph-div\" style=\"height:900px; width:1600px;\"></div>\n",
       "            <script type=\"text/javascript\">\n",
       "                require([\"plotly\"], function(Plotly) {\n",
       "                    window.PLOTLYENV=window.PLOTLYENV || {};\n",
       "                    \n",
       "                if (document.getElementById(\"2562a953-3599-49b0-9242-81a38ca010b4\")) {\n",
       "                    Plotly.newPlot(\n",
       "                        '2562a953-3599-49b0-9242-81a38ca010b4',\n",
       "                        [{\"alignmentgroup\": \"True\", \"hovertemplate\": \"Storage Media=SATASSD<br>Operation Batch Size=64MB<br>CPU count=8CPU<br>keyrange_count=%{x}<br>overall_input_record=%{y}<extra></extra>\", \"legendgroup\": \"SATASSD\", \"marker\": {\"color\": \"#636efa\"}, \"name\": \"SATASSD\", \"offsetgroup\": \"SATASSD\", \"orientation\": \"v\", \"showlegend\": true, \"textposition\": \"auto\", \"type\": \"bar\", \"x\": [60, 90, 15, 30], \"xaxis\": \"x4\", \"y\": [4278548387, 4115629623, 3951429578, 4656350949], \"yaxis\": \"y4\"}, {\"alignmentgroup\": \"True\", \"hovertemplate\": \"Storage Media=SATASSD<br>Operation Batch Size=64MB<br>CPU count=16CPU<br>keyrange_count=%{x}<br>overall_input_record=%{y}<extra></extra>\", \"legendgroup\": \"SATASSD\", \"marker\": {\"color\": \"#636efa\"}, \"name\": \"SATASSD\", \"offsetgroup\": \"SATASSD\", \"orientation\": \"v\", \"showlegend\": false, \"textposition\": \"auto\", \"type\": \"bar\", \"x\": [60, 90, 15, 30], \"xaxis\": \"x5\", \"y\": [4286524108, 4049224701, 3993293230, 4494356091], \"yaxis\": \"y5\"}, {\"alignmentgroup\": \"True\", \"hovertemplate\": \"Storage Media=SATASSD<br>Operation Batch Size=64MB<br>CPU count=32CPU<br>keyrange_count=%{x}<br>overall_input_record=%{y}<extra></extra>\", \"legendgroup\": \"SATASSD\", \"marker\": {\"color\": \"#636efa\"}, \"name\": \"SATASSD\", \"offsetgroup\": \"SATASSD\", \"orientation\": \"v\", \"showlegend\": false, \"textposition\": \"auto\", \"type\": \"bar\", \"x\": [60, 90, 15, 30], \"xaxis\": \"x6\", \"y\": [4219908604, 4094462780, 4016044256, 4426794294], \"yaxis\": \"y6\"}, {\"alignmentgroup\": \"True\", \"hovertemplate\": \"Storage Media=SATASSD<br>Operation Batch Size=128MB<br>CPU count=8CPU<br>keyrange_count=%{x}<br>overall_input_record=%{y}<extra></extra>\", \"legendgroup\": \"SATASSD\", \"marker\": {\"color\": \"#636efa\"}, \"name\": \"SATASSD\", \"offsetgroup\": \"SATASSD\", \"orientation\": \"v\", \"showlegend\": false, \"textposition\": \"auto\", \"type\": \"bar\", \"x\": [60, 90, 15, 30], \"xaxis\": \"x\", \"y\": [3846255353, 3582579898, 3680158220, 4141586928], \"yaxis\": \"y\"}, {\"alignmentgroup\": \"True\", \"hovertemplate\": \"Storage Media=SATASSD<br>Operation Batch Size=128MB<br>CPU count=16CPU<br>keyrange_count=%{x}<br>overall_input_record=%{y}<extra></extra>\", \"legendgroup\": \"SATASSD\", \"marker\": {\"color\": \"#636efa\"}, \"name\": \"SATASSD\", \"offsetgroup\": \"SATASSD\", \"orientation\": \"v\", \"showlegend\": false, \"textposition\": \"auto\", \"type\": \"bar\", \"x\": [60, 90, 15, 30], \"xaxis\": \"x2\", \"y\": [3889002659, 3768875746, 3583269844, 4163959274], \"yaxis\": \"y2\"}, {\"alignmentgroup\": \"True\", \"hovertemplate\": \"Storage Media=SATASSD<br>Operation Batch Size=128MB<br>CPU count=32CPU<br>keyrange_count=%{x}<br>overall_input_record=%{y}<extra></extra>\", \"legendgroup\": \"SATASSD\", \"marker\": {\"color\": \"#636efa\"}, \"name\": \"SATASSD\", \"offsetgroup\": \"SATASSD\", \"orientation\": \"v\", \"showlegend\": false, \"textposition\": \"auto\", \"type\": \"bar\", \"x\": [60, 90, 15, 30], \"xaxis\": \"x3\", \"y\": [3803093672, 3698295800, 3773243570, 4151750327], \"yaxis\": \"y3\"}, {\"alignmentgroup\": \"True\", \"hovertemplate\": \"Storage Media=SATAHDD<br>Operation Batch Size=64MB<br>CPU count=8CPU<br>keyrange_count=%{x}<br>overall_input_record=%{y}<extra></extra>\", \"legendgroup\": \"SATAHDD\", \"marker\": {\"color\": \"#EF553B\"}, \"name\": \"SATAHDD\", \"offsetgroup\": \"SATAHDD\", \"orientation\": \"v\", \"showlegend\": true, \"textposition\": \"auto\", \"type\": \"bar\", \"x\": [60, 90, 15, 30], \"xaxis\": \"x4\", \"y\": [3671169737, 3855321504, 3730647574, 4028785572], \"yaxis\": \"y4\"}, {\"alignmentgroup\": \"True\", \"hovertemplate\": \"Storage Media=SATAHDD<br>Operation Batch Size=64MB<br>CPU count=16CPU<br>keyrange_count=%{x}<br>overall_input_record=%{y}<extra></extra>\", \"legendgroup\": \"SATAHDD\", \"marker\": {\"color\": \"#EF553B\"}, \"name\": \"SATAHDD\", \"offsetgroup\": \"SATAHDD\", \"orientation\": \"v\", \"showlegend\": false, \"textposition\": \"auto\", \"type\": \"bar\", \"x\": [60, 90, 15, 30], \"xaxis\": \"x5\", \"y\": [3641588824, 3742427546, 3845619134, 4363841183], \"yaxis\": \"y5\"}, {\"alignmentgroup\": \"True\", \"hovertemplate\": \"Storage Media=SATAHDD<br>Operation Batch Size=64MB<br>CPU count=32CPU<br>keyrange_count=%{x}<br>overall_input_record=%{y}<extra></extra>\", \"legendgroup\": \"SATAHDD\", \"marker\": {\"color\": \"#EF553B\"}, \"name\": \"SATAHDD\", \"offsetgroup\": \"SATAHDD\", \"orientation\": \"v\", \"showlegend\": false, \"textposition\": \"auto\", \"type\": \"bar\", \"x\": [60, 90, 15, 30], \"xaxis\": \"x6\", \"y\": [3709158257, 3694775954, 3828989065, 4286033641], \"yaxis\": \"y6\"}, {\"alignmentgroup\": \"True\", \"hovertemplate\": \"Storage Media=SATAHDD<br>Operation Batch Size=128MB<br>CPU count=8CPU<br>keyrange_count=%{x}<br>overall_input_record=%{y}<extra></extra>\", \"legendgroup\": \"SATAHDD\", \"marker\": {\"color\": \"#EF553B\"}, \"name\": \"SATAHDD\", \"offsetgroup\": \"SATAHDD\", \"orientation\": \"v\", \"showlegend\": false, \"textposition\": \"auto\", \"type\": \"bar\", \"x\": [60, 90, 15, 30], \"xaxis\": \"x\", \"y\": [3389553578, 3291874739, 3411054819, 3213548169], \"yaxis\": \"y\"}, {\"alignmentgroup\": \"True\", \"hovertemplate\": \"Storage Media=SATAHDD<br>Operation Batch Size=128MB<br>CPU count=16CPU<br>keyrange_count=%{x}<br>overall_input_record=%{y}<extra></extra>\", \"legendgroup\": \"SATAHDD\", \"marker\": {\"color\": \"#EF553B\"}, \"name\": \"SATAHDD\", \"offsetgroup\": \"SATAHDD\", \"orientation\": \"v\", \"showlegend\": false, \"textposition\": \"auto\", \"type\": \"bar\", \"x\": [60, 90, 15, 30], \"xaxis\": \"x2\", \"y\": [3177056961, 3312147735, 3386418331, 3689608804], \"yaxis\": \"y2\"}, {\"alignmentgroup\": \"True\", \"hovertemplate\": \"Storage Media=SATAHDD<br>Operation Batch Size=128MB<br>CPU count=32CPU<br>keyrange_count=%{x}<br>overall_input_record=%{y}<extra></extra>\", \"legendgroup\": \"SATAHDD\", \"marker\": {\"color\": \"#EF553B\"}, \"name\": \"SATAHDD\", \"offsetgroup\": \"SATAHDD\", \"orientation\": \"v\", \"showlegend\": false, \"textposition\": \"auto\", \"type\": \"bar\", \"x\": [60, 90, 15, 30], \"xaxis\": \"x3\", \"y\": [3225932412, 3188025304, 3323222670, 3745934940], \"yaxis\": \"y3\"}, {\"alignmentgroup\": \"True\", \"hovertemplate\": \"Storage Media=NVMeSSD<br>Operation Batch Size=64MB<br>CPU count=8CPU<br>keyrange_count=%{x}<br>overall_input_record=%{y}<extra></extra>\", \"legendgroup\": \"NVMeSSD\", \"marker\": {\"color\": \"#00cc96\"}, \"name\": \"NVMeSSD\", \"offsetgroup\": \"NVMeSSD\", \"orientation\": \"v\", \"showlegend\": true, \"textposition\": \"auto\", \"type\": \"bar\", \"x\": [60, 90, 15, 30], \"xaxis\": \"x4\", \"y\": [4760390359, 4819105234, 4699329594, 5056446822], \"yaxis\": \"y4\"}, {\"alignmentgroup\": \"True\", \"hovertemplate\": \"Storage Media=NVMeSSD<br>Operation Batch Size=64MB<br>CPU count=16CPU<br>keyrange_count=%{x}<br>overall_input_record=%{y}<extra></extra>\", \"legendgroup\": \"NVMeSSD\", \"marker\": {\"color\": \"#00cc96\"}, \"name\": \"NVMeSSD\", \"offsetgroup\": \"NVMeSSD\", \"orientation\": \"v\", \"showlegend\": false, \"textposition\": \"auto\", \"type\": \"bar\", \"x\": [60, 90, 15, 30], \"xaxis\": \"x5\", \"y\": [4760764073, 4718193080, 4749947506, 4991294495], \"yaxis\": \"y5\"}, {\"alignmentgroup\": \"True\", \"hovertemplate\": \"Storage Media=NVMeSSD<br>Operation Batch Size=64MB<br>CPU count=32CPU<br>keyrange_count=%{x}<br>overall_input_record=%{y}<extra></extra>\", \"legendgroup\": \"NVMeSSD\", \"marker\": {\"color\": \"#00cc96\"}, \"name\": \"NVMeSSD\", \"offsetgroup\": \"NVMeSSD\", \"orientation\": \"v\", \"showlegend\": false, \"textposition\": \"auto\", \"type\": \"bar\", \"x\": [60, 90, 15, 30], \"xaxis\": \"x6\", \"y\": [4797117849, 4694192748, 4645822739, 4926817283], \"yaxis\": \"y6\"}, {\"alignmentgroup\": \"True\", \"hovertemplate\": \"Storage Media=NVMeSSD<br>Operation Batch Size=128MB<br>CPU count=8CPU<br>keyrange_count=%{x}<br>overall_input_record=%{y}<extra></extra>\", \"legendgroup\": \"NVMeSSD\", \"marker\": {\"color\": \"#00cc96\"}, \"name\": \"NVMeSSD\", \"offsetgroup\": \"NVMeSSD\", \"orientation\": \"v\", \"showlegend\": false, \"textposition\": \"auto\", \"type\": \"bar\", \"x\": [60, 90, 15, 30], \"xaxis\": \"x\", \"y\": [4358177810, 4246765505, 4198602044, 4749250662], \"yaxis\": \"y\"}, {\"alignmentgroup\": \"True\", \"hovertemplate\": \"Storage Media=NVMeSSD<br>Operation Batch Size=128MB<br>CPU count=16CPU<br>keyrange_count=%{x}<br>overall_input_record=%{y}<extra></extra>\", \"legendgroup\": \"NVMeSSD\", \"marker\": {\"color\": \"#00cc96\"}, \"name\": \"NVMeSSD\", \"offsetgroup\": \"NVMeSSD\", \"orientation\": \"v\", \"showlegend\": false, \"textposition\": \"auto\", \"type\": \"bar\", \"x\": [60, 90, 15, 30], \"xaxis\": \"x2\", \"y\": [4357463091, 4282796699, 4180195613, 4779926594], \"yaxis\": \"y2\"}, {\"alignmentgroup\": \"True\", \"hovertemplate\": \"Storage Media=NVMeSSD<br>Operation Batch Size=128MB<br>CPU count=32CPU<br>keyrange_count=%{x}<br>overall_input_record=%{y}<extra></extra>\", \"legendgroup\": \"NVMeSSD\", \"marker\": {\"color\": \"#00cc96\"}, \"name\": \"NVMeSSD\", \"offsetgroup\": \"NVMeSSD\", \"orientation\": \"v\", \"showlegend\": false, \"textposition\": \"auto\", \"type\": \"bar\", \"x\": [60, 90, 15, 30], \"xaxis\": \"x3\", \"y\": [4349376130, 4269093490, 4216862353, 4812398379], \"yaxis\": \"y3\"}, {\"alignmentgroup\": \"True\", \"hovertemplate\": \"Storage Media=PM<br>Operation Batch Size=64MB<br>CPU count=8CPU<br>keyrange_count=%{x}<br>overall_input_record=%{y}<extra></extra>\", \"legendgroup\": \"PM\", \"marker\": {\"color\": \"#ab63fa\"}, \"name\": \"PM\", \"offsetgroup\": \"PM\", \"orientation\": \"v\", \"showlegend\": true, \"textposition\": \"auto\", \"type\": \"bar\", \"x\": [60, 90, 15, 30], \"xaxis\": \"x4\", \"y\": [4419592896, 4294513609, 4012764718, 4508840487], \"yaxis\": \"y4\"}, {\"alignmentgroup\": \"True\", \"hovertemplate\": \"Storage Media=PM<br>Operation Batch Size=64MB<br>CPU count=16CPU<br>keyrange_count=%{x}<br>overall_input_record=%{y}<extra></extra>\", \"legendgroup\": \"PM\", \"marker\": {\"color\": \"#ab63fa\"}, \"name\": \"PM\", \"offsetgroup\": \"PM\", \"orientation\": \"v\", \"showlegend\": false, \"textposition\": \"auto\", \"type\": \"bar\", \"x\": [60, 90, 15, 30], \"xaxis\": \"x5\", \"y\": [4428729219, 4198537244, 4058008166, 4419023965], \"yaxis\": \"y5\"}, {\"alignmentgroup\": \"True\", \"hovertemplate\": \"Storage Media=PM<br>Operation Batch Size=64MB<br>CPU count=32CPU<br>keyrange_count=%{x}<br>overall_input_record=%{y}<extra></extra>\", \"legendgroup\": \"PM\", \"marker\": {\"color\": \"#ab63fa\"}, \"name\": \"PM\", \"offsetgroup\": \"PM\", \"orientation\": \"v\", \"showlegend\": false, \"textposition\": \"auto\", \"type\": \"bar\", \"x\": [60, 90, 15, 30], \"xaxis\": \"x6\", \"y\": [4415229045, 4105942053, 3951907656, 4358447127], \"yaxis\": \"y6\"}, {\"alignmentgroup\": \"True\", \"hovertemplate\": \"Storage Media=PM<br>Operation Batch Size=128MB<br>CPU count=8CPU<br>keyrange_count=%{x}<br>overall_input_record=%{y}<extra></extra>\", \"legendgroup\": \"PM\", \"marker\": {\"color\": \"#ab63fa\"}, \"name\": \"PM\", \"offsetgroup\": \"PM\", \"orientation\": \"v\", \"showlegend\": false, \"textposition\": \"auto\", \"type\": \"bar\", \"x\": [60, 90, 15, 30], \"xaxis\": \"x\", \"y\": [3941916877, 3889732265, 3752280735, 4091631419], \"yaxis\": \"y\"}, {\"alignmentgroup\": \"True\", \"hovertemplate\": \"Storage Media=PM<br>Operation Batch Size=128MB<br>CPU count=16CPU<br>keyrange_count=%{x}<br>overall_input_record=%{y}<extra></extra>\", \"legendgroup\": \"PM\", \"marker\": {\"color\": \"#ab63fa\"}, \"name\": \"PM\", \"offsetgroup\": \"PM\", \"orientation\": \"v\", \"showlegend\": false, \"textposition\": \"auto\", \"type\": \"bar\", \"x\": [60, 90, 15, 30], \"xaxis\": \"x2\", \"y\": [3934558382, 3926979855, 3741933546, 4064898437], \"yaxis\": \"y2\"}, {\"alignmentgroup\": \"True\", \"hovertemplate\": \"Storage Media=PM<br>Operation Batch Size=128MB<br>CPU count=32CPU<br>keyrange_count=%{x}<br>overall_input_record=%{y}<extra></extra>\", \"legendgroup\": \"PM\", \"marker\": {\"color\": \"#ab63fa\"}, \"name\": \"PM\", \"offsetgroup\": \"PM\", \"orientation\": \"v\", \"showlegend\": false, \"textposition\": \"auto\", \"type\": \"bar\", \"x\": [60, 90, 15, 30], \"xaxis\": \"x3\", \"y\": [4027825932, 3951708297, 3843344826, 4044372781], \"yaxis\": \"y3\"}],\n",
       "                        {\"annotations\": [{\"font\": {}, \"showarrow\": false, \"text\": \"CPU count=8CPU\", \"x\": 0.15666666666666665, \"xanchor\": \"center\", \"xref\": \"paper\", \"y\": 1.0, \"yanchor\": \"bottom\", \"yref\": \"paper\"}, {\"font\": {}, \"showarrow\": false, \"text\": \"CPU count=16CPU\", \"x\": 0.49, \"xanchor\": \"center\", \"xref\": \"paper\", \"y\": 1.0, \"yanchor\": \"bottom\", \"yref\": \"paper\"}, {\"font\": {}, \"showarrow\": false, \"text\": \"CPU count=32CPU\", \"x\": 0.8233333333333333, \"xanchor\": \"center\", \"xref\": \"paper\", \"y\": 1.0, \"yanchor\": \"bottom\", \"yref\": \"paper\"}, {\"font\": {}, \"showarrow\": false, \"text\": \"Operation Batch Size=128MB\", \"textangle\": 90, \"x\": 0.98, \"xanchor\": \"left\", \"xref\": \"paper\", \"y\": 0.2425, \"yanchor\": \"middle\", \"yref\": \"paper\"}, {\"font\": {}, \"showarrow\": false, \"text\": \"Operation Batch Size=64MB\", \"textangle\": 90, \"x\": 0.98, \"xanchor\": \"left\", \"xref\": \"paper\", \"y\": 0.7575000000000001, \"yanchor\": \"middle\", \"yref\": \"paper\"}], \"autosize\": false, \"barmode\": \"group\", \"font\": {\"size\": 20}, \"height\": 900, \"legend\": {\"title\": {\"text\": \"Storage Media\"}, \"tracegroupgap\": 0}, \"margin\": {\"t\": 60}, \"template\": {\"data\": {\"bar\": [{\"error_x\": {\"color\": \"#2a3f5f\"}, \"error_y\": {\"color\": \"#2a3f5f\"}, \"marker\": {\"line\": {\"color\": \"#E5ECF6\", \"width\": 0.5}}, \"type\": \"bar\"}], \"barpolar\": [{\"marker\": {\"line\": {\"color\": \"#E5ECF6\", \"width\": 0.5}}, \"type\": \"barpolar\"}], \"carpet\": [{\"aaxis\": {\"endlinecolor\": \"#2a3f5f\", \"gridcolor\": \"white\", \"linecolor\": \"white\", \"minorgridcolor\": \"white\", \"startlinecolor\": \"#2a3f5f\"}, \"baxis\": {\"endlinecolor\": \"#2a3f5f\", \"gridcolor\": \"white\", \"linecolor\": \"white\", \"minorgridcolor\": \"white\", \"startlinecolor\": \"#2a3f5f\"}, \"type\": \"carpet\"}], \"choropleth\": [{\"colorbar\": {\"outlinewidth\": 0, \"ticks\": \"\"}, \"type\": \"choropleth\"}], \"contour\": [{\"colorbar\": {\"outlinewidth\": 0, \"ticks\": \"\"}, \"colorscale\": [[0.0, \"#0d0887\"], [0.1111111111111111, \"#46039f\"], [0.2222222222222222, \"#7201a8\"], [0.3333333333333333, \"#9c179e\"], [0.4444444444444444, \"#bd3786\"], [0.5555555555555556, \"#d8576b\"], [0.6666666666666666, \"#ed7953\"], [0.7777777777777778, \"#fb9f3a\"], [0.8888888888888888, \"#fdca26\"], [1.0, \"#f0f921\"]], \"type\": \"contour\"}], \"contourcarpet\": [{\"colorbar\": {\"outlinewidth\": 0, \"ticks\": \"\"}, \"type\": \"contourcarpet\"}], \"heatmap\": [{\"colorbar\": {\"outlinewidth\": 0, \"ticks\": \"\"}, \"colorscale\": [[0.0, \"#0d0887\"], [0.1111111111111111, \"#46039f\"], [0.2222222222222222, \"#7201a8\"], [0.3333333333333333, \"#9c179e\"], [0.4444444444444444, \"#bd3786\"], [0.5555555555555556, \"#d8576b\"], [0.6666666666666666, \"#ed7953\"], [0.7777777777777778, \"#fb9f3a\"], [0.8888888888888888, \"#fdca26\"], [1.0, \"#f0f921\"]], \"type\": \"heatmap\"}], \"heatmapgl\": [{\"colorbar\": {\"outlinewidth\": 0, \"ticks\": \"\"}, \"colorscale\": [[0.0, \"#0d0887\"], [0.1111111111111111, \"#46039f\"], [0.2222222222222222, \"#7201a8\"], [0.3333333333333333, \"#9c179e\"], [0.4444444444444444, \"#bd3786\"], [0.5555555555555556, \"#d8576b\"], [0.6666666666666666, \"#ed7953\"], [0.7777777777777778, \"#fb9f3a\"], [0.8888888888888888, \"#fdca26\"], [1.0, \"#f0f921\"]], \"type\": \"heatmapgl\"}], \"histogram\": [{\"marker\": {\"colorbar\": {\"outlinewidth\": 0, \"ticks\": \"\"}}, \"type\": \"histogram\"}], \"histogram2d\": [{\"colorbar\": {\"outlinewidth\": 0, \"ticks\": \"\"}, \"colorscale\": [[0.0, \"#0d0887\"], [0.1111111111111111, \"#46039f\"], [0.2222222222222222, \"#7201a8\"], [0.3333333333333333, \"#9c179e\"], [0.4444444444444444, \"#bd3786\"], [0.5555555555555556, \"#d8576b\"], [0.6666666666666666, \"#ed7953\"], [0.7777777777777778, \"#fb9f3a\"], [0.8888888888888888, \"#fdca26\"], [1.0, \"#f0f921\"]], \"type\": \"histogram2d\"}], \"histogram2dcontour\": [{\"colorbar\": {\"outlinewidth\": 0, \"ticks\": \"\"}, \"colorscale\": [[0.0, \"#0d0887\"], [0.1111111111111111, \"#46039f\"], [0.2222222222222222, \"#7201a8\"], [0.3333333333333333, \"#9c179e\"], [0.4444444444444444, \"#bd3786\"], [0.5555555555555556, \"#d8576b\"], [0.6666666666666666, \"#ed7953\"], [0.7777777777777778, \"#fb9f3a\"], [0.8888888888888888, \"#fdca26\"], [1.0, \"#f0f921\"]], \"type\": \"histogram2dcontour\"}], \"mesh3d\": [{\"colorbar\": {\"outlinewidth\": 0, \"ticks\": \"\"}, \"type\": \"mesh3d\"}], \"parcoords\": [{\"line\": {\"colorbar\": {\"outlinewidth\": 0, \"ticks\": \"\"}}, \"type\": \"parcoords\"}], \"pie\": [{\"automargin\": true, \"type\": \"pie\"}], \"scatter\": [{\"marker\": {\"colorbar\": {\"outlinewidth\": 0, \"ticks\": \"\"}}, \"type\": \"scatter\"}], \"scatter3d\": [{\"line\": {\"colorbar\": {\"outlinewidth\": 0, \"ticks\": \"\"}}, \"marker\": {\"colorbar\": {\"outlinewidth\": 0, \"ticks\": \"\"}}, \"type\": \"scatter3d\"}], \"scattercarpet\": [{\"marker\": {\"colorbar\": {\"outlinewidth\": 0, \"ticks\": \"\"}}, \"type\": \"scattercarpet\"}], \"scattergeo\": [{\"marker\": {\"colorbar\": {\"outlinewidth\": 0, \"ticks\": \"\"}}, \"type\": \"scattergeo\"}], \"scattergl\": [{\"marker\": {\"colorbar\": {\"outlinewidth\": 0, \"ticks\": \"\"}}, \"type\": \"scattergl\"}], \"scattermapbox\": [{\"marker\": {\"colorbar\": {\"outlinewidth\": 0, \"ticks\": \"\"}}, \"type\": \"scattermapbox\"}], \"scatterpolar\": [{\"marker\": {\"colorbar\": {\"outlinewidth\": 0, \"ticks\": \"\"}}, \"type\": \"scatterpolar\"}], \"scatterpolargl\": [{\"marker\": {\"colorbar\": {\"outlinewidth\": 0, \"ticks\": \"\"}}, \"type\": \"scatterpolargl\"}], \"scatterternary\": [{\"marker\": {\"colorbar\": {\"outlinewidth\": 0, \"ticks\": \"\"}}, \"type\": \"scatterternary\"}], \"surface\": [{\"colorbar\": {\"outlinewidth\": 0, \"ticks\": \"\"}, \"colorscale\": [[0.0, \"#0d0887\"], [0.1111111111111111, \"#46039f\"], [0.2222222222222222, \"#7201a8\"], [0.3333333333333333, \"#9c179e\"], [0.4444444444444444, \"#bd3786\"], [0.5555555555555556, \"#d8576b\"], [0.6666666666666666, \"#ed7953\"], [0.7777777777777778, \"#fb9f3a\"], [0.8888888888888888, \"#fdca26\"], [1.0, \"#f0f921\"]], \"type\": \"surface\"}], \"table\": [{\"cells\": {\"fill\": {\"color\": \"#EBF0F8\"}, \"line\": {\"color\": \"white\"}}, \"header\": {\"fill\": {\"color\": \"#C8D4E3\"}, \"line\": {\"color\": \"white\"}}, \"type\": \"table\"}]}, \"layout\": {\"annotationdefaults\": {\"arrowcolor\": \"#2a3f5f\", \"arrowhead\": 0, \"arrowwidth\": 1}, \"coloraxis\": {\"colorbar\": {\"outlinewidth\": 0, \"ticks\": \"\"}}, \"colorscale\": {\"diverging\": [[0, \"#8e0152\"], [0.1, \"#c51b7d\"], [0.2, \"#de77ae\"], [0.3, \"#f1b6da\"], [0.4, \"#fde0ef\"], [0.5, \"#f7f7f7\"], [0.6, \"#e6f5d0\"], [0.7, \"#b8e186\"], [0.8, \"#7fbc41\"], [0.9, \"#4d9221\"], [1, \"#276419\"]], \"sequential\": [[0.0, \"#0d0887\"], [0.1111111111111111, \"#46039f\"], [0.2222222222222222, \"#7201a8\"], [0.3333333333333333, \"#9c179e\"], [0.4444444444444444, \"#bd3786\"], [0.5555555555555556, \"#d8576b\"], [0.6666666666666666, \"#ed7953\"], [0.7777777777777778, \"#fb9f3a\"], [0.8888888888888888, \"#fdca26\"], [1.0, \"#f0f921\"]], \"sequentialminus\": [[0.0, \"#0d0887\"], [0.1111111111111111, \"#46039f\"], [0.2222222222222222, \"#7201a8\"], [0.3333333333333333, \"#9c179e\"], [0.4444444444444444, \"#bd3786\"], [0.5555555555555556, \"#d8576b\"], [0.6666666666666666, \"#ed7953\"], [0.7777777777777778, \"#fb9f3a\"], [0.8888888888888888, \"#fdca26\"], [1.0, \"#f0f921\"]]}, \"colorway\": [\"#636efa\", \"#EF553B\", \"#00cc96\", \"#ab63fa\", \"#FFA15A\", \"#19d3f3\", \"#FF6692\", \"#B6E880\", \"#FF97FF\", \"#FECB52\"], \"font\": {\"color\": \"#2a3f5f\"}, \"geo\": {\"bgcolor\": \"white\", \"lakecolor\": \"white\", \"landcolor\": \"#E5ECF6\", \"showlakes\": true, \"showland\": true, \"subunitcolor\": \"white\"}, \"hoverlabel\": {\"align\": \"left\"}, \"hovermode\": \"closest\", \"mapbox\": {\"style\": \"light\"}, \"paper_bgcolor\": \"white\", \"plot_bgcolor\": \"#E5ECF6\", \"polar\": {\"angularaxis\": {\"gridcolor\": \"white\", \"linecolor\": \"white\", \"ticks\": \"\"}, \"bgcolor\": \"#E5ECF6\", \"radialaxis\": {\"gridcolor\": \"white\", \"linecolor\": \"white\", \"ticks\": \"\"}}, \"scene\": {\"xaxis\": {\"backgroundcolor\": \"#E5ECF6\", \"gridcolor\": \"white\", \"gridwidth\": 2, \"linecolor\": \"white\", \"showbackground\": true, \"ticks\": \"\", \"zerolinecolor\": \"white\"}, \"yaxis\": {\"backgroundcolor\": \"#E5ECF6\", \"gridcolor\": \"white\", \"gridwidth\": 2, \"linecolor\": \"white\", \"showbackground\": true, \"ticks\": \"\", \"zerolinecolor\": \"white\"}, \"zaxis\": {\"backgroundcolor\": \"#E5ECF6\", \"gridcolor\": \"white\", \"gridwidth\": 2, \"linecolor\": \"white\", \"showbackground\": true, \"ticks\": \"\", \"zerolinecolor\": \"white\"}}, \"shapedefaults\": {\"line\": {\"color\": \"#2a3f5f\"}}, \"ternary\": {\"aaxis\": {\"gridcolor\": \"white\", \"linecolor\": \"white\", \"ticks\": \"\"}, \"baxis\": {\"gridcolor\": \"white\", \"linecolor\": \"white\", \"ticks\": \"\"}, \"bgcolor\": \"#E5ECF6\", \"caxis\": {\"gridcolor\": \"white\", \"linecolor\": \"white\", \"ticks\": \"\"}}, \"title\": {\"x\": 0.05}, \"xaxis\": {\"automargin\": true, \"gridcolor\": \"white\", \"linecolor\": \"white\", \"ticks\": \"\", \"title\": {\"standoff\": 15}, \"zerolinecolor\": \"white\", \"zerolinewidth\": 2}, \"yaxis\": {\"automargin\": true, \"gridcolor\": \"white\", \"linecolor\": \"white\", \"ticks\": \"\", \"title\": {\"standoff\": 15}, \"zerolinecolor\": \"white\", \"zerolinewidth\": 2}}}, \"width\": 1600, \"xaxis\": {\"anchor\": \"y\", \"domain\": [0.0, 0.3133333333333333], \"showgrid\": false, \"title\": {\"text\": \"keyrange_count\"}}, \"xaxis2\": {\"anchor\": \"y2\", \"domain\": [0.3333333333333333, 0.6466666666666666], \"matches\": \"x\", \"showgrid\": false, \"title\": {\"text\": \"keyrange_count\"}}, \"xaxis3\": {\"anchor\": \"y3\", \"domain\": [0.6666666666666666, 0.98], \"matches\": \"x\", \"showgrid\": false, \"title\": {\"text\": \"keyrange_count\"}}, \"xaxis4\": {\"anchor\": \"y4\", \"domain\": [0.0, 0.3133333333333333], \"matches\": \"x\", \"showgrid\": false, \"showticklabels\": false}, \"xaxis5\": {\"anchor\": \"y5\", \"domain\": [0.3333333333333333, 0.6466666666666666], \"matches\": \"x\", \"showgrid\": false, \"showticklabels\": false}, \"xaxis6\": {\"anchor\": \"y6\", \"domain\": [0.6666666666666666, 0.98], \"matches\": \"x\", \"showgrid\": false, \"showticklabels\": false}, \"yaxis\": {\"anchor\": \"x\", \"automargin\": true, \"domain\": [0.0, 0.485], \"title\": {\"text\": \"overall_input_record\"}}, \"yaxis2\": {\"anchor\": \"x2\", \"automargin\": true, \"domain\": [0.0, 0.485], \"matches\": \"y\", \"showticklabels\": false}, \"yaxis3\": {\"anchor\": \"x3\", \"automargin\": true, \"domain\": [0.0, 0.485], \"matches\": \"y\", \"showticklabels\": false}, \"yaxis4\": {\"anchor\": \"x4\", \"automargin\": true, \"domain\": [0.515, 1.0], \"matches\": \"y\", \"title\": {\"text\": \"overall_input_record\"}}, \"yaxis5\": {\"anchor\": \"x5\", \"automargin\": true, \"domain\": [0.515, 1.0], \"matches\": \"y\", \"showticklabels\": false}, \"yaxis6\": {\"anchor\": \"x6\", \"automargin\": true, \"domain\": [0.515, 1.0], \"matches\": \"y\", \"showticklabels\": false}},\n",
       "                        {\"responsive\": true}\n",
       "                    ).then(function(){\n",
       "                            \n",
       "var gd = document.getElementById('2562a953-3599-49b0-9242-81a38ca010b4');\n",
       "var x = new MutationObserver(function (mutations, observer) {{\n",
       "        var display = window.getComputedStyle(gd).display;\n",
       "        if (!display || display === 'none') {{\n",
       "            console.log([gd, 'removed!']);\n",
       "            Plotly.purge(gd);\n",
       "            observer.disconnect();\n",
       "        }}\n",
       "}});\n",
       "\n",
       "// Listen for the removal of the full notebook cells\n",
       "var notebookContainer = gd.closest('#notebook-container');\n",
       "if (notebookContainer) {{\n",
       "    x.observe(notebookContainer, {childList: true});\n",
       "}}\n",
       "\n",
       "// Listen for the clearing of the current output cell\n",
       "var outputEl = gd.closest('.output');\n",
       "if (outputEl) {{\n",
       "    x.observe(outputEl, {childList: true});\n",
       "}}\n",
       "\n",
       "                        })\n",
       "                };\n",
       "                });\n",
       "            </script>\n",
       "        </div>"
      ]
     },
     "metadata": {},
     "output_type": "display_data"
    },
    {
     "name": "stdout",
     "output_type": "stream",
     "text": [
      "plotting fig ./image/overall_input_record.pdf finished\n"
     ]
    },
    {
     "data": {
      "application/vnd.plotly.v1+json": {
       "config": {
        "plotlyServerURL": "https://plot.ly"
       },
       "data": [
        {
         "alignmentgroup": "True",
         "hovertemplate": "Storage Media=SATASSD<br>Operation Batch Size=64MB<br>CPU count=8CPU<br>keyrange_count=%{x}<br>overall_output_record=%{y}<extra></extra>",
         "legendgroup": "SATASSD",
         "marker": {
          "color": "#636efa"
         },
         "name": "SATASSD",
         "offsetgroup": "SATASSD",
         "orientation": "v",
         "showlegend": true,
         "textposition": "auto",
         "type": "bar",
         "x": [
          60,
          90,
          15,
          30
         ],
         "xaxis": "x4",
         "y": [
          4106724988,
          3971952909,
          3808058338,
          4495643571
         ],
         "yaxis": "y4"
        },
        {
         "alignmentgroup": "True",
         "hovertemplate": "Storage Media=SATASSD<br>Operation Batch Size=64MB<br>CPU count=16CPU<br>keyrange_count=%{x}<br>overall_output_record=%{y}<extra></extra>",
         "legendgroup": "SATASSD",
         "marker": {
          "color": "#636efa"
         },
         "name": "SATASSD",
         "offsetgroup": "SATASSD",
         "orientation": "v",
         "showlegend": false,
         "textposition": "auto",
         "type": "bar",
         "x": [
          60,
          90,
          15,
          30
         ],
         "xaxis": "x5",
         "y": [
          4117921183,
          3900669507,
          3836731486,
          4322924574
         ],
         "yaxis": "y5"
        },
        {
         "alignmentgroup": "True",
         "hovertemplate": "Storage Media=SATASSD<br>Operation Batch Size=64MB<br>CPU count=32CPU<br>keyrange_count=%{x}<br>overall_output_record=%{y}<extra></extra>",
         "legendgroup": "SATASSD",
         "marker": {
          "color": "#636efa"
         },
         "name": "SATASSD",
         "offsetgroup": "SATASSD",
         "orientation": "v",
         "showlegend": false,
         "textposition": "auto",
         "type": "bar",
         "x": [
          60,
          90,
          15,
          30
         ],
         "xaxis": "x6",
         "y": [
          4034553992,
          3947182658,
          3871830996,
          4267726536
         ],
         "yaxis": "y6"
        },
        {
         "alignmentgroup": "True",
         "hovertemplate": "Storage Media=SATASSD<br>Operation Batch Size=128MB<br>CPU count=8CPU<br>keyrange_count=%{x}<br>overall_output_record=%{y}<extra></extra>",
         "legendgroup": "SATASSD",
         "marker": {
          "color": "#636efa"
         },
         "name": "SATASSD",
         "offsetgroup": "SATASSD",
         "orientation": "v",
         "showlegend": false,
         "textposition": "auto",
         "type": "bar",
         "x": [
          60,
          90,
          15,
          30
         ],
         "xaxis": "x",
         "y": [
          3708968150,
          3430117019,
          3540736743,
          3976533305
         ],
         "yaxis": "y"
        },
        {
         "alignmentgroup": "True",
         "hovertemplate": "Storage Media=SATASSD<br>Operation Batch Size=128MB<br>CPU count=16CPU<br>keyrange_count=%{x}<br>overall_output_record=%{y}<extra></extra>",
         "legendgroup": "SATASSD",
         "marker": {
          "color": "#636efa"
         },
         "name": "SATASSD",
         "offsetgroup": "SATASSD",
         "orientation": "v",
         "showlegend": false,
         "textposition": "auto",
         "type": "bar",
         "x": [
          60,
          90,
          15,
          30
         ],
         "xaxis": "x2",
         "y": [
          3746871111,
          3620309018,
          3442430301,
          4011505436
         ],
         "yaxis": "y2"
        },
        {
         "alignmentgroup": "True",
         "hovertemplate": "Storage Media=SATASSD<br>Operation Batch Size=128MB<br>CPU count=32CPU<br>keyrange_count=%{x}<br>overall_output_record=%{y}<extra></extra>",
         "legendgroup": "SATASSD",
         "marker": {
          "color": "#636efa"
         },
         "name": "SATASSD",
         "offsetgroup": "SATASSD",
         "orientation": "v",
         "showlegend": false,
         "textposition": "auto",
         "type": "bar",
         "x": [
          60,
          90,
          15,
          30
         ],
         "xaxis": "x3",
         "y": [
          3671927013,
          3559008202,
          3628840838,
          3961245287
         ],
         "yaxis": "y3"
        },
        {
         "alignmentgroup": "True",
         "hovertemplate": "Storage Media=SATAHDD<br>Operation Batch Size=64MB<br>CPU count=8CPU<br>keyrange_count=%{x}<br>overall_output_record=%{y}<extra></extra>",
         "legendgroup": "SATAHDD",
         "marker": {
          "color": "#EF553B"
         },
         "name": "SATAHDD",
         "offsetgroup": "SATAHDD",
         "orientation": "v",
         "showlegend": true,
         "textposition": "auto",
         "type": "bar",
         "x": [
          60,
          90,
          15,
          30
         ],
         "xaxis": "x4",
         "y": [
          3535087923,
          3658929156,
          3587767798,
          3875103078
         ],
         "yaxis": "y4"
        },
        {
         "alignmentgroup": "True",
         "hovertemplate": "Storage Media=SATAHDD<br>Operation Batch Size=64MB<br>CPU count=16CPU<br>keyrange_count=%{x}<br>overall_output_record=%{y}<extra></extra>",
         "legendgroup": "SATAHDD",
         "marker": {
          "color": "#EF553B"
         },
         "name": "SATAHDD",
         "offsetgroup": "SATAHDD",
         "orientation": "v",
         "showlegend": false,
         "textposition": "auto",
         "type": "bar",
         "x": [
          60,
          90,
          15,
          30
         ],
         "xaxis": "x5",
         "y": [
          3502137510,
          3603326097,
          3695919240,
          4196300730
         ],
         "yaxis": "y5"
        },
        {
         "alignmentgroup": "True",
         "hovertemplate": "Storage Media=SATAHDD<br>Operation Batch Size=64MB<br>CPU count=32CPU<br>keyrange_count=%{x}<br>overall_output_record=%{y}<extra></extra>",
         "legendgroup": "SATAHDD",
         "marker": {
          "color": "#EF553B"
         },
         "name": "SATAHDD",
         "offsetgroup": "SATAHDD",
         "orientation": "v",
         "showlegend": false,
         "textposition": "auto",
         "type": "bar",
         "x": [
          60,
          90,
          15,
          30
         ],
         "xaxis": "x6",
         "y": [
          3549105661,
          3552789470,
          3658065703,
          4120468837
         ],
         "yaxis": "y6"
        },
        {
         "alignmentgroup": "True",
         "hovertemplate": "Storage Media=SATAHDD<br>Operation Batch Size=128MB<br>CPU count=8CPU<br>keyrange_count=%{x}<br>overall_output_record=%{y}<extra></extra>",
         "legendgroup": "SATAHDD",
         "marker": {
          "color": "#EF553B"
         },
         "name": "SATAHDD",
         "offsetgroup": "SATAHDD",
         "orientation": "v",
         "showlegend": false,
         "textposition": "auto",
         "type": "bar",
         "x": [
          60,
          90,
          15,
          30
         ],
         "xaxis": "x",
         "y": [
          3247266001,
          3105343706,
          3241610430,
          3059423325
         ],
         "yaxis": "y"
        },
        {
         "alignmentgroup": "True",
         "hovertemplate": "Storage Media=SATAHDD<br>Operation Batch Size=128MB<br>CPU count=16CPU<br>keyrange_count=%{x}<br>overall_output_record=%{y}<extra></extra>",
         "legendgroup": "SATAHDD",
         "marker": {
          "color": "#EF553B"
         },
         "name": "SATAHDD",
         "offsetgroup": "SATAHDD",
         "orientation": "v",
         "showlegend": false,
         "textposition": "auto",
         "type": "bar",
         "x": [
          60,
          90,
          15,
          30
         ],
         "xaxis": "x2",
         "y": [
          2999168986,
          3166592550,
          3191883982,
          3523032621
         ],
         "yaxis": "y2"
        },
        {
         "alignmentgroup": "True",
         "hovertemplate": "Storage Media=SATAHDD<br>Operation Batch Size=128MB<br>CPU count=32CPU<br>keyrange_count=%{x}<br>overall_output_record=%{y}<extra></extra>",
         "legendgroup": "SATAHDD",
         "marker": {
          "color": "#EF553B"
         },
         "name": "SATAHDD",
         "offsetgroup": "SATAHDD",
         "orientation": "v",
         "showlegend": false,
         "textposition": "auto",
         "type": "bar",
         "x": [
          60,
          90,
          15,
          30
         ],
         "xaxis": "x3",
         "y": [
          3032584148,
          3011440317,
          3174318137,
          3565442479
         ],
         "yaxis": "y3"
        },
        {
         "alignmentgroup": "True",
         "hovertemplate": "Storage Media=NVMeSSD<br>Operation Batch Size=64MB<br>CPU count=8CPU<br>keyrange_count=%{x}<br>overall_output_record=%{y}<extra></extra>",
         "legendgroup": "NVMeSSD",
         "marker": {
          "color": "#00cc96"
         },
         "name": "NVMeSSD",
         "offsetgroup": "NVMeSSD",
         "orientation": "v",
         "showlegend": true,
         "textposition": "auto",
         "type": "bar",
         "x": [
          60,
          90,
          15,
          30
         ],
         "xaxis": "x4",
         "y": [
          4616103521,
          4667266759,
          4555041892,
          4898027383
         ],
         "yaxis": "y4"
        },
        {
         "alignmentgroup": "True",
         "hovertemplate": "Storage Media=NVMeSSD<br>Operation Batch Size=64MB<br>CPU count=16CPU<br>keyrange_count=%{x}<br>overall_output_record=%{y}<extra></extra>",
         "legendgroup": "NVMeSSD",
         "marker": {
          "color": "#00cc96"
         },
         "name": "NVMeSSD",
         "offsetgroup": "NVMeSSD",
         "orientation": "v",
         "showlegend": false,
         "textposition": "auto",
         "type": "bar",
         "x": [
          60,
          90,
          15,
          30
         ],
         "xaxis": "x5",
         "y": [
          4615235309,
          4572314655,
          4594334299,
          4827190999
         ],
         "yaxis": "y5"
        },
        {
         "alignmentgroup": "True",
         "hovertemplate": "Storage Media=NVMeSSD<br>Operation Batch Size=64MB<br>CPU count=32CPU<br>keyrange_count=%{x}<br>overall_output_record=%{y}<extra></extra>",
         "legendgroup": "NVMeSSD",
         "marker": {
          "color": "#00cc96"
         },
         "name": "NVMeSSD",
         "offsetgroup": "NVMeSSD",
         "orientation": "v",
         "showlegend": false,
         "textposition": "auto",
         "type": "bar",
         "x": [
          60,
          90,
          15,
          30
         ],
         "xaxis": "x6",
         "y": [
          4644396655,
          4550327853,
          4502719650,
          4760292769
         ],
         "yaxis": "y6"
        },
        {
         "alignmentgroup": "True",
         "hovertemplate": "Storage Media=NVMeSSD<br>Operation Batch Size=128MB<br>CPU count=8CPU<br>keyrange_count=%{x}<br>overall_output_record=%{y}<extra></extra>",
         "legendgroup": "NVMeSSD",
         "marker": {
          "color": "#00cc96"
         },
         "name": "NVMeSSD",
         "offsetgroup": "NVMeSSD",
         "orientation": "v",
         "showlegend": false,
         "textposition": "auto",
         "type": "bar",
         "x": [
          60,
          90,
          15,
          30
         ],
         "xaxis": "x",
         "y": [
          4206895444,
          4105746730,
          4052929438,
          4595627231
         ],
         "yaxis": "y"
        },
        {
         "alignmentgroup": "True",
         "hovertemplate": "Storage Media=NVMeSSD<br>Operation Batch Size=128MB<br>CPU count=16CPU<br>keyrange_count=%{x}<br>overall_output_record=%{y}<extra></extra>",
         "legendgroup": "NVMeSSD",
         "marker": {
          "color": "#00cc96"
         },
         "name": "NVMeSSD",
         "offsetgroup": "NVMeSSD",
         "orientation": "v",
         "showlegend": false,
         "textposition": "auto",
         "type": "bar",
         "x": [
          60,
          90,
          15,
          30
         ],
         "xaxis": "x2",
         "y": [
          4206049377,
          4138720833,
          4041409455,
          4624005763
         ],
         "yaxis": "y2"
        },
        {
         "alignmentgroup": "True",
         "hovertemplate": "Storage Media=NVMeSSD<br>Operation Batch Size=128MB<br>CPU count=32CPU<br>keyrange_count=%{x}<br>overall_output_record=%{y}<extra></extra>",
         "legendgroup": "NVMeSSD",
         "marker": {
          "color": "#00cc96"
         },
         "name": "NVMeSSD",
         "offsetgroup": "NVMeSSD",
         "orientation": "v",
         "showlegend": false,
         "textposition": "auto",
         "type": "bar",
         "x": [
          60,
          90,
          15,
          30
         ],
         "xaxis": "x3",
         "y": [
          4201839062,
          4124897204,
          4074071313,
          4651209994
         ],
         "yaxis": "y3"
        },
        {
         "alignmentgroup": "True",
         "hovertemplate": "Storage Media=PM<br>Operation Batch Size=64MB<br>CPU count=8CPU<br>keyrange_count=%{x}<br>overall_output_record=%{y}<extra></extra>",
         "legendgroup": "PM",
         "marker": {
          "color": "#ab63fa"
         },
         "name": "PM",
         "offsetgroup": "PM",
         "orientation": "v",
         "showlegend": true,
         "textposition": "auto",
         "type": "bar",
         "x": [
          60,
          90,
          15,
          30
         ],
         "xaxis": "x4",
         "y": [
          4264871549,
          4148658233,
          3870447662,
          4349529000
         ],
         "yaxis": "y4"
        },
        {
         "alignmentgroup": "True",
         "hovertemplate": "Storage Media=PM<br>Operation Batch Size=64MB<br>CPU count=16CPU<br>keyrange_count=%{x}<br>overall_output_record=%{y}<extra></extra>",
         "legendgroup": "PM",
         "marker": {
          "color": "#ab63fa"
         },
         "name": "PM",
         "offsetgroup": "PM",
         "orientation": "v",
         "showlegend": false,
         "textposition": "auto",
         "type": "bar",
         "x": [
          60,
          90,
          15,
          30
         ],
         "xaxis": "x5",
         "y": [
          4279929407,
          4053084569,
          3887828209,
          4227699467
         ],
         "yaxis": "y5"
        },
        {
         "alignmentgroup": "True",
         "hovertemplate": "Storage Media=PM<br>Operation Batch Size=64MB<br>CPU count=32CPU<br>keyrange_count=%{x}<br>overall_output_record=%{y}<extra></extra>",
         "legendgroup": "PM",
         "marker": {
          "color": "#ab63fa"
         },
         "name": "PM",
         "offsetgroup": "PM",
         "orientation": "v",
         "showlegend": false,
         "textposition": "auto",
         "type": "bar",
         "x": [
          60,
          90,
          15,
          30
         ],
         "xaxis": "x6",
         "y": [
          4262136824,
          3920908444,
          3808300035,
          4200251467
         ],
         "yaxis": "y6"
        },
        {
         "alignmentgroup": "True",
         "hovertemplate": "Storage Media=PM<br>Operation Batch Size=128MB<br>CPU count=8CPU<br>keyrange_count=%{x}<br>overall_output_record=%{y}<extra></extra>",
         "legendgroup": "PM",
         "marker": {
          "color": "#ab63fa"
         },
         "name": "PM",
         "offsetgroup": "PM",
         "orientation": "v",
         "showlegend": false,
         "textposition": "auto",
         "type": "bar",
         "x": [
          60,
          90,
          15,
          30
         ],
         "xaxis": "x",
         "y": [
          3810152286,
          3744370648,
          3604424885,
          3914896301
         ],
         "yaxis": "y"
        },
        {
         "alignmentgroup": "True",
         "hovertemplate": "Storage Media=PM<br>Operation Batch Size=128MB<br>CPU count=16CPU<br>keyrange_count=%{x}<br>overall_output_record=%{y}<extra></extra>",
         "legendgroup": "PM",
         "marker": {
          "color": "#ab63fa"
         },
         "name": "PM",
         "offsetgroup": "PM",
         "orientation": "v",
         "showlegend": false,
         "textposition": "auto",
         "type": "bar",
         "x": [
          60,
          90,
          15,
          30
         ],
         "xaxis": "x2",
         "y": [
          3794780763,
          3779322500,
          3603706280,
          3891794682
         ],
         "yaxis": "y2"
        },
        {
         "alignmentgroup": "True",
         "hovertemplate": "Storage Media=PM<br>Operation Batch Size=128MB<br>CPU count=32CPU<br>keyrange_count=%{x}<br>overall_output_record=%{y}<extra></extra>",
         "legendgroup": "PM",
         "marker": {
          "color": "#ab63fa"
         },
         "name": "PM",
         "offsetgroup": "PM",
         "orientation": "v",
         "showlegend": false,
         "textposition": "auto",
         "type": "bar",
         "x": [
          60,
          90,
          15,
          30
         ],
         "xaxis": "x3",
         "y": [
          3875564652,
          3782451548,
          3662369974,
          3880965947
         ],
         "yaxis": "y3"
        }
       ],
       "layout": {
        "annotations": [
         {
          "font": {},
          "showarrow": false,
          "text": "CPU count=8CPU",
          "x": 0.15666666666666665,
          "xanchor": "center",
          "xref": "paper",
          "y": 1,
          "yanchor": "bottom",
          "yref": "paper"
         },
         {
          "font": {},
          "showarrow": false,
          "text": "CPU count=16CPU",
          "x": 0.49,
          "xanchor": "center",
          "xref": "paper",
          "y": 1,
          "yanchor": "bottom",
          "yref": "paper"
         },
         {
          "font": {},
          "showarrow": false,
          "text": "CPU count=32CPU",
          "x": 0.8233333333333333,
          "xanchor": "center",
          "xref": "paper",
          "y": 1,
          "yanchor": "bottom",
          "yref": "paper"
         },
         {
          "font": {},
          "showarrow": false,
          "text": "Operation Batch Size=128MB",
          "textangle": 90,
          "x": 0.98,
          "xanchor": "left",
          "xref": "paper",
          "y": 0.2425,
          "yanchor": "middle",
          "yref": "paper"
         },
         {
          "font": {},
          "showarrow": false,
          "text": "Operation Batch Size=64MB",
          "textangle": 90,
          "x": 0.98,
          "xanchor": "left",
          "xref": "paper",
          "y": 0.7575000000000001,
          "yanchor": "middle",
          "yref": "paper"
         }
        ],
        "autosize": false,
        "barmode": "group",
        "font": {
         "size": 20
        },
        "height": 900,
        "legend": {
         "title": {
          "text": "Storage Media"
         },
         "tracegroupgap": 0
        },
        "margin": {
         "t": 60
        },
        "template": {
         "data": {
          "bar": [
           {
            "error_x": {
             "color": "#2a3f5f"
            },
            "error_y": {
             "color": "#2a3f5f"
            },
            "marker": {
             "line": {
              "color": "#E5ECF6",
              "width": 0.5
             }
            },
            "type": "bar"
           }
          ],
          "barpolar": [
           {
            "marker": {
             "line": {
              "color": "#E5ECF6",
              "width": 0.5
             }
            },
            "type": "barpolar"
           }
          ],
          "carpet": [
           {
            "aaxis": {
             "endlinecolor": "#2a3f5f",
             "gridcolor": "white",
             "linecolor": "white",
             "minorgridcolor": "white",
             "startlinecolor": "#2a3f5f"
            },
            "baxis": {
             "endlinecolor": "#2a3f5f",
             "gridcolor": "white",
             "linecolor": "white",
             "minorgridcolor": "white",
             "startlinecolor": "#2a3f5f"
            },
            "type": "carpet"
           }
          ],
          "choropleth": [
           {
            "colorbar": {
             "outlinewidth": 0,
             "ticks": ""
            },
            "type": "choropleth"
           }
          ],
          "contour": [
           {
            "colorbar": {
             "outlinewidth": 0,
             "ticks": ""
            },
            "colorscale": [
             [
              0,
              "#0d0887"
             ],
             [
              0.1111111111111111,
              "#46039f"
             ],
             [
              0.2222222222222222,
              "#7201a8"
             ],
             [
              0.3333333333333333,
              "#9c179e"
             ],
             [
              0.4444444444444444,
              "#bd3786"
             ],
             [
              0.5555555555555556,
              "#d8576b"
             ],
             [
              0.6666666666666666,
              "#ed7953"
             ],
             [
              0.7777777777777778,
              "#fb9f3a"
             ],
             [
              0.8888888888888888,
              "#fdca26"
             ],
             [
              1,
              "#f0f921"
             ]
            ],
            "type": "contour"
           }
          ],
          "contourcarpet": [
           {
            "colorbar": {
             "outlinewidth": 0,
             "ticks": ""
            },
            "type": "contourcarpet"
           }
          ],
          "heatmap": [
           {
            "colorbar": {
             "outlinewidth": 0,
             "ticks": ""
            },
            "colorscale": [
             [
              0,
              "#0d0887"
             ],
             [
              0.1111111111111111,
              "#46039f"
             ],
             [
              0.2222222222222222,
              "#7201a8"
             ],
             [
              0.3333333333333333,
              "#9c179e"
             ],
             [
              0.4444444444444444,
              "#bd3786"
             ],
             [
              0.5555555555555556,
              "#d8576b"
             ],
             [
              0.6666666666666666,
              "#ed7953"
             ],
             [
              0.7777777777777778,
              "#fb9f3a"
             ],
             [
              0.8888888888888888,
              "#fdca26"
             ],
             [
              1,
              "#f0f921"
             ]
            ],
            "type": "heatmap"
           }
          ],
          "heatmapgl": [
           {
            "colorbar": {
             "outlinewidth": 0,
             "ticks": ""
            },
            "colorscale": [
             [
              0,
              "#0d0887"
             ],
             [
              0.1111111111111111,
              "#46039f"
             ],
             [
              0.2222222222222222,
              "#7201a8"
             ],
             [
              0.3333333333333333,
              "#9c179e"
             ],
             [
              0.4444444444444444,
              "#bd3786"
             ],
             [
              0.5555555555555556,
              "#d8576b"
             ],
             [
              0.6666666666666666,
              "#ed7953"
             ],
             [
              0.7777777777777778,
              "#fb9f3a"
             ],
             [
              0.8888888888888888,
              "#fdca26"
             ],
             [
              1,
              "#f0f921"
             ]
            ],
            "type": "heatmapgl"
           }
          ],
          "histogram": [
           {
            "marker": {
             "colorbar": {
              "outlinewidth": 0,
              "ticks": ""
             }
            },
            "type": "histogram"
           }
          ],
          "histogram2d": [
           {
            "colorbar": {
             "outlinewidth": 0,
             "ticks": ""
            },
            "colorscale": [
             [
              0,
              "#0d0887"
             ],
             [
              0.1111111111111111,
              "#46039f"
             ],
             [
              0.2222222222222222,
              "#7201a8"
             ],
             [
              0.3333333333333333,
              "#9c179e"
             ],
             [
              0.4444444444444444,
              "#bd3786"
             ],
             [
              0.5555555555555556,
              "#d8576b"
             ],
             [
              0.6666666666666666,
              "#ed7953"
             ],
             [
              0.7777777777777778,
              "#fb9f3a"
             ],
             [
              0.8888888888888888,
              "#fdca26"
             ],
             [
              1,
              "#f0f921"
             ]
            ],
            "type": "histogram2d"
           }
          ],
          "histogram2dcontour": [
           {
            "colorbar": {
             "outlinewidth": 0,
             "ticks": ""
            },
            "colorscale": [
             [
              0,
              "#0d0887"
             ],
             [
              0.1111111111111111,
              "#46039f"
             ],
             [
              0.2222222222222222,
              "#7201a8"
             ],
             [
              0.3333333333333333,
              "#9c179e"
             ],
             [
              0.4444444444444444,
              "#bd3786"
             ],
             [
              0.5555555555555556,
              "#d8576b"
             ],
             [
              0.6666666666666666,
              "#ed7953"
             ],
             [
              0.7777777777777778,
              "#fb9f3a"
             ],
             [
              0.8888888888888888,
              "#fdca26"
             ],
             [
              1,
              "#f0f921"
             ]
            ],
            "type": "histogram2dcontour"
           }
          ],
          "mesh3d": [
           {
            "colorbar": {
             "outlinewidth": 0,
             "ticks": ""
            },
            "type": "mesh3d"
           }
          ],
          "parcoords": [
           {
            "line": {
             "colorbar": {
              "outlinewidth": 0,
              "ticks": ""
             }
            },
            "type": "parcoords"
           }
          ],
          "pie": [
           {
            "automargin": true,
            "type": "pie"
           }
          ],
          "scatter": [
           {
            "marker": {
             "colorbar": {
              "outlinewidth": 0,
              "ticks": ""
             }
            },
            "type": "scatter"
           }
          ],
          "scatter3d": [
           {
            "line": {
             "colorbar": {
              "outlinewidth": 0,
              "ticks": ""
             }
            },
            "marker": {
             "colorbar": {
              "outlinewidth": 0,
              "ticks": ""
             }
            },
            "type": "scatter3d"
           }
          ],
          "scattercarpet": [
           {
            "marker": {
             "colorbar": {
              "outlinewidth": 0,
              "ticks": ""
             }
            },
            "type": "scattercarpet"
           }
          ],
          "scattergeo": [
           {
            "marker": {
             "colorbar": {
              "outlinewidth": 0,
              "ticks": ""
             }
            },
            "type": "scattergeo"
           }
          ],
          "scattergl": [
           {
            "marker": {
             "colorbar": {
              "outlinewidth": 0,
              "ticks": ""
             }
            },
            "type": "scattergl"
           }
          ],
          "scattermapbox": [
           {
            "marker": {
             "colorbar": {
              "outlinewidth": 0,
              "ticks": ""
             }
            },
            "type": "scattermapbox"
           }
          ],
          "scatterpolar": [
           {
            "marker": {
             "colorbar": {
              "outlinewidth": 0,
              "ticks": ""
             }
            },
            "type": "scatterpolar"
           }
          ],
          "scatterpolargl": [
           {
            "marker": {
             "colorbar": {
              "outlinewidth": 0,
              "ticks": ""
             }
            },
            "type": "scatterpolargl"
           }
          ],
          "scatterternary": [
           {
            "marker": {
             "colorbar": {
              "outlinewidth": 0,
              "ticks": ""
             }
            },
            "type": "scatterternary"
           }
          ],
          "surface": [
           {
            "colorbar": {
             "outlinewidth": 0,
             "ticks": ""
            },
            "colorscale": [
             [
              0,
              "#0d0887"
             ],
             [
              0.1111111111111111,
              "#46039f"
             ],
             [
              0.2222222222222222,
              "#7201a8"
             ],
             [
              0.3333333333333333,
              "#9c179e"
             ],
             [
              0.4444444444444444,
              "#bd3786"
             ],
             [
              0.5555555555555556,
              "#d8576b"
             ],
             [
              0.6666666666666666,
              "#ed7953"
             ],
             [
              0.7777777777777778,
              "#fb9f3a"
             ],
             [
              0.8888888888888888,
              "#fdca26"
             ],
             [
              1,
              "#f0f921"
             ]
            ],
            "type": "surface"
           }
          ],
          "table": [
           {
            "cells": {
             "fill": {
              "color": "#EBF0F8"
             },
             "line": {
              "color": "white"
             }
            },
            "header": {
             "fill": {
              "color": "#C8D4E3"
             },
             "line": {
              "color": "white"
             }
            },
            "type": "table"
           }
          ]
         },
         "layout": {
          "annotationdefaults": {
           "arrowcolor": "#2a3f5f",
           "arrowhead": 0,
           "arrowwidth": 1
          },
          "coloraxis": {
           "colorbar": {
            "outlinewidth": 0,
            "ticks": ""
           }
          },
          "colorscale": {
           "diverging": [
            [
             0,
             "#8e0152"
            ],
            [
             0.1,
             "#c51b7d"
            ],
            [
             0.2,
             "#de77ae"
            ],
            [
             0.3,
             "#f1b6da"
            ],
            [
             0.4,
             "#fde0ef"
            ],
            [
             0.5,
             "#f7f7f7"
            ],
            [
             0.6,
             "#e6f5d0"
            ],
            [
             0.7,
             "#b8e186"
            ],
            [
             0.8,
             "#7fbc41"
            ],
            [
             0.9,
             "#4d9221"
            ],
            [
             1,
             "#276419"
            ]
           ],
           "sequential": [
            [
             0,
             "#0d0887"
            ],
            [
             0.1111111111111111,
             "#46039f"
            ],
            [
             0.2222222222222222,
             "#7201a8"
            ],
            [
             0.3333333333333333,
             "#9c179e"
            ],
            [
             0.4444444444444444,
             "#bd3786"
            ],
            [
             0.5555555555555556,
             "#d8576b"
            ],
            [
             0.6666666666666666,
             "#ed7953"
            ],
            [
             0.7777777777777778,
             "#fb9f3a"
            ],
            [
             0.8888888888888888,
             "#fdca26"
            ],
            [
             1,
             "#f0f921"
            ]
           ],
           "sequentialminus": [
            [
             0,
             "#0d0887"
            ],
            [
             0.1111111111111111,
             "#46039f"
            ],
            [
             0.2222222222222222,
             "#7201a8"
            ],
            [
             0.3333333333333333,
             "#9c179e"
            ],
            [
             0.4444444444444444,
             "#bd3786"
            ],
            [
             0.5555555555555556,
             "#d8576b"
            ],
            [
             0.6666666666666666,
             "#ed7953"
            ],
            [
             0.7777777777777778,
             "#fb9f3a"
            ],
            [
             0.8888888888888888,
             "#fdca26"
            ],
            [
             1,
             "#f0f921"
            ]
           ]
          },
          "colorway": [
           "#636efa",
           "#EF553B",
           "#00cc96",
           "#ab63fa",
           "#FFA15A",
           "#19d3f3",
           "#FF6692",
           "#B6E880",
           "#FF97FF",
           "#FECB52"
          ],
          "font": {
           "color": "#2a3f5f"
          },
          "geo": {
           "bgcolor": "white",
           "lakecolor": "white",
           "landcolor": "#E5ECF6",
           "showlakes": true,
           "showland": true,
           "subunitcolor": "white"
          },
          "hoverlabel": {
           "align": "left"
          },
          "hovermode": "closest",
          "mapbox": {
           "style": "light"
          },
          "paper_bgcolor": "white",
          "plot_bgcolor": "#E5ECF6",
          "polar": {
           "angularaxis": {
            "gridcolor": "white",
            "linecolor": "white",
            "ticks": ""
           },
           "bgcolor": "#E5ECF6",
           "radialaxis": {
            "gridcolor": "white",
            "linecolor": "white",
            "ticks": ""
           }
          },
          "scene": {
           "xaxis": {
            "backgroundcolor": "#E5ECF6",
            "gridcolor": "white",
            "gridwidth": 2,
            "linecolor": "white",
            "showbackground": true,
            "ticks": "",
            "zerolinecolor": "white"
           },
           "yaxis": {
            "backgroundcolor": "#E5ECF6",
            "gridcolor": "white",
            "gridwidth": 2,
            "linecolor": "white",
            "showbackground": true,
            "ticks": "",
            "zerolinecolor": "white"
           },
           "zaxis": {
            "backgroundcolor": "#E5ECF6",
            "gridcolor": "white",
            "gridwidth": 2,
            "linecolor": "white",
            "showbackground": true,
            "ticks": "",
            "zerolinecolor": "white"
           }
          },
          "shapedefaults": {
           "line": {
            "color": "#2a3f5f"
           }
          },
          "ternary": {
           "aaxis": {
            "gridcolor": "white",
            "linecolor": "white",
            "ticks": ""
           },
           "baxis": {
            "gridcolor": "white",
            "linecolor": "white",
            "ticks": ""
           },
           "bgcolor": "#E5ECF6",
           "caxis": {
            "gridcolor": "white",
            "linecolor": "white",
            "ticks": ""
           }
          },
          "title": {
           "x": 0.05
          },
          "xaxis": {
           "automargin": true,
           "gridcolor": "white",
           "linecolor": "white",
           "ticks": "",
           "title": {
            "standoff": 15
           },
           "zerolinecolor": "white",
           "zerolinewidth": 2
          },
          "yaxis": {
           "automargin": true,
           "gridcolor": "white",
           "linecolor": "white",
           "ticks": "",
           "title": {
            "standoff": 15
           },
           "zerolinecolor": "white",
           "zerolinewidth": 2
          }
         }
        },
        "width": 1600,
        "xaxis": {
         "anchor": "y",
         "domain": [
          0,
          0.3133333333333333
         ],
         "showgrid": false,
         "title": {
          "text": "keyrange_count"
         }
        },
        "xaxis2": {
         "anchor": "y2",
         "domain": [
          0.3333333333333333,
          0.6466666666666666
         ],
         "matches": "x",
         "showgrid": false,
         "title": {
          "text": "keyrange_count"
         }
        },
        "xaxis3": {
         "anchor": "y3",
         "domain": [
          0.6666666666666666,
          0.98
         ],
         "matches": "x",
         "showgrid": false,
         "title": {
          "text": "keyrange_count"
         }
        },
        "xaxis4": {
         "anchor": "y4",
         "domain": [
          0,
          0.3133333333333333
         ],
         "matches": "x",
         "showgrid": false,
         "showticklabels": false
        },
        "xaxis5": {
         "anchor": "y5",
         "domain": [
          0.3333333333333333,
          0.6466666666666666
         ],
         "matches": "x",
         "showgrid": false,
         "showticklabels": false
        },
        "xaxis6": {
         "anchor": "y6",
         "domain": [
          0.6666666666666666,
          0.98
         ],
         "matches": "x",
         "showgrid": false,
         "showticklabels": false
        },
        "yaxis": {
         "anchor": "x",
         "automargin": true,
         "domain": [
          0,
          0.485
         ],
         "title": {
          "text": "overall_output_record"
         }
        },
        "yaxis2": {
         "anchor": "x2",
         "automargin": true,
         "domain": [
          0,
          0.485
         ],
         "matches": "y",
         "showticklabels": false
        },
        "yaxis3": {
         "anchor": "x3",
         "automargin": true,
         "domain": [
          0,
          0.485
         ],
         "matches": "y",
         "showticklabels": false
        },
        "yaxis4": {
         "anchor": "x4",
         "automargin": true,
         "domain": [
          0.515,
          1
         ],
         "matches": "y",
         "title": {
          "text": "overall_output_record"
         }
        },
        "yaxis5": {
         "anchor": "x5",
         "automargin": true,
         "domain": [
          0.515,
          1
         ],
         "matches": "y",
         "showticklabels": false
        },
        "yaxis6": {
         "anchor": "x6",
         "automargin": true,
         "domain": [
          0.515,
          1
         ],
         "matches": "y",
         "showticklabels": false
        }
       }
      },
      "text/html": [
       "<div>\n",
       "        \n",
       "        \n",
       "            <div id=\"b1197740-f5fa-4164-b10b-4e045c8d622b\" class=\"plotly-graph-div\" style=\"height:900px; width:1600px;\"></div>\n",
       "            <script type=\"text/javascript\">\n",
       "                require([\"plotly\"], function(Plotly) {\n",
       "                    window.PLOTLYENV=window.PLOTLYENV || {};\n",
       "                    \n",
       "                if (document.getElementById(\"b1197740-f5fa-4164-b10b-4e045c8d622b\")) {\n",
       "                    Plotly.newPlot(\n",
       "                        'b1197740-f5fa-4164-b10b-4e045c8d622b',\n",
       "                        [{\"alignmentgroup\": \"True\", \"hovertemplate\": \"Storage Media=SATASSD<br>Operation Batch Size=64MB<br>CPU count=8CPU<br>keyrange_count=%{x}<br>overall_output_record=%{y}<extra></extra>\", \"legendgroup\": \"SATASSD\", \"marker\": {\"color\": \"#636efa\"}, \"name\": \"SATASSD\", \"offsetgroup\": \"SATASSD\", \"orientation\": \"v\", \"showlegend\": true, \"textposition\": \"auto\", \"type\": \"bar\", \"x\": [60, 90, 15, 30], \"xaxis\": \"x4\", \"y\": [4106724988, 3971952909, 3808058338, 4495643571], \"yaxis\": \"y4\"}, {\"alignmentgroup\": \"True\", \"hovertemplate\": \"Storage Media=SATASSD<br>Operation Batch Size=64MB<br>CPU count=16CPU<br>keyrange_count=%{x}<br>overall_output_record=%{y}<extra></extra>\", \"legendgroup\": \"SATASSD\", \"marker\": {\"color\": \"#636efa\"}, \"name\": \"SATASSD\", \"offsetgroup\": \"SATASSD\", \"orientation\": \"v\", \"showlegend\": false, \"textposition\": \"auto\", \"type\": \"bar\", \"x\": [60, 90, 15, 30], \"xaxis\": \"x5\", \"y\": [4117921183, 3900669507, 3836731486, 4322924574], \"yaxis\": \"y5\"}, {\"alignmentgroup\": \"True\", \"hovertemplate\": \"Storage Media=SATASSD<br>Operation Batch Size=64MB<br>CPU count=32CPU<br>keyrange_count=%{x}<br>overall_output_record=%{y}<extra></extra>\", \"legendgroup\": \"SATASSD\", \"marker\": {\"color\": \"#636efa\"}, \"name\": \"SATASSD\", \"offsetgroup\": \"SATASSD\", \"orientation\": \"v\", \"showlegend\": false, \"textposition\": \"auto\", \"type\": \"bar\", \"x\": [60, 90, 15, 30], \"xaxis\": \"x6\", \"y\": [4034553992, 3947182658, 3871830996, 4267726536], \"yaxis\": \"y6\"}, {\"alignmentgroup\": \"True\", \"hovertemplate\": \"Storage Media=SATASSD<br>Operation Batch Size=128MB<br>CPU count=8CPU<br>keyrange_count=%{x}<br>overall_output_record=%{y}<extra></extra>\", \"legendgroup\": \"SATASSD\", \"marker\": {\"color\": \"#636efa\"}, \"name\": \"SATASSD\", \"offsetgroup\": \"SATASSD\", \"orientation\": \"v\", \"showlegend\": false, \"textposition\": \"auto\", \"type\": \"bar\", \"x\": [60, 90, 15, 30], \"xaxis\": \"x\", \"y\": [3708968150, 3430117019, 3540736743, 3976533305], \"yaxis\": \"y\"}, {\"alignmentgroup\": \"True\", \"hovertemplate\": \"Storage Media=SATASSD<br>Operation Batch Size=128MB<br>CPU count=16CPU<br>keyrange_count=%{x}<br>overall_output_record=%{y}<extra></extra>\", \"legendgroup\": \"SATASSD\", \"marker\": {\"color\": \"#636efa\"}, \"name\": \"SATASSD\", \"offsetgroup\": \"SATASSD\", \"orientation\": \"v\", \"showlegend\": false, \"textposition\": \"auto\", \"type\": \"bar\", \"x\": [60, 90, 15, 30], \"xaxis\": \"x2\", \"y\": [3746871111, 3620309018, 3442430301, 4011505436], \"yaxis\": \"y2\"}, {\"alignmentgroup\": \"True\", \"hovertemplate\": \"Storage Media=SATASSD<br>Operation Batch Size=128MB<br>CPU count=32CPU<br>keyrange_count=%{x}<br>overall_output_record=%{y}<extra></extra>\", \"legendgroup\": \"SATASSD\", \"marker\": {\"color\": \"#636efa\"}, \"name\": \"SATASSD\", \"offsetgroup\": \"SATASSD\", \"orientation\": \"v\", \"showlegend\": false, \"textposition\": \"auto\", \"type\": \"bar\", \"x\": [60, 90, 15, 30], \"xaxis\": \"x3\", \"y\": [3671927013, 3559008202, 3628840838, 3961245287], \"yaxis\": \"y3\"}, {\"alignmentgroup\": \"True\", \"hovertemplate\": \"Storage Media=SATAHDD<br>Operation Batch Size=64MB<br>CPU count=8CPU<br>keyrange_count=%{x}<br>overall_output_record=%{y}<extra></extra>\", \"legendgroup\": \"SATAHDD\", \"marker\": {\"color\": \"#EF553B\"}, \"name\": \"SATAHDD\", \"offsetgroup\": \"SATAHDD\", \"orientation\": \"v\", \"showlegend\": true, \"textposition\": \"auto\", \"type\": \"bar\", \"x\": [60, 90, 15, 30], \"xaxis\": \"x4\", \"y\": [3535087923, 3658929156, 3587767798, 3875103078], \"yaxis\": \"y4\"}, {\"alignmentgroup\": \"True\", \"hovertemplate\": \"Storage Media=SATAHDD<br>Operation Batch Size=64MB<br>CPU count=16CPU<br>keyrange_count=%{x}<br>overall_output_record=%{y}<extra></extra>\", \"legendgroup\": \"SATAHDD\", \"marker\": {\"color\": \"#EF553B\"}, \"name\": \"SATAHDD\", \"offsetgroup\": \"SATAHDD\", \"orientation\": \"v\", \"showlegend\": false, \"textposition\": \"auto\", \"type\": \"bar\", \"x\": [60, 90, 15, 30], \"xaxis\": \"x5\", \"y\": [3502137510, 3603326097, 3695919240, 4196300730], \"yaxis\": \"y5\"}, {\"alignmentgroup\": \"True\", \"hovertemplate\": \"Storage Media=SATAHDD<br>Operation Batch Size=64MB<br>CPU count=32CPU<br>keyrange_count=%{x}<br>overall_output_record=%{y}<extra></extra>\", \"legendgroup\": \"SATAHDD\", \"marker\": {\"color\": \"#EF553B\"}, \"name\": \"SATAHDD\", \"offsetgroup\": \"SATAHDD\", \"orientation\": \"v\", \"showlegend\": false, \"textposition\": \"auto\", \"type\": \"bar\", \"x\": [60, 90, 15, 30], \"xaxis\": \"x6\", \"y\": [3549105661, 3552789470, 3658065703, 4120468837], \"yaxis\": \"y6\"}, {\"alignmentgroup\": \"True\", \"hovertemplate\": \"Storage Media=SATAHDD<br>Operation Batch Size=128MB<br>CPU count=8CPU<br>keyrange_count=%{x}<br>overall_output_record=%{y}<extra></extra>\", \"legendgroup\": \"SATAHDD\", \"marker\": {\"color\": \"#EF553B\"}, \"name\": \"SATAHDD\", \"offsetgroup\": \"SATAHDD\", \"orientation\": \"v\", \"showlegend\": false, \"textposition\": \"auto\", \"type\": \"bar\", \"x\": [60, 90, 15, 30], \"xaxis\": \"x\", \"y\": [3247266001, 3105343706, 3241610430, 3059423325], \"yaxis\": \"y\"}, {\"alignmentgroup\": \"True\", \"hovertemplate\": \"Storage Media=SATAHDD<br>Operation Batch Size=128MB<br>CPU count=16CPU<br>keyrange_count=%{x}<br>overall_output_record=%{y}<extra></extra>\", \"legendgroup\": \"SATAHDD\", \"marker\": {\"color\": \"#EF553B\"}, \"name\": \"SATAHDD\", \"offsetgroup\": \"SATAHDD\", \"orientation\": \"v\", \"showlegend\": false, \"textposition\": \"auto\", \"type\": \"bar\", \"x\": [60, 90, 15, 30], \"xaxis\": \"x2\", \"y\": [2999168986, 3166592550, 3191883982, 3523032621], \"yaxis\": \"y2\"}, {\"alignmentgroup\": \"True\", \"hovertemplate\": \"Storage Media=SATAHDD<br>Operation Batch Size=128MB<br>CPU count=32CPU<br>keyrange_count=%{x}<br>overall_output_record=%{y}<extra></extra>\", \"legendgroup\": \"SATAHDD\", \"marker\": {\"color\": \"#EF553B\"}, \"name\": \"SATAHDD\", \"offsetgroup\": \"SATAHDD\", \"orientation\": \"v\", \"showlegend\": false, \"textposition\": \"auto\", \"type\": \"bar\", \"x\": [60, 90, 15, 30], \"xaxis\": \"x3\", \"y\": [3032584148, 3011440317, 3174318137, 3565442479], \"yaxis\": \"y3\"}, {\"alignmentgroup\": \"True\", \"hovertemplate\": \"Storage Media=NVMeSSD<br>Operation Batch Size=64MB<br>CPU count=8CPU<br>keyrange_count=%{x}<br>overall_output_record=%{y}<extra></extra>\", \"legendgroup\": \"NVMeSSD\", \"marker\": {\"color\": \"#00cc96\"}, \"name\": \"NVMeSSD\", \"offsetgroup\": \"NVMeSSD\", \"orientation\": \"v\", \"showlegend\": true, \"textposition\": \"auto\", \"type\": \"bar\", \"x\": [60, 90, 15, 30], \"xaxis\": \"x4\", \"y\": [4616103521, 4667266759, 4555041892, 4898027383], \"yaxis\": \"y4\"}, {\"alignmentgroup\": \"True\", \"hovertemplate\": \"Storage Media=NVMeSSD<br>Operation Batch Size=64MB<br>CPU count=16CPU<br>keyrange_count=%{x}<br>overall_output_record=%{y}<extra></extra>\", \"legendgroup\": \"NVMeSSD\", \"marker\": {\"color\": \"#00cc96\"}, \"name\": \"NVMeSSD\", \"offsetgroup\": \"NVMeSSD\", \"orientation\": \"v\", \"showlegend\": false, \"textposition\": \"auto\", \"type\": \"bar\", \"x\": [60, 90, 15, 30], \"xaxis\": \"x5\", \"y\": [4615235309, 4572314655, 4594334299, 4827190999], \"yaxis\": \"y5\"}, {\"alignmentgroup\": \"True\", \"hovertemplate\": \"Storage Media=NVMeSSD<br>Operation Batch Size=64MB<br>CPU count=32CPU<br>keyrange_count=%{x}<br>overall_output_record=%{y}<extra></extra>\", \"legendgroup\": \"NVMeSSD\", \"marker\": {\"color\": \"#00cc96\"}, \"name\": \"NVMeSSD\", \"offsetgroup\": \"NVMeSSD\", \"orientation\": \"v\", \"showlegend\": false, \"textposition\": \"auto\", \"type\": \"bar\", \"x\": [60, 90, 15, 30], \"xaxis\": \"x6\", \"y\": [4644396655, 4550327853, 4502719650, 4760292769], \"yaxis\": \"y6\"}, {\"alignmentgroup\": \"True\", \"hovertemplate\": \"Storage Media=NVMeSSD<br>Operation Batch Size=128MB<br>CPU count=8CPU<br>keyrange_count=%{x}<br>overall_output_record=%{y}<extra></extra>\", \"legendgroup\": \"NVMeSSD\", \"marker\": {\"color\": \"#00cc96\"}, \"name\": \"NVMeSSD\", \"offsetgroup\": \"NVMeSSD\", \"orientation\": \"v\", \"showlegend\": false, \"textposition\": \"auto\", \"type\": \"bar\", \"x\": [60, 90, 15, 30], \"xaxis\": \"x\", \"y\": [4206895444, 4105746730, 4052929438, 4595627231], \"yaxis\": \"y\"}, {\"alignmentgroup\": \"True\", \"hovertemplate\": \"Storage Media=NVMeSSD<br>Operation Batch Size=128MB<br>CPU count=16CPU<br>keyrange_count=%{x}<br>overall_output_record=%{y}<extra></extra>\", \"legendgroup\": \"NVMeSSD\", \"marker\": {\"color\": \"#00cc96\"}, \"name\": \"NVMeSSD\", \"offsetgroup\": \"NVMeSSD\", \"orientation\": \"v\", \"showlegend\": false, \"textposition\": \"auto\", \"type\": \"bar\", \"x\": [60, 90, 15, 30], \"xaxis\": \"x2\", \"y\": [4206049377, 4138720833, 4041409455, 4624005763], \"yaxis\": \"y2\"}, {\"alignmentgroup\": \"True\", \"hovertemplate\": \"Storage Media=NVMeSSD<br>Operation Batch Size=128MB<br>CPU count=32CPU<br>keyrange_count=%{x}<br>overall_output_record=%{y}<extra></extra>\", \"legendgroup\": \"NVMeSSD\", \"marker\": {\"color\": \"#00cc96\"}, \"name\": \"NVMeSSD\", \"offsetgroup\": \"NVMeSSD\", \"orientation\": \"v\", \"showlegend\": false, \"textposition\": \"auto\", \"type\": \"bar\", \"x\": [60, 90, 15, 30], \"xaxis\": \"x3\", \"y\": [4201839062, 4124897204, 4074071313, 4651209994], \"yaxis\": \"y3\"}, {\"alignmentgroup\": \"True\", \"hovertemplate\": \"Storage Media=PM<br>Operation Batch Size=64MB<br>CPU count=8CPU<br>keyrange_count=%{x}<br>overall_output_record=%{y}<extra></extra>\", \"legendgroup\": \"PM\", \"marker\": {\"color\": \"#ab63fa\"}, \"name\": \"PM\", \"offsetgroup\": \"PM\", \"orientation\": \"v\", \"showlegend\": true, \"textposition\": \"auto\", \"type\": \"bar\", \"x\": [60, 90, 15, 30], \"xaxis\": \"x4\", \"y\": [4264871549, 4148658233, 3870447662, 4349529000], \"yaxis\": \"y4\"}, {\"alignmentgroup\": \"True\", \"hovertemplate\": \"Storage Media=PM<br>Operation Batch Size=64MB<br>CPU count=16CPU<br>keyrange_count=%{x}<br>overall_output_record=%{y}<extra></extra>\", \"legendgroup\": \"PM\", \"marker\": {\"color\": \"#ab63fa\"}, \"name\": \"PM\", \"offsetgroup\": \"PM\", \"orientation\": \"v\", \"showlegend\": false, \"textposition\": \"auto\", \"type\": \"bar\", \"x\": [60, 90, 15, 30], \"xaxis\": \"x5\", \"y\": [4279929407, 4053084569, 3887828209, 4227699467], \"yaxis\": \"y5\"}, {\"alignmentgroup\": \"True\", \"hovertemplate\": \"Storage Media=PM<br>Operation Batch Size=64MB<br>CPU count=32CPU<br>keyrange_count=%{x}<br>overall_output_record=%{y}<extra></extra>\", \"legendgroup\": \"PM\", \"marker\": {\"color\": \"#ab63fa\"}, \"name\": \"PM\", \"offsetgroup\": \"PM\", \"orientation\": \"v\", \"showlegend\": false, \"textposition\": \"auto\", \"type\": \"bar\", \"x\": [60, 90, 15, 30], \"xaxis\": \"x6\", \"y\": [4262136824, 3920908444, 3808300035, 4200251467], \"yaxis\": \"y6\"}, {\"alignmentgroup\": \"True\", \"hovertemplate\": \"Storage Media=PM<br>Operation Batch Size=128MB<br>CPU count=8CPU<br>keyrange_count=%{x}<br>overall_output_record=%{y}<extra></extra>\", \"legendgroup\": \"PM\", \"marker\": {\"color\": \"#ab63fa\"}, \"name\": \"PM\", \"offsetgroup\": \"PM\", \"orientation\": \"v\", \"showlegend\": false, \"textposition\": \"auto\", \"type\": \"bar\", \"x\": [60, 90, 15, 30], \"xaxis\": \"x\", \"y\": [3810152286, 3744370648, 3604424885, 3914896301], \"yaxis\": \"y\"}, {\"alignmentgroup\": \"True\", \"hovertemplate\": \"Storage Media=PM<br>Operation Batch Size=128MB<br>CPU count=16CPU<br>keyrange_count=%{x}<br>overall_output_record=%{y}<extra></extra>\", \"legendgroup\": \"PM\", \"marker\": {\"color\": \"#ab63fa\"}, \"name\": \"PM\", \"offsetgroup\": \"PM\", \"orientation\": \"v\", \"showlegend\": false, \"textposition\": \"auto\", \"type\": \"bar\", \"x\": [60, 90, 15, 30], \"xaxis\": \"x2\", \"y\": [3794780763, 3779322500, 3603706280, 3891794682], \"yaxis\": \"y2\"}, {\"alignmentgroup\": \"True\", \"hovertemplate\": \"Storage Media=PM<br>Operation Batch Size=128MB<br>CPU count=32CPU<br>keyrange_count=%{x}<br>overall_output_record=%{y}<extra></extra>\", \"legendgroup\": \"PM\", \"marker\": {\"color\": \"#ab63fa\"}, \"name\": \"PM\", \"offsetgroup\": \"PM\", \"orientation\": \"v\", \"showlegend\": false, \"textposition\": \"auto\", \"type\": \"bar\", \"x\": [60, 90, 15, 30], \"xaxis\": \"x3\", \"y\": [3875564652, 3782451548, 3662369974, 3880965947], \"yaxis\": \"y3\"}],\n",
       "                        {\"annotations\": [{\"font\": {}, \"showarrow\": false, \"text\": \"CPU count=8CPU\", \"x\": 0.15666666666666665, \"xanchor\": \"center\", \"xref\": \"paper\", \"y\": 1.0, \"yanchor\": \"bottom\", \"yref\": \"paper\"}, {\"font\": {}, \"showarrow\": false, \"text\": \"CPU count=16CPU\", \"x\": 0.49, \"xanchor\": \"center\", \"xref\": \"paper\", \"y\": 1.0, \"yanchor\": \"bottom\", \"yref\": \"paper\"}, {\"font\": {}, \"showarrow\": false, \"text\": \"CPU count=32CPU\", \"x\": 0.8233333333333333, \"xanchor\": \"center\", \"xref\": \"paper\", \"y\": 1.0, \"yanchor\": \"bottom\", \"yref\": \"paper\"}, {\"font\": {}, \"showarrow\": false, \"text\": \"Operation Batch Size=128MB\", \"textangle\": 90, \"x\": 0.98, \"xanchor\": \"left\", \"xref\": \"paper\", \"y\": 0.2425, \"yanchor\": \"middle\", \"yref\": \"paper\"}, {\"font\": {}, \"showarrow\": false, \"text\": \"Operation Batch Size=64MB\", \"textangle\": 90, \"x\": 0.98, \"xanchor\": \"left\", \"xref\": \"paper\", \"y\": 0.7575000000000001, \"yanchor\": \"middle\", \"yref\": \"paper\"}], \"autosize\": false, \"barmode\": \"group\", \"font\": {\"size\": 20}, \"height\": 900, \"legend\": {\"title\": {\"text\": \"Storage Media\"}, \"tracegroupgap\": 0}, \"margin\": {\"t\": 60}, \"template\": {\"data\": {\"bar\": [{\"error_x\": {\"color\": \"#2a3f5f\"}, \"error_y\": {\"color\": \"#2a3f5f\"}, \"marker\": {\"line\": {\"color\": \"#E5ECF6\", \"width\": 0.5}}, \"type\": \"bar\"}], \"barpolar\": [{\"marker\": {\"line\": {\"color\": \"#E5ECF6\", \"width\": 0.5}}, \"type\": \"barpolar\"}], \"carpet\": [{\"aaxis\": {\"endlinecolor\": \"#2a3f5f\", \"gridcolor\": \"white\", \"linecolor\": \"white\", \"minorgridcolor\": \"white\", \"startlinecolor\": \"#2a3f5f\"}, \"baxis\": {\"endlinecolor\": \"#2a3f5f\", \"gridcolor\": \"white\", \"linecolor\": \"white\", \"minorgridcolor\": \"white\", \"startlinecolor\": \"#2a3f5f\"}, \"type\": \"carpet\"}], \"choropleth\": [{\"colorbar\": {\"outlinewidth\": 0, \"ticks\": \"\"}, \"type\": \"choropleth\"}], \"contour\": [{\"colorbar\": {\"outlinewidth\": 0, \"ticks\": \"\"}, \"colorscale\": [[0.0, \"#0d0887\"], [0.1111111111111111, \"#46039f\"], [0.2222222222222222, \"#7201a8\"], [0.3333333333333333, \"#9c179e\"], [0.4444444444444444, \"#bd3786\"], [0.5555555555555556, \"#d8576b\"], [0.6666666666666666, \"#ed7953\"], [0.7777777777777778, \"#fb9f3a\"], [0.8888888888888888, \"#fdca26\"], [1.0, \"#f0f921\"]], \"type\": \"contour\"}], \"contourcarpet\": [{\"colorbar\": {\"outlinewidth\": 0, \"ticks\": \"\"}, \"type\": \"contourcarpet\"}], \"heatmap\": [{\"colorbar\": {\"outlinewidth\": 0, \"ticks\": \"\"}, \"colorscale\": [[0.0, \"#0d0887\"], [0.1111111111111111, \"#46039f\"], [0.2222222222222222, \"#7201a8\"], [0.3333333333333333, \"#9c179e\"], [0.4444444444444444, \"#bd3786\"], [0.5555555555555556, \"#d8576b\"], [0.6666666666666666, \"#ed7953\"], [0.7777777777777778, \"#fb9f3a\"], [0.8888888888888888, \"#fdca26\"], [1.0, \"#f0f921\"]], \"type\": \"heatmap\"}], \"heatmapgl\": [{\"colorbar\": {\"outlinewidth\": 0, \"ticks\": \"\"}, \"colorscale\": [[0.0, \"#0d0887\"], [0.1111111111111111, \"#46039f\"], [0.2222222222222222, \"#7201a8\"], [0.3333333333333333, \"#9c179e\"], [0.4444444444444444, \"#bd3786\"], [0.5555555555555556, \"#d8576b\"], [0.6666666666666666, \"#ed7953\"], [0.7777777777777778, \"#fb9f3a\"], [0.8888888888888888, \"#fdca26\"], [1.0, \"#f0f921\"]], \"type\": \"heatmapgl\"}], \"histogram\": [{\"marker\": {\"colorbar\": {\"outlinewidth\": 0, \"ticks\": \"\"}}, \"type\": \"histogram\"}], \"histogram2d\": [{\"colorbar\": {\"outlinewidth\": 0, \"ticks\": \"\"}, \"colorscale\": [[0.0, \"#0d0887\"], [0.1111111111111111, \"#46039f\"], [0.2222222222222222, \"#7201a8\"], [0.3333333333333333, \"#9c179e\"], [0.4444444444444444, \"#bd3786\"], [0.5555555555555556, \"#d8576b\"], [0.6666666666666666, \"#ed7953\"], [0.7777777777777778, \"#fb9f3a\"], [0.8888888888888888, \"#fdca26\"], [1.0, \"#f0f921\"]], \"type\": \"histogram2d\"}], \"histogram2dcontour\": [{\"colorbar\": {\"outlinewidth\": 0, \"ticks\": \"\"}, \"colorscale\": [[0.0, \"#0d0887\"], [0.1111111111111111, \"#46039f\"], [0.2222222222222222, \"#7201a8\"], [0.3333333333333333, \"#9c179e\"], [0.4444444444444444, \"#bd3786\"], [0.5555555555555556, \"#d8576b\"], [0.6666666666666666, \"#ed7953\"], [0.7777777777777778, \"#fb9f3a\"], [0.8888888888888888, \"#fdca26\"], [1.0, \"#f0f921\"]], \"type\": \"histogram2dcontour\"}], \"mesh3d\": [{\"colorbar\": {\"outlinewidth\": 0, \"ticks\": \"\"}, \"type\": \"mesh3d\"}], \"parcoords\": [{\"line\": {\"colorbar\": {\"outlinewidth\": 0, \"ticks\": \"\"}}, \"type\": \"parcoords\"}], \"pie\": [{\"automargin\": true, \"type\": \"pie\"}], \"scatter\": [{\"marker\": {\"colorbar\": {\"outlinewidth\": 0, \"ticks\": \"\"}}, \"type\": \"scatter\"}], \"scatter3d\": [{\"line\": {\"colorbar\": {\"outlinewidth\": 0, \"ticks\": \"\"}}, \"marker\": {\"colorbar\": {\"outlinewidth\": 0, \"ticks\": \"\"}}, \"type\": \"scatter3d\"}], \"scattercarpet\": [{\"marker\": {\"colorbar\": {\"outlinewidth\": 0, \"ticks\": \"\"}}, \"type\": \"scattercarpet\"}], \"scattergeo\": [{\"marker\": {\"colorbar\": {\"outlinewidth\": 0, \"ticks\": \"\"}}, \"type\": \"scattergeo\"}], \"scattergl\": [{\"marker\": {\"colorbar\": {\"outlinewidth\": 0, \"ticks\": \"\"}}, \"type\": \"scattergl\"}], \"scattermapbox\": [{\"marker\": {\"colorbar\": {\"outlinewidth\": 0, \"ticks\": \"\"}}, \"type\": \"scattermapbox\"}], \"scatterpolar\": [{\"marker\": {\"colorbar\": {\"outlinewidth\": 0, \"ticks\": \"\"}}, \"type\": \"scatterpolar\"}], \"scatterpolargl\": [{\"marker\": {\"colorbar\": {\"outlinewidth\": 0, \"ticks\": \"\"}}, \"type\": \"scatterpolargl\"}], \"scatterternary\": [{\"marker\": {\"colorbar\": {\"outlinewidth\": 0, \"ticks\": \"\"}}, \"type\": \"scatterternary\"}], \"surface\": [{\"colorbar\": {\"outlinewidth\": 0, \"ticks\": \"\"}, \"colorscale\": [[0.0, \"#0d0887\"], [0.1111111111111111, \"#46039f\"], [0.2222222222222222, \"#7201a8\"], [0.3333333333333333, \"#9c179e\"], [0.4444444444444444, \"#bd3786\"], [0.5555555555555556, \"#d8576b\"], [0.6666666666666666, \"#ed7953\"], [0.7777777777777778, \"#fb9f3a\"], [0.8888888888888888, \"#fdca26\"], [1.0, \"#f0f921\"]], \"type\": \"surface\"}], \"table\": [{\"cells\": {\"fill\": {\"color\": \"#EBF0F8\"}, \"line\": {\"color\": \"white\"}}, \"header\": {\"fill\": {\"color\": \"#C8D4E3\"}, \"line\": {\"color\": \"white\"}}, \"type\": \"table\"}]}, \"layout\": {\"annotationdefaults\": {\"arrowcolor\": \"#2a3f5f\", \"arrowhead\": 0, \"arrowwidth\": 1}, \"coloraxis\": {\"colorbar\": {\"outlinewidth\": 0, \"ticks\": \"\"}}, \"colorscale\": {\"diverging\": [[0, \"#8e0152\"], [0.1, \"#c51b7d\"], [0.2, \"#de77ae\"], [0.3, \"#f1b6da\"], [0.4, \"#fde0ef\"], [0.5, \"#f7f7f7\"], [0.6, \"#e6f5d0\"], [0.7, \"#b8e186\"], [0.8, \"#7fbc41\"], [0.9, \"#4d9221\"], [1, \"#276419\"]], \"sequential\": [[0.0, \"#0d0887\"], [0.1111111111111111, \"#46039f\"], [0.2222222222222222, \"#7201a8\"], [0.3333333333333333, \"#9c179e\"], [0.4444444444444444, \"#bd3786\"], [0.5555555555555556, \"#d8576b\"], [0.6666666666666666, \"#ed7953\"], [0.7777777777777778, \"#fb9f3a\"], [0.8888888888888888, \"#fdca26\"], [1.0, \"#f0f921\"]], \"sequentialminus\": [[0.0, \"#0d0887\"], [0.1111111111111111, \"#46039f\"], [0.2222222222222222, \"#7201a8\"], [0.3333333333333333, \"#9c179e\"], [0.4444444444444444, \"#bd3786\"], [0.5555555555555556, \"#d8576b\"], [0.6666666666666666, \"#ed7953\"], [0.7777777777777778, \"#fb9f3a\"], [0.8888888888888888, \"#fdca26\"], [1.0, \"#f0f921\"]]}, \"colorway\": [\"#636efa\", \"#EF553B\", \"#00cc96\", \"#ab63fa\", \"#FFA15A\", \"#19d3f3\", \"#FF6692\", \"#B6E880\", \"#FF97FF\", \"#FECB52\"], \"font\": {\"color\": \"#2a3f5f\"}, \"geo\": {\"bgcolor\": \"white\", \"lakecolor\": \"white\", \"landcolor\": \"#E5ECF6\", \"showlakes\": true, \"showland\": true, \"subunitcolor\": \"white\"}, \"hoverlabel\": {\"align\": \"left\"}, \"hovermode\": \"closest\", \"mapbox\": {\"style\": \"light\"}, \"paper_bgcolor\": \"white\", \"plot_bgcolor\": \"#E5ECF6\", \"polar\": {\"angularaxis\": {\"gridcolor\": \"white\", \"linecolor\": \"white\", \"ticks\": \"\"}, \"bgcolor\": \"#E5ECF6\", \"radialaxis\": {\"gridcolor\": \"white\", \"linecolor\": \"white\", \"ticks\": \"\"}}, \"scene\": {\"xaxis\": {\"backgroundcolor\": \"#E5ECF6\", \"gridcolor\": \"white\", \"gridwidth\": 2, \"linecolor\": \"white\", \"showbackground\": true, \"ticks\": \"\", \"zerolinecolor\": \"white\"}, \"yaxis\": {\"backgroundcolor\": \"#E5ECF6\", \"gridcolor\": \"white\", \"gridwidth\": 2, \"linecolor\": \"white\", \"showbackground\": true, \"ticks\": \"\", \"zerolinecolor\": \"white\"}, \"zaxis\": {\"backgroundcolor\": \"#E5ECF6\", \"gridcolor\": \"white\", \"gridwidth\": 2, \"linecolor\": \"white\", \"showbackground\": true, \"ticks\": \"\", \"zerolinecolor\": \"white\"}}, \"shapedefaults\": {\"line\": {\"color\": \"#2a3f5f\"}}, \"ternary\": {\"aaxis\": {\"gridcolor\": \"white\", \"linecolor\": \"white\", \"ticks\": \"\"}, \"baxis\": {\"gridcolor\": \"white\", \"linecolor\": \"white\", \"ticks\": \"\"}, \"bgcolor\": \"#E5ECF6\", \"caxis\": {\"gridcolor\": \"white\", \"linecolor\": \"white\", \"ticks\": \"\"}}, \"title\": {\"x\": 0.05}, \"xaxis\": {\"automargin\": true, \"gridcolor\": \"white\", \"linecolor\": \"white\", \"ticks\": \"\", \"title\": {\"standoff\": 15}, \"zerolinecolor\": \"white\", \"zerolinewidth\": 2}, \"yaxis\": {\"automargin\": true, \"gridcolor\": \"white\", \"linecolor\": \"white\", \"ticks\": \"\", \"title\": {\"standoff\": 15}, \"zerolinecolor\": \"white\", \"zerolinewidth\": 2}}}, \"width\": 1600, \"xaxis\": {\"anchor\": \"y\", \"domain\": [0.0, 0.3133333333333333], \"showgrid\": false, \"title\": {\"text\": \"keyrange_count\"}}, \"xaxis2\": {\"anchor\": \"y2\", \"domain\": [0.3333333333333333, 0.6466666666666666], \"matches\": \"x\", \"showgrid\": false, \"title\": {\"text\": \"keyrange_count\"}}, \"xaxis3\": {\"anchor\": \"y3\", \"domain\": [0.6666666666666666, 0.98], \"matches\": \"x\", \"showgrid\": false, \"title\": {\"text\": \"keyrange_count\"}}, \"xaxis4\": {\"anchor\": \"y4\", \"domain\": [0.0, 0.3133333333333333], \"matches\": \"x\", \"showgrid\": false, \"showticklabels\": false}, \"xaxis5\": {\"anchor\": \"y5\", \"domain\": [0.3333333333333333, 0.6466666666666666], \"matches\": \"x\", \"showgrid\": false, \"showticklabels\": false}, \"xaxis6\": {\"anchor\": \"y6\", \"domain\": [0.6666666666666666, 0.98], \"matches\": \"x\", \"showgrid\": false, \"showticklabels\": false}, \"yaxis\": {\"anchor\": \"x\", \"automargin\": true, \"domain\": [0.0, 0.485], \"title\": {\"text\": \"overall_output_record\"}}, \"yaxis2\": {\"anchor\": \"x2\", \"automargin\": true, \"domain\": [0.0, 0.485], \"matches\": \"y\", \"showticklabels\": false}, \"yaxis3\": {\"anchor\": \"x3\", \"automargin\": true, \"domain\": [0.0, 0.485], \"matches\": \"y\", \"showticklabels\": false}, \"yaxis4\": {\"anchor\": \"x4\", \"automargin\": true, \"domain\": [0.515, 1.0], \"matches\": \"y\", \"title\": {\"text\": \"overall_output_record\"}}, \"yaxis5\": {\"anchor\": \"x5\", \"automargin\": true, \"domain\": [0.515, 1.0], \"matches\": \"y\", \"showticklabels\": false}, \"yaxis6\": {\"anchor\": \"x6\", \"automargin\": true, \"domain\": [0.515, 1.0], \"matches\": \"y\", \"showticklabels\": false}},\n",
       "                        {\"responsive\": true}\n",
       "                    ).then(function(){\n",
       "                            \n",
       "var gd = document.getElementById('b1197740-f5fa-4164-b10b-4e045c8d622b');\n",
       "var x = new MutationObserver(function (mutations, observer) {{\n",
       "        var display = window.getComputedStyle(gd).display;\n",
       "        if (!display || display === 'none') {{\n",
       "            console.log([gd, 'removed!']);\n",
       "            Plotly.purge(gd);\n",
       "            observer.disconnect();\n",
       "        }}\n",
       "}});\n",
       "\n",
       "// Listen for the removal of the full notebook cells\n",
       "var notebookContainer = gd.closest('#notebook-container');\n",
       "if (notebookContainer) {{\n",
       "    x.observe(notebookContainer, {childList: true});\n",
       "}}\n",
       "\n",
       "// Listen for the clearing of the current output cell\n",
       "var outputEl = gd.closest('.output');\n",
       "if (outputEl) {{\n",
       "    x.observe(outputEl, {childList: true});\n",
       "}}\n",
       "\n",
       "                        })\n",
       "                };\n",
       "                });\n",
       "            </script>\n",
       "        </div>"
      ]
     },
     "metadata": {},
     "output_type": "display_data"
    },
    {
     "name": "stdout",
     "output_type": "stream",
     "text": [
      "plotting fig ./image/overall_output_record.pdf finished\n"
     ]
    },
    {
     "data": {
      "application/vnd.plotly.v1+json": {
       "config": {
        "plotlyServerURL": "https://plot.ly"
       },
       "data": [
        {
         "alignmentgroup": "True",
         "hovertemplate": "Storage Media=SATASSD<br>Operation Batch Size=64MB<br>CPU count=8CPU<br>keyrange_count=%{x}<br>overall_redundant_record=%{y}<extra></extra>",
         "legendgroup": "SATASSD",
         "marker": {
          "color": "#636efa"
         },
         "name": "SATASSD",
         "offsetgroup": "SATASSD",
         "orientation": "v",
         "showlegend": true,
         "textposition": "auto",
         "type": "bar",
         "x": [
          60,
          90,
          15,
          30
         ],
         "xaxis": "x4",
         "y": [
          171823399,
          143676714,
          143371240,
          160707378
         ],
         "yaxis": "y4"
        },
        {
         "alignmentgroup": "True",
         "hovertemplate": "Storage Media=SATASSD<br>Operation Batch Size=64MB<br>CPU count=16CPU<br>keyrange_count=%{x}<br>overall_redundant_record=%{y}<extra></extra>",
         "legendgroup": "SATASSD",
         "marker": {
          "color": "#636efa"
         },
         "name": "SATASSD",
         "offsetgroup": "SATASSD",
         "orientation": "v",
         "showlegend": false,
         "textposition": "auto",
         "type": "bar",
         "x": [
          60,
          90,
          15,
          30
         ],
         "xaxis": "x5",
         "y": [
          168602925,
          148555194,
          156561744,
          171431517
         ],
         "yaxis": "y5"
        },
        {
         "alignmentgroup": "True",
         "hovertemplate": "Storage Media=SATASSD<br>Operation Batch Size=64MB<br>CPU count=32CPU<br>keyrange_count=%{x}<br>overall_redundant_record=%{y}<extra></extra>",
         "legendgroup": "SATASSD",
         "marker": {
          "color": "#636efa"
         },
         "name": "SATASSD",
         "offsetgroup": "SATASSD",
         "orientation": "v",
         "showlegend": false,
         "textposition": "auto",
         "type": "bar",
         "x": [
          60,
          90,
          15,
          30
         ],
         "xaxis": "x6",
         "y": [
          185354612,
          147280122,
          144213260,
          159067758
         ],
         "yaxis": "y6"
        },
        {
         "alignmentgroup": "True",
         "hovertemplate": "Storage Media=SATASSD<br>Operation Batch Size=128MB<br>CPU count=8CPU<br>keyrange_count=%{x}<br>overall_redundant_record=%{y}<extra></extra>",
         "legendgroup": "SATASSD",
         "marker": {
          "color": "#636efa"
         },
         "name": "SATASSD",
         "offsetgroup": "SATASSD",
         "orientation": "v",
         "showlegend": false,
         "textposition": "auto",
         "type": "bar",
         "x": [
          60,
          90,
          15,
          30
         ],
         "xaxis": "x",
         "y": [
          137287203,
          152462879,
          139421477,
          165053623
         ],
         "yaxis": "y"
        },
        {
         "alignmentgroup": "True",
         "hovertemplate": "Storage Media=SATASSD<br>Operation Batch Size=128MB<br>CPU count=16CPU<br>keyrange_count=%{x}<br>overall_redundant_record=%{y}<extra></extra>",
         "legendgroup": "SATASSD",
         "marker": {
          "color": "#636efa"
         },
         "name": "SATASSD",
         "offsetgroup": "SATASSD",
         "orientation": "v",
         "showlegend": false,
         "textposition": "auto",
         "type": "bar",
         "x": [
          60,
          90,
          15,
          30
         ],
         "xaxis": "x2",
         "y": [
          142131548,
          148566728,
          140839543,
          152453838
         ],
         "yaxis": "y2"
        },
        {
         "alignmentgroup": "True",
         "hovertemplate": "Storage Media=SATASSD<br>Operation Batch Size=128MB<br>CPU count=32CPU<br>keyrange_count=%{x}<br>overall_redundant_record=%{y}<extra></extra>",
         "legendgroup": "SATASSD",
         "marker": {
          "color": "#636efa"
         },
         "name": "SATASSD",
         "offsetgroup": "SATASSD",
         "orientation": "v",
         "showlegend": false,
         "textposition": "auto",
         "type": "bar",
         "x": [
          60,
          90,
          15,
          30
         ],
         "xaxis": "x3",
         "y": [
          131166659,
          139287598,
          144402732,
          190505040
         ],
         "yaxis": "y3"
        },
        {
         "alignmentgroup": "True",
         "hovertemplate": "Storage Media=SATAHDD<br>Operation Batch Size=64MB<br>CPU count=8CPU<br>keyrange_count=%{x}<br>overall_redundant_record=%{y}<extra></extra>",
         "legendgroup": "SATAHDD",
         "marker": {
          "color": "#EF553B"
         },
         "name": "SATAHDD",
         "offsetgroup": "SATAHDD",
         "orientation": "v",
         "showlegend": true,
         "textposition": "auto",
         "type": "bar",
         "x": [
          60,
          90,
          15,
          30
         ],
         "xaxis": "x4",
         "y": [
          136081814,
          196392348,
          142879776,
          153682494
         ],
         "yaxis": "y4"
        },
        {
         "alignmentgroup": "True",
         "hovertemplate": "Storage Media=SATAHDD<br>Operation Batch Size=64MB<br>CPU count=16CPU<br>keyrange_count=%{x}<br>overall_redundant_record=%{y}<extra></extra>",
         "legendgroup": "SATAHDD",
         "marker": {
          "color": "#EF553B"
         },
         "name": "SATAHDD",
         "offsetgroup": "SATAHDD",
         "orientation": "v",
         "showlegend": false,
         "textposition": "auto",
         "type": "bar",
         "x": [
          60,
          90,
          15,
          30
         ],
         "xaxis": "x5",
         "y": [
          139451314,
          139101449,
          149699894,
          167540453
         ],
         "yaxis": "y5"
        },
        {
         "alignmentgroup": "True",
         "hovertemplate": "Storage Media=SATAHDD<br>Operation Batch Size=64MB<br>CPU count=32CPU<br>keyrange_count=%{x}<br>overall_redundant_record=%{y}<extra></extra>",
         "legendgroup": "SATAHDD",
         "marker": {
          "color": "#EF553B"
         },
         "name": "SATAHDD",
         "offsetgroup": "SATAHDD",
         "orientation": "v",
         "showlegend": false,
         "textposition": "auto",
         "type": "bar",
         "x": [
          60,
          90,
          15,
          30
         ],
         "xaxis": "x6",
         "y": [
          160052596,
          141986484,
          170923362,
          165564804
         ],
         "yaxis": "y6"
        },
        {
         "alignmentgroup": "True",
         "hovertemplate": "Storage Media=SATAHDD<br>Operation Batch Size=128MB<br>CPU count=8CPU<br>keyrange_count=%{x}<br>overall_redundant_record=%{y}<extra></extra>",
         "legendgroup": "SATAHDD",
         "marker": {
          "color": "#EF553B"
         },
         "name": "SATAHDD",
         "offsetgroup": "SATAHDD",
         "orientation": "v",
         "showlegend": false,
         "textposition": "auto",
         "type": "bar",
         "x": [
          60,
          90,
          15,
          30
         ],
         "xaxis": "x",
         "y": [
          142287577,
          186531033,
          169444389,
          154124844
         ],
         "yaxis": "y"
        },
        {
         "alignmentgroup": "True",
         "hovertemplate": "Storage Media=SATAHDD<br>Operation Batch Size=128MB<br>CPU count=16CPU<br>keyrange_count=%{x}<br>overall_redundant_record=%{y}<extra></extra>",
         "legendgroup": "SATAHDD",
         "marker": {
          "color": "#EF553B"
         },
         "name": "SATAHDD",
         "offsetgroup": "SATAHDD",
         "orientation": "v",
         "showlegend": false,
         "textposition": "auto",
         "type": "bar",
         "x": [
          60,
          90,
          15,
          30
         ],
         "xaxis": "x2",
         "y": [
          177887975,
          145555185,
          194534349,
          166576183
         ],
         "yaxis": "y2"
        },
        {
         "alignmentgroup": "True",
         "hovertemplate": "Storage Media=SATAHDD<br>Operation Batch Size=128MB<br>CPU count=32CPU<br>keyrange_count=%{x}<br>overall_redundant_record=%{y}<extra></extra>",
         "legendgroup": "SATAHDD",
         "marker": {
          "color": "#EF553B"
         },
         "name": "SATAHDD",
         "offsetgroup": "SATAHDD",
         "orientation": "v",
         "showlegend": false,
         "textposition": "auto",
         "type": "bar",
         "x": [
          60,
          90,
          15,
          30
         ],
         "xaxis": "x3",
         "y": [
          193348264,
          176584987,
          148904533,
          180492461
         ],
         "yaxis": "y3"
        },
        {
         "alignmentgroup": "True",
         "hovertemplate": "Storage Media=NVMeSSD<br>Operation Batch Size=64MB<br>CPU count=8CPU<br>keyrange_count=%{x}<br>overall_redundant_record=%{y}<extra></extra>",
         "legendgroup": "NVMeSSD",
         "marker": {
          "color": "#00cc96"
         },
         "name": "NVMeSSD",
         "offsetgroup": "NVMeSSD",
         "orientation": "v",
         "showlegend": true,
         "textposition": "auto",
         "type": "bar",
         "x": [
          60,
          90,
          15,
          30
         ],
         "xaxis": "x4",
         "y": [
          144286838,
          151838475,
          144287702,
          158419439
         ],
         "yaxis": "y4"
        },
        {
         "alignmentgroup": "True",
         "hovertemplate": "Storage Media=NVMeSSD<br>Operation Batch Size=64MB<br>CPU count=16CPU<br>keyrange_count=%{x}<br>overall_redundant_record=%{y}<extra></extra>",
         "legendgroup": "NVMeSSD",
         "marker": {
          "color": "#00cc96"
         },
         "name": "NVMeSSD",
         "offsetgroup": "NVMeSSD",
         "orientation": "v",
         "showlegend": false,
         "textposition": "auto",
         "type": "bar",
         "x": [
          60,
          90,
          15,
          30
         ],
         "xaxis": "x5",
         "y": [
          145528764,
          145878425,
          155613207,
          164103496
         ],
         "yaxis": "y5"
        },
        {
         "alignmentgroup": "True",
         "hovertemplate": "Storage Media=NVMeSSD<br>Operation Batch Size=64MB<br>CPU count=32CPU<br>keyrange_count=%{x}<br>overall_redundant_record=%{y}<extra></extra>",
         "legendgroup": "NVMeSSD",
         "marker": {
          "color": "#00cc96"
         },
         "name": "NVMeSSD",
         "offsetgroup": "NVMeSSD",
         "orientation": "v",
         "showlegend": false,
         "textposition": "auto",
         "type": "bar",
         "x": [
          60,
          90,
          15,
          30
         ],
         "xaxis": "x6",
         "y": [
          152721194,
          143864895,
          143103089,
          166524514
         ],
         "yaxis": "y6"
        },
        {
         "alignmentgroup": "True",
         "hovertemplate": "Storage Media=NVMeSSD<br>Operation Batch Size=128MB<br>CPU count=8CPU<br>keyrange_count=%{x}<br>overall_redundant_record=%{y}<extra></extra>",
         "legendgroup": "NVMeSSD",
         "marker": {
          "color": "#00cc96"
         },
         "name": "NVMeSSD",
         "offsetgroup": "NVMeSSD",
         "orientation": "v",
         "showlegend": false,
         "textposition": "auto",
         "type": "bar",
         "x": [
          60,
          90,
          15,
          30
         ],
         "xaxis": "x",
         "y": [
          151282366,
          141018775,
          145672606,
          153623431
         ],
         "yaxis": "y"
        },
        {
         "alignmentgroup": "True",
         "hovertemplate": "Storage Media=NVMeSSD<br>Operation Batch Size=128MB<br>CPU count=16CPU<br>keyrange_count=%{x}<br>overall_redundant_record=%{y}<extra></extra>",
         "legendgroup": "NVMeSSD",
         "marker": {
          "color": "#00cc96"
         },
         "name": "NVMeSSD",
         "offsetgroup": "NVMeSSD",
         "orientation": "v",
         "showlegend": false,
         "textposition": "auto",
         "type": "bar",
         "x": [
          60,
          90,
          15,
          30
         ],
         "xaxis": "x2",
         "y": [
          151413714,
          144075866,
          138786158,
          155920831
         ],
         "yaxis": "y2"
        },
        {
         "alignmentgroup": "True",
         "hovertemplate": "Storage Media=NVMeSSD<br>Operation Batch Size=128MB<br>CPU count=32CPU<br>keyrange_count=%{x}<br>overall_redundant_record=%{y}<extra></extra>",
         "legendgroup": "NVMeSSD",
         "marker": {
          "color": "#00cc96"
         },
         "name": "NVMeSSD",
         "offsetgroup": "NVMeSSD",
         "orientation": "v",
         "showlegend": false,
         "textposition": "auto",
         "type": "bar",
         "x": [
          60,
          90,
          15,
          30
         ],
         "xaxis": "x3",
         "y": [
          147537068,
          144196286,
          142791040,
          161188385
         ],
         "yaxis": "y3"
        },
        {
         "alignmentgroup": "True",
         "hovertemplate": "Storage Media=PM<br>Operation Batch Size=64MB<br>CPU count=8CPU<br>keyrange_count=%{x}<br>overall_redundant_record=%{y}<extra></extra>",
         "legendgroup": "PM",
         "marker": {
          "color": "#ab63fa"
         },
         "name": "PM",
         "offsetgroup": "PM",
         "orientation": "v",
         "showlegend": true,
         "textposition": "auto",
         "type": "bar",
         "x": [
          60,
          90,
          15,
          30
         ],
         "xaxis": "x4",
         "y": [
          154721347,
          145855376,
          142317056,
          159311487
         ],
         "yaxis": "y4"
        },
        {
         "alignmentgroup": "True",
         "hovertemplate": "Storage Media=PM<br>Operation Batch Size=64MB<br>CPU count=16CPU<br>keyrange_count=%{x}<br>overall_redundant_record=%{y}<extra></extra>",
         "legendgroup": "PM",
         "marker": {
          "color": "#ab63fa"
         },
         "name": "PM",
         "offsetgroup": "PM",
         "orientation": "v",
         "showlegend": false,
         "textposition": "auto",
         "type": "bar",
         "x": [
          60,
          90,
          15,
          30
         ],
         "xaxis": "x5",
         "y": [
          148799812,
          145452675,
          170179957,
          191324498
         ],
         "yaxis": "y5"
        },
        {
         "alignmentgroup": "True",
         "hovertemplate": "Storage Media=PM<br>Operation Batch Size=64MB<br>CPU count=32CPU<br>keyrange_count=%{x}<br>overall_redundant_record=%{y}<extra></extra>",
         "legendgroup": "PM",
         "marker": {
          "color": "#ab63fa"
         },
         "name": "PM",
         "offsetgroup": "PM",
         "orientation": "v",
         "showlegend": false,
         "textposition": "auto",
         "type": "bar",
         "x": [
          60,
          90,
          15,
          30
         ],
         "xaxis": "x6",
         "y": [
          153092221,
          185033609,
          143607621,
          158195660
         ],
         "yaxis": "y6"
        },
        {
         "alignmentgroup": "True",
         "hovertemplate": "Storage Media=PM<br>Operation Batch Size=128MB<br>CPU count=8CPU<br>keyrange_count=%{x}<br>overall_redundant_record=%{y}<extra></extra>",
         "legendgroup": "PM",
         "marker": {
          "color": "#ab63fa"
         },
         "name": "PM",
         "offsetgroup": "PM",
         "orientation": "v",
         "showlegend": false,
         "textposition": "auto",
         "type": "bar",
         "x": [
          60,
          90,
          15,
          30
         ],
         "xaxis": "x",
         "y": [
          131764591,
          145361617,
          147855850,
          176735118
         ],
         "yaxis": "y"
        },
        {
         "alignmentgroup": "True",
         "hovertemplate": "Storage Media=PM<br>Operation Batch Size=128MB<br>CPU count=16CPU<br>keyrange_count=%{x}<br>overall_redundant_record=%{y}<extra></extra>",
         "legendgroup": "PM",
         "marker": {
          "color": "#ab63fa"
         },
         "name": "PM",
         "offsetgroup": "PM",
         "orientation": "v",
         "showlegend": false,
         "textposition": "auto",
         "type": "bar",
         "x": [
          60,
          90,
          15,
          30
         ],
         "xaxis": "x2",
         "y": [
          139777619,
          147657355,
          138227266,
          173103755
         ],
         "yaxis": "y2"
        },
        {
         "alignmentgroup": "True",
         "hovertemplate": "Storage Media=PM<br>Operation Batch Size=128MB<br>CPU count=32CPU<br>keyrange_count=%{x}<br>overall_redundant_record=%{y}<extra></extra>",
         "legendgroup": "PM",
         "marker": {
          "color": "#ab63fa"
         },
         "name": "PM",
         "offsetgroup": "PM",
         "orientation": "v",
         "showlegend": false,
         "textposition": "auto",
         "type": "bar",
         "x": [
          60,
          90,
          15,
          30
         ],
         "xaxis": "x3",
         "y": [
          152261280,
          169256749,
          180974852,
          163406834
         ],
         "yaxis": "y3"
        }
       ],
       "layout": {
        "annotations": [
         {
          "font": {},
          "showarrow": false,
          "text": "CPU count=8CPU",
          "x": 0.15666666666666665,
          "xanchor": "center",
          "xref": "paper",
          "y": 1,
          "yanchor": "bottom",
          "yref": "paper"
         },
         {
          "font": {},
          "showarrow": false,
          "text": "CPU count=16CPU",
          "x": 0.49,
          "xanchor": "center",
          "xref": "paper",
          "y": 1,
          "yanchor": "bottom",
          "yref": "paper"
         },
         {
          "font": {},
          "showarrow": false,
          "text": "CPU count=32CPU",
          "x": 0.8233333333333333,
          "xanchor": "center",
          "xref": "paper",
          "y": 1,
          "yanchor": "bottom",
          "yref": "paper"
         },
         {
          "font": {},
          "showarrow": false,
          "text": "Operation Batch Size=128MB",
          "textangle": 90,
          "x": 0.98,
          "xanchor": "left",
          "xref": "paper",
          "y": 0.2425,
          "yanchor": "middle",
          "yref": "paper"
         },
         {
          "font": {},
          "showarrow": false,
          "text": "Operation Batch Size=64MB",
          "textangle": 90,
          "x": 0.98,
          "xanchor": "left",
          "xref": "paper",
          "y": 0.7575000000000001,
          "yanchor": "middle",
          "yref": "paper"
         }
        ],
        "autosize": false,
        "barmode": "group",
        "font": {
         "size": 20
        },
        "height": 900,
        "legend": {
         "title": {
          "text": "Storage Media"
         },
         "tracegroupgap": 0
        },
        "margin": {
         "t": 60
        },
        "template": {
         "data": {
          "bar": [
           {
            "error_x": {
             "color": "#2a3f5f"
            },
            "error_y": {
             "color": "#2a3f5f"
            },
            "marker": {
             "line": {
              "color": "#E5ECF6",
              "width": 0.5
             }
            },
            "type": "bar"
           }
          ],
          "barpolar": [
           {
            "marker": {
             "line": {
              "color": "#E5ECF6",
              "width": 0.5
             }
            },
            "type": "barpolar"
           }
          ],
          "carpet": [
           {
            "aaxis": {
             "endlinecolor": "#2a3f5f",
             "gridcolor": "white",
             "linecolor": "white",
             "minorgridcolor": "white",
             "startlinecolor": "#2a3f5f"
            },
            "baxis": {
             "endlinecolor": "#2a3f5f",
             "gridcolor": "white",
             "linecolor": "white",
             "minorgridcolor": "white",
             "startlinecolor": "#2a3f5f"
            },
            "type": "carpet"
           }
          ],
          "choropleth": [
           {
            "colorbar": {
             "outlinewidth": 0,
             "ticks": ""
            },
            "type": "choropleth"
           }
          ],
          "contour": [
           {
            "colorbar": {
             "outlinewidth": 0,
             "ticks": ""
            },
            "colorscale": [
             [
              0,
              "#0d0887"
             ],
             [
              0.1111111111111111,
              "#46039f"
             ],
             [
              0.2222222222222222,
              "#7201a8"
             ],
             [
              0.3333333333333333,
              "#9c179e"
             ],
             [
              0.4444444444444444,
              "#bd3786"
             ],
             [
              0.5555555555555556,
              "#d8576b"
             ],
             [
              0.6666666666666666,
              "#ed7953"
             ],
             [
              0.7777777777777778,
              "#fb9f3a"
             ],
             [
              0.8888888888888888,
              "#fdca26"
             ],
             [
              1,
              "#f0f921"
             ]
            ],
            "type": "contour"
           }
          ],
          "contourcarpet": [
           {
            "colorbar": {
             "outlinewidth": 0,
             "ticks": ""
            },
            "type": "contourcarpet"
           }
          ],
          "heatmap": [
           {
            "colorbar": {
             "outlinewidth": 0,
             "ticks": ""
            },
            "colorscale": [
             [
              0,
              "#0d0887"
             ],
             [
              0.1111111111111111,
              "#46039f"
             ],
             [
              0.2222222222222222,
              "#7201a8"
             ],
             [
              0.3333333333333333,
              "#9c179e"
             ],
             [
              0.4444444444444444,
              "#bd3786"
             ],
             [
              0.5555555555555556,
              "#d8576b"
             ],
             [
              0.6666666666666666,
              "#ed7953"
             ],
             [
              0.7777777777777778,
              "#fb9f3a"
             ],
             [
              0.8888888888888888,
              "#fdca26"
             ],
             [
              1,
              "#f0f921"
             ]
            ],
            "type": "heatmap"
           }
          ],
          "heatmapgl": [
           {
            "colorbar": {
             "outlinewidth": 0,
             "ticks": ""
            },
            "colorscale": [
             [
              0,
              "#0d0887"
             ],
             [
              0.1111111111111111,
              "#46039f"
             ],
             [
              0.2222222222222222,
              "#7201a8"
             ],
             [
              0.3333333333333333,
              "#9c179e"
             ],
             [
              0.4444444444444444,
              "#bd3786"
             ],
             [
              0.5555555555555556,
              "#d8576b"
             ],
             [
              0.6666666666666666,
              "#ed7953"
             ],
             [
              0.7777777777777778,
              "#fb9f3a"
             ],
             [
              0.8888888888888888,
              "#fdca26"
             ],
             [
              1,
              "#f0f921"
             ]
            ],
            "type": "heatmapgl"
           }
          ],
          "histogram": [
           {
            "marker": {
             "colorbar": {
              "outlinewidth": 0,
              "ticks": ""
             }
            },
            "type": "histogram"
           }
          ],
          "histogram2d": [
           {
            "colorbar": {
             "outlinewidth": 0,
             "ticks": ""
            },
            "colorscale": [
             [
              0,
              "#0d0887"
             ],
             [
              0.1111111111111111,
              "#46039f"
             ],
             [
              0.2222222222222222,
              "#7201a8"
             ],
             [
              0.3333333333333333,
              "#9c179e"
             ],
             [
              0.4444444444444444,
              "#bd3786"
             ],
             [
              0.5555555555555556,
              "#d8576b"
             ],
             [
              0.6666666666666666,
              "#ed7953"
             ],
             [
              0.7777777777777778,
              "#fb9f3a"
             ],
             [
              0.8888888888888888,
              "#fdca26"
             ],
             [
              1,
              "#f0f921"
             ]
            ],
            "type": "histogram2d"
           }
          ],
          "histogram2dcontour": [
           {
            "colorbar": {
             "outlinewidth": 0,
             "ticks": ""
            },
            "colorscale": [
             [
              0,
              "#0d0887"
             ],
             [
              0.1111111111111111,
              "#46039f"
             ],
             [
              0.2222222222222222,
              "#7201a8"
             ],
             [
              0.3333333333333333,
              "#9c179e"
             ],
             [
              0.4444444444444444,
              "#bd3786"
             ],
             [
              0.5555555555555556,
              "#d8576b"
             ],
             [
              0.6666666666666666,
              "#ed7953"
             ],
             [
              0.7777777777777778,
              "#fb9f3a"
             ],
             [
              0.8888888888888888,
              "#fdca26"
             ],
             [
              1,
              "#f0f921"
             ]
            ],
            "type": "histogram2dcontour"
           }
          ],
          "mesh3d": [
           {
            "colorbar": {
             "outlinewidth": 0,
             "ticks": ""
            },
            "type": "mesh3d"
           }
          ],
          "parcoords": [
           {
            "line": {
             "colorbar": {
              "outlinewidth": 0,
              "ticks": ""
             }
            },
            "type": "parcoords"
           }
          ],
          "pie": [
           {
            "automargin": true,
            "type": "pie"
           }
          ],
          "scatter": [
           {
            "marker": {
             "colorbar": {
              "outlinewidth": 0,
              "ticks": ""
             }
            },
            "type": "scatter"
           }
          ],
          "scatter3d": [
           {
            "line": {
             "colorbar": {
              "outlinewidth": 0,
              "ticks": ""
             }
            },
            "marker": {
             "colorbar": {
              "outlinewidth": 0,
              "ticks": ""
             }
            },
            "type": "scatter3d"
           }
          ],
          "scattercarpet": [
           {
            "marker": {
             "colorbar": {
              "outlinewidth": 0,
              "ticks": ""
             }
            },
            "type": "scattercarpet"
           }
          ],
          "scattergeo": [
           {
            "marker": {
             "colorbar": {
              "outlinewidth": 0,
              "ticks": ""
             }
            },
            "type": "scattergeo"
           }
          ],
          "scattergl": [
           {
            "marker": {
             "colorbar": {
              "outlinewidth": 0,
              "ticks": ""
             }
            },
            "type": "scattergl"
           }
          ],
          "scattermapbox": [
           {
            "marker": {
             "colorbar": {
              "outlinewidth": 0,
              "ticks": ""
             }
            },
            "type": "scattermapbox"
           }
          ],
          "scatterpolar": [
           {
            "marker": {
             "colorbar": {
              "outlinewidth": 0,
              "ticks": ""
             }
            },
            "type": "scatterpolar"
           }
          ],
          "scatterpolargl": [
           {
            "marker": {
             "colorbar": {
              "outlinewidth": 0,
              "ticks": ""
             }
            },
            "type": "scatterpolargl"
           }
          ],
          "scatterternary": [
           {
            "marker": {
             "colorbar": {
              "outlinewidth": 0,
              "ticks": ""
             }
            },
            "type": "scatterternary"
           }
          ],
          "surface": [
           {
            "colorbar": {
             "outlinewidth": 0,
             "ticks": ""
            },
            "colorscale": [
             [
              0,
              "#0d0887"
             ],
             [
              0.1111111111111111,
              "#46039f"
             ],
             [
              0.2222222222222222,
              "#7201a8"
             ],
             [
              0.3333333333333333,
              "#9c179e"
             ],
             [
              0.4444444444444444,
              "#bd3786"
             ],
             [
              0.5555555555555556,
              "#d8576b"
             ],
             [
              0.6666666666666666,
              "#ed7953"
             ],
             [
              0.7777777777777778,
              "#fb9f3a"
             ],
             [
              0.8888888888888888,
              "#fdca26"
             ],
             [
              1,
              "#f0f921"
             ]
            ],
            "type": "surface"
           }
          ],
          "table": [
           {
            "cells": {
             "fill": {
              "color": "#EBF0F8"
             },
             "line": {
              "color": "white"
             }
            },
            "header": {
             "fill": {
              "color": "#C8D4E3"
             },
             "line": {
              "color": "white"
             }
            },
            "type": "table"
           }
          ]
         },
         "layout": {
          "annotationdefaults": {
           "arrowcolor": "#2a3f5f",
           "arrowhead": 0,
           "arrowwidth": 1
          },
          "coloraxis": {
           "colorbar": {
            "outlinewidth": 0,
            "ticks": ""
           }
          },
          "colorscale": {
           "diverging": [
            [
             0,
             "#8e0152"
            ],
            [
             0.1,
             "#c51b7d"
            ],
            [
             0.2,
             "#de77ae"
            ],
            [
             0.3,
             "#f1b6da"
            ],
            [
             0.4,
             "#fde0ef"
            ],
            [
             0.5,
             "#f7f7f7"
            ],
            [
             0.6,
             "#e6f5d0"
            ],
            [
             0.7,
             "#b8e186"
            ],
            [
             0.8,
             "#7fbc41"
            ],
            [
             0.9,
             "#4d9221"
            ],
            [
             1,
             "#276419"
            ]
           ],
           "sequential": [
            [
             0,
             "#0d0887"
            ],
            [
             0.1111111111111111,
             "#46039f"
            ],
            [
             0.2222222222222222,
             "#7201a8"
            ],
            [
             0.3333333333333333,
             "#9c179e"
            ],
            [
             0.4444444444444444,
             "#bd3786"
            ],
            [
             0.5555555555555556,
             "#d8576b"
            ],
            [
             0.6666666666666666,
             "#ed7953"
            ],
            [
             0.7777777777777778,
             "#fb9f3a"
            ],
            [
             0.8888888888888888,
             "#fdca26"
            ],
            [
             1,
             "#f0f921"
            ]
           ],
           "sequentialminus": [
            [
             0,
             "#0d0887"
            ],
            [
             0.1111111111111111,
             "#46039f"
            ],
            [
             0.2222222222222222,
             "#7201a8"
            ],
            [
             0.3333333333333333,
             "#9c179e"
            ],
            [
             0.4444444444444444,
             "#bd3786"
            ],
            [
             0.5555555555555556,
             "#d8576b"
            ],
            [
             0.6666666666666666,
             "#ed7953"
            ],
            [
             0.7777777777777778,
             "#fb9f3a"
            ],
            [
             0.8888888888888888,
             "#fdca26"
            ],
            [
             1,
             "#f0f921"
            ]
           ]
          },
          "colorway": [
           "#636efa",
           "#EF553B",
           "#00cc96",
           "#ab63fa",
           "#FFA15A",
           "#19d3f3",
           "#FF6692",
           "#B6E880",
           "#FF97FF",
           "#FECB52"
          ],
          "font": {
           "color": "#2a3f5f"
          },
          "geo": {
           "bgcolor": "white",
           "lakecolor": "white",
           "landcolor": "#E5ECF6",
           "showlakes": true,
           "showland": true,
           "subunitcolor": "white"
          },
          "hoverlabel": {
           "align": "left"
          },
          "hovermode": "closest",
          "mapbox": {
           "style": "light"
          },
          "paper_bgcolor": "white",
          "plot_bgcolor": "#E5ECF6",
          "polar": {
           "angularaxis": {
            "gridcolor": "white",
            "linecolor": "white",
            "ticks": ""
           },
           "bgcolor": "#E5ECF6",
           "radialaxis": {
            "gridcolor": "white",
            "linecolor": "white",
            "ticks": ""
           }
          },
          "scene": {
           "xaxis": {
            "backgroundcolor": "#E5ECF6",
            "gridcolor": "white",
            "gridwidth": 2,
            "linecolor": "white",
            "showbackground": true,
            "ticks": "",
            "zerolinecolor": "white"
           },
           "yaxis": {
            "backgroundcolor": "#E5ECF6",
            "gridcolor": "white",
            "gridwidth": 2,
            "linecolor": "white",
            "showbackground": true,
            "ticks": "",
            "zerolinecolor": "white"
           },
           "zaxis": {
            "backgroundcolor": "#E5ECF6",
            "gridcolor": "white",
            "gridwidth": 2,
            "linecolor": "white",
            "showbackground": true,
            "ticks": "",
            "zerolinecolor": "white"
           }
          },
          "shapedefaults": {
           "line": {
            "color": "#2a3f5f"
           }
          },
          "ternary": {
           "aaxis": {
            "gridcolor": "white",
            "linecolor": "white",
            "ticks": ""
           },
           "baxis": {
            "gridcolor": "white",
            "linecolor": "white",
            "ticks": ""
           },
           "bgcolor": "#E5ECF6",
           "caxis": {
            "gridcolor": "white",
            "linecolor": "white",
            "ticks": ""
           }
          },
          "title": {
           "x": 0.05
          },
          "xaxis": {
           "automargin": true,
           "gridcolor": "white",
           "linecolor": "white",
           "ticks": "",
           "title": {
            "standoff": 15
           },
           "zerolinecolor": "white",
           "zerolinewidth": 2
          },
          "yaxis": {
           "automargin": true,
           "gridcolor": "white",
           "linecolor": "white",
           "ticks": "",
           "title": {
            "standoff": 15
           },
           "zerolinecolor": "white",
           "zerolinewidth": 2
          }
         }
        },
        "width": 1600,
        "xaxis": {
         "anchor": "y",
         "domain": [
          0,
          0.3133333333333333
         ],
         "showgrid": false,
         "title": {
          "text": "keyrange_count"
         }
        },
        "xaxis2": {
         "anchor": "y2",
         "domain": [
          0.3333333333333333,
          0.6466666666666666
         ],
         "matches": "x",
         "showgrid": false,
         "title": {
          "text": "keyrange_count"
         }
        },
        "xaxis3": {
         "anchor": "y3",
         "domain": [
          0.6666666666666666,
          0.98
         ],
         "matches": "x",
         "showgrid": false,
         "title": {
          "text": "keyrange_count"
         }
        },
        "xaxis4": {
         "anchor": "y4",
         "domain": [
          0,
          0.3133333333333333
         ],
         "matches": "x",
         "showgrid": false,
         "showticklabels": false
        },
        "xaxis5": {
         "anchor": "y5",
         "domain": [
          0.3333333333333333,
          0.6466666666666666
         ],
         "matches": "x",
         "showgrid": false,
         "showticklabels": false
        },
        "xaxis6": {
         "anchor": "y6",
         "domain": [
          0.6666666666666666,
          0.98
         ],
         "matches": "x",
         "showgrid": false,
         "showticklabels": false
        },
        "yaxis": {
         "anchor": "x",
         "automargin": true,
         "domain": [
          0,
          0.485
         ],
         "title": {
          "text": "overall_redundant_record"
         }
        },
        "yaxis2": {
         "anchor": "x2",
         "automargin": true,
         "domain": [
          0,
          0.485
         ],
         "matches": "y",
         "showticklabels": false
        },
        "yaxis3": {
         "anchor": "x3",
         "automargin": true,
         "domain": [
          0,
          0.485
         ],
         "matches": "y",
         "showticklabels": false
        },
        "yaxis4": {
         "anchor": "x4",
         "automargin": true,
         "domain": [
          0.515,
          1
         ],
         "matches": "y",
         "title": {
          "text": "overall_redundant_record"
         }
        },
        "yaxis5": {
         "anchor": "x5",
         "automargin": true,
         "domain": [
          0.515,
          1
         ],
         "matches": "y",
         "showticklabels": false
        },
        "yaxis6": {
         "anchor": "x6",
         "automargin": true,
         "domain": [
          0.515,
          1
         ],
         "matches": "y",
         "showticklabels": false
        }
       }
      },
      "text/html": [
       "<div>\n",
       "        \n",
       "        \n",
       "            <div id=\"d0c6255a-2ec9-4523-b7b7-160c65cc5c1e\" class=\"plotly-graph-div\" style=\"height:900px; width:1600px;\"></div>\n",
       "            <script type=\"text/javascript\">\n",
       "                require([\"plotly\"], function(Plotly) {\n",
       "                    window.PLOTLYENV=window.PLOTLYENV || {};\n",
       "                    \n",
       "                if (document.getElementById(\"d0c6255a-2ec9-4523-b7b7-160c65cc5c1e\")) {\n",
       "                    Plotly.newPlot(\n",
       "                        'd0c6255a-2ec9-4523-b7b7-160c65cc5c1e',\n",
       "                        [{\"alignmentgroup\": \"True\", \"hovertemplate\": \"Storage Media=SATASSD<br>Operation Batch Size=64MB<br>CPU count=8CPU<br>keyrange_count=%{x}<br>overall_redundant_record=%{y}<extra></extra>\", \"legendgroup\": \"SATASSD\", \"marker\": {\"color\": \"#636efa\"}, \"name\": \"SATASSD\", \"offsetgroup\": \"SATASSD\", \"orientation\": \"v\", \"showlegend\": true, \"textposition\": \"auto\", \"type\": \"bar\", \"x\": [60, 90, 15, 30], \"xaxis\": \"x4\", \"y\": [171823399, 143676714, 143371240, 160707378], \"yaxis\": \"y4\"}, {\"alignmentgroup\": \"True\", \"hovertemplate\": \"Storage Media=SATASSD<br>Operation Batch Size=64MB<br>CPU count=16CPU<br>keyrange_count=%{x}<br>overall_redundant_record=%{y}<extra></extra>\", \"legendgroup\": \"SATASSD\", \"marker\": {\"color\": \"#636efa\"}, \"name\": \"SATASSD\", \"offsetgroup\": \"SATASSD\", \"orientation\": \"v\", \"showlegend\": false, \"textposition\": \"auto\", \"type\": \"bar\", \"x\": [60, 90, 15, 30], \"xaxis\": \"x5\", \"y\": [168602925, 148555194, 156561744, 171431517], \"yaxis\": \"y5\"}, {\"alignmentgroup\": \"True\", \"hovertemplate\": \"Storage Media=SATASSD<br>Operation Batch Size=64MB<br>CPU count=32CPU<br>keyrange_count=%{x}<br>overall_redundant_record=%{y}<extra></extra>\", \"legendgroup\": \"SATASSD\", \"marker\": {\"color\": \"#636efa\"}, \"name\": \"SATASSD\", \"offsetgroup\": \"SATASSD\", \"orientation\": \"v\", \"showlegend\": false, \"textposition\": \"auto\", \"type\": \"bar\", \"x\": [60, 90, 15, 30], \"xaxis\": \"x6\", \"y\": [185354612, 147280122, 144213260, 159067758], \"yaxis\": \"y6\"}, {\"alignmentgroup\": \"True\", \"hovertemplate\": \"Storage Media=SATASSD<br>Operation Batch Size=128MB<br>CPU count=8CPU<br>keyrange_count=%{x}<br>overall_redundant_record=%{y}<extra></extra>\", \"legendgroup\": \"SATASSD\", \"marker\": {\"color\": \"#636efa\"}, \"name\": \"SATASSD\", \"offsetgroup\": \"SATASSD\", \"orientation\": \"v\", \"showlegend\": false, \"textposition\": \"auto\", \"type\": \"bar\", \"x\": [60, 90, 15, 30], \"xaxis\": \"x\", \"y\": [137287203, 152462879, 139421477, 165053623], \"yaxis\": \"y\"}, {\"alignmentgroup\": \"True\", \"hovertemplate\": \"Storage Media=SATASSD<br>Operation Batch Size=128MB<br>CPU count=16CPU<br>keyrange_count=%{x}<br>overall_redundant_record=%{y}<extra></extra>\", \"legendgroup\": \"SATASSD\", \"marker\": {\"color\": \"#636efa\"}, \"name\": \"SATASSD\", \"offsetgroup\": \"SATASSD\", \"orientation\": \"v\", \"showlegend\": false, \"textposition\": \"auto\", \"type\": \"bar\", \"x\": [60, 90, 15, 30], \"xaxis\": \"x2\", \"y\": [142131548, 148566728, 140839543, 152453838], \"yaxis\": \"y2\"}, {\"alignmentgroup\": \"True\", \"hovertemplate\": \"Storage Media=SATASSD<br>Operation Batch Size=128MB<br>CPU count=32CPU<br>keyrange_count=%{x}<br>overall_redundant_record=%{y}<extra></extra>\", \"legendgroup\": \"SATASSD\", \"marker\": {\"color\": \"#636efa\"}, \"name\": \"SATASSD\", \"offsetgroup\": \"SATASSD\", \"orientation\": \"v\", \"showlegend\": false, \"textposition\": \"auto\", \"type\": \"bar\", \"x\": [60, 90, 15, 30], \"xaxis\": \"x3\", \"y\": [131166659, 139287598, 144402732, 190505040], \"yaxis\": \"y3\"}, {\"alignmentgroup\": \"True\", \"hovertemplate\": \"Storage Media=SATAHDD<br>Operation Batch Size=64MB<br>CPU count=8CPU<br>keyrange_count=%{x}<br>overall_redundant_record=%{y}<extra></extra>\", \"legendgroup\": \"SATAHDD\", \"marker\": {\"color\": \"#EF553B\"}, \"name\": \"SATAHDD\", \"offsetgroup\": \"SATAHDD\", \"orientation\": \"v\", \"showlegend\": true, \"textposition\": \"auto\", \"type\": \"bar\", \"x\": [60, 90, 15, 30], \"xaxis\": \"x4\", \"y\": [136081814, 196392348, 142879776, 153682494], \"yaxis\": \"y4\"}, {\"alignmentgroup\": \"True\", \"hovertemplate\": \"Storage Media=SATAHDD<br>Operation Batch Size=64MB<br>CPU count=16CPU<br>keyrange_count=%{x}<br>overall_redundant_record=%{y}<extra></extra>\", \"legendgroup\": \"SATAHDD\", \"marker\": {\"color\": \"#EF553B\"}, \"name\": \"SATAHDD\", \"offsetgroup\": \"SATAHDD\", \"orientation\": \"v\", \"showlegend\": false, \"textposition\": \"auto\", \"type\": \"bar\", \"x\": [60, 90, 15, 30], \"xaxis\": \"x5\", \"y\": [139451314, 139101449, 149699894, 167540453], \"yaxis\": \"y5\"}, {\"alignmentgroup\": \"True\", \"hovertemplate\": \"Storage Media=SATAHDD<br>Operation Batch Size=64MB<br>CPU count=32CPU<br>keyrange_count=%{x}<br>overall_redundant_record=%{y}<extra></extra>\", \"legendgroup\": \"SATAHDD\", \"marker\": {\"color\": \"#EF553B\"}, \"name\": \"SATAHDD\", \"offsetgroup\": \"SATAHDD\", \"orientation\": \"v\", \"showlegend\": false, \"textposition\": \"auto\", \"type\": \"bar\", \"x\": [60, 90, 15, 30], \"xaxis\": \"x6\", \"y\": [160052596, 141986484, 170923362, 165564804], \"yaxis\": \"y6\"}, {\"alignmentgroup\": \"True\", \"hovertemplate\": \"Storage Media=SATAHDD<br>Operation Batch Size=128MB<br>CPU count=8CPU<br>keyrange_count=%{x}<br>overall_redundant_record=%{y}<extra></extra>\", \"legendgroup\": \"SATAHDD\", \"marker\": {\"color\": \"#EF553B\"}, \"name\": \"SATAHDD\", \"offsetgroup\": \"SATAHDD\", \"orientation\": \"v\", \"showlegend\": false, \"textposition\": \"auto\", \"type\": \"bar\", \"x\": [60, 90, 15, 30], \"xaxis\": \"x\", \"y\": [142287577, 186531033, 169444389, 154124844], \"yaxis\": \"y\"}, {\"alignmentgroup\": \"True\", \"hovertemplate\": \"Storage Media=SATAHDD<br>Operation Batch Size=128MB<br>CPU count=16CPU<br>keyrange_count=%{x}<br>overall_redundant_record=%{y}<extra></extra>\", \"legendgroup\": \"SATAHDD\", \"marker\": {\"color\": \"#EF553B\"}, \"name\": \"SATAHDD\", \"offsetgroup\": \"SATAHDD\", \"orientation\": \"v\", \"showlegend\": false, \"textposition\": \"auto\", \"type\": \"bar\", \"x\": [60, 90, 15, 30], \"xaxis\": \"x2\", \"y\": [177887975, 145555185, 194534349, 166576183], \"yaxis\": \"y2\"}, {\"alignmentgroup\": \"True\", \"hovertemplate\": \"Storage Media=SATAHDD<br>Operation Batch Size=128MB<br>CPU count=32CPU<br>keyrange_count=%{x}<br>overall_redundant_record=%{y}<extra></extra>\", \"legendgroup\": \"SATAHDD\", \"marker\": {\"color\": \"#EF553B\"}, \"name\": \"SATAHDD\", \"offsetgroup\": \"SATAHDD\", \"orientation\": \"v\", \"showlegend\": false, \"textposition\": \"auto\", \"type\": \"bar\", \"x\": [60, 90, 15, 30], \"xaxis\": \"x3\", \"y\": [193348264, 176584987, 148904533, 180492461], \"yaxis\": \"y3\"}, {\"alignmentgroup\": \"True\", \"hovertemplate\": \"Storage Media=NVMeSSD<br>Operation Batch Size=64MB<br>CPU count=8CPU<br>keyrange_count=%{x}<br>overall_redundant_record=%{y}<extra></extra>\", \"legendgroup\": \"NVMeSSD\", \"marker\": {\"color\": \"#00cc96\"}, \"name\": \"NVMeSSD\", \"offsetgroup\": \"NVMeSSD\", \"orientation\": \"v\", \"showlegend\": true, \"textposition\": \"auto\", \"type\": \"bar\", \"x\": [60, 90, 15, 30], \"xaxis\": \"x4\", \"y\": [144286838, 151838475, 144287702, 158419439], \"yaxis\": \"y4\"}, {\"alignmentgroup\": \"True\", \"hovertemplate\": \"Storage Media=NVMeSSD<br>Operation Batch Size=64MB<br>CPU count=16CPU<br>keyrange_count=%{x}<br>overall_redundant_record=%{y}<extra></extra>\", \"legendgroup\": \"NVMeSSD\", \"marker\": {\"color\": \"#00cc96\"}, \"name\": \"NVMeSSD\", \"offsetgroup\": \"NVMeSSD\", \"orientation\": \"v\", \"showlegend\": false, \"textposition\": \"auto\", \"type\": \"bar\", \"x\": [60, 90, 15, 30], \"xaxis\": \"x5\", \"y\": [145528764, 145878425, 155613207, 164103496], \"yaxis\": \"y5\"}, {\"alignmentgroup\": \"True\", \"hovertemplate\": \"Storage Media=NVMeSSD<br>Operation Batch Size=64MB<br>CPU count=32CPU<br>keyrange_count=%{x}<br>overall_redundant_record=%{y}<extra></extra>\", \"legendgroup\": \"NVMeSSD\", \"marker\": {\"color\": \"#00cc96\"}, \"name\": \"NVMeSSD\", \"offsetgroup\": \"NVMeSSD\", \"orientation\": \"v\", \"showlegend\": false, \"textposition\": \"auto\", \"type\": \"bar\", \"x\": [60, 90, 15, 30], \"xaxis\": \"x6\", \"y\": [152721194, 143864895, 143103089, 166524514], \"yaxis\": \"y6\"}, {\"alignmentgroup\": \"True\", \"hovertemplate\": \"Storage Media=NVMeSSD<br>Operation Batch Size=128MB<br>CPU count=8CPU<br>keyrange_count=%{x}<br>overall_redundant_record=%{y}<extra></extra>\", \"legendgroup\": \"NVMeSSD\", \"marker\": {\"color\": \"#00cc96\"}, \"name\": \"NVMeSSD\", \"offsetgroup\": \"NVMeSSD\", \"orientation\": \"v\", \"showlegend\": false, \"textposition\": \"auto\", \"type\": \"bar\", \"x\": [60, 90, 15, 30], \"xaxis\": \"x\", \"y\": [151282366, 141018775, 145672606, 153623431], \"yaxis\": \"y\"}, {\"alignmentgroup\": \"True\", \"hovertemplate\": \"Storage Media=NVMeSSD<br>Operation Batch Size=128MB<br>CPU count=16CPU<br>keyrange_count=%{x}<br>overall_redundant_record=%{y}<extra></extra>\", \"legendgroup\": \"NVMeSSD\", \"marker\": {\"color\": \"#00cc96\"}, \"name\": \"NVMeSSD\", \"offsetgroup\": \"NVMeSSD\", \"orientation\": \"v\", \"showlegend\": false, \"textposition\": \"auto\", \"type\": \"bar\", \"x\": [60, 90, 15, 30], \"xaxis\": \"x2\", \"y\": [151413714, 144075866, 138786158, 155920831], \"yaxis\": \"y2\"}, {\"alignmentgroup\": \"True\", \"hovertemplate\": \"Storage Media=NVMeSSD<br>Operation Batch Size=128MB<br>CPU count=32CPU<br>keyrange_count=%{x}<br>overall_redundant_record=%{y}<extra></extra>\", \"legendgroup\": \"NVMeSSD\", \"marker\": {\"color\": \"#00cc96\"}, \"name\": \"NVMeSSD\", \"offsetgroup\": \"NVMeSSD\", \"orientation\": \"v\", \"showlegend\": false, \"textposition\": \"auto\", \"type\": \"bar\", \"x\": [60, 90, 15, 30], \"xaxis\": \"x3\", \"y\": [147537068, 144196286, 142791040, 161188385], \"yaxis\": \"y3\"}, {\"alignmentgroup\": \"True\", \"hovertemplate\": \"Storage Media=PM<br>Operation Batch Size=64MB<br>CPU count=8CPU<br>keyrange_count=%{x}<br>overall_redundant_record=%{y}<extra></extra>\", \"legendgroup\": \"PM\", \"marker\": {\"color\": \"#ab63fa\"}, \"name\": \"PM\", \"offsetgroup\": \"PM\", \"orientation\": \"v\", \"showlegend\": true, \"textposition\": \"auto\", \"type\": \"bar\", \"x\": [60, 90, 15, 30], \"xaxis\": \"x4\", \"y\": [154721347, 145855376, 142317056, 159311487], \"yaxis\": \"y4\"}, {\"alignmentgroup\": \"True\", \"hovertemplate\": \"Storage Media=PM<br>Operation Batch Size=64MB<br>CPU count=16CPU<br>keyrange_count=%{x}<br>overall_redundant_record=%{y}<extra></extra>\", \"legendgroup\": \"PM\", \"marker\": {\"color\": \"#ab63fa\"}, \"name\": \"PM\", \"offsetgroup\": \"PM\", \"orientation\": \"v\", \"showlegend\": false, \"textposition\": \"auto\", \"type\": \"bar\", \"x\": [60, 90, 15, 30], \"xaxis\": \"x5\", \"y\": [148799812, 145452675, 170179957, 191324498], \"yaxis\": \"y5\"}, {\"alignmentgroup\": \"True\", \"hovertemplate\": \"Storage Media=PM<br>Operation Batch Size=64MB<br>CPU count=32CPU<br>keyrange_count=%{x}<br>overall_redundant_record=%{y}<extra></extra>\", \"legendgroup\": \"PM\", \"marker\": {\"color\": \"#ab63fa\"}, \"name\": \"PM\", \"offsetgroup\": \"PM\", \"orientation\": \"v\", \"showlegend\": false, \"textposition\": \"auto\", \"type\": \"bar\", \"x\": [60, 90, 15, 30], \"xaxis\": \"x6\", \"y\": [153092221, 185033609, 143607621, 158195660], \"yaxis\": \"y6\"}, {\"alignmentgroup\": \"True\", \"hovertemplate\": \"Storage Media=PM<br>Operation Batch Size=128MB<br>CPU count=8CPU<br>keyrange_count=%{x}<br>overall_redundant_record=%{y}<extra></extra>\", \"legendgroup\": \"PM\", \"marker\": {\"color\": \"#ab63fa\"}, \"name\": \"PM\", \"offsetgroup\": \"PM\", \"orientation\": \"v\", \"showlegend\": false, \"textposition\": \"auto\", \"type\": \"bar\", \"x\": [60, 90, 15, 30], \"xaxis\": \"x\", \"y\": [131764591, 145361617, 147855850, 176735118], \"yaxis\": \"y\"}, {\"alignmentgroup\": \"True\", \"hovertemplate\": \"Storage Media=PM<br>Operation Batch Size=128MB<br>CPU count=16CPU<br>keyrange_count=%{x}<br>overall_redundant_record=%{y}<extra></extra>\", \"legendgroup\": \"PM\", \"marker\": {\"color\": \"#ab63fa\"}, \"name\": \"PM\", \"offsetgroup\": \"PM\", \"orientation\": \"v\", \"showlegend\": false, \"textposition\": \"auto\", \"type\": \"bar\", \"x\": [60, 90, 15, 30], \"xaxis\": \"x2\", \"y\": [139777619, 147657355, 138227266, 173103755], \"yaxis\": \"y2\"}, {\"alignmentgroup\": \"True\", \"hovertemplate\": \"Storage Media=PM<br>Operation Batch Size=128MB<br>CPU count=32CPU<br>keyrange_count=%{x}<br>overall_redundant_record=%{y}<extra></extra>\", \"legendgroup\": \"PM\", \"marker\": {\"color\": \"#ab63fa\"}, \"name\": \"PM\", \"offsetgroup\": \"PM\", \"orientation\": \"v\", \"showlegend\": false, \"textposition\": \"auto\", \"type\": \"bar\", \"x\": [60, 90, 15, 30], \"xaxis\": \"x3\", \"y\": [152261280, 169256749, 180974852, 163406834], \"yaxis\": \"y3\"}],\n",
       "                        {\"annotations\": [{\"font\": {}, \"showarrow\": false, \"text\": \"CPU count=8CPU\", \"x\": 0.15666666666666665, \"xanchor\": \"center\", \"xref\": \"paper\", \"y\": 1.0, \"yanchor\": \"bottom\", \"yref\": \"paper\"}, {\"font\": {}, \"showarrow\": false, \"text\": \"CPU count=16CPU\", \"x\": 0.49, \"xanchor\": \"center\", \"xref\": \"paper\", \"y\": 1.0, \"yanchor\": \"bottom\", \"yref\": \"paper\"}, {\"font\": {}, \"showarrow\": false, \"text\": \"CPU count=32CPU\", \"x\": 0.8233333333333333, \"xanchor\": \"center\", \"xref\": \"paper\", \"y\": 1.0, \"yanchor\": \"bottom\", \"yref\": \"paper\"}, {\"font\": {}, \"showarrow\": false, \"text\": \"Operation Batch Size=128MB\", \"textangle\": 90, \"x\": 0.98, \"xanchor\": \"left\", \"xref\": \"paper\", \"y\": 0.2425, \"yanchor\": \"middle\", \"yref\": \"paper\"}, {\"font\": {}, \"showarrow\": false, \"text\": \"Operation Batch Size=64MB\", \"textangle\": 90, \"x\": 0.98, \"xanchor\": \"left\", \"xref\": \"paper\", \"y\": 0.7575000000000001, \"yanchor\": \"middle\", \"yref\": \"paper\"}], \"autosize\": false, \"barmode\": \"group\", \"font\": {\"size\": 20}, \"height\": 900, \"legend\": {\"title\": {\"text\": \"Storage Media\"}, \"tracegroupgap\": 0}, \"margin\": {\"t\": 60}, \"template\": {\"data\": {\"bar\": [{\"error_x\": {\"color\": \"#2a3f5f\"}, \"error_y\": {\"color\": \"#2a3f5f\"}, \"marker\": {\"line\": {\"color\": \"#E5ECF6\", \"width\": 0.5}}, \"type\": \"bar\"}], \"barpolar\": [{\"marker\": {\"line\": {\"color\": \"#E5ECF6\", \"width\": 0.5}}, \"type\": \"barpolar\"}], \"carpet\": [{\"aaxis\": {\"endlinecolor\": \"#2a3f5f\", \"gridcolor\": \"white\", \"linecolor\": \"white\", \"minorgridcolor\": \"white\", \"startlinecolor\": \"#2a3f5f\"}, \"baxis\": {\"endlinecolor\": \"#2a3f5f\", \"gridcolor\": \"white\", \"linecolor\": \"white\", \"minorgridcolor\": \"white\", \"startlinecolor\": \"#2a3f5f\"}, \"type\": \"carpet\"}], \"choropleth\": [{\"colorbar\": {\"outlinewidth\": 0, \"ticks\": \"\"}, \"type\": \"choropleth\"}], \"contour\": [{\"colorbar\": {\"outlinewidth\": 0, \"ticks\": \"\"}, \"colorscale\": [[0.0, \"#0d0887\"], [0.1111111111111111, \"#46039f\"], [0.2222222222222222, \"#7201a8\"], [0.3333333333333333, \"#9c179e\"], [0.4444444444444444, \"#bd3786\"], [0.5555555555555556, \"#d8576b\"], [0.6666666666666666, \"#ed7953\"], [0.7777777777777778, \"#fb9f3a\"], [0.8888888888888888, \"#fdca26\"], [1.0, \"#f0f921\"]], \"type\": \"contour\"}], \"contourcarpet\": [{\"colorbar\": {\"outlinewidth\": 0, \"ticks\": \"\"}, \"type\": \"contourcarpet\"}], \"heatmap\": [{\"colorbar\": {\"outlinewidth\": 0, \"ticks\": \"\"}, \"colorscale\": [[0.0, \"#0d0887\"], [0.1111111111111111, \"#46039f\"], [0.2222222222222222, \"#7201a8\"], [0.3333333333333333, \"#9c179e\"], [0.4444444444444444, \"#bd3786\"], [0.5555555555555556, \"#d8576b\"], [0.6666666666666666, \"#ed7953\"], [0.7777777777777778, \"#fb9f3a\"], [0.8888888888888888, \"#fdca26\"], [1.0, \"#f0f921\"]], \"type\": \"heatmap\"}], \"heatmapgl\": [{\"colorbar\": {\"outlinewidth\": 0, \"ticks\": \"\"}, \"colorscale\": [[0.0, \"#0d0887\"], [0.1111111111111111, \"#46039f\"], [0.2222222222222222, \"#7201a8\"], [0.3333333333333333, \"#9c179e\"], [0.4444444444444444, \"#bd3786\"], [0.5555555555555556, \"#d8576b\"], [0.6666666666666666, \"#ed7953\"], [0.7777777777777778, \"#fb9f3a\"], [0.8888888888888888, \"#fdca26\"], [1.0, \"#f0f921\"]], \"type\": \"heatmapgl\"}], \"histogram\": [{\"marker\": {\"colorbar\": {\"outlinewidth\": 0, \"ticks\": \"\"}}, \"type\": \"histogram\"}], \"histogram2d\": [{\"colorbar\": {\"outlinewidth\": 0, \"ticks\": \"\"}, \"colorscale\": [[0.0, \"#0d0887\"], [0.1111111111111111, \"#46039f\"], [0.2222222222222222, \"#7201a8\"], [0.3333333333333333, \"#9c179e\"], [0.4444444444444444, \"#bd3786\"], [0.5555555555555556, \"#d8576b\"], [0.6666666666666666, \"#ed7953\"], [0.7777777777777778, \"#fb9f3a\"], [0.8888888888888888, \"#fdca26\"], [1.0, \"#f0f921\"]], \"type\": \"histogram2d\"}], \"histogram2dcontour\": [{\"colorbar\": {\"outlinewidth\": 0, \"ticks\": \"\"}, \"colorscale\": [[0.0, \"#0d0887\"], [0.1111111111111111, \"#46039f\"], [0.2222222222222222, \"#7201a8\"], [0.3333333333333333, \"#9c179e\"], [0.4444444444444444, \"#bd3786\"], [0.5555555555555556, \"#d8576b\"], [0.6666666666666666, \"#ed7953\"], [0.7777777777777778, \"#fb9f3a\"], [0.8888888888888888, \"#fdca26\"], [1.0, \"#f0f921\"]], \"type\": \"histogram2dcontour\"}], \"mesh3d\": [{\"colorbar\": {\"outlinewidth\": 0, \"ticks\": \"\"}, \"type\": \"mesh3d\"}], \"parcoords\": [{\"line\": {\"colorbar\": {\"outlinewidth\": 0, \"ticks\": \"\"}}, \"type\": \"parcoords\"}], \"pie\": [{\"automargin\": true, \"type\": \"pie\"}], \"scatter\": [{\"marker\": {\"colorbar\": {\"outlinewidth\": 0, \"ticks\": \"\"}}, \"type\": \"scatter\"}], \"scatter3d\": [{\"line\": {\"colorbar\": {\"outlinewidth\": 0, \"ticks\": \"\"}}, \"marker\": {\"colorbar\": {\"outlinewidth\": 0, \"ticks\": \"\"}}, \"type\": \"scatter3d\"}], \"scattercarpet\": [{\"marker\": {\"colorbar\": {\"outlinewidth\": 0, \"ticks\": \"\"}}, \"type\": \"scattercarpet\"}], \"scattergeo\": [{\"marker\": {\"colorbar\": {\"outlinewidth\": 0, \"ticks\": \"\"}}, \"type\": \"scattergeo\"}], \"scattergl\": [{\"marker\": {\"colorbar\": {\"outlinewidth\": 0, \"ticks\": \"\"}}, \"type\": \"scattergl\"}], \"scattermapbox\": [{\"marker\": {\"colorbar\": {\"outlinewidth\": 0, \"ticks\": \"\"}}, \"type\": \"scattermapbox\"}], \"scatterpolar\": [{\"marker\": {\"colorbar\": {\"outlinewidth\": 0, \"ticks\": \"\"}}, \"type\": \"scatterpolar\"}], \"scatterpolargl\": [{\"marker\": {\"colorbar\": {\"outlinewidth\": 0, \"ticks\": \"\"}}, \"type\": \"scatterpolargl\"}], \"scatterternary\": [{\"marker\": {\"colorbar\": {\"outlinewidth\": 0, \"ticks\": \"\"}}, \"type\": \"scatterternary\"}], \"surface\": [{\"colorbar\": {\"outlinewidth\": 0, \"ticks\": \"\"}, \"colorscale\": [[0.0, \"#0d0887\"], [0.1111111111111111, \"#46039f\"], [0.2222222222222222, \"#7201a8\"], [0.3333333333333333, \"#9c179e\"], [0.4444444444444444, \"#bd3786\"], [0.5555555555555556, \"#d8576b\"], [0.6666666666666666, \"#ed7953\"], [0.7777777777777778, \"#fb9f3a\"], [0.8888888888888888, \"#fdca26\"], [1.0, \"#f0f921\"]], \"type\": \"surface\"}], \"table\": [{\"cells\": {\"fill\": {\"color\": \"#EBF0F8\"}, \"line\": {\"color\": \"white\"}}, \"header\": {\"fill\": {\"color\": \"#C8D4E3\"}, \"line\": {\"color\": \"white\"}}, \"type\": \"table\"}]}, \"layout\": {\"annotationdefaults\": {\"arrowcolor\": \"#2a3f5f\", \"arrowhead\": 0, \"arrowwidth\": 1}, \"coloraxis\": {\"colorbar\": {\"outlinewidth\": 0, \"ticks\": \"\"}}, \"colorscale\": {\"diverging\": [[0, \"#8e0152\"], [0.1, \"#c51b7d\"], [0.2, \"#de77ae\"], [0.3, \"#f1b6da\"], [0.4, \"#fde0ef\"], [0.5, \"#f7f7f7\"], [0.6, \"#e6f5d0\"], [0.7, \"#b8e186\"], [0.8, \"#7fbc41\"], [0.9, \"#4d9221\"], [1, \"#276419\"]], \"sequential\": [[0.0, \"#0d0887\"], [0.1111111111111111, \"#46039f\"], [0.2222222222222222, \"#7201a8\"], [0.3333333333333333, \"#9c179e\"], [0.4444444444444444, \"#bd3786\"], [0.5555555555555556, \"#d8576b\"], [0.6666666666666666, \"#ed7953\"], [0.7777777777777778, \"#fb9f3a\"], [0.8888888888888888, \"#fdca26\"], [1.0, \"#f0f921\"]], \"sequentialminus\": [[0.0, \"#0d0887\"], [0.1111111111111111, \"#46039f\"], [0.2222222222222222, \"#7201a8\"], [0.3333333333333333, \"#9c179e\"], [0.4444444444444444, \"#bd3786\"], [0.5555555555555556, \"#d8576b\"], [0.6666666666666666, \"#ed7953\"], [0.7777777777777778, \"#fb9f3a\"], [0.8888888888888888, \"#fdca26\"], [1.0, \"#f0f921\"]]}, \"colorway\": [\"#636efa\", \"#EF553B\", \"#00cc96\", \"#ab63fa\", \"#FFA15A\", \"#19d3f3\", \"#FF6692\", \"#B6E880\", \"#FF97FF\", \"#FECB52\"], \"font\": {\"color\": \"#2a3f5f\"}, \"geo\": {\"bgcolor\": \"white\", \"lakecolor\": \"white\", \"landcolor\": \"#E5ECF6\", \"showlakes\": true, \"showland\": true, \"subunitcolor\": \"white\"}, \"hoverlabel\": {\"align\": \"left\"}, \"hovermode\": \"closest\", \"mapbox\": {\"style\": \"light\"}, \"paper_bgcolor\": \"white\", \"plot_bgcolor\": \"#E5ECF6\", \"polar\": {\"angularaxis\": {\"gridcolor\": \"white\", \"linecolor\": \"white\", \"ticks\": \"\"}, \"bgcolor\": \"#E5ECF6\", \"radialaxis\": {\"gridcolor\": \"white\", \"linecolor\": \"white\", \"ticks\": \"\"}}, \"scene\": {\"xaxis\": {\"backgroundcolor\": \"#E5ECF6\", \"gridcolor\": \"white\", \"gridwidth\": 2, \"linecolor\": \"white\", \"showbackground\": true, \"ticks\": \"\", \"zerolinecolor\": \"white\"}, \"yaxis\": {\"backgroundcolor\": \"#E5ECF6\", \"gridcolor\": \"white\", \"gridwidth\": 2, \"linecolor\": \"white\", \"showbackground\": true, \"ticks\": \"\", \"zerolinecolor\": \"white\"}, \"zaxis\": {\"backgroundcolor\": \"#E5ECF6\", \"gridcolor\": \"white\", \"gridwidth\": 2, \"linecolor\": \"white\", \"showbackground\": true, \"ticks\": \"\", \"zerolinecolor\": \"white\"}}, \"shapedefaults\": {\"line\": {\"color\": \"#2a3f5f\"}}, \"ternary\": {\"aaxis\": {\"gridcolor\": \"white\", \"linecolor\": \"white\", \"ticks\": \"\"}, \"baxis\": {\"gridcolor\": \"white\", \"linecolor\": \"white\", \"ticks\": \"\"}, \"bgcolor\": \"#E5ECF6\", \"caxis\": {\"gridcolor\": \"white\", \"linecolor\": \"white\", \"ticks\": \"\"}}, \"title\": {\"x\": 0.05}, \"xaxis\": {\"automargin\": true, \"gridcolor\": \"white\", \"linecolor\": \"white\", \"ticks\": \"\", \"title\": {\"standoff\": 15}, \"zerolinecolor\": \"white\", \"zerolinewidth\": 2}, \"yaxis\": {\"automargin\": true, \"gridcolor\": \"white\", \"linecolor\": \"white\", \"ticks\": \"\", \"title\": {\"standoff\": 15}, \"zerolinecolor\": \"white\", \"zerolinewidth\": 2}}}, \"width\": 1600, \"xaxis\": {\"anchor\": \"y\", \"domain\": [0.0, 0.3133333333333333], \"showgrid\": false, \"title\": {\"text\": \"keyrange_count\"}}, \"xaxis2\": {\"anchor\": \"y2\", \"domain\": [0.3333333333333333, 0.6466666666666666], \"matches\": \"x\", \"showgrid\": false, \"title\": {\"text\": \"keyrange_count\"}}, \"xaxis3\": {\"anchor\": \"y3\", \"domain\": [0.6666666666666666, 0.98], \"matches\": \"x\", \"showgrid\": false, \"title\": {\"text\": \"keyrange_count\"}}, \"xaxis4\": {\"anchor\": \"y4\", \"domain\": [0.0, 0.3133333333333333], \"matches\": \"x\", \"showgrid\": false, \"showticklabels\": false}, \"xaxis5\": {\"anchor\": \"y5\", \"domain\": [0.3333333333333333, 0.6466666666666666], \"matches\": \"x\", \"showgrid\": false, \"showticklabels\": false}, \"xaxis6\": {\"anchor\": \"y6\", \"domain\": [0.6666666666666666, 0.98], \"matches\": \"x\", \"showgrid\": false, \"showticklabels\": false}, \"yaxis\": {\"anchor\": \"x\", \"automargin\": true, \"domain\": [0.0, 0.485], \"title\": {\"text\": \"overall_redundant_record\"}}, \"yaxis2\": {\"anchor\": \"x2\", \"automargin\": true, \"domain\": [0.0, 0.485], \"matches\": \"y\", \"showticklabels\": false}, \"yaxis3\": {\"anchor\": \"x3\", \"automargin\": true, \"domain\": [0.0, 0.485], \"matches\": \"y\", \"showticklabels\": false}, \"yaxis4\": {\"anchor\": \"x4\", \"automargin\": true, \"domain\": [0.515, 1.0], \"matches\": \"y\", \"title\": {\"text\": \"overall_redundant_record\"}}, \"yaxis5\": {\"anchor\": \"x5\", \"automargin\": true, \"domain\": [0.515, 1.0], \"matches\": \"y\", \"showticklabels\": false}, \"yaxis6\": {\"anchor\": \"x6\", \"automargin\": true, \"domain\": [0.515, 1.0], \"matches\": \"y\", \"showticklabels\": false}},\n",
       "                        {\"responsive\": true}\n",
       "                    ).then(function(){\n",
       "                            \n",
       "var gd = document.getElementById('d0c6255a-2ec9-4523-b7b7-160c65cc5c1e');\n",
       "var x = new MutationObserver(function (mutations, observer) {{\n",
       "        var display = window.getComputedStyle(gd).display;\n",
       "        if (!display || display === 'none') {{\n",
       "            console.log([gd, 'removed!']);\n",
       "            Plotly.purge(gd);\n",
       "            observer.disconnect();\n",
       "        }}\n",
       "}});\n",
       "\n",
       "// Listen for the removal of the full notebook cells\n",
       "var notebookContainer = gd.closest('#notebook-container');\n",
       "if (notebookContainer) {{\n",
       "    x.observe(notebookContainer, {childList: true});\n",
       "}}\n",
       "\n",
       "// Listen for the clearing of the current output cell\n",
       "var outputEl = gd.closest('.output');\n",
       "if (outputEl) {{\n",
       "    x.observe(outputEl, {childList: true});\n",
       "}}\n",
       "\n",
       "                        })\n",
       "                };\n",
       "                });\n",
       "            </script>\n",
       "        </div>"
      ]
     },
     "metadata": {},
     "output_type": "display_data"
    },
    {
     "name": "stdout",
     "output_type": "stream",
     "text": [
      "plotting fig ./image/overall_redundant_record.pdf finished\n"
     ]
    }
   ],
   "source": [
    "def paint_for_one_column(column_name,paint_df):\n",
    "\n",
    "    df = pd.read_sql_query(\"SELECT * FROM %s\" %\n",
    "                           TABLE_NAME_COMPACTION_ANALYSIS, db_conn)\n",
    "\n",
    "    column_label = column_name.replace(\"_\", \" \")\n",
    "    column_label = column_label.replace(\"overall\", \"cumulative\")\n",
    "    column_label = column_label.replace(\"latency\", \"latency (ms)\")\n",
    "\n",
    "    fig = px.bar(df, x=\"keyrange_count\", y=column_name, color=\"media\", barmode=\"group\",\n",
    "                 facet_col=\"cpu\",\n",
    "                 facet_row=\"batch_size\",\n",
    "                 category_orders={\n",
    "                     \"media\": [\"SATASSD\", \"SATAHDD\", \"NVMeSSD\",\"PM\"],\n",
    "                     \"cpu\": [str(x)+\"CPU\" for x in [8,16,32]],\n",
    "                     \"batch_size\":[str(x)+\"MB\" for x in range(64,128)]\n",
    "                     #  \"media\": sorted_media,\n",
    "                     #  \"media1_size\":[\"1GB\",\"5GB\",\"10GB\"]\n",
    "                 },\n",
    "                 labels={\"media\": \"Storage Media\",\n",
    "                         \"workload_size\": \"Estimate Input Size\",\n",
    "                         \"IOPS\": \"OPs/sec\",\"cpu\":\"CPU count\",\n",
    "                         \"batch_size\":\"Operation Batch Size\"},\n",
    "                 #  color_discrete_map=batch_size_to_color_map\n",
    "                 )\n",
    "    fontsize = 20\n",
    "\n",
    "    fig.update_layout(\n",
    "        autosize=False,\n",
    "        width=1600,\n",
    "        height=900,\n",
    "        font=dict(size=fontsize),\n",
    "        # plot_bgcolor='white',\n",
    "    )\n",
    "    fig.update_yaxes(automargin=True)\n",
    "    fig.update_xaxes(showgrid=False)\n",
    "    fig.show()\n",
    "    fig_name = \"./image/%s.pdf\" % column_name\n",
    "    print(\"plotting fig %s finished\" % fig_name)\n",
    "    fig.write_image(fig_name)\n",
    "\n",
    "for column in column_list:\n",
    "    paint_for_one_column(column,paint_df)"
   ]
  }
 ],
 "metadata": {
  "kernelspec": {
   "display_name": "Python 3",
   "language": "python",
   "name": "python3"
  },
  "language_info": {
   "codemirror_mode": {
    "name": "ipython",
    "version": 3
   },
   "file_extension": ".py",
   "mimetype": "text/x-python",
   "name": "python",
   "nbconvert_exporter": "python",
   "pygments_lexer": "ipython3",
   "version": "3.8.5"
  }
 },
 "nbformat": 4,
 "nbformat_minor": 4
}
